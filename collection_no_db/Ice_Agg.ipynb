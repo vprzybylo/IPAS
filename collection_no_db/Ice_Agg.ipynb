{
 "cells": [
  {
   "cell_type": "code",
   "execution_count": 2,
   "metadata": {},
   "outputs": [],
   "source": [
    "%load_ext autoreload\n",
    "%autoreload 2"
   ]
  },
  {
   "cell_type": "code",
   "execution_count": 1,
   "metadata": {},
   "outputs": [],
   "source": [
    "import ipas\n",
    "import matplotlib.pyplot as plt\n",
    "import numpy as np\n",
    "import time\n",
    "from dask_jobqueue import SLURMCluster\n",
    "from dask.distributed import Client, progress\n",
    "import dask\n",
    "from scipy import spatial \n",
    "from shapely.geometry import Point\n",
    "from shapely.ops import nearest_points\n",
    "import pandas as pd\n",
    "from dask import dataframe as dd\n",
    "import pickle"
   ]
  },
  {
   "cell_type": "code",
   "execution_count": 13,
   "metadata": {},
   "outputs": [
    {
     "name": "stdout",
     "output_type": "stream",
     "text": [
      "<Client: 'tcp://169.226.65.175:33941' processes=0 threads=0, memory=0 B>\n"
     ]
    }
   ],
   "source": [
    "cluster = SLURMCluster(\n",
    "queue='kratos',\n",
    "walltime='04-23:00:00',\n",
    "cores=1,\n",
    "memory='20000MiB', #1 GiB = 1,024 MiB\n",
    "processes=1)\n",
    "\n",
    "cluster.scale(5)\n",
    "client = Client(cluster)\n",
    "print(client)"
   ]
  },
  {
   "cell_type": "code",
   "execution_count": 16,
   "metadata": {},
   "outputs": [
    {
     "data": {
      "text/html": [
       "<table style=\"border: 2px solid white;\">\n",
       "<tr>\n",
       "<td style=\"vertical-align: top; border: 0px solid white\">\n",
       "<h3 style=\"text-align: left;\">Client</h3>\n",
       "<ul style=\"text-align: left; list-style: none; margin: 0; padding: 0;\">\n",
       "  <li><b>Scheduler: </b>tcp://169.226.65.175:33941</li>\n",
       "  <li><b>Dashboard: </b><a href='http://169.226.65.175:8787/status' target='_blank'>http://169.226.65.175:8787/status</a>\n",
       "</ul>\n",
       "</td>\n",
       "<td style=\"vertical-align: top; border: 0px solid white\">\n",
       "<h3 style=\"text-align: left;\">Cluster</h3>\n",
       "<ul style=\"text-align: left; list-style:none; margin: 0; padding: 0;\">\n",
       "  <li><b>Workers: </b>5</li>\n",
       "  <li><b>Cores: </b>5</li>\n",
       "  <li><b>Memory: </b>104.85 GB</li>\n",
       "</ul>\n",
       "</td>\n",
       "</tr>\n",
       "</table>"
      ],
      "text/plain": [
       "<Client: 'tcp://169.226.65.175:33941' processes=5 threads=5, memory=104.85 GB>"
      ]
     },
     "execution_count": 16,
     "metadata": {},
     "output_type": "execute_result"
    }
   ],
   "source": [
    "client"
   ]
  },
  {
   "cell_type": "code",
   "execution_count": 17,
   "metadata": {},
   "outputs": [],
   "source": [
    "def main():\n",
    "    output = np.empty((len(phioarr),len(reqarr)),dtype=object)\n",
    "    for phi in range(len(phioarr)):\n",
    "        for r in range(len(reqarr)):\n",
    "            output[phi,r] = dask.delayed(ipas.collect_clusters)(phioarr[phi], reqarr[r], nclusters, ncrystals,rand_orient)\n",
    "            #ipas.collect_clusters(phioarr[phi], reqarr[r], nclusters, ncrystals,rand_orient)\n",
    "#     delayeds = client.compute(delayeds)\n",
    "#     output = client.gather(delayeds)\n",
    "    return output"
   ]
  },
  {
   "cell_type": "code",
   "execution_count": 18,
   "metadata": {},
   "outputs": [],
   "source": [
    "def compute():\n",
    "    agg_as = np.empty((len(phioarr),len(reqarr), nclusters, ncrystals-1))\n",
    "    agg_bs = np.empty((len(phioarr),len(reqarr), nclusters, ncrystals-1))\n",
    "    agg_cs = np.empty((len(phioarr),len(reqarr), nclusters, ncrystals-1))\n",
    "    phi2Ds = np.empty((len(phioarr),len(reqarr), nclusters, ncrystals-1))\n",
    "    cplxs = np.empty((len(phioarr),len(reqarr), nclusters, ncrystals-1))\n",
    "    dds = np.empty((len(phioarr),len(reqarr), nclusters, ncrystals-1))\n",
    "    major_ax_zs = np.empty((len(phioarr),len(reqarr), nclusters, ncrystals-1))\n",
    "    depths = np.empty((len(phioarr),len(reqarr), nclusters, ncrystals-1))\n",
    "    \n",
    "    gather = client.compute([*output.tolist()])  #only parallelizing agg r bins\n",
    "    gather = client.gather(gather)\n",
    "\n",
    "    gather = np.array(gather)\n",
    "    print(np.shape(gather))\n",
    "    agg_as = gather[:,:,0]\n",
    "    agg_bs = gather[:,:,1]\n",
    "    print(agg_bs)\n",
    "    agg_cs = gather[:,:,2]\n",
    "    phi2Ds = gather[:,:,3]\n",
    "    cplxs = gather[:,:,4] \n",
    "    dds = gather[:,:,5]\n",
    "    major_ax_zs = gather[:,:,6]\n",
    "    depths = gather[:,:,7]\n",
    "    print('DONE!')\n",
    "    return agg_as, agg_bs, agg_cs, phi2Ds, cplxs, dds, major_ax_zs, depths"
   ]
  },
  {
   "cell_type": "code",
   "execution_count": null,
   "metadata": {},
   "outputs": [],
   "source": [
    "if __name__ == '__main__':\n",
    "    #phioarr=np.logspace(-2, 2, num=20, dtype=None)#just columns (0,2); plates (-2,0)\n",
    "    phioarr = [0.5, 0.1, 1.0, 2.0, 10.]\n",
    "    #reqarr = [1,2,3,4,5,6,7,8,9,10,20,30,40,50,60,70,80,90,100,200,300,400,500,600,700,800,900,1000]\n",
    "    reqarr = [10]\n",
    "    nclusters = 300         #changes how many aggregates per aspect ratio to consider\n",
    "    ncrystals = 100\n",
    "    rand_orient = False   #randomly orient the seed crystal and new crystal: uses first random orientation\n",
    "    \n",
    "    output = main()\n",
    "    agg_as, agg_bs, agg_cs, phi2Ds, cplxs, dds, major_ax_zs, depths = compute()"
   ]
  },
  {
   "cell_type": "code",
   "execution_count": null,
   "metadata": {},
   "outputs": [],
   "source": [
    "#import bz2\n",
    "#sfile = bz2.BZ2File('smallerfile', 'w')\n",
    "\n",
    "with open('../instance_files/instance_iceagg_flat_r10_compareDunnavan', \"ab\") as f:\n",
    "    pickle.dump((agg_as, agg_bs, agg_cs, phi2Ds, cplxs, dds, major_ax_zs, depths), f)\n",
    "    f.close()"
   ]
  },
  {
   "cell_type": "markdown",
   "metadata": {},
   "source": [
    "### LOAD DATA BACK IN"
   ]
  },
  {
   "cell_type": "code",
   "execution_count": 3,
   "metadata": {},
   "outputs": [],
   "source": [
    "f = open('../instance_files/instance_iceagg_flat_r10_compareDunnavan', 'rb')\n",
    "\n",
    "agg_as, agg_bs, agg_cs, phi2Ds, cplxs, dds, major_ax_zs, depths = pickle.load(f)\n",
    "f.close()"
   ]
  },
  {
   "cell_type": "code",
   "execution_count": 12,
   "metadata": {},
   "outputs": [
    {
     "data": {
      "text/plain": [
       "(5, 1, 300, 99)"
      ]
     },
     "execution_count": 12,
     "metadata": {},
     "output_type": "execute_result"
    }
   ],
   "source": [
    "np.shape(cplxs) #phi, r, nclusters, ncrystals"
   ]
  },
  {
   "cell_type": "code",
   "execution_count": 143,
   "metadata": {},
   "outputs": [],
   "source": [
    "class IceClusterBatch():\n",
    "    \"\"\"A collection of IceCluster objects.\"\"\"\n",
    "    \n",
    "    def __init__(self, nclusters, rxs, rys, rzs, phi2Ds, cplxs, dds, major_ax_zs, depths, numaspectratios, numrs):\n",
    "\n",
    "        self.nclusters=nclusters\n",
    "        self.rxs = rxs\n",
    "        self.rys = rys\n",
    "        self.rzs = rzs\n",
    "        self.phi2Ds = phi2Ds\n",
    "        self.cplxs = cplxs\n",
    "        self.dds = dds\n",
    "        self.major_ax_zs = major_ax_zs\n",
    "        self.depths = depths\n",
    "        self.numaspectratios = numaspectratios\n",
    "        self.numrs = numrs\n",
    "\n",
    "    def calculate_error(self, data, ch):\n",
    "        mean = np.mean(data)\n",
    "        std = np.std(data)\n",
    "        shape = (mean/std)**2\n",
    "        scale = (std**2)/mean\n",
    "        shapech = mean/(self.numaspectratios*ch)\n",
    "\n",
    "        pos_error = mean + std\n",
    "        neg_error = mean - std\n",
    "\n",
    "        min_data = min(data)\n",
    "        max_data = max(data)\n",
    "\n",
    "        return(pos_error, neg_error, min_data, max_data, mean)        \n",
    "\n",
    "\n",
    "    def fit_distribution(self, data, normed = True, facecolor='navy', alpha=1.0, axes=None, **kwargs):\n",
    "\n",
    "        \"\"\"Model data by finding best fit distribution to data\"\"\"\n",
    "        # Get histogram of original data\n",
    "\n",
    "        #fig = plt.figure(figsize=(5,7))\n",
    "        #ax = plt.subplot(131)\n",
    "\n",
    "        data = np.array(data)\n",
    "        data[np.isinf(data)] = min(data)\n",
    "        data[np.isnan(data)] = min(data)\n",
    "        if np.isinf(data).any():\n",
    "            print('inf True')\n",
    "        y, x = np.histogram(data, density=True)\n",
    "        #print('x hist',x)\n",
    "        xx = (x + np.roll(x, -1))[:-1] / 2.0\n",
    "        \n",
    "        params = st.gamma.fit(data)\n",
    "        arg = params[:-2]       \n",
    "        \n",
    "        #pdf = self.make_pdf(distribution, gamma_params)\n",
    "        pdf = st.gamma.pdf(xx, loc=params[-2], scale=params[-1], *arg)\n",
    "        indmax = np.argmax(pdf)  #FIRST index where the highest prob occurs\n",
    "        gammach_var = x[indmax] #characteristic of the distribution\n",
    "        if axes is not None:\n",
    "            n, bins, patches = plt.hist(data, bins=70, normed=True,\n",
    "                                    color='navy',range=(min(data), max(data)),**kwargs)\n",
    "            ax = plt.plot(xx, pdf, lw=5, color='darkorange')\n",
    "            plt.show()\n",
    "\n",
    "        return gammach_var"
   ]
  },
  {
   "cell_type": "code",
   "execution_count": 144,
   "metadata": {},
   "outputs": [
    {
     "data": {
      "image/png": "[encoded data removed]",
      "text/plain": [
       "<Figure size 720x504 with 1 Axes>"
      ]
     },
     "metadata": {
      "needs_background": "light"
     },
     "output_type": "display_data"
    }
   ],
   "source": [
    "#find characteristic of gamma distribution\n",
    "numaspectratios=len(agg_as[:,0,0])\n",
    "numrs=len(agg_bs[0,:,0])\n",
    "batch = IceClusterBatch(nclusters, agg_as, agg_bs, agg_cs, phi2Ds, \\\n",
    "                        cplxs, dds, major_ax_zs, depths, numaspectratios, numrs)\n",
    "\n",
    "agg_cs_ch = np.empty((numaspectratios, numrs), dtype=np.float64) #major\n",
    "agg_as_ch = np.empty((numaspectratios, numrs), dtype=np.float64) #minor\n",
    "agg_as_mean = np.empty((numaspectratios, numrs), dtype=np.float64)\n",
    "dds_ch = np.empty((numaspectratios, numrs), dtype=np.float64)\n",
    "major_ax_zs_ch = np.empty((numaspectratios, numrs), dtype=np.float64)\n",
    "major_ax_zs_mean = np.empty((numaspectratios, numrs), dtype=np.float64)\n",
    "depths_ch = np.empty((numaspectratios, numrs), dtype=np.float64)\n",
    "\n",
    "for i in range(numaspectratios):\n",
    "    for r in range(numrs):\n",
    "        #print(i,r)\n",
    "        for c, data in enumerate([agg_cs, agg_as, dds, major_ax_zs, depths]):\n",
    "            if c == 0:\n",
    "                agg_cs_ch[i,r] = batch.fit_distribution(data[i,r,:])\n",
    "            if c == 1:\n",
    "                agg_as_ch[i,r] = batch.fit_distribution(data[i,r,:])\n",
    "                _,_,_,_,agg_as_mean[i,r] = batch.calculate_error(data[i,r,:], agg_as_ch[i,r])\n",
    "            if c == 2:\n",
    "                dds_ch[i,r] = batch.fit_distribution(data[i,r,:])\n",
    "            if c == 3:\n",
    "                major_ax_zs_ch[i,r] = batch.fit_distribution(data[i,r,:])\n",
    "                _,_,_,_,major_ax_zs_mean[i,r] = batch.calculate_error(data[i,r,:], agg_as_ch[i,r])\n",
    "            if c == 4:\n",
    "                depths_ch[i,r] = batch.fit_distribution(data[i,r,:])\n"
   ]
  },
  {
   "cell_type": "code",
   "execution_count": 145,
   "metadata": {},
   "outputs": [],
   "source": [
    "#write to file for output as array:\n",
    "with open(\"../lookup_tables/newformat_minorax_ellipsoid_flat_ch.dat\",\"w\") as file1:\n",
    "    with open(\"../lookup_tables/newformat_majorax_ellipsoid_flat_ch.dat\",\"w\") as file2:\n",
    "        with open(\"../lookup_tables/newformat_majorax_ellipsoid_flat_mean.dat\",\"w\") as file3:\n",
    "            with open(\"../lookup_tables/newformat_dd_flat_ch.dat\",\"w\") as file4:\n",
    "                with open (\"../lookup_tables/newformat_majorax_ellipse_z_flat_ch.dat\",\"w\") as file5:\n",
    "                    with open (\"../lookup_tables/newformat_majorax_ellipse_z_flat_mean.dat\",\"w\") as file6:\n",
    "                        with open (\"../lookup_tables/newformat_depth_flat_ch.dat\",\"w\") as file7:\n",
    "                        \n",
    "                            file1.write('Ice-Ice collection for the flat orientation. \\n'\\\n",
    "                                        'Characteristic values taken from the peak of a fit \\n'\\\n",
    "                                        'gamma distribution from 300 aggregates. \\n'\\\n",
    "                                        'Minor axis taken as the smallest axis from the fit-ellipsoid \\n'\\\n",
    "                                        'Order: phi, r, value \\n')\n",
    "                            \n",
    "                            file2.write('Ice-Ice collection for the flat orientation. \\n'\n",
    "                                        'Characteristic values taken from the peak of a fit \\n'\\\n",
    "                                        'gamma distribution from 300 aggregates. \\n'\\\n",
    "                                        'Major axis taken as the largest axis from the fit-ellipsoid \\n'\n",
    "                                        'Order: phi, r, value \\n')\n",
    "                                \n",
    "                            file3.write('Ice-Ice collection for the flat orientation. \\n'\n",
    "                                        'Mean value taken from the average across 300 aggregates. \\n'\\\n",
    "                                        'Major axis taken as the largest axis from the fit-ellipsoid \\n'\n",
    "                                        'Order: phi, r, value \\n')\n",
    "                                \n",
    "                            file4.write('Ice-Ice collection for the flat orientation. \\n'\n",
    "                                        'Volume ratio of monomer (not 1.0) subtracted from volume ratio of agg (Vagg/Vellipse)\\n'\\\n",
    "                                        'Characteristic value taken from the peak of a fit \\n'\\\n",
    "                                        'gamma distribution from 300 aggregates. \\n'\n",
    "                                        'Order: phi, r, value \\n')\n",
    "                                \n",
    "                            file5.write('Ice-Ice collection for the flat orientation. \\n'\\\n",
    "                                        'Characteristic values taken from the peak of a fit \\n'\\\n",
    "                                        'gamma distribution from 300 aggregates. \\n'\\\n",
    "                                        'Major axis taken from a fit-ellipse (2D) in the z-orientation. \\n'\n",
    "                                        'Order: phi, r, value \\n')\n",
    "                                \n",
    "                            file6.write('Ice-Ice collection for the flat orientation. \\n'\n",
    "                                        'Mean value taken from the average across 300 aggregates. \\n'\\\n",
    "                                        'Major axis taken from a fit-ellipse (2D) in the z-orientation. \\n'\n",
    "                                        'Order: phi, r, value \\n')\n",
    "                                \n",
    "                            file7.write('Ice-Ice collection for the flat orientation. \\n'\n",
    "                                        'Characteristic values taken from the peak of a fit \\n'\\\n",
    "                                        'gamma distribution from 300 aggregates. \\n'\\\n",
    "                                        'Depth measured as max z point - min z point. \\n'\n",
    "                                        'Order: phi, r, value \\n')\n",
    "\n",
    "                            for i in range(len(phioarr)):\n",
    "                                for r in range(len(reqarr)):\n",
    "                                    #print(i,r)\n",
    "                                    file1.write('%.3f %.2f %.2f \\n' %(phioarr[i], reqarr[r],  agg_cs_ch[i,r]))\n",
    "                                    file2.write('%.3f %.2f %.2f \\n' %(phioarr[i], reqarr[r],  agg_as_ch[i,r]))\n",
    "                                    file3.write('%.3f %.2f %.2f \\n' %(phioarr[i], reqarr[r],  agg_as_mean[i,r]))\n",
    "                                    file4.write('%.3f %.2f %.4f \\n' %(phioarr[i], reqarr[r],  dds_ch[i,r]))\n",
    "                                    file5.write('%.3f %.2f %.2f \\n' %(phioarr[i], reqarr[r],  major_ax_zs_ch[i,r]))\n",
    "                                    file6.write('%.3f %.2f %.2f \\n' %(phioarr[i], reqarr[r],  major_ax_zs_mean[i,r]))\n",
    "                                    file7.write('%.3f %.2f %.4f \\n' %(phioarr[i], reqarr[r],  depths_ch[i,r]))\n",
    "\n",
    "file1.close()\n",
    "file2.close() \n",
    "file3.close()\n",
    "file4.close()\n",
    "file5.close()\n",
    "file6.close()\n",
    "file7.close()"
   ]
  },
  {
   "cell_type": "code",
   "execution_count": 136,
   "metadata": {},
   "outputs": [],
   "source": [
    "#write to file for output as array:\n",
    "with open(\"../lookup_tables/newformat_minorax_ellipsoid_rand_ch.dat\",\"w\") as file1:\n",
    "    with open(\"../lookup_tables/newformat_majorax_ellipsoid_rand_ch.dat\",\"w\") as file2:\n",
    "        with open(\"../lookup_tables/newformat_majorax_ellipsoid_rand_mean.dat\",\"w\") as file3:\n",
    "            with open(\"../lookup_tables/newformat_dd_rand_ch.dat\",\"w\") as file4:\n",
    "                with open (\"../lookup_tables/newformat_majorax_ellipse_z_rand_ch.dat\",\"w\") as file5:\n",
    "                    with open (\"../lookup_tables/newformat_majorax_ellipse_z_rand_mean.dat\",\"w\") as file6:\n",
    "                        with open (\"../lookup_tables/newformat_depth_rand_ch.dat\",\"w\") as file7:\n",
    "                        \n",
    "                            file1.write('Ice-Ice collection for the random orientation. \\n'\\\n",
    "                                        'Characteristic values taken from the peak of a fit \\n'\\\n",
    "                                        'gamma distribution from 300 aggregates. \\n'\\\n",
    "                                        'Minor axis taken as the smallest axis from the fit-ellipsoid \\n'\\\n",
    "                                        'Order: phi, r, value \\n')\n",
    "                            \n",
    "                            file2.write('Ice-Ice collection for the random orientation. \\n'\n",
    "                                        'Characteristic values taken from the peak of a fit \\n'\\\n",
    "                                        'gamma distribution from 300 aggregates. \\n'\\\n",
    "                                        'Major axis taken as the largest axis from the fit-ellipsoid \\n'\n",
    "                                        'Order: phi, r, value \\n')\n",
    "                                \n",
    "                            file3.write('Ice-Ice collection for the random orientation. \\n'\n",
    "                                        'Mean value taken from the average across 300 aggregates. \\n'\\\n",
    "                                        'Major axis taken as the largest axis from the fit-ellipsoid \\n'\n",
    "                                        'Order: phi, r, value \\n')\n",
    "                                \n",
    "                            file4.write('Ice-Ice collection for the random orientation. \\n'\n",
    "                                        'Volume ratio of monomer (not 1.0) subtracted from volume ratio of agg (Vagg/Vellipse)\\n'\\\n",
    "                                        'Characteristic value taken from the peak of a fit \\n'\\\n",
    "                                        'gamma distribution from 300 aggregates. \\n'\n",
    "                                        'Order: phi, r, value \\n')\n",
    "                                \n",
    "                            file5.write('Ice-Ice collection for the random orientation. \\n'\\\n",
    "                                        'Characteristic values taken from the peak of a fit \\n'\\\n",
    "                                        'gamma distribution from 300 aggregates. \\n'\\\n",
    "                                        'Major axis taken from a fit-ellipse (2D) in the z-orientation. \\n'\n",
    "                                        'Order: phi, r, value \\n')\n",
    "                                \n",
    "                            file6.write('Ice-Ice collection for the random orientation. \\n'\n",
    "                                        'Mean value taken from the average across 300 aggregates. \\n'\\\n",
    "                                        'Major axis taken from a fit-ellipse (2D) in the z-orientation. \\n'\n",
    "                                        'Order: phi, r, value \\n')\n",
    "                                \n",
    "                            file7.write('Ice-Ice collection for the random orientation. \\n'\n",
    "                                        'Characteristic values taken from the peak of a fit \\n'\\\n",
    "                                        'gamma distribution from 300 aggregates. \\n'\\\n",
    "                                        'Depth measured as max z point - min z point. \\n'\n",
    "                                        'Order: phi, r, value \\n')\n",
    "\n",
    "                            for i in range(len(phioarr)):\n",
    "                                for r in range(len(reqarr)):\n",
    "                                    #print(i,r)\n",
    "                                    file1.write('%.3f %.2f %.2f \\n' %(phioarr[i], reqarr[r],  agg_cs_ch[i,r]))\n",
    "                                    file2.write('%.3f %.2f %.2f \\n' %(phioarr[i], reqarr[r],  agg_as_ch[i,r]))\n",
    "                                    file3.write('%.3f %.2f %.2f \\n' %(phioarr[i], reqarr[r],  agg_as_mean[i,r]))\n",
    "                                    file4.write('%.3f %.2f %.4f \\n' %(phioarr[i], reqarr[r],  dds_ch[i,r]))\n",
    "                                    file5.write('%.3f %.2f %.2f \\n' %(phioarr[i], reqarr[r],  major_ax_zs_ch[i,r]))\n",
    "                                    file6.write('%.3f %.2f %.2f \\n' %(phioarr[i], reqarr[r],  major_ax_zs_mean[i,r]))\n",
    "                                    file7.write('%.3f %.2f %.4f \\n' %(phioarr[i], reqarr[r],  depths_ch[i,r]))\n",
    "\n",
    "file1.close()\n",
    "file2.close() \n",
    "file3.close()\n",
    "file4.close()\n",
    "file5.close()\n",
    "file6.close()\n",
    "file7.close()"
   ]
  },
  {
   "cell_type": "code",
   "execution_count": 146,
   "metadata": {},
   "outputs": [],
   "source": [
    "df = pd.DataFrame(agg_cs_ch, index=phioarr, columns=reqarr)\n",
    "df.to_csv('../lookup_tables/oldformat_minorax_ellipsoid_flat_ch.dat', sep='\\t')\n",
    "\n",
    "df = pd.DataFrame(agg_as_ch, index=phioarr, columns=reqarr)\n",
    "df.to_csv('../lookup_tables/oldformat_majorax_ellipsoid_flat_ch.dat', sep='\\t')\n",
    "\n",
    "df = pd.DataFrame(agg_as_mean, index=phioarr, columns=reqarr)\n",
    "df.to_csv('../lookup_tables/oldformat_majorax_ellipsoid_flat_mean.dat', sep='\\t')\n",
    "\n",
    "df = pd.DataFrame(dds_ch, index=phioarr, columns=reqarr)\n",
    "df.to_csv('../lookup_tables/oldformat_dd_rand_ch.dat', sep='\\t')\n",
    "\n",
    "df = pd.DataFrame(major_ax_zs_ch, index=phioarr, columns=reqarr)\n",
    "df.to_csv('../lookup_tables/oldformat_majorax_ellipse_z_flat_ch.dat', sep='\\t')\n",
    "\n",
    "df = pd.DataFrame(major_ax_zs_mean, index=phioarr, columns=reqarr)\n",
    "df.to_csv('../lookup_tables/oldformat_majorax_ellipse_z_flat_mean.dat', sep='\\t')\n",
    "\n",
    "df = pd.DataFrame(depths_ch, index=phioarr, columns=reqarr)\n",
    "df.to_csv('../lookup_tables/oldformat_depth_flat_ch.dat', sep='\\t')\n"
   ]
  },
  {
   "cell_type": "code",
   "execution_count": 137,
   "metadata": {},
   "outputs": [],
   "source": [
    "df = pd.DataFrame(agg_cs_ch, index=phioarr, columns=reqarr)\n",
    "df.to_csv('../lookup_tables/oldformat_minorax_ellipsoid_rand_ch.dat', sep='\\t')\n",
    "\n",
    "df = pd.DataFrame(agg_as_ch, index=phioarr, columns=reqarr)\n",
    "df.to_csv('../lookup_tables/oldformat_majorax_ellipsoid_rand_ch.dat', sep='\\t')\n",
    "\n",
    "df = pd.DataFrame(agg_as_mean, index=phioarr, columns=reqarr)\n",
    "df.to_csv('../lookup_tables/oldformat_majorax_ellipsoid_rand_mean.dat', sep='\\t')\n",
    "\n",
    "df = pd.DataFrame(dds_ch, index=phioarr, columns=reqarr)\n",
    "df.to_csv('../lookup_tables/oldformat_dd_rand_ch.dat', sep='\\t')\n",
    "\n",
    "df = pd.DataFrame(major_ax_zs_ch, index=phioarr, columns=reqarr)\n",
    "df.to_csv('../lookup_tables/oldformat_majorax_ellipse_z_rand_ch.dat', sep='\\t')\n",
    "\n",
    "df = pd.DataFrame(major_ax_zs_mean, index=phioarr, columns=reqarr)\n",
    "df.to_csv('../lookup_tables/oldformat_majorax_ellipse_z_rand_mean.dat', sep='\\t')\n",
    "\n",
    "df = pd.DataFrame(depths_ch, index=phioarr, columns=reqarr)\n",
    "df.to_csv('../lookup_tables/oldformat_depth_rand_ch.dat', sep='\\t')\n"
   ]
  },
  {
   "cell_type": "code",
   "execution_count": null,
   "metadata": {},
   "outputs": [],
   "source": []
  }
 ],
 "metadata": {
  "anaconda-cloud": {},
  "kernelspec": {
   "display_name": "Python 3",
   "language": "python",
   "name": "python3"
  },
  "language_info": {
   "codemirror_mode": {
    "name": "ipython",
    "version": 3
   },
   "file_extension": ".py",
   "mimetype": "text/x-python",
   "name": "python",
   "nbconvert_exporter": "python",
   "pygments_lexer": "ipython3",
   "version": "3.6.7"
  },
  "pycharm": {
   "stem_cell": {
    "cell_type": "raw",
    "metadata": {
     "collapsed": false
    },
    "source": []
   }
  }
 },
 "nbformat": 4,
 "nbformat_minor": 4
}
