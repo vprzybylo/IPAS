{
 "cells": [
  {
   "cell_type": "code",
   "execution_count": null,
   "metadata": {},
   "outputs": [],
   "source": [
    "%load_ext autoreload\n",
    "%autoreload 2"
   ]
  },
  {
   "cell_type": "code",
   "execution_count": null,
   "metadata": {},
   "outputs": [],
   "source": [
    "import ipas\n",
    "import numpy as np\n",
    "from dask_jobqueue import SLURMCluster\n",
    "from dask.distributed import Client, progress\n",
    "import dask\n",
    "from shapely.geometry import Point\n",
    "from dask import dataframe as dd\n",
    "import pickle\n",
    "import scipy.stats as st"
   ]
  },
  {
   "cell_type": "code",
   "execution_count": null,
   "metadata": {},
   "outputs": [],
   "source": [
    "cluster = SLURMCluster(\n",
    "queue='batch',\n",
    "walltime='04-23:00:00',\n",
    "cores=1,\n",
    "memory='10000MiB', #1 GiB = 1,024 MiB\n",
    "processes=1)\n",
    "\n",
    "cluster.scale()\n",
    "client = Client(cluster)\n",
    "print(client)"
   ]
  },
  {
   "cell_type": "code",
   "execution_count": null,
   "metadata": {},
   "outputs": [],
   "source": [
    "client"
   ]
  },
  {
   "cell_type": "code",
   "execution_count": null,
   "metadata": {},
   "outputs": [],
   "source": [
    "def main():\n",
    "    output = np.empty((len(phioarr),len(reqarr), nclusters),dtype=object)\n",
    "    for phi in range(len(phioarr)):\n",
    "        for r in range(len(reqarr)):\n",
    "            for n in range(nclusters):\n",
    "                output[phi,r, n] = dask.delayed(ipas.collect_clusters)(phioarr[phi], reqarr[r], ncrystals, rand_orient)\n",
    "                #ipas.collect_clusters(phioarr[phi], reqarr[r], ncrystals,rand_orient)\n",
    "    delayeds = client.compute(output)\n",
    "    output = client.gather(delayeds)\n",
    "    return output"
   ]
  },
  {
   "cell_type": "code",
   "execution_count": null,
   "metadata": {},
   "outputs": [],
   "source": [
    "def compute():\n",
    "    agg_as = np.empty((len(phioarr),len(reqarr), nclusters, ncrystals-1))\n",
    "    agg_bs = np.empty((len(phioarr),len(reqarr), nclusters, ncrystals-1))\n",
    "    agg_cs = np.empty((len(phioarr),len(reqarr), nclusters, ncrystals-1))\n",
    "    phi2Ds = np.empty((len(phioarr),len(reqarr), nclusters, ncrystals-1))\n",
    "    phi2D = np.empty((len(phioarr),len(reqarr), nclusters, ncrystals-1))\n",
    "    cplxs = np.empty((len(phioarr),len(reqarr), nclusters, ncrystals-1))\n",
    "    dds = np.empty((len(phioarr),len(reqarr), nclusters, ncrystals-1))\n",
    "    perims = np.empty((len(phioarr),len(reqarr), nclusters, ncrystals-1))\n",
    "\n",
    "    gather = client.compute([*output.tolist()])  #only parallelizing agg r bins\n",
    "    gather = client.gather(gather)\n",
    "\n",
    "    gather = np.array(gather)\n",
    "    print(np.shape(gather))\n",
    "    agg_as = gather[:,:,:,0]\n",
    "    agg_bs = gather[:,:,:,1]\n",
    "    agg_cs = gather[:,:,:,2]\n",
    "    phi2D = gather[:,:,:,3]\n",
    "    dds = gather[:,:,:,4] \n",
    "\n",
    "    print('DONE!')\n",
    "    return agg_as, agg_bs, agg_cs, phi2D, dds"
   ]
  },
  {
   "cell_type": "code",
   "execution_count": null,
   "metadata": {},
   "outputs": [],
   "source": [
    "if __name__ == '__main__':\n",
    "    #phioarr=np.logspace(-2, 2, num=20, dtype=None)#just columns (0,2); plates (-2,0)\n",
    "    phioarr = [0.1, 0.5, 1.0, 2.0, 10.0]\n",
    "    #reqarr = [1,2,3,4,5,6,7,8,9,10,20,30,40,50,60,70,80,90,100,200,300,400,500,600,700,800,900,1000]\n",
    "    reqarr = [10]\n",
    "    nclusters = 300         #changes how many aggregates per aspect ratio to consider\n",
    "    ncrystals = 150\n",
    "    rand_orient = False   #randomly orient the seed crystal and new crystal: uses first random orientation\n",
    "    \n",
    "    output = main()\n",
    "    agg_as, agg_bs, agg_cs, phi2D, dds = compute()\n",
    "    \n",
    "#     with open('../instance_files/instance_iceagg_rand_n30_r10_verify_perim', \"wb\") as f:\n",
    "#         pickle.dump((agg_as, agg_bs, agg_cs, phi2Ds, phi2D, cplxs, dds, perims), f)\n",
    "#     f.close()"
   ]
  },
  {
   "cell_type": "code",
   "execution_count": null,
   "metadata": {},
   "outputs": [],
   "source": [
    "filename='../instance_files/instance_iceagg_flat_n150_a10_phi5_eqmajorax'\n",
    "with open(filename, \"wb\") as f:\n",
    "    pickle.dump((agg_as, agg_bs, agg_cs, phi2D, dds), f)\n",
    "    f.close()"
   ]
  },
  {
   "cell_type": "code",
   "execution_count": null,
   "metadata": {},
   "outputs": [],
   "source": []
  }
 ],
 "metadata": {
  "anaconda-cloud": {},
  "kernelspec": {
   "display_name": "IPAS",
   "language": "python",
   "name": "ipas"
  },
  "language_info": {
   "codemirror_mode": {
    "name": "ipython",
    "version": 3
   },
   "file_extension": ".py",
   "mimetype": "text/x-python",
   "name": "python",
   "nbconvert_exporter": "python",
   "pygments_lexer": "ipython3",
   "version": "3.7.9"
  },
  "pycharm": {
   "stem_cell": {
    "cell_type": "raw",
    "metadata": {
     "collapsed": false
    },
    "source": []
   }
  },
  "toc-autonumbering": true,
  "toc-showcode": false,
  "toc-showmarkdowntxt": true,
  "toc-showtags": false
 },
 "nbformat": 4,
 "nbformat_minor": 4
}
