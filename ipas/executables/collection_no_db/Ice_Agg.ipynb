{
 "cells": [
  {
   "cell_type": "code",
   "execution_count": null,
   "metadata": {},
   "outputs": [],
   "source": [
    "%load_ext autoreload\n",
    "%autoreload 2"
   ]
  },
  {
   "cell_type": "code",
   "execution_count": null,
   "metadata": {},
   "outputs": [],
   "source": [
    "import ipas.collection_no_db.iceagg_collection as collect\n",
    "import matplotlib.pyplot as plt\n",
    "import numpy as np\n",
    "import time\n",
    "from dask_jobqueue import SLURMCluster\n",
    "from dask.distributed import Client, progress\n",
    "import dask\n",
    "import pandas as pd\n",
    "from dask import dataframe as dd\n",
    "import pickle"
   ]
  },
  {
   "cell_type": "code",
   "execution_count": null,
   "metadata": {},
   "outputs": [],
   "source": [
    "cluster = SLURMCluster(\n",
    "    queue='kratos',\n",
    "    walltime='04-23:00:00',\n",
    "    cores=1,\n",
    "    memory='10000MiB', #1 GiB = 1,024 MiB\n",
    "    processes=1)\n",
    "\n",
    "#cluster.adapt(minimum=3, maximum=20)\n",
    "cluster.scale(1)"
   ]
  },
  {
   "cell_type": "code",
   "execution_count": null,
   "metadata": {},
   "outputs": [],
   "source": [
    "client = Client(cluster)\n",
    "client"
   ]
  },
  {
   "cell_type": "code",
   "execution_count": null,
   "metadata": {},
   "outputs": [],
   "source": [
    "client.retire_workers()"
   ]
  },
  {
   "cell_type": "code",
   "execution_count": null,
   "metadata": {},
   "outputs": [],
   "source": [
    "def main():\n",
    "    output = np.empty((len(phioarr),len(reqarr), nclusters),dtype=object)\n",
    "    for phi in range(len(phioarr)):\n",
    "        for r in range(len(reqarr)):\n",
    "            for n in range(nclusters):\n",
    "                #output[phi,r,n] = dask.delayed(collect.collect_clusters_iceagg)(phioarr[phi], reqarr[r], ncrystals, rand_orient)\n",
    "                collect.collect_clusters_iceagg(phioarr[phi], reqarr[r], ncrystals, rand_orient)\n",
    "    return output"
   ]
  },
  {
   "cell_type": "code",
   "execution_count": null,
   "metadata": {},
   "outputs": [],
   "source": [
    "def compute():\n",
    "    agg_as = np.empty((len(phioarr),len(reqarr), nclusters, ncrystals-1))\n",
    "    agg_bs = np.empty((len(phioarr),len(reqarr), nclusters, ncrystals-1))\n",
    "    agg_cs = np.empty((len(phioarr),len(reqarr), nclusters, ncrystals-1))\n",
    "    phi2Ds = np.empty((len(phioarr),len(reqarr), nclusters, ncrystals-1))\n",
    "    cplxs = np.empty((len(phioarr),len(reqarr), nclusters, ncrystals-1))\n",
    "    dds = np.empty((len(phioarr),len(reqarr), nclusters, ncrystals-1))\n",
    "\n",
    "    gather = client.compute([*output.tolist()])\n",
    "    gather = client.gather(gather)\n",
    "\n",
    "    gather = np.array(gather)\n",
    "    print(np.shape(gather))\n",
    "    agg_as = gather[:,:,0]\n",
    "    agg_bs = gather[:,:,1]\n",
    "    print(agg_bs)\n",
    "    agg_cs = gather[:,:,2]\n",
    "    phi2Ds = gather[:,:,3]\n",
    "    cplxs = gather[:,:,4] \n",
    "    dds = gather[:,:,5]\n",
    "    print('DONE!')\n",
    "    return agg_as, agg_bs, agg_cs, phi2Ds, cplxs, dds\n"
   ]
  },
  {
   "cell_type": "code",
   "execution_count": null,
   "metadata": {},
   "outputs": [],
   "source": [
    "if __name__ == '__main__':\n",
    "    # monomer aspect ratios (all the same in agg)\n",
    "    #phioarr=np.logspace(-2, 2, num=20, dtype=None)#just columns (0,2); plates (-2,0)\n",
    "    phioarr = [4, 0.25, 0.5, 1.0, 2.0, 4.0, 10.]\n",
    "    # monomer radii \n",
    "    #reqarr = [1,2,3,4,5,6,7,8,9,10,20,30,40,50,60,70,80,90,100,200,300,400,500,600,700,800,900,1000]\n",
    "    reqarr = [10]\n",
    "    # how many aggregates to produce\n",
    "    nclusters = 300\n",
    "    # number of monomers per aggregate\n",
    "    ncrystals = 2\n",
    "    # monomer orientation - random (True) or flat (False)\n",
    "    rand_orient = False\n",
    "\n",
    "    output = main()\n",
    "    agg_as, agg_bs, agg_cs, phi2Ds, cplxs, dds = compute()\n"
   ]
  },
  {
   "cell_type": "code",
   "execution_count": null,
   "metadata": {},
   "outputs": [],
   "source": [
    "#write results to file\n",
    "with open('../instance_files/instance_iceagg_flat_r10_compareDunnavan_1', \"ab\") as f:\n",
    "    pickle.dump((agg_as, agg_bs, agg_cs, phi2Ds, cplxs, dds, major_ax_zs, depths), f)\n",
    "    f.close()"
   ]
  },
  {
   "cell_type": "code",
   "execution_count": null,
   "metadata": {},
   "outputs": [],
   "source": []
  }
 ],
 "metadata": {
  "anaconda-cloud": {},
  "kernelspec": {
   "display_name": "IPAS_v1.3.0",
   "language": "python",
   "name": "ipas_v1.3.0"
  },
  "language_info": {
   "codemirror_mode": {
    "name": "ipython",
    "version": 3
   },
   "file_extension": ".py",
   "mimetype": "text/x-python",
   "name": "python",
   "nbconvert_exporter": "python",
   "pygments_lexer": "ipython3",
   "version": "3.7.9"
  },
  "pycharm": {
   "stem_cell": {
    "cell_type": "raw",
    "metadata": {
     "collapsed": false
    },
    "source": []
   }
  }
 },
 "nbformat": 4,
 "nbformat_minor": 4
}
