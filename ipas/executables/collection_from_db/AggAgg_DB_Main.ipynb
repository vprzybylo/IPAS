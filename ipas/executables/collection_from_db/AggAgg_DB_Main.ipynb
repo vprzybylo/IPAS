{
 "cells": [
  {
   "cell_type": "code",
   "execution_count": 1,
   "metadata": {},
   "outputs": [],
   "source": [
    "%load_ext autoreload\n",
    "%autoreload 2"
   ]
  },
  {
   "cell_type": "code",
   "execution_count": 2,
   "metadata": {},
   "outputs": [],
   "source": [
    "import ipas.collection_from_db.database as database\n",
    "import ipas.collection_from_db.aggagg_collection as collect\n",
    "from ipas.collection_from_db.calculations import ClusterCalculations\n",
    "import numpy as np\n",
    "from dask_jobqueue import SLURMCluster\n",
    "from dask.distributed import Client\n",
    "from dask import delayed\n",
    "import pickle\n",
    "import glob\n",
    "import pandas as pd"
   ]
  },
  {
   "cell_type": "code",
   "execution_count": 3,
   "metadata": {},
   "outputs": [
    {
     "name": "stderr",
     "output_type": "stream",
     "text": [
      "/network/rit/lab/sulialab/share/bin/miniconda3/envs/IPAS_v1.3.0/lib/python3.7/site-packages/distributed/node.py:155: UserWarning: Port 8787 is already in use.\n",
      "Perhaps you already have a cluster running?\n",
      "Hosting the HTTP server on port 46015 instead\n",
      "  http_address[\"port\"], self.http_server.port\n"
     ]
    }
   ],
   "source": [
    "cluster = SLURMCluster(\n",
    "    queue='kratos',\n",
    "    walltime='04-23:00:00',\n",
    "    cores=1,\n",
    "    memory='10000MiB', #1 GiB = 1,024 MiB\n",
    "    processes=1)\n",
    "\n",
    "#cluster.adapt(minimum=3, maximum=20)\n",
    "cluster.scale(1)"
   ]
  },
  {
   "cell_type": "code",
   "execution_count": 4,
   "metadata": {},
   "outputs": [],
   "source": [
    "client = Client(cluster)"
   ]
  },
  {
   "cell_type": "code",
   "execution_count": 5,
   "metadata": {},
   "outputs": [
    {
     "data": {
      "text/html": [
       "<table style=\"border: 2px solid white;\">\n",
       "<tr>\n",
       "<td style=\"vertical-align: top; border: 0px solid white\">\n",
       "<h3 style=\"text-align: left;\">Client</h3>\n",
       "<ul style=\"text-align: left; list-style: none; margin: 0; padding: 0;\">\n",
       "  <li><b>Scheduler: </b>tcp://169.226.65.141:46005</li>\n",
       "  <li><b>Dashboard: </b><a href='http://169.226.65.141:46015/status' target='_blank'>http://169.226.65.141:46015/status</a></li>\n",
       "</ul>\n",
       "</td>\n",
       "<td style=\"vertical-align: top; border: 0px solid white\">\n",
       "<h3 style=\"text-align: left;\">Cluster</h3>\n",
       "<ul style=\"text-align: left; list-style:none; margin: 0; padding: 0;\">\n",
       "  <li><b>Workers: </b>0</li>\n",
       "  <li><b>Cores: </b>0</li>\n",
       "  <li><b>Memory: </b>0 B</li>\n",
       "</ul>\n",
       "</td>\n",
       "</tr>\n",
       "</table>"
      ],
      "text/plain": [
       "<Client: 'tcp://169.226.65.141:46005' processes=0 threads=0, memory=0 B>"
      ]
     },
     "execution_count": 5,
     "metadata": {},
     "output_type": "execute_result"
    }
   ],
   "source": [
    "client"
   ]
  },
  {
   "cell_type": "markdown",
   "metadata": {},
   "source": [
    "## Read database"
   ]
  },
  {
   "cell_type": "code",
   "execution_count": 6,
   "metadata": {},
   "outputs": [],
   "source": [
    "orientation = 'rand'  # chose which orientation (rand or flat)\n",
    "if orientation == 'rand':\n",
    "    rand_orient = True      #randomly orient the seed crystal and new crystal: uses first random orientation\n",
    "    files = glob.glob(\"/network/rit/lab/sulialab/share/IPAS/ipas/instance_files/createdb_iceagg_rand*\")\n",
    "else:\n",
    "    rand_orient = False      #randomly orient the seed crystal and new crystal: uses first random orientation\n",
    "    files =  glob.glob(\"/network/rit/lab/sulialab/share/IPAS/ipas/instance_files/createdb_iceagg_flat*\")"
   ]
  },
  {
   "cell_type": "code",
   "execution_count": 7,
   "metadata": {},
   "outputs": [
    {
     "name": "stdout",
     "output_type": "stream",
     "text": [
      "CPU times: user 1 µs, sys: 0 ns, total: 1 µs\n",
      "Wall time: 4.53 µs\n",
      "reading:  /network/rit/lab/sulialab/share/IPAS/ipas/instance_files/createdb_iceagg_rand_r500_1000\n",
      "reading:  /network/rit/lab/sulialab/share/IPAS/ipas/instance_files/createdb_iceagg_rand_r1_5\n",
      "reading:  /network/rit/lab/sulialab/share/IPAS/ipas/instance_files/createdb_iceagg_rand_r6_10\n",
      "reading:  /network/rit/lab/sulialab/share/IPAS/ipas/instance_files/createdb_iceagg_rand_r20_70\n",
      "reading:  /network/rit/lab/sulialab/share/IPAS/ipas/instance_files/createdb_iceagg_rand_r80_400\n"
     ]
    }
   ],
   "source": [
    "%time\n",
    "db = database.Database(files)\n",
    "db.read_database()\n",
    "db.append_shape()\n",
    "db.truncate_agg_r(5000)\n",
    "db.append_agg_phi()\n",
    "df = db.df  # get the dataframe (db is an instance of database.py module)"
   ]
  },
  {
   "cell_type": "markdown",
   "metadata": {},
   "source": [
    "# Main "
   ]
  },
  {
   "cell_type": "code",
   "execution_count": null,
   "metadata": {},
   "outputs": [],
   "source": [
    "ch_dist='gamma'         #anything other than gamma uses the characteristic from the best distribution pdf (lowest SSE)\n",
    "save_plots = False \n",
    "agg_phi_bins = 20\n",
    "agg_r_bins = 20\n",
    "nclusters = 3"
   ]
  },
  {
   "cell_type": "code",
   "execution_count": null,
   "metadata": {},
   "outputs": [],
   "source": [
    "def main():\n",
    "\n",
    "    output = np.empty((agg_phi_bins,agg_r_bins),dtype=object)\n",
    "    hold_clusters1  = np.empty((agg_phi_bins,agg_r_bins,nclusters), dtype=object)\n",
    "    hold_clusters2  = np.empty((agg_phi_bins,agg_r_bins,nclusters), dtype=object)\n",
    "\n",
    "    res, phi_bins = pd.qcut(df.agg_phi, agg_phi_bins, retbins=True)\n",
    "\n",
    "    for i in range(agg_phi_bins):\n",
    "        #print('agg phi range: ', phi_bins[i], phi_bins[i+1])\n",
    "        #return a df that only queries within an aspect ratio bin\n",
    "        df_phi = df[(df.agg_phi > phi_bins[i]) & (df.agg_phi < phi_bins[i+1])]  \n",
    "        #to ensure at least 2 crystals within agg since ncrystals=1 not in db\n",
    "        #now break that aspect ratio bin into 20 equal r bins\n",
    "\n",
    "        res, r_bins = pd.qcut(df_phi.agg_r, agg_r_bins, retbins=True)\n",
    "        for r in range(agg_r_bins):   #agg r\n",
    "\n",
    "            #print('r = ', r_bins[r], r_bins[r+1])\n",
    "            df_r = df_phi[(df_phi.agg_r > r_bins[r]) & (df_phi.agg_r < r_bins[r+1])]\n",
    "            #plt.hist(df_r.mono_phi)\n",
    "            #plt.xscale('log')\n",
    "            #plt.show()\n",
    "\n",
    "            samples1 = df_r.sample(nclusters)\n",
    "            samples2 = df_r.sample(nclusters)\n",
    "\n",
    "            for n, agg in enumerate(samples1.itertuples()):\n",
    "                hold_clusters1[i,r,n] = ClusterCalculations(agg)\n",
    "            for n, agg in enumerate(samples2.itertuples()):\n",
    "                hold_clusters2[i,r,n] = ClusterCalculations(agg)\n",
    "            #collect.collect_clusters_agg_agg(hold_clusters1[i,r,:],\n",
    "            #                                 hold_clusters2[i,r,:],\n",
    "            #                                 rand_orient=rand_orient)\n",
    "            output[i,r] = delayed(collect.collect_clusters_agg_agg)(hold_clusters1[i,r,:],\n",
    "                                                                    hold_clusters2[i,r,:],\n",
    "                                                                    rand_orient=rand_orient)\n",
    "\n",
    "    return output, hold_clusters1, hold_clusters2\n"
   ]
  },
  {
   "cell_type": "code",
   "execution_count": null,
   "metadata": {},
   "outputs": [],
   "source": [
    "def compute():\n",
    "    agg_as = np.empty((agg_phi_bins, agg_r_bins, nclusters))\n",
    "    agg_bs = np.empty((agg_phi_bins, agg_r_bins, nclusters))\n",
    "    rzs = np.empty((agg_phi_bins, agg_r_bins, nclusters))\n",
    "    phi2Ds = np.empty((agg_phi_bins, agg_r_bins, nclusters))\n",
    "    cplxs = np.empty((agg_phi_bins, agg_r_bins, nclusters))\n",
    "    dds = np.empty((agg_phi_bins, agg_r_bins, nclusters))\n",
    "\n",
    "    gather = client.compute([*output.tolist()]) \n",
    "    gather = client.gather(gather)\n",
    "    gather = np.array(gather)\n",
    " \n",
    "    agg_as = gather[:,:,0,:]\n",
    "    agg_bs = gather[:,:,1,:]\n",
    "    agg_cs = gather[:,:,2,:]\n",
    "    phi2Ds = gather[:,:,3,:]\n",
    "    cplxs = gather[:,:,4,:] \n",
    "    dds = gather[:,:,5,:]\n",
    "\n",
    "    print('DONE!')\n",
    "    return agg_as, agg_bs, agg_cs, phi2Ds, cplxs, dds"
   ]
  },
  {
   "cell_type": "code",
   "execution_count": null,
   "metadata": {},
   "outputs": [],
   "source": [
    "if __name__ == '__main__':\n",
    "\n",
    "    output, hold_clusters1, hold_clusters2 = main()\n",
    "    agg_as, agg_bs, agg_cs, phi2Ds, cplxs, dds= compute()\n",
    "    results = {'agg_as': agg_as, 'agg_bs':agg_bs, 'agg_cs':agg_cs, 'phi2Ds':phi2Ds, \\\n",
    "               'cplxs':cplxs, 'dds':dds}\n"
   ]
  },
  {
   "cell_type": "code",
   "execution_count": null,
   "metadata": {},
   "outputs": [],
   "source": [
    "# pickle data to files\n",
    "filename = '../instance_files/pulled_clusters_aggagg_rand'\n",
    "filehandler = open(filename, 'wb')\n",
    "to_file = np.append(hold_clusters1, hold_clusters2).reshape(20,20,nclusters*2)\n",
    "pickle.dump(to_file, filehandler)\n",
    "filehandler.close()\n",
    "print('finished!')\n",
    "\n",
    "filename = '../instance_files/instance_db_aggagg_rand'\n",
    "filehandler = open(filename, 'wb')\n",
    "pickle.dump(results, filehandler)\n",
    "filehandler.close()\n",
    "print('finished!')"
   ]
  },
  {
   "cell_type": "markdown",
   "metadata": {},
   "source": [
    "# LOAD DATA"
   ]
  },
  {
   "cell_type": "code",
   "execution_count": null,
   "metadata": {},
   "outputs": [],
   "source": [
    "f = open('../instance_files/instance_db_aggagg_rand', 'rb')\n",
    "results = pickle.load(f)\n",
    "agg_as, agg_bs, agg_cs, phi2Ds, cplxs, dds= \\\n",
    "                results['agg_as'], results['agg_bs'], results['agg_cs'], results['phi2Ds'], results['cplxs'], results['dds']\n",
    "f.close()\n",
    "\n",
    "f = open('../instance_files/pulled_clusters_aggagg_rand', 'rb')\n",
    "pulled_clus = pickle.load(f)\n",
    "f.close()"
   ]
  },
  {
   "cell_type": "code",
   "execution_count": null,
   "metadata": {},
   "outputs": [],
   "source": [
    "f = open('../instance_files/pulled_clusters_iceagg_flat', 'rb')\n",
    "pulled_clus = pickle.load(f)\n",
    "f.close()"
   ]
  },
  {
   "cell_type": "code",
   "execution_count": null,
   "metadata": {},
   "outputs": [],
   "source": [
    "count=0\n",
    "for phi in range(pulled_clus.shape[0]):\n",
    "    for r in range(pulled_clus.shape[1]):\n",
    "        for n in range(pulled_clus.shape[2]):\n",
    "            if pulled_clus[phi,r,n].monophi>70.:\n",
    "                count+=1\n",
    "print(count/(20*20*600)*100)"
   ]
  },
  {
   "cell_type": "code",
   "execution_count": null,
   "metadata": {},
   "outputs": [],
   "source": [
    "count=0\n",
    "for phi in range(pulled_clus.shape[0]):\n",
    "    for r in range(pulled_clus.shape[1]):\n",
    "        for n in range(pulled_clus.shape[2]):\n",
    "            if pulled_clus[phi,r,n].monophi<.1:\n",
    "                count+=1\n",
    "print(count/(20*20*600)*100)"
   ]
  },
  {
   "cell_type": "code",
   "execution_count": null,
   "metadata": {},
   "outputs": [],
   "source": []
  }
 ],
 "metadata": {
  "anaconda-cloud": {},
  "kernelspec": {
   "display_name": "IPAS_v1.3.0",
   "language": "python",
   "name": "ipas_v1.3.0"
  },
  "language_info": {
   "codemirror_mode": {
    "name": "ipython",
    "version": 3
   },
   "file_extension": ".py",
   "mimetype": "text/x-python",
   "name": "python",
   "nbconvert_exporter": "python",
   "pygments_lexer": "ipython3",
   "version": "3.7.9"
  }
 },
 "nbformat": 4,
 "nbformat_minor": 4
}
