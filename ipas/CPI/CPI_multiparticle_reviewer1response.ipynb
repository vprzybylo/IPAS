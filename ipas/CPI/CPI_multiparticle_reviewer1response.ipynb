{
 "cells": [
  {
   "cell_type": "code",
   "execution_count": null,
   "id": "ccfcc2db",
   "metadata": {},
   "outputs": [],
   "source": [
    "%load_ext autoreload\n",
    "%autoreload 2\n",
    "\n",
    "import pandas as pd\n",
    "import campaign_data"
   ]
  },
  {
   "cell_type": "code",
   "execution_count": null,
   "id": "5b8ac290",
   "metadata": {},
   "outputs": [],
   "source": [
    "plt_params = {\n",
    "    \"axes.labelsize\": \"xx-large\",\n",
    "    \"axes.titlesize\": \"xx-large\",\n",
    "    \"xtick.labelsize\": \"xx-large\",\n",
    "    \"ytick.labelsize\": \"xx-large\",\n",
    "    \"legend.title_fontsize\": 10,\n",
    "    \"legend.fontsize\": 10,\n",
    "}\n",
    "plt.rcParams[\"font.family\"] = \"serif\"\n",
    "plt.rcParams.update(plt_params)"
   ]
  },
  {
   "cell_type": "markdown",
   "id": "e8d9c435",
   "metadata": {},
   "source": [
    "# LOAD CPI DATA"
   ]
  },
  {
   "cell_type": "code",
   "execution_count": null,
   "id": "8f85662b",
   "metadata": {},
   "outputs": [],
   "source": [
    "c = campaign_data.CPI()\n",
    "c.process_campaigns()\n",
    "c.make_df()\n",
    "c.remove_baddata()"
   ]
  },
  {
   "cell_type": "code",
   "execution_count": null,
   "id": "9400b460",
   "metadata": {},
   "outputs": [],
   "source": [
    "p = campaign_data.Plot(c.df_CPI)\n",
    "p.campaign_subplots(var=\"Aspect Ratio\")"
   ]
  },
  {
   "cell_type": "code",
   "execution_count": null,
   "id": "d81aed83",
   "metadata": {},
   "outputs": [],
   "source": [
    "c.campaign_subplots(var=\"Area Ratio\")"
   ]
  },
  {
   "cell_type": "code",
   "execution_count": null,
   "id": "14572047",
   "metadata": {},
   "outputs": [],
   "source": [
    "c.campaign_subplots(var=\"Complexity\")"
   ]
  },
  {
   "cell_type": "code",
   "execution_count": null,
   "id": "82f40d36",
   "metadata": {},
   "outputs": [],
   "source": [
    "#AGGS\n",
    "fig, (ax1, ax2) = plt.subplots(2, 1, figsize=(5,10), sharex=True)\n",
    "\n",
    "\n",
    "df = df_CPI[df_CPI[\"classification\"] == 'agg']\n",
    "df = df[df.replace([np.inf, -np.inf], np.nan).notnull().all(axis=1)]\n",
    "df['ar'] = df['c']/df['a']\n",
    "df[\"binned\"] = pd.cut(df['complexity'], bins=np.linspace(0.0, 1.0, 10))\n",
    "print(len(df))\n",
    "#df[\"binned\"] = pd.qcut(df['complexity'], 15)\n",
    "\n",
    "ax = sns.boxplot(x='binned', y='ar', data=df, fliersize=0, showmeans=True,\n",
    "                 meanprops={\"marker\":\"o\",\n",
    "                       \"markerfacecolor\":\"white\", \n",
    "                       \"markeredgecolor\":\"black\",\n",
    "                      \"markersize\":\"10\"}, ax=ax1)\n",
    "\n",
    "groups = df.groupby(df[\"binned\"])\n",
    "#print(groups.count())\n",
    "# complexity_modes = groups['complexity'].agg(get_modes)\n",
    "# ar_modes = groups.ar.agg(get_modes)\n",
    "#ax.scatter(complexity_modes, ar_modes, 'k')\n",
    "\n",
    "plt.xticks(rotation=90)\n",
    "ax1.set_ylabel('Aspect Ratio');\n",
    "ax1.set_xlabel('');\n",
    "\n",
    "\n",
    "df = df_CPI[df_CPI[\"classification\"] == 'agg']\n",
    "df = df[df.replace([np.inf, -np.inf], np.nan).notnull().all(axis=1)]\n",
    "df[\"binned\"] = pd.cut(df['complexity'], bins=np.linspace(0.0, 1.0, 10))\n",
    "#df[\"binned\"] = pd.qcut(df['complexity'], 15)\n",
    "\n",
    "ax = sns.boxplot(x='binned', y='area_ratio', data=df, fliersize=0, showmeans=True,\n",
    "                 meanprops={\"marker\":\"o\",\n",
    "                       \"markerfacecolor\":\"white\", \n",
    "                       \"markeredgecolor\":\"black\",\n",
    "                      \"markersize\":\"10\"}, ax=ax2)\n",
    "\n",
    "groups = df.groupby(df[\"binned\"])\n",
    "#print(groups.count())\n",
    "# complexity_modes = groups['complexity'].agg(get_modes)\n",
    "# ar_modes = groups.ar.agg(get_modes)\n",
    "#ax.scatter(complexity_modes, ar_modes, 'k')\n",
    "\n",
    "plt.xticks(rotation=90)\n",
    "plt.ylabel('Area Ratio');\n",
    "plt.xlabel('Complexity');\n",
    "plt.savefig(f'../plots/complexity_phi_ar.png', bbox_inches='tight')\n",
    "#each complexity bin count varies between 138 and 80758"
   ]
  },
  {
   "cell_type": "code",
   "execution_count": null,
   "id": "b767eb73",
   "metadata": {},
   "outputs": [],
   "source": [
    "#AGGS\n",
    "fig, (ax1, ax2) = plt.subplots(2, 1, figsize=(5,10), sharex=True)\n",
    "\n",
    "\n",
    "df = df_CPI[df_CPI[\"classification\"] == 'agg']\n",
    "df = df[df.replace([np.inf, -np.inf], np.nan).notnull().all(axis=1)]\n",
    "df['ar'] = df['c']/df['a']\n",
    "df[\"binned\"] = pd.cut(df['complexity'], bins=np.linspace(0.0, 1.0, 10))\n",
    "print(len(df))\n",
    "#df[\"binned\"] = pd.qcut(df['complexity'], 15)\n",
    "\n",
    "ax = sns.boxplot(x='binned', y='ar', data=df, fliersize=0, showmeans=True,\n",
    "                 meanprops={\"marker\":\"o\",\n",
    "                       \"markerfacecolor\":\"white\", \n",
    "                       \"markeredgecolor\":\"black\",\n",
    "                      \"markersize\":\"10\"}, ax=ax1)\n",
    "\n",
    "groups = df.groupby(df[\"binned\"])\n",
    "#print(groups.count())\n",
    "# complexity_modes = groups['complexity'].agg(get_modes)\n",
    "# ar_modes = groups.ar.agg(get_modes)\n",
    "#ax.scatter(complexity_modes, ar_modes, 'k')\n",
    "\n",
    "plt.xticks(rotation=90)\n",
    "ax1.set_ylabel('Aspect Ratio');\n",
    "ax1.set_xlabel('');\n",
    "\n",
    "\n",
    "df = df_CPI[df_CPI[\"classification\"] == 'agg']\n",
    "df = df[df.replace([np.inf, -np.inf], np.nan).notnull().all(axis=1)]\n",
    "df[\"binned\"] = pd.cut(df['complexity'], bins=np.linspace(0.0, 1.0, 10))\n",
    "#df[\"binned\"] = pd.qcut(df['complexity'], 15)\n",
    "\n",
    "ax = sns.boxplot(x='binned', y='area_ratio', data=df, fliersize=0, showmeans=True,\n",
    "                 meanprops={\"marker\":\"o\",\n",
    "                       \"markerfacecolor\":\"white\", \n",
    "                       \"markeredgecolor\":\"black\",\n",
    "                      \"markersize\":\"10\"}, ax=ax2)\n",
    "\n",
    "groups = df.groupby(df[\"binned\"])\n",
    "#print(groups.count())\n",
    "# complexity_modes = groups['complexity'].agg(get_modes)\n",
    "# ar_modes = groups.ar.agg(get_modes)\n",
    "#ax.scatter(complexity_modes, ar_modes, 'k')\n",
    "\n",
    "plt.xticks(rotation=90)\n",
    "plt.ylabel('Area Ratio');\n",
    "plt.xlabel('Complexity');\n",
    "plt.savefig(f'../plots/complexity_phi_ar.png', bbox_inches='tight')\n",
    "#each complexity bin count varies between 138 and 80758"
   ]
  },
  {
   "cell_type": "code",
   "execution_count": null,
   "id": "e5382090",
   "metadata": {},
   "outputs": [],
   "source": []
  }
 ],
 "metadata": {
  "kernelspec": {
   "display_name": "IPAS_v1.3.0",
   "language": "python",
   "name": "ipas_v1.3.0"
  },
  "language_info": {
   "codemirror_mode": {
    "name": "ipython",
    "version": 3
   },
   "file_extension": ".py",
   "mimetype": "text/x-python",
   "name": "python",
   "nbconvert_exporter": "python",
   "pygments_lexer": "ipython3",
   "version": "3.7.9"
  }
 },
 "nbformat": 4,
 "nbformat_minor": 5
}
