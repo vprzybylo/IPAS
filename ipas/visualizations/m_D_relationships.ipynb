{
 "cells": [
  {
   "cell_type": "code",
   "execution_count": 34,
   "id": "186cca9f",
   "metadata": {},
   "outputs": [],
   "source": [
    "import pickle\n",
    "import numpy as np\n",
    "import matplotlib.pyplot as plt\n"
   ]
  },
  {
   "cell_type": "code",
   "execution_count": 35,
   "id": "35d15563",
   "metadata": {},
   "outputs": [],
   "source": [
    "plt_params = {\n",
    "    \"axes.labelsize\": \"xx-large\",\n",
    "    \"axes.titlesize\": \"xx-large\",\n",
    "    \"xtick.labelsize\": \"xx-large\",\n",
    "    \"ytick.labelsize\": \"xx-large\",\n",
    "    \"legend.title_fontsize\": 12,\n",
    "}\n",
    "plt.rcParams[\"font.family\"] = \"serif\"\n",
    "plt.rcParams.update(plt_params)"
   ]
  },
  {
   "cell_type": "code",
   "execution_count": 60,
   "id": "2f5c4026",
   "metadata": {},
   "outputs": [],
   "source": [
    "# LOAD DATA\n",
    "# array shapes = [mono phi, mono r, nclusters, ncrystals]\n",
    "f = open('../instance_files/mD_vT_vars', 'rb')\n",
    "result = pickle.load(f)\n",
    "f.close()\n",
    "\n",
    "#convert dict keys to variables\n",
    "locals().update(result)"
   ]
  },
  {
   "cell_type": "code",
   "execution_count": 61,
   "id": "ae072465",
   "metadata": {},
   "outputs": [],
   "source": [
    "def convert_to_m(var):\n",
    "    ''' convert axes to meters from micrometers'''\n",
    "    return var*1E-6\n",
    "agg_as = convert_to_m(agg_as)\n",
    "agg_bs = convert_to_m(agg_bs)\n",
    "agg_cs = convert_to_m(agg_cs)\n",
    "Dmaxs = convert_to_m(Dmaxs)"
   ]
  },
  {
   "cell_type": "code",
   "execution_count": 62,
   "id": "e8028a54",
   "metadata": {},
   "outputs": [],
   "source": [
    "rho_b = 916.8  # bulk density of ice [kg/m3]\n",
    "m_spheroid = 4/3*np.pi*agg_as**2*agg_cs*rho_b # kg\n",
    "m = np.mean(m_spheroid, axis=2)  # average over 300 clusters\n",
    "D = np.mean(Dmaxs, axis=2)  # average over 300 clusters"
   ]
  },
  {
   "cell_type": "code",
   "execution_count": 82,
   "id": "9ec16f70",
   "metadata": {},
   "outputs": [
    {
     "data": {
      "image/png": "[encoded data removed]",
      "text/plain": [
       "<Figure size 432x288 with 1 Axes>"
      ]
     },
     "metadata": {
      "needs_background": "light"
     },
     "output_type": "display_data"
    }
   ],
   "source": [
    "fig = plt.figure()\n",
    "ax = fig.add_subplot(2, 1, 1)\n",
    "\n",
    "#ax.plot(D[0,0,:], m[0,0,:]) # plates\n",
    "#ax.plot(D[1,0,:], m[1,0,:])  # columns\n",
    "ax.scatter(Dmaxs[0,0,])\n",
    "ax.set_ylim([1E-11, 1E-7])\n",
    "ax.set_xlim([1E-4, 1.5E-3])\n",
    "ax.set_yscale('log')\n",
    "ax.set_xscale('log')\n"
   ]
  },
  {
   "cell_type": "code",
   "execution_count": 65,
   "id": "31e34b65",
   "metadata": {},
   "outputs": [
    {
     "data": {
      "text/plain": [
       "(2, 1, 2)"
      ]
     },
     "execution_count": 65,
     "metadata": {},
     "output_type": "execute_result"
    }
   ],
   "source": [
    "D.shape"
   ]
  },
  {
   "cell_type": "code",
   "execution_count": 83,
   "id": "1a9598bc",
   "metadata": {},
   "outputs": [
    {
     "data": {
      "text/plain": [
       "(array([0.00014365, 0.00017485]), array([9.27936659e-10, 1.82481950e-09]))"
      ]
     },
     "execution_count": 83,
     "metadata": {},
     "output_type": "execute_result"
    }
   ],
   "source": [
    "D[0,0,:], m[0,0,:]"
   ]
  },
  {
   "cell_type": "code",
   "execution_count": null,
   "id": "1f0acc8b",
   "metadata": {},
   "outputs": [],
   "source": []
  }
 ],
 "metadata": {
  "kernelspec": {
   "display_name": "IPAS",
   "language": "python",
   "name": "ipas"
  },
  "language_info": {
   "codemirror_mode": {
    "name": "ipython",
    "version": 3
   },
   "file_extension": ".py",
   "mimetype": "text/x-python",
   "name": "python",
   "nbconvert_exporter": "python",
   "pygments_lexer": "ipython3",
   "version": "3.7.9"
  }
 },
 "nbformat": 4,
 "nbformat_minor": 5
}
