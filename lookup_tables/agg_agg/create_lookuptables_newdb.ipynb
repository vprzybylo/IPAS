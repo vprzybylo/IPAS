{
 "cells": [
  {
   "cell_type": "code",
   "execution_count": null,
   "metadata": {},
   "outputs": [],
   "source": [
    "#Reloads modules to update any changes (after saving)\n",
    "#If a new method or object is created, autoreload doesn't work and the \n",
    "#kernel needs to be restarted\n",
    "%load_ext autoreload\n",
    "%autoreload 2\n",
    "%load_ext memory_profiler"
   ]
  },
  {
   "cell_type": "code",
   "execution_count": null,
   "metadata": {},
   "outputs": [],
   "source": [
    "import numpy as np\n",
    "import pickle\n",
    "import glob\n",
    "import random\n",
    "import pandas as pd\n",
    "import matplotlib.pyplot as plt\n",
    "from dask import dataframe as dd\n",
    "\n",
    "import sys\n",
    "sys.path.append('../../collection_from_db')\n",
    "sys.path.append('../../scripts')\n",
    "import ipas\n",
    "import batch_statistics"
   ]
  },
  {
   "cell_type": "markdown",
   "metadata": {},
   "source": [
    "# Load data"
   ]
  },
  {
   "cell_type": "code",
   "execution_count": 104,
   "metadata": {},
   "outputs": [],
   "source": [
    "orientation='flat'"
   ]
  },
  {
   "cell_type": "code",
   "execution_count": 105,
   "metadata": {},
   "outputs": [],
   "source": [
    "f = open('../../instance_files/instance_db_aggagg_'+orientation, 'rb')\n",
    "results = pickle.load(f)\n",
    "agg_as, agg_bs, agg_cs, phi2Ds, cplxs, dds= \\\n",
    "                results['agg_as'], results['agg_bs'], results['agg_cs'], results['phi2Ds'], results['cplxs'], results['dds']\n",
    "f.close()\n",
    "\n",
    "f = open('../../instance_files/pulled_clusters_aggagg_'+orientation, 'rb')\n",
    "pulled_clus = pickle.load(f)\n",
    "f.close()"
   ]
  },
  {
   "cell_type": "code",
   "execution_count": 106,
   "metadata": {},
   "outputs": [
    {
     "data": {
      "text/plain": [
       "(20, 20, 300)"
      ]
     },
     "execution_count": 106,
     "metadata": {},
     "output_type": "execute_result"
    }
   ],
   "source": [
    "np.shape(agg_as)"
   ]
  },
  {
   "cell_type": "code",
   "execution_count": 107,
   "metadata": {},
   "outputs": [],
   "source": [
    "agg_phi_bins = np.shape(agg_as)[0]\n",
    "agg_r_bins = np.shape(agg_as)[1]\n",
    "nclusters = np.shape(agg_as)[2]"
   ]
  },
  {
   "cell_type": "code",
   "execution_count": 108,
   "metadata": {},
   "outputs": [
    {
     "name": "stdout",
     "output_type": "stream",
     "text": [
      "CPU times: user 4.14 s, sys: 3.92 s, total: 8.06 s\n",
      "Wall time: 11.3 s\n"
     ]
    }
   ],
   "source": [
    "%%time\n",
    "#read db \n",
    "df = dd.read_parquet(\"/network/rit/lab/sulialab/share/IPAS_3radii/instance_files/parquet_files/*_\"+orientation+\"_*\", engine=\"pyarrow\").compute()"
   ]
  },
  {
   "cell_type": "code",
   "execution_count": 109,
   "metadata": {},
   "outputs": [],
   "source": [
    "def shape(a,b,c):\n",
    "    if (b-c) <= (a-b):\n",
    "        return 'prolate'\n",
    "    else:\n",
    "        return 'oblate'"
   ]
  },
  {
   "cell_type": "code",
   "execution_count": 110,
   "metadata": {},
   "outputs": [
    {
     "name": "stdout",
     "output_type": "stream",
     "text": [
      "CPU times: user 2.83 s, sys: 1.18 s, total: 4 s\n",
      "Wall time: 8.66 s\n"
     ]
    }
   ],
   "source": [
    "%%time \n",
    "df['agg_r'] = np.power((np.power(df['a'], 2) * df['c']), (1./3.))\n",
    "df = df[df['agg_r'] < 5000]\n",
    "vfunc = np.vectorize(shape)\n",
    "df['shape'] = vfunc(df['a'], df['b'], df['c'])\n",
    "df['agg_phi'] = df['c']/df['a']"
   ]
  },
  {
   "cell_type": "code",
   "execution_count": null,
   "metadata": {},
   "outputs": [],
   "source": [
    "#old, slower way of reading in database:"
   ]
  },
  {
   "cell_type": "code",
   "execution_count": null,
   "metadata": {},
   "outputs": [],
   "source": [
    "files = [f for f in glob.glob(\"../instance_files/createdb_iceagg_flat*\")]"
   ]
  },
  {
   "cell_type": "code",
   "execution_count": null,
   "metadata": {
    "collapsed": true,
    "jupyter": {
     "outputs_hidden": true
    }
   },
   "outputs": [],
   "source": [
    "%%time \n",
    "data = []\n",
    "for file in files:\n",
    "    print(file)\n",
    "    data.append(pd.read_pickle(file, None))\n",
    "datapd = [pd.DataFrame(i) for i in data]\n",
    "df = pd.concat(datapd, axis=0, ignore_index=True)\n",
    "df['agg_r'] = np.power((np.power(df['a'], 2) * df['c']), (1./3.))\n",
    "df['agg_r'] = df['agg_r'][df.agg_r < 5000]\n",
    "df['shape'] = df.apply(lambda row: 'prolate' if (row.b - row.c) <= (row.a - row.b) else 'oblate', axis=1)\n",
    "df['agg_phi'] = df.c/df.a"
   ]
  },
  {
   "cell_type": "code",
   "execution_count": null,
   "metadata": {},
   "outputs": [],
   "source": [
    "#start running cells again here"
   ]
  },
  {
   "cell_type": "code",
   "execution_count": 111,
   "metadata": {},
   "outputs": [],
   "source": [
    "res, phi_bins = pd.qcut(df.agg_phi, 20, retbins=True)\n",
    "#print(phi_bins)\n",
    "phi_bin_labs = []\n",
    "all_r_bins= np.empty((len(phi_bins),len(phi_bins)))\n",
    "for i in range(agg_phi_bins):\n",
    "    phi_bin_labs.append('[%.3f-%.3f]' %(phi_bins[i],phi_bins[i+1]))\n",
    "    #return a df that only queries within an aspect ratio bin\n",
    "    df_phi = df[(df.agg_phi > phi_bins[i]) & (df.agg_phi < phi_bins[i+1])]\n",
    "    #now break that aspect ratio bin into 20 equal r bins\n",
    "    res, r_bins = pd.qcut(df_phi.agg_r, 20, retbins=True)\n",
    "    all_r_bins[i,:] = r_bins\n"
   ]
  },
  {
   "cell_type": "code",
   "execution_count": 112,
   "metadata": {},
   "outputs": [],
   "source": [
    "#find characteristic of gamma distribution for axis lengths\n",
    "#find mode from histogram bins for density change (multiple modes using statistics.mode())\n",
    "#all calculations are in the batch_statistics module in the scripts folder\n",
    "#takes a few mins to run\n",
    "\n",
    "agg_cs_ch = np.empty((agg_phi_bins, agg_r_bins), dtype=np.float64) \n",
    "agg_as_ch = np.empty((agg_phi_bins, agg_r_bins), dtype=np.float64) \n",
    "agg_as_mean = np.empty((agg_phi_bins, agg_r_bins), dtype=np.float64)\n",
    "dds_mode = np.empty((agg_phi_bins, agg_r_bins), dtype=np.float64)\n",
    "\n",
    "for i in range(agg_phi_bins):\n",
    "    for r in range(agg_r_bins):\n",
    "        #print(i,r)\n",
    "        for c, data in enumerate([agg_cs, agg_as, dds]):\n",
    "            batch = batch_statistics.Batch(data[i,r,:])\n",
    "\n",
    "            if c == 0:\n",
    "                batch.fit_distribution()\n",
    "                agg_cs_ch[i,r] = batch.gamma_ch\n",
    "                \n",
    "            if c == 1:\n",
    "                batch.fit_distribution()\n",
    "                agg_as_ch[i,r] = batch.gamma_ch\n",
    "                agg_as_mean[i,r] = batch.mean\n",
    "                \n",
    "            if c == 2:\n",
    "                batch.mode_of_hist()\n",
    "                dds_mode[i,r] = batch.mode\n",
    "       \n"
   ]
  },
  {
   "cell_type": "code",
   "execution_count": 114,
   "metadata": {},
   "outputs": [],
   "source": [
    "#write to file for output as array:\n",
    "#flat orientation\n",
    "#bin edges for range\n",
    "with open(\"../../lookup_tables/agg_agg/newformat_minorax_ellipsoid_flat_ch_binedges.dat\",\"w\") as file1:\n",
    "    with open(\"../../lookup_tables/agg_agg/newformat_majorax_ellipsoid_flat_ch_binedges.dat\",\"w\") as file2:\n",
    "        with open(\"../../lookup_tables/agg_agg/newformat_majorax_ellipsoid_flat_mean_binedges.dat\",\"w\") as file3:\n",
    "            with open(\"../../lookup_tables/agg_agg/newformat_dd_flat_mode_binedges.dat\",\"w\") as file4:\n",
    "\n",
    "                    file1.write('Agg-Agg collection for the flat orientation. \\n'\\\n",
    "                                'Characteristic values taken from the peak of a fit \\n'\\\n",
    "                                'gamma distribution from 300 aggregates. \\n'\\\n",
    "                                'Minor axis taken as the smallest axis from the fit-ellipsoid \\n'\\\n",
    "                                'Ranges are taken from the bin edges (maximum range) \\n'\\\n",
    "                                'Order: agg phi min, agg phi max, agg r min, agg r max, value \\n')\n",
    "\n",
    "                    file2.write('Agg-Agg collection for the flat orientation. \\n'\n",
    "                                'Characteristic values taken from the peak of a fit \\n'\\\n",
    "                                'gamma distribution from 300 aggregates. \\n'\\\n",
    "                                'Ranges are taken from the bin edges (maximum range) \\n'\\\n",
    "                                'Order: agg phi min, agg phi max, agg r min, agg r max, value \\n')\n",
    "\n",
    "                    file3.write('Agg-Agg collection for the flat orientation. \\n'\n",
    "                                'Mean value taken from the average across 300 aggregates. \\n'\\\n",
    "                                'Major axis taken as the largest axis from the fit-ellipsoid \\n'\n",
    "                                'Ranges are taken from the bin edges (maximum range) \\n'\\\n",
    "                                'Order: agg phi min, agg phi max, agg r min, agg r max, value \\n')\n",
    "                    \n",
    "                    file4.write('Agg-Agg collection for the flat orientation. \\n'\n",
    "                                'Avg volume ratio of aggs subtracted from volume ratio of new agg (Vagg/Vellipse)\\n'\\\n",
    "                                'Mode from 300 aggregates. \\n'\\\n",
    "                                'Ranges are taken from the bin edges (maximum range) \\n'\\\n",
    "                                'Order: agg phi min, agg phi max, agg r min, agg r max, value \\n')\n",
    "\n",
    "\n",
    "                    for i in range(agg_phi_bins):\n",
    "                        for r in range(agg_r_bins):\n",
    "\n",
    "                            #print(i,r)\n",
    "                            file1.write('%.3f %.3f %.3f %.3f %.3f \\n' %(phi_bins[i], phi_bins[i+1], all_r_bins[i,r], all_r_bins[i,r+1], agg_cs_ch[i,r]))\n",
    "                            file2.write('%.3f %.3f %.3f %.3f %.3f \\n' %(phi_bins[i], phi_bins[i+1], all_r_bins[i,r], all_r_bins[i,r+1], agg_as_ch[i,r]))\n",
    "                            file3.write('%.3f %.3f %.3f %.3f %.3f \\n' %(phi_bins[i], phi_bins[i+1], all_r_bins[i,r], all_r_bins[i,r+1], agg_as_mean[i,r]))\n",
    "                            file4.write('%.3f %.3f %.3f %.3f %.3f \\n' %(phi_bins[i], phi_bins[i+1], all_r_bins[i,r], all_r_bins[i,r+1], dds_mode[i,r]))\n",
    "                                    \n",
    "file1.close()\n",
    "file2.close() \n",
    "file3.close()\n",
    "file4.close()"
   ]
  },
  {
   "cell_type": "code",
   "execution_count": 113,
   "metadata": {},
   "outputs": [],
   "source": [
    "#write to file for output as array\n",
    "#flat orienation\n",
    "#sampled aggs for range\n",
    "with open(\"../../lookup_tables/agg_agg/newformat_minorax_ellipsoid_flat_ch.dat\",\"w\") as file1:\n",
    "    with open(\"../../lookup_tables/agg_agg/newformat_majorax_ellipsoid_flat_ch.dat\",\"w\") as file2:\n",
    "        with open(\"../../lookup_tables/agg_agg/newformat_majorax_ellipsoid_flat_mean.dat\",\"w\") as file3:\n",
    "            with open(\"../../lookup_tables/agg_agg/newformat_dd_flat_mode.dat\",\"w\") as file4:\n",
    "\n",
    "                    file1.write('Agg-Agg collection for the flat orientation. \\n'\\\n",
    "                                'Characteristic values taken from the peak of a fit \\n'\\\n",
    "                                'gamma distribution from 300 aggregates. \\n'\\\n",
    "                                'Minor axis taken as the smallest axis from the fit-ellipsoid \\n'\\\n",
    "                                'Ranges are taken from the aggregates being pulled from the db, \\n' \\\n",
    "                                'not the bin edges (maximum range) \\n'\\\n",
    "                                'Order: agg phi min, agg phi max, agg r min, agg r max, value \\n')\n",
    "\n",
    "                    file2.write('Agg-Agg collection for the flat orientation. \\n'\n",
    "                                'Characteristic values taken from the peak of a fit \\n'\\\n",
    "                                'gamma distribution from 300 aggregates. \\n'\\\n",
    "                                'Ranges are taken from the aggregates being pulled from the db, \\n' \\\n",
    "                                'not the bin edges (maximum range) \\n'\\\n",
    "                                'Order: agg phi min, agg phi max, agg r min, agg r max, value \\n')\n",
    "\n",
    "                    file3.write('Agg-Agg collection for the flat orientation. \\n'\n",
    "                                'Mean value taken from the average across 300 aggregates. \\n'\\\n",
    "                                'Major axis taken as the largest axis from the fit-ellipsoid \\n'\n",
    "                                'Ranges are taken from the aggregates being pulled from the db, \\n' \\\n",
    "                                'not the bin edges (maximum range) \\n'\\\n",
    "                                'Order: agg phi min, agg phi max, agg r min, agg r max, value \\n')\n",
    "                    \n",
    "                    file4.write('Agg-Agg collection for the flat orientation. \\n'\n",
    "                                'Volume ratio of agg subtracted from volume ratio of new agg (Vagg/Vellipse)\\n'\\\n",
    "                                'Mode from 300 aggregates. \\n'\\\n",
    "                                'Ranges are taken from the aggregates being pulled from the db, \\n' \\\n",
    "                                'not the bin edges (maximum range) \\n'\\\n",
    "                                'Order: agg phi min, agg phi max, agg r min, agg r max, value \\n')\n",
    "\n",
    "\n",
    "                    for i in range(agg_phi_bins):\n",
    "                        for r in range(agg_r_bins):\n",
    "                            listaggphi = [n.c/n.a for n in pulled_clus[i,r,:]]\n",
    "                            maxaggphi = max(listaggphi)\n",
    "                            minaggphi = min(listaggphi)\n",
    "                            listaggr = [n.r for n in pulled_clus[i,r,:]]\n",
    "                            maxaggr = max(listaggr)\n",
    "                            minaggr = min(listaggr)\n",
    "                            #print(i,r)\n",
    "                            file1.write('%.3f %.3f %.3f %.3f %.3f \\n' %(minaggphi, maxaggphi, minaggr, maxaggr, agg_cs_ch[i,r]))\n",
    "                            file2.write('%.3f %.3f %.3f %.3f %.3f \\n' %(minaggphi, maxaggphi, minaggr, maxaggr, agg_as_ch[i,r]))\n",
    "                            file3.write('%.3f %.3f %.3f %.3f %.3f \\n' %(minaggphi, maxaggphi, minaggr, maxaggr, agg_as_mean[i,r]))\n",
    "                            file4.write('%.3f %.3f %.3f %.3f %.3f \\n' %(minaggphi, maxaggphi, minaggr, maxaggr, dds_mode[i,r]))\n",
    "                                    \n",
    "file1.close()\n",
    "file2.close() \n",
    "file3.close()\n",
    "file4.close()"
   ]
  },
  {
   "cell_type": "code",
   "execution_count": null,
   "metadata": {},
   "outputs": [],
   "source": [
    "#write to file for output as array:\n",
    "#random orientation\n",
    "#bin edges for range\n",
    "with open(\"../../lookup_tables/agg_agg/newformat_minorax_ellipsoid_rand_ch_binedges.dat\",\"w\") as file1:\n",
    "    with open(\"../../lookup_tables/agg_agg/newformat_majorax_ellipsoid_rand_ch_binedges.dat\",\"w\") as file2:\n",
    "        with open(\"../../lookup_tables/agg_agg/newformat_majorax_ellipsoid_rand_mean_binedges.dat\",\"w\") as file3:\n",
    "            with open(\"../../lookup_tables/agg_agg/newformat_dd_rand_mode_binedges.dat\",\"w\") as file4:\n",
    "\n",
    "                    file1.write('Agg-Agg collection for the random orientation. \\n'\\\n",
    "                                'Characteristic values taken from the peak of a fit \\n'\\\n",
    "                                'gamma distribution from 300 aggregates. \\n'\\\n",
    "                                'Minor axis taken as the smallest axis from the fit-ellipsoid \\n'\\\n",
    "                                'Ranges are taken from the bin edges (maximum range) \\n'\\\n",
    "                                'Order: agg phi min, agg phi max, agg r min, agg r max, value \\n')\n",
    "\n",
    "                    file2.write('Agg-Agg collection for the random orientation. \\n'\n",
    "                                'Characteristic values taken from the peak of a fit \\n'\\\n",
    "                                'gamma distribution from 300 aggregates. \\n'\\\n",
    "                                'Ranges are taken from the bin edges (maximum range) \\n'\\\n",
    "                                'Order: agg phi min, agg phi max, agg r min, agg r max, value \\n')\n",
    "\n",
    "                    file3.write('Agg-Agg collection for the random orientation. \\n'\n",
    "                                'Mean value taken from the average across 300 aggregates. \\n'\\\n",
    "                                'Major axis taken as the largest axis from the fit-ellipsoid \\n'\n",
    "                                'Ranges are taken from the bin edges (maximum range) \\n'\\\n",
    "                                'Order: agg phi min, agg phi max, agg r min, agg r max, value \\n')\n",
    "                    \n",
    "                    file4.write('Agg-Agg collection for the random orientation. \\n'\n",
    "                                'Avg volume ratio of aggs subtracted from volume ratio of new agg (Vagg/Vellipse)\\n'\\\n",
    "                                'Mode from 300 aggregates. \\n'\\\n",
    "                                'Ranges are taken from the bin edges (maximum range) \\n'\\\n",
    "                                'Order: agg phi min, agg phi max, agg r min, agg r max, value \\n')\n",
    "\n",
    "\n",
    "                    for i in range(agg_phi_bins):\n",
    "                        for r in range(agg_r_bins):\n",
    "\n",
    "                            #print(i,r)\n",
    "                            file1.write('%.3f %.3f %.3f %.3f %.3f \\n' %(phi_bins[i], phi_bins[i+1], all_r_bins[i,r], all_r_bins[i,r+1], agg_cs_ch[i,r]))\n",
    "                            file2.write('%.3f %.3f %.3f %.3f %.3f \\n' %(phi_bins[i], phi_bins[i+1], all_r_bins[i,r], all_r_bins[i,r+1], agg_as_ch[i,r]))\n",
    "                            file3.write('%.3f %.3f %.3f %.3f %.3f \\n' %(phi_bins[i], phi_bins[i+1], all_r_bins[i,r], all_r_bins[i,r+1], agg_as_mean[i,r]))\n",
    "                            file4.write('%.3f %.3f %.3f %.3f %.3f \\n' %(phi_bins[i], phi_bins[i+1], all_r_bins[i,r], all_r_bins[i,r+1], dds_mode[i,r]))\n",
    "                                    \n",
    "file1.close()\n",
    "file2.close() \n",
    "file3.close()\n",
    "file4.close()"
   ]
  },
  {
   "cell_type": "code",
   "execution_count": null,
   "metadata": {},
   "outputs": [],
   "source": [
    "#write to file for output as array:\n",
    "#random orientation\n",
    "#sampled aggs for range\n",
    "with open(\"../../lookup_tables/agg_agg/newformat_minorax_ellipsoid_rand_ch.dat\",\"w\") as file1:\n",
    "    with open(\"../../lookup_tables/agg_agg/newformat_majorax_ellipsoid_rand_ch.dat\",\"w\") as file2:\n",
    "        with open(\"../../lookup_tables/agg_agg/newformat_majorax_ellipsoid_rand_mean.dat\",\"w\") as file3:\n",
    "            with open(\"../../lookup_tables/agg_agg/newformat_dd_rand_mode.dat\",\"w\") as file4:\n",
    "\n",
    "                    file1.write('Agg-Agg collection for the random orientation. \\n'\\\n",
    "                                'Characteristic values taken from the peak of a fit \\n'\\\n",
    "                                'gamma distribution from 300 aggregates. \\n'\\\n",
    "                                'Minor axis taken as the smallest axis from the fit-ellipsoid \\n'\\\n",
    "                                'Ranges are taken from the aggregates being pulled from the db, \\n' \\\n",
    "                                'not the bin edges (maximum range) \\n'\\\n",
    "                                'Order: agg phi min, agg phi max, agg r min, agg r max, value \\n')\n",
    "\n",
    "                    file2.write('Agg-Agg collection for the random orientation. \\n'\n",
    "                                'Characteristic values taken from the peak of a fit \\n'\\\n",
    "                                'gamma distribution from 300 aggregates. \\n'\\\n",
    "                                'Ranges are taken from the aggregates being pulled from the db, \\n' \\\n",
    "                                'not the bin edges (maximum range) \\n'\\\n",
    "                                'Order: agg phi min, agg phi max, agg r min, agg r max, value \\n')\n",
    "\n",
    "                    file3.write('Agg-Agg collection for the random orientation. \\n'\n",
    "                                'Mean value taken from the average across 300 aggregates. \\n'\\\n",
    "                                'Major axis taken as the largest axis from the fit-ellipsoid \\n'\n",
    "                                'Ranges are taken from the aggregates being pulled from the db, \\n' \\\n",
    "                                'not the bin edges (maximum range) \\n'\\\n",
    "                                'Order: agg phi min, agg phi max, agg r min, agg r max, value \\n')\n",
    "                    \n",
    "                    file4.write('Agg-Agg collection for the random orientation. \\n'\n",
    "                                'Volume ratio of agg subtracted from volume ratio of new agg (Vagg/Vellipse)\\n'\\\n",
    "                                'Mode from 300 aggregates. \\n'\\\n",
    "                                'Ranges are taken from the aggregates being pulled from the db, \\n' \\\n",
    "                                'not the bin edges (maximum range) \\n'\\\n",
    "                                'Order: agg phi min, agg phi max, agg r min, agg r max, value \\n')\n",
    "\n",
    "\n",
    "                    for i in range(agg_phi_bins):\n",
    "                        for r in range(agg_r_bins):\n",
    "                            listaggphi = [n.c/n.a for n in pulled_clus[i,r,:]]\n",
    "                            maxaggphi = max(listaggphi)\n",
    "                            minaggphi = min(listaggphi)\n",
    "                            listaggr = [n.r for n in pulled_clus[i,r,:]]\n",
    "                            maxaggr = max(listaggr)\n",
    "                            minaggr = min(listaggr)\n",
    "                            #print(i,r)\n",
    "                            file1.write('%.3f %.3f %.3f %.3f %.3f \\n' %(minaggphi, maxaggphi, minaggr, maxaggr, agg_cs_ch[i,r]))\n",
    "                            file2.write('%.3f %.3f %.3f %.3f %.3f \\n' %(minaggphi, maxaggphi, minaggr, maxaggr, agg_as_ch[i,r]))\n",
    "                            file3.write('%.3f %.3f %.3f %.3f %.3f \\n' %(minaggphi, maxaggphi, minaggr, maxaggr, agg_as_mean[i,r]))\n",
    "                            file4.write('%.3f %.3f %.3f %.3f %.3f \\n' %(minaggphi, maxaggphi, minaggr, maxaggr, dds_mode[i,r]))\n",
    "                                    \n",
    "file1.close()\n",
    "file2.close() \n",
    "file3.close()\n",
    "file4.close()"
   ]
  },
  {
   "cell_type": "code",
   "execution_count": null,
   "metadata": {},
   "outputs": [],
   "source": []
  },
  {
   "cell_type": "code",
   "execution_count": null,
   "metadata": {},
   "outputs": [],
   "source": []
  }
 ],
 "metadata": {
  "anaconda-cloud": {},
  "kernelspec": {
   "display_name": "Python 3",
   "language": "python",
   "name": "python3"
  },
  "language_info": {
   "codemirror_mode": {
    "name": "ipython",
    "version": 3
   },
   "file_extension": ".py",
   "mimetype": "text/x-python",
   "name": "python",
   "nbconvert_exporter": "python",
   "pygments_lexer": "ipython3",
   "version": "3.6.7"
  }
 },
 "nbformat": 4,
 "nbformat_minor": 4
}
