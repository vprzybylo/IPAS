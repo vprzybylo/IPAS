{
 "cells": [
  {
   "cell_type": "code",
   "execution_count": null,
   "metadata": {},
   "outputs": [],
   "source": [
    "#Reloads the lab.py and crystals.py modules to update any changes (after saving)\n",
    "#If a new method or object is created, autoreload doesn't work and the \n",
    "#kernel needs to be closed and halted after saving and making a 'checkpoint'\n",
    "#in this notebook\n",
    "\n",
    "%load_ext autoreload\n",
    "%autoreload 2"
   ]
  },
  {
   "cell_type": "code",
   "execution_count": null,
   "metadata": {},
   "outputs": [],
   "source": [
    "import ipas \n",
    "import numpy as np\n",
    "import dask\n",
    "from dask_jobqueue import SLURMCluster\n",
    "from distributed import LocalCluster\n",
    "from dask.distributed import Client, progress\n",
    "from dask import delayed\n",
    "from dask import dataframe as dd\n",
    "import functools\n",
    "import sys\n",
    "import ast\n",
    "from struct import *\n",
    "import pickle\n",
    "import glob\n",
    "import random\n",
    "import pandas as pd\n",
    "import time\n",
    "from dask.distributed import as_completed\n",
    "from joblib import Parallel, delayed, parallel_backend\n",
    "import matplotlib.pyplot as plt\n",
    "import matplotlib\n",
    "import matplotlib.colors as colors"
   ]
  },
  {
   "cell_type": "code",
   "execution_count": null,
   "metadata": {},
   "outputs": [],
   "source": [
    "large = 22; med = 16; small = 12\n",
    "params = {'axes.titlesize': large,\n",
    "          'legend.fontsize': med,\n",
    "          'figure.figsize': (7,7),\n",
    "          'axes.labelsize': med,\n",
    "          'axes.titlesize': med,\n",
    "          'xtick.labelsize': med,\n",
    "          'ytick.labelsize': med,\n",
    "          'figure.titlesize': large}\n",
    "plt.rcParams.update(params)"
   ]
  },
  {
   "cell_type": "code",
   "execution_count": null,
   "metadata": {},
   "outputs": [],
   "source": [
    "cluster = SLURMCluster(\n",
    "    queue='batch',\n",
    "    walltime='04-23:00:00',\n",
    "    cores=1,\n",
    "    memory='20000MiB', #1 GiB = 1,024 MiB\n",
    "    processes=1)\n",
    "\n",
    "#cluster.adapt(minimum=3, maximum=20)\n",
    "cluster.scale(1)"
   ]
  },
  {
   "cell_type": "code",
   "execution_count": null,
   "metadata": {},
   "outputs": [],
   "source": [
    "client = Client(cluster)"
   ]
  },
  {
   "cell_type": "code",
   "execution_count": null,
   "metadata": {},
   "outputs": [],
   "source": [
    "client"
   ]
  },
  {
   "cell_type": "code",
   "execution_count": null,
   "metadata": {},
   "outputs": [],
   "source": [
    "def shape(a,b,c):\n",
    "    if (b-c) <= (a-b):\n",
    "        return 'prolate'\n",
    "    else:\n",
    "        return 'oblate'"
   ]
  },
  {
   "cell_type": "code",
   "execution_count": null,
   "metadata": {},
   "outputs": [],
   "source": [
    "%%time \n",
    "files = [f for f in glob.glob(\"../instance_files/createdb_iceagg_flat*\")]\n",
    "data = []\n",
    "for file in files:\n",
    "    print(file)\n",
    "    #dictionary = pickle.load(f)\n",
    "    data.append(pd.read_pickle(file, None))\n",
    "datapd = [pd.DataFrame(i) for i in data]\n",
    "df = pd.concat(datapd, axis=0, ignore_index=True)"
   ]
  },
  {
   "cell_type": "code",
   "execution_count": null,
   "metadata": {},
   "outputs": [],
   "source": [
    "#speed up shape function \n",
    "vfunc = np.vectorize(shape)\n",
    "df['shape'] = vfunc(df['a'], df['b'], df['c'])\n",
    "df['agg_phi'] = df.c/df.a\n",
    "df.loc[df['shape'] == 'oblate', 'agg_r'] = np.power((np.power(df['a'], 2) * df['c']), (1./3.))\n",
    "df.loc[df['shape'] == 'prolate', 'agg_r'] = np.power((np.power(df['c'], 2) * df['a']), (1./3.))\n",
    "#df['agg_r'] = np.power((np.power(df['a'], 2) * df['c']), (1./3.))\n",
    "df = df[df.agg_r < 5000]\n"
   ]
  },
  {
   "cell_type": "markdown",
   "metadata": {},
   "source": [
    "# MAIN"
   ]
  },
  {
   "cell_type": "code",
   "execution_count": null,
   "metadata": {},
   "outputs": [],
   "source": [
    "def main(agg_phi_bins, agg_r_bins, nclusters, rand_orient, phi_factor=10, r_factor=2):\n",
    "    \n",
    "    output = np.empty((agg_phi_bins,agg_r_bins),dtype=object)\n",
    "    hold_clusters  = np.empty((agg_phi_bins,agg_r_bins,nclusters), dtype=object)\n",
    "    a  = np.empty((agg_phi_bins,agg_r_bins,nclusters), dtype=object)\n",
    "    c = np.empty((agg_phi_bins,agg_r_bins,nclusters), dtype=object)\n",
    "    \n",
    "    count_mono_phi_lower=0\n",
    "    count_mono_phi_upper=0\n",
    "    count_mono_r_lower=0\n",
    "    count_mono_r_upper=0\n",
    "    \n",
    "    res, phi_bins = pd.qcut(df.agg_phi, agg_phi_bins, retbins=True)\n",
    "    #print(phi_bins)\n",
    "    for i in range(0, agg_phi_bins):\n",
    "        #print('agg phi range: ', phi_bins[i], phi_bins[i+1])\n",
    "        #return a df that only queries within an aspect ratio bin\n",
    "        df_phi = df[(df.agg_phi > phi_bins[i]) & (df.agg_phi < phi_bins[i+1])]  \n",
    "        #to ensure at least 2 crystals within agg since ncrystals=1 not in db\n",
    "        #now break that aspect ratio bin into 20 equal r bins\n",
    "        \n",
    "        res, r_bins = pd.qcut(df_phi.agg_r, agg_r_bins, retbins=True)\n",
    "        for r in range(0, agg_r_bins):   #agg r\n",
    "               \n",
    "            #print('r = ', r_bins[r], r_bins[r+1])\n",
    "            df_r = df_phi[(df_phi.agg_r > r_bins[r]) & (df_phi.agg_r < r_bins[r+1])]\n",
    "            #plt.hist(df_r.mono_phi)\n",
    "            #plt.xscale('log')\n",
    "            #plt.show()\n",
    "\n",
    "            samples = df_r.sample(nclusters)\n",
    "            for n, agg in enumerate(samples.itertuples()):\n",
    "\n",
    "                phi_range = np.logspace(np.log(agg.mono_phi/phi_factor)/np.log(10),\n",
    "                                        np.log(agg.mono_phi*phi_factor)/np.log(10), 20)\n",
    "                mono_phi = random.choice(phi_range)\n",
    "                #mono_phi = 0.01 if mono_phi < 0.01 else mono_phi\n",
    "                #mono_phi = 70 if mono_phi > 70 else mono_phi\n",
    "                if mono_phi < 0.01:\n",
    "                    count_mono_phi_lower+=1\n",
    "                    mono_phi=0.01\n",
    "                if mono_phi > 70.:\n",
    "                    count_mono_phi_upper+=1\n",
    "                    mono_phi=70.\n",
    "\n",
    "                r_range = np.logspace(np.log(agg.mono_r/r_factor)/np.log(10),\\\n",
    "                                      np.log(agg.mono_r*r_factor)/np.log(10),20)\n",
    "                mono_r = random.choice(r_range)\n",
    "                #mono_r = 1000 if mono_r>1000 else mono_r\n",
    "                #mono_r = 1 if mono_r<1 else mono_r\n",
    "                if mono_r < 1.0:\n",
    "                    count_mono_r_lower+=1\n",
    "                    mono_r = 1.0\n",
    "                if mono_r > 1000:\n",
    "                    count_mono_phi_upper+=1\n",
    "                    mono_phi = 1000\n",
    "                \n",
    "                a[i,r,n] = (mono_r ** 3 / mono_phi) ** (1. / 3.)\n",
    "                c[i,r,n] = mono_phi * a[i,r,n]\n",
    "#               print('phi range', agg.mono_phi, phi_range[0], phi_range[-1], phi_range)\n",
    "#               print('r range: ', agg.mono_r, r_range[0], r_range[-1], r_range)\n",
    "                \n",
    "                hold_clusters[i,r,n] = ipas.Cluster_Calculations(agg)\n",
    "\n",
    "            #ipas.collect_clusters(a[i,r,:], c[i,r,:], hold_clusters[i,r,:], rand_orient=rand_orient)\n",
    "            #output[i,r] = dask.delayed(ipas.collect_clusters)(a[i,r,:], c[i,r,:],\n",
    "            #                                                     hold_clusters[i,r,:], rand_orient=rand_orient)\n",
    "    print(count_mono_phi_lower/120000,\\\n",
    "          count_mono_phi_upper/120000,\\\n",
    "          count_mono_r_lower/120000,\\\n",
    "          count_mono_r_upper/120000)\n",
    "    return output, hold_clusters\n",
    "    "
   ]
  },
  {
   "cell_type": "code",
   "execution_count": null,
   "metadata": {},
   "outputs": [],
   "source": [
    "def compute():\n",
    "    agg_as = np.empty((agg_phi_bins, agg_r_bins, nclusters))\n",
    "    agg_bs = np.empty((agg_phi_bins, agg_r_bins, nclusters))\n",
    "    rzs = np.empty((agg_phi_bins, agg_r_bins, nclusters))\n",
    "    phi2Ds = np.empty((agg_phi_bins, agg_r_bins, nclusters))\n",
    "    cplxs = np.empty((agg_phi_bins, agg_r_bins, nclusters))\n",
    "    dds = np.empty((agg_phi_bins, agg_r_bins, nclusters))\n",
    "\n",
    "    gather = client.compute([*output.tolist()]) \n",
    "    gather = client.gather(gather)\n",
    "    gather = np.array(gather)\n",
    "    print(np.shape(gather))\n",
    "    agg_as = gather[:,:,0,:]\n",
    "    agg_bs = gather[:,:,1,:]\n",
    "    agg_cs = gather[:,:,2,:]\n",
    "    phi2Ds = gather[:,:,3,:]\n",
    "    cplxs = gather[:,:,4,:] \n",
    "    dds = gather[:,:,5,:]\n",
    "\n",
    "    print('DONE!')\n",
    "    return agg_as, agg_bs, agg_cs, phi2Ds, cplxs, dds"
   ]
  },
  {
   "cell_type": "code",
   "execution_count": null,
   "metadata": {},
   "outputs": [],
   "source": [
    "if __name__ == '__main__':\n",
    "    \n",
    "    agg_phi_bins = 20\n",
    "    agg_r_bins = 20\n",
    "    nclusters = 300\n",
    "    rand_orient = False\n",
    "\n",
    "    output, hold_clusters = main(agg_phi_bins, agg_r_bins, nclusters, rand_orient)\n",
    "    agg_as, agg_bs, agg_cs, phi2Ds, cplxs, dds= compute()\n",
    "    results = {'agg_as': agg_as, 'agg_bs':agg_bs, 'agg_cs':agg_cs, 'phi2Ds':phi2Ds, \\\n",
    "               'cplxs':cplxs, 'dds':dds}\n",
    "   \n",
    "#     filename = '../instance_files/pulled_clusters_iceagg_flat'\n",
    "#     filehandler = open(filename, 'wb')\n",
    "#     pickle.dump(hold_clusters, filehandler)\n",
    "#     filehandler.close()\n",
    "    \n",
    "#     filename = '../instance_files/instance_db_iceagg_flat'\n",
    "#     filehandler = open(filename, 'wb')\n",
    "#     pickle.dump(results, filehandler)\n",
    "#     filehandler.close()\n",
    "    print('finished!')"
   ]
  },
  {
   "cell_type": "markdown",
   "metadata": {},
   "source": [
    "## Make bin plots"
   ]
  },
  {
   "cell_type": "code",
   "execution_count": null,
   "metadata": {},
   "outputs": [],
   "source": [
    "def query_ncrystals(df_phi, r_bins):\n",
    "    avg_ncrystals = []\n",
    "    for r in range(len(r_bins)-1):\n",
    "        df_r = df_phi[(df_phi.agg_r > r_bins[r]) & (df_phi.agg_r < r_bins[r+1])]\n",
    "        avg_ncrystals.append(df_r.ncrystals.mean())\n",
    "    return avg_ncrystals\n"
   ]
  },
  {
   "cell_type": "code",
   "execution_count": null,
   "metadata": {},
   "outputs": [],
   "source": [
    "def avg_cplx(df_phi, r_bins):\n",
    "    avg_cplx = []\n",
    "    for r in range(len(r_bins)-1):\n",
    "        df_r = df_phi[(df_phi.cplx > r_bins[r]) & (df_phi.cplx < r_bins[r+1])]\n",
    "        avg_cplx.append(np.mean(df_r.cplx))\n",
    "    return avg_cplx\n"
   ]
  },
  {
   "cell_type": "code",
   "execution_count": null,
   "metadata": {},
   "outputs": [],
   "source": [
    "def oblate_prolate(df_phi, r_bins):\n",
    "    shape = []\n",
    "    for r in range(len(r_bins)-1):\n",
    "        df_r = df_phi[(df_phi.agg_r > r_bins[r]) & (df_phi.agg_r < r_bins[r+1]) & (df_phi.ncrystals > 2)]\n",
    "        oblates = df_r['shape'][df_r['shape'] == 'oblate'].count()\n",
    "        prolates = df_r['shape'][df_r['shape'] == 'prolate'].count()\n",
    "        shape.append(oblates-prolates)\n",
    "        return shape"
   ]
  },
  {
   "cell_type": "code",
   "execution_count": null,
   "metadata": {},
   "outputs": [],
   "source": [
    "def plate_columns_agg(df_phi, r_bins):\n",
    "    agg_mono_phi = []\n",
    "    for r in range(len(r_bins)-1):\n",
    "        df_r = df_phi[(df_phi.agg_r > r_bins[r]) & (df_phi.agg_r < r_bins[r+1]) & (df_phi.ncrystals > 2)]\n",
    "        agg_mono_plates = df_r['mono_phi'][df_r['mono_phi'] < 1.0].count()\n",
    "        agg_mono_col = df_r['mono_phi'][df_r['mono_phi'] > 1.0].count()\n",
    "        agg_mono_phi.append(agg_mono_plates - agg_mono_col)\n",
    "    return agg_mono_phi\n"
   ]
  },
  {
   "cell_type": "code",
   "execution_count": null,
   "metadata": {},
   "outputs": [],
   "source": [
    "def average_radius(df_phi, r_bins):\n",
    "    avg_radius = []\n",
    "    for r in range(len(r_bins)-1):\n",
    "        df_r = df_phi[(df_phi.agg_r > r_bins[r]) & (df_phi.agg_r < r_bins[r+1])]\n",
    "        avg_radius.append(np.mean(df_r.mono_r))\n",
    "    return avg_radius"
   ]
  },
  {
   "cell_type": "code",
   "execution_count": null,
   "metadata": {},
   "outputs": [],
   "source": [
    "#RAND\n",
    "res, phi_bins_rand = pd.qcut(df.agg_phi, 20, retbins=True)\n",
    "#print(phi_bins)\n",
    "phi_bin_labs = []\n",
    "avg_ncrystals=np.empty((len(phi_bins_rand)-1,len(phi_bins_rand)-1))\n",
    "avg_cplxs=np.empty((len(phi_bins_rand)-1,len(phi_bins_rand)-1))\n",
    "all_r_bins= np.empty((len(phi_bins_rand),len(phi_bins_rand)))\n",
    "shape= np.empty((len(phi_bins_rand)-1,len(phi_bins_rand)-1))\n",
    "agg_mono_phi = np.empty((len(phi_bins_rand)-1,len(phi_bins_rand)-1))\n",
    "avg_radius = np.empty((len(phi_bins_rand)-1,len(phi_bins_rand)-1))\n",
    "\n",
    "for i in range(agg_phi_bins):\n",
    "    print('i = ', i)\n",
    "    phi_bin_labs.append('[%.3f-%.3f]' %(phi_bins_rand[i],phi_bins_rand[i+1]))\n",
    "    #return a df that only queries within an aspect ratio bin\n",
    "    df_phi = df[(df.agg_phi > phi_bins_rand[i]) & (df.agg_phi < phi_bins_rand[i+1])]\n",
    "    #now break that aspect ratio bin into 20 equal r bins\n",
    "    res, r_bins = pd.qcut(df_phi.agg_r, 20, retbins=True)\n",
    "    all_r_bins[i,:] = r_bins\n",
    "    \n",
    "    #now use those r bins from the output of queried r and phi to find # of monomers per bin\n",
    "    avg_ncrystals[i,:] = query_ncrystals(df_phi, r_bins)\n",
    "    avg_cplxs[i,:] = avg_cplx(df_phi, r_bins)\n",
    "    shape[i,:] = oblate_prolate(df_phi, r_bins)\n",
    "    agg_mono_phi[i,:] = plate_columns_agg(df_phi, r_bins)\n",
    "    avg_radius[i,:] = average_radius(df_phi, r_bins)\n",
    "    "
   ]
  },
  {
   "cell_type": "code",
   "execution_count": null,
   "metadata": {
    "jupyter": {
     "outputs_hidden": true
    }
   },
   "outputs": [],
   "source": [
    "fig, ax = plt.subplots(figsize=(10,8))\n",
    "cmap = plt.cm.seismic\n",
    "cb_range = max(abs(np.amin(avg_ncrystals)), np.amax(avg_ncrystals))\n",
    "divnorm = colors.DivergingNorm(vmin=-cb_range, vcenter=0, vmax=cb_range)\n",
    "\n",
    "#norm = matplotlib.colors.Normalize(vmin=np.amin(shape), vmax=np.amax(shape))\n",
    "for i in range(agg_phi_bins): \n",
    "    print('i= ', i)\n",
    "    for r in range(agg_r_bins):\n",
    "\n",
    "        if r != 0:\n",
    "            if shape[i,r] == 'p': \n",
    "                plt.bar([i]*len(r_bins), all_r_bins[i,r], bottom= all_r_bins[i,r-1],  color=cmap(divnorm(avg_ncrystals[i,r])),edgecolor='k')\n",
    "            else:\n",
    "                 plt.bar([i]*len(r_bins), all_r_bins[i,r], bottom= all_r_bins[i,r-1],  color=cmap(divnorm(avg_ncrystals[i,r])),edgecolor='k')\n",
    "        else:\n",
    "            if shape[i,r] == 'p':\n",
    "                plt.bar([i]*len(r_bins), all_r_bins[i,r], color=cmap(divnorm(avg_ncrystals[i,r])), edgecolor='k')\n",
    "            else:\n",
    "                plt.bar([i]*len(r_bins), all_r_bins[i,r], color=cmap(divnorm(avg_ncrystals[i,r])), edgecolor='k')\n",
    "                \n",
    "    \n",
    "plt.yscale('log')\n",
    "plt.xticks(np.arange(len(phi_bin_labs)), phi_bin_labs, rotation=90, ha=\"center\",fontsize=16,family='serif')\n",
    "plt.ylabel(\"Aggregate Radius Bins\",fontsize=16,family='serif')\n",
    "plt.xlabel(\"Aggregate Aspect Ratio ($\\phi$) bins\",fontsize=16,family='serif')  \n",
    "cb = plt.cm.ScalarMappable(norm=divnorm, cmap=cmap)\n",
    "cbar = plt.colorbar(cb)\n",
    "#cbar.ax.set_ylabel('Average # of monomers per bin', fontsize=16, family='serif')\n",
    "#cbar.ax.set_ylabel('Average # of monomers per bin', fontsize=16, family='serif')\n",
    "#plt.title('Quasi-Horizontal Orientation',fontsize=16, family='serif')\n",
    "plt.title('Flat Orientation',fontsize=16, family='serif')\n",
    "plt.tight_layout()\n",
    "#plt.savefig('bins_rand_meanmono_r_5000rad_logy.pdf')\n"
   ]
  },
  {
   "cell_type": "code",
   "execution_count": null,
   "metadata": {},
   "outputs": [],
   "source": [
    "fig, ax = plt.subplots(figsize=(10,8))\n",
    "cmap = plt.cm.jet\n",
    "variable = avg_radius\n",
    "norm = matplotlib.colors.LogNorm(vmin=np.amin(variable), vmax=np.amax(variable))\n",
    "\n",
    "#norm = matplotlib.colors.Normalize(vmin=np.amin(shape), vmax=np.amax(shape))\n",
    "for i in range(agg_phi_bins): \n",
    "    print('i= ', i)\n",
    "    for r in range(agg_r_bins):\n",
    "\n",
    "        if r != 0:\n",
    "            if shape[i,r] == 'p': \n",
    "                plt.bar([i]*len(r_bins), all_r_bins[i,r], bottom= all_r_bins[i,r-1],  color=cmap(norm(variable[i,r])),edgecolor='k')\n",
    "            else:\n",
    "                 plt.bar([i]*len(r_bins), all_r_bins[i,r], bottom= all_r_bins[i,r-1],  color=cmap(norm(variable[i,r])),edgecolor='k')\n",
    "        else:\n",
    "            if shape[i,r] == 'p':\n",
    "                plt.bar([i]*len(r_bins), all_r_bins[i,r], color=cmap(norm(variable[i,r])), edgecolor='k')\n",
    "            else:\n",
    "                plt.bar([i]*len(r_bins), all_r_bins[i,r], color=cmap(norm(variable[i,r])), edgecolor='k')\n",
    "                \n",
    "    \n",
    "plt.yscale('log')\n",
    "plt.xticks(np.arange(len(phi_bin_labs)), phi_bin_labs, rotation=90, ha=\"center\",fontsize=16,family='serif')\n",
    "plt.ylabel(\"Aggregate Radius Bins\",fontsize=16,family='serif')\n",
    "plt.xlabel(\"Aggregate Aspect Ratio ($\\phi$) Bins\",fontsize=16,family='serif')  \n",
    "cb = plt.cm.ScalarMappable(norm=norm, cmap=cmap)\n",
    "cbar = plt.colorbar(cb)\n",
    "cbar.ax.set_ylabel('Average Monomer Radius per Bin', fontsize=16, family='serif')\n",
    "#plt.title('Quasi-Horizontal Orientation',fontsize=16, family='serif')\n",
    "plt.title('Flat Orientation',fontsize=16, family='serif')\n",
    "plt.tight_layout()\n",
    "#plt.savefig('bins_rand_meanmono_r_5000rad_logy.pdf')\n"
   ]
  },
  {
   "cell_type": "code",
   "execution_count": null,
   "metadata": {},
   "outputs": [],
   "source": [
    "fig, ax = plt.subplots(figsize=(10,8))\n",
    "cmap = plt.cm.jet\n",
    "variable = avg_ncrystals\n",
    "norm = matplotlib.colors.Normalize(vmin=2, vmax=25)\n",
    "\n",
    "for i in range(agg_phi_bins): \n",
    "    print('i= ', i)\n",
    "    for r in range(agg_r_bins):\n",
    "\n",
    "        if r != 0:\n",
    "            if shape[i,r] == 'p': \n",
    "                plt.bar([i]*len(r_bins), all_r_bins[i,r], bottom= all_r_bins[i,r-1],  color=cmap(norm(variable[i,r])),edgecolor='k')\n",
    "            else:\n",
    "                 plt.bar([i]*len(r_bins), all_r_bins[i,r], bottom= all_r_bins[i,r-1],  color=cmap(norm(variable[i,r])),edgecolor='k')\n",
    "        else:\n",
    "            if shape[i,r] == 'p':\n",
    "                plt.bar([i]*len(r_bins), all_r_bins[i,r], color=cmap(norm(variable[i,r])), edgecolor='k')\n",
    "            else:\n",
    "                plt.bar([i]*len(r_bins), all_r_bins[i,r], color=cmap(norm(variable[i,r])), edgecolor='k')\n",
    "                \n",
    "    \n",
    "plt.yscale('log')\n",
    "plt.xticks(np.arange(len(phi_bin_labs)), phi_bin_labs, rotation=90, ha=\"center\",fontsize=16,family='serif')\n",
    "plt.ylabel(\"Aggregate Radius Bins\",fontsize=16,family='serif')\n",
    "plt.xlabel(\"Aggregate Aspect Ratio ($\\phi$) Bins\",fontsize=16,family='serif')  \n",
    "cb = plt.cm.ScalarMappable(norm=norm, cmap=cmap)\n",
    "cbar = plt.colorbar(cb, format='%d')\n",
    "cbar.ax.set_ylabel('Average # of Monomers per Bin', fontsize=16, family='serif')\n",
    "#plt.title('Quasi-Horizontal Orientation',fontsize=16, family='serif')\n",
    "plt.title('Flat Orientation',fontsize=16, family='serif')\n",
    "plt.tight_layout()\n",
    "#plt.savefig('bins_rand_meanmono_r_5000rad_logy.pdf')\n"
   ]
  },
  {
   "cell_type": "code",
   "execution_count": null,
   "metadata": {},
   "outputs": [],
   "source": [
    "f = open('pulled_clusters_aggagg_flat', 'rb')\n",
    "clus = pickle.load(f)\n",
    "f.close()"
   ]
  },
  {
   "cell_type": "code",
   "execution_count": null,
   "metadata": {},
   "outputs": [],
   "source": [
    "f = open('../instance_files/pulled_clusters_aggagg_flat', 'rb')\n",
    "clusters = pickle.load(f)\n",
    "f.close()\n"
   ]
  }
 ],
 "metadata": {
  "anaconda-cloud": {},
  "kernelspec": {
   "display_name": "IPAS",
   "language": "python",
   "name": "ipas"
  },
  "language_info": {
   "codemirror_mode": {
    "name": "ipython",
    "version": 3
   },
   "file_extension": ".py",
   "mimetype": "text/x-python",
   "name": "python",
   "nbconvert_exporter": "python",
   "pygments_lexer": "ipython3",
   "version": "3.7.9"
  }
 },
 "nbformat": 4,
 "nbformat_minor": 4
}
