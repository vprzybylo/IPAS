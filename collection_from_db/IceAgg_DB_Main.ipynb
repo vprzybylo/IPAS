{
 "cells": [
  {
   "cell_type": "code",
   "execution_count": null,
   "metadata": {},
   "outputs": [],
   "source": [
    "%load_ext autoreload\n",
    "%autoreload 2\n",
    "%matplotlib inline"
   ]
  },
  {
   "cell_type": "code",
   "execution_count": null,
   "metadata": {},
   "outputs": [],
   "source": [
    "import sys\n",
    "sys.path.append(\"/network/rit/lab/sulialab/share/IPAS_3radii/\")\n",
    "import scripts.database as database\n",
    "import ipas\n",
    "import numpy as np\n",
    "import dask\n",
    "import pandas as pd\n",
    "import random\n",
    "from dask_jobqueue import SLURMCluster\n",
    "from dask.distributed import Client\n",
    "from dask import delayed\n",
    "import glob"
   ]
  },
  {
   "cell_type": "code",
   "execution_count": null,
   "metadata": {
    "jupyter": {
     "outputs_hidden": true
    }
   },
   "outputs": [],
   "source": [
    "cluster = SLURMCluster(\n",
    "    queue='kratos',\n",
    "    walltime='04-23:00:00',\n",
    "    cores=1,\n",
    "    memory='1000MiB', #1 GiB = 1,024 MiB\n",
    "    processes=1)\n",
    "\n",
    "#cluster.adapt(minimum=3, maximum=20)\n",
    "cluster.scale(2)"
   ]
  },
  {
   "cell_type": "code",
   "execution_count": null,
   "metadata": {},
   "outputs": [],
   "source": [
    "client = Client(cluster)"
   ]
  },
  {
   "cell_type": "code",
   "execution_count": null,
   "metadata": {},
   "outputs": [],
   "source": [
    "client.retire_workers()"
   ]
  },
  {
   "cell_type": "code",
   "execution_count": null,
   "metadata": {},
   "outputs": [],
   "source": [
    "client"
   ]
  },
  {
   "cell_type": "markdown",
   "metadata": {},
   "source": [
    "## read databases"
   ]
  },
  {
   "cell_type": "code",
   "execution_count": null,
   "metadata": {},
   "outputs": [],
   "source": [
    "orientation = 'rand'  # chose which orientation (rand or flat)\n",
    "if orientation == 'rand':\n",
    "    files = glob.glob(\"/network/rit/lab/sulialab/share/IPAS_3radii/instance_files/createdb_iceagg_rand*\")\n",
    "    # randomly orient the seed crystal and new crystal: uses first random orientation\n",
    "    rand_orient = True  \n",
    "else:\n",
    "    files = glob.glob(\"/network/rit/lab/sulialab/share/IPAS_3radii/instance_files/createdb_iceagg_flat*\")\n",
    "    # randomly orient the seed crystal and new crystal: uses first random orientation\n",
    "    rand_orient = False     "
   ]
  },
  {
   "cell_type": "code",
   "execution_count": null,
   "metadata": {},
   "outputs": [],
   "source": [
    "db = database.Database(files)\n",
    "db.read_database()\n",
    "db.append_shape()\n",
    "db.truncate_agg_r(5000)\n",
    "db.append_agg_phi()\n",
    "df = db.df  # get the dataframe (db is an instance of database.py module)"
   ]
  },
  {
   "cell_type": "markdown",
   "metadata": {},
   "source": [
    "# MAIN"
   ]
  },
  {
   "cell_type": "code",
   "execution_count": null,
   "metadata": {},
   "outputs": [],
   "source": [
    "# bounds for the monomer aspect ratio to be pulled from distribution\n",
    "# factor of 10 = +/-10* aspect ratio of monomer in aggs\n",
    "phi_factor=10\n",
    "r_factor=2\n",
    "phi_range = np.logspace(np.log(1.0/phi_factor)/np.log(10),\n",
    "                                        np.log(1.0*phi_factor)/np.log(10), 20)\n",
    "r_range = np.logspace(np.log(100/r_factor)/np.log(10),\\\n",
    "                                      np.log(100*r_factor)/np.log(10),20)\n",
    "print(phi_range)\n",
    "print(r_range)\n",
    "\n",
    "#number of bins to split database into\n",
    "agg_phi_bins = 20\n",
    "agg_r_bins = 20\n",
    "\n",
    "# number of aggregates to create per bin\n",
    "nclusters = 3"
   ]
  },
  {
   "cell_type": "code",
   "execution_count": null,
   "metadata": {},
   "outputs": [],
   "source": [
    "def main():\n",
    "    output = np.empty((agg_phi_bins,agg_r_bins),dtype=object)\n",
    "    hold_clusters  = np.empty((agg_phi_bins,agg_r_bins,nclusters), dtype=object)\n",
    "    a  = np.empty((agg_phi_bins,agg_r_bins,nclusters), dtype=object)\n",
    "    c = np.empty((agg_phi_bins,agg_r_bins,nclusters), dtype=object)\n",
    "\n",
    "    res, phi_bins = pd.qcut(df.agg_phi, agg_phi_bins, retbins=True)\n",
    "\n",
    "    for i in range(0,agg_phi_bins,2):\n",
    "        print('agg phi range: ', phi_bins[i], phi_bins[i+1])\n",
    "        #return a df that only queries within an aspect ratio bin\n",
    "        df_phi = df[(df.agg_phi > phi_bins[i]) & (df.agg_phi < phi_bins[i+1])]  \n",
    "        #to ensure at least 2 crystals within agg since ncrystals=1 not in db\n",
    "        #now break that aspect ratio bin into 20 equal r bins\n",
    "\n",
    "        res, r_bins = pd.qcut(df_phi.agg_r, agg_r_bins, retbins=True)\n",
    "        for r in range(1): #agg r\n",
    "\n",
    "            #print('r = ', r_bins[r], r_bins[r+1])\n",
    "            df_r = df_phi[(df_phi.agg_r > r_bins[r]) & (df_phi.agg_r < r_bins[r+1])]\n",
    "            #print(df_r.count())\n",
    "            #plt.hist(df_r.mono_phi)\n",
    "            #plt.xscale('log')\n",
    "            #plt.show()\n",
    "\n",
    "            samples = df_r.sample(nclusters)\n",
    "            for n, agg in enumerate(samples.itertuples()):\n",
    "                print('agg mono phi', agg.mono_phi)\n",
    "                phi_range = np.logspace(np.log(agg.mono_phi/phi_factor)/np.log(10),\n",
    "                                        np.log(agg.mono_phi*phi_factor)/np.log(10), 20)\n",
    "                mono_phi = random.choice(phi_range)\n",
    "                mono_phi = 0.01 if mono_phi < 0.01 else mono_phi\n",
    "                mono_phi = 70 if mono_phi > 70 else mono_phi\n",
    "\n",
    "                r_range = np.logspace(np.log(agg.mono_r/r_factor)/np.log(10),\\\n",
    "                                      np.log(agg.mono_r*r_factor)/np.log(10),20)\n",
    "                mono_r = random.choice(r_range)\n",
    "                mono_r = 1000 if mono_r>1000 else mono_r\n",
    "                mono_r = 1 if mono_r<1 else mono_r\n",
    "\n",
    "                a[i,r,n] = (mono_r ** 3 / mono_phi) ** (1. / 3.)\n",
    "                c[i,r,n] = mono_phi * a[i,r,n]\n",
    "#               print('phi range', agg.mono_phi, phi_range[0], phi_range[-1], phi_range)\n",
    "#               print('r range: ', agg.mono_r, r_range[0], r_range[-1], r_range)\n",
    "\n",
    "                hold_clusters[i,r,n] = ipas.ClusterCalculations(agg)\n",
    "\n",
    "\n",
    "            ipas.collect_clusters_ice_agg(a[i,r,:], c[i,r,:], hold_clusters[i,r,:], rand_orient=rand_orient)\n",
    "            #output[i,r] = dask.delayed(ipas.collect_clusters_ice_agg)(a[i,r,:], c[i,r,:],\n",
    "            #                                                     hold_clusters[i,r,:], rand_orient=rand_orient)\n",
    "\n",
    "    return output, hold_clusters"
   ]
  },
  {
   "cell_type": "code",
   "execution_count": null,
   "metadata": {},
   "outputs": [],
   "source": [
    "def compute():\n",
    "    agg_as = np.empty((agg_phi_bins, agg_r_bins, nclusters))\n",
    "    agg_bs = np.empty((agg_phi_bins, agg_r_bins, nclusters))\n",
    "    rzs = np.empty((agg_phi_bins, agg_r_bins, nclusters))\n",
    "    phi2Ds = np.empty((agg_phi_bins, agg_r_bins, nclusters))\n",
    "    cplxs = np.empty((agg_phi_bins, agg_r_bins, nclusters))\n",
    "    dds = np.empty((agg_phi_bins, agg_r_bins, nclusters))\n",
    "\n",
    "    gather = client.compute([*output.tolist()]) \n",
    "    gather = client.gather(gather)\n",
    "    gather = np.array(gather)\n",
    "    print(np.shape(gather))\n",
    "    agg_as = gather[:,:,0,:]\n",
    "    agg_bs = gather[:,:,1,:]\n",
    "    agg_cs = gather[:,:,2,:]\n",
    "    phi2Ds = gather[:,:,3,:]\n",
    "    cplxs = gather[:,:,4,:] \n",
    "    dds = gather[:,:,5,:]\n",
    "\n",
    "    print('DONE!')\n",
    "    return agg_as, agg_bs, agg_cs, phi2Ds, cplxs, dds"
   ]
  },
  {
   "cell_type": "code",
   "execution_count": null,
   "metadata": {},
   "outputs": [],
   "source": [
    "if __name__ == '__main__':\n",
    "\n",
    "    output, hold_clusters = main()\n",
    "    agg_as, agg_bs, agg_cs, phi2Ds, cplxs, dds= compute()\n",
    "    results = {'agg_as': agg_as, 'agg_bs':agg_bs, 'agg_cs':agg_cs, 'phi2Ds':phi2Ds, \\\n",
    "               'cplxs':cplxs, 'dds':dds}\n"
   ]
  },
  {
   "cell_type": "code",
   "execution_count": null,
   "metadata": {},
   "outputs": [],
   "source": [
    "# pickle data to files\n",
    "filename = '../instance_files/pulled_clusters_iceagg_rand'\n",
    "filehandler = open(filename, 'wb')\n",
    "to_file = np.append(hold_clusters)\n",
    "pickle.dump(to_file, filehandler)\n",
    "filehandler.close()\n",
    "print('finished!')\n",
    "\n",
    "filename = '../instance_files/instance_db_iceagg_rand'\n",
    "filehandler = open(filename, 'wb')\n",
    "pickle.dump(results, filehandler)\n",
    "filehandler.close()\n",
    "print('finished!')"
   ]
  }
 ],
 "metadata": {
  "anaconda-cloud": {},
  "kernelspec": {
   "display_name": "IPAS",
   "language": "python",
   "name": "ipas"
  },
  "language_info": {
   "codemirror_mode": {
    "name": "ipython",
    "version": 3
   },
   "file_extension": ".py",
   "mimetype": "text/x-python",
   "name": "python",
   "nbconvert_exporter": "python",
   "pygments_lexer": "ipython3",
   "version": "3.7.9"
  }
 },
 "nbformat": 4,
 "nbformat_minor": 4
}
