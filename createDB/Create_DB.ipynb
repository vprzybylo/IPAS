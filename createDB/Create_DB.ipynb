{
 "cells": [
  {
   "cell_type": "code",
   "execution_count": null,
   "metadata": {},
   "outputs": [],
   "source": [
    "%load_ext autoreload\n",
    "%autoreload 2"
   ]
  },
  {
   "cell_type": "code",
   "execution_count": null,
   "metadata": {},
   "outputs": [],
   "source": [
    "import ipas\n",
    "import matplotlib.pyplot as plt\n",
    "import numpy as np\n",
    "from functools import partial\n",
    "import time\n",
    "from dask_jobqueue import SLURMCluster\n",
    "from dask.distributed import Client, progress\n",
    "import dask\n",
    "from mpl_toolkits.mplot3d import Axes3D\n",
    "from shapely.ops import nearest_points\n",
    "from pyquaternion import Quaternion\n",
    "import copy as cp\n",
    "from scipy import spatial \n",
    "from shapely.geometry import Point\n",
    "from shapely.ops import nearest_points\n",
    "import pandas as pd\n",
    "from dask import dataframe as dd\n",
    "import pickle\n",
    "import hickle as hkl\n",
    "import struct\n",
    "from sqlalchemy import create_engine\n",
    "import sqlalchemy\n",
    "from collections import defaultdict  \n",
    "import os"
   ]
  },
  {
   "cell_type": "code",
   "execution_count": null,
   "metadata": {},
   "outputs": [],
   "source": [
    "cluster = SLURMCluster(\n",
    "queue='batch',\n",
    "walltime='04-23:00:00',\n",
    "cores=1,\n",
    "memory='20000MiB', #1 GiB = 1,024 MiB\n",
    "processes=1)\n",
    "\n",
    "cluster.scale(35)\n",
    "client = Client(cluster)"
   ]
  },
  {
   "cell_type": "code",
   "execution_count": null,
   "metadata": {},
   "outputs": [],
   "source": [
    "client"
   ]
  },
  {
   "cell_type": "code",
   "execution_count": null,
   "metadata": {},
   "outputs": [],
   "source": [
    "def main():\n",
    "\n",
    "    delayeds = []\n",
    "    for r in reqarr:\n",
    "        for phi in phioarr:\n",
    "            parallel_clus=partial(ipas.collect_clusters, phi, r, nclusters, ncrystals,rand_orient)\n",
    "            delayeds.append(dask.delayed(ipas.collect_clusters)(phi, r, nclusters, ncrystals,rand_orient))\n",
    "\n",
    "    delayeds = client.compute(delayeds)\n",
    "    output = client.gather(delayeds)\n",
    "    return output"
   ]
  },
  {
   "cell_type": "code",
   "execution_count": null,
   "metadata": {},
   "outputs": [],
   "source": [
    "if __name__ == '__main__':\n",
    "    phioarr=np.logspace(-2, 2, num=20, dtype=None)#just columns (0,2); plates (-2,0)\n",
    "\n",
    "    reqarr = [5,6,7,8,9]\n",
    "    nclusters = 300         #changes how many aggregates per aspect ratio to consider\n",
    "    ncrystals = 30\n",
    "    rand_orient = False    #randomly orient the seed crystal and new crystal: uses first random orientation\n",
    "  \n",
    "    output = main()\n"
   ]
  },
  {
   "cell_type": "code",
   "execution_count": null,
   "metadata": {},
   "outputs": [],
   "source": [
    "dd = defaultdict(list)\n",
    "for d in output:\n",
    "    for key, value in d.items():\n",
    "        for val in value:\n",
    "            dd[key].append(val)\n",
    "    "
   ]
  },
  {
   "cell_type": "code",
   "execution_count": null,
   "metadata": {},
   "outputs": [],
   "source": [
    "%%timeit \n",
    "hkl.dump(dd, '../instance_files/createdb_iceagg_flat_r5_9.hkl', mode='w')"
   ]
  },
  {
   "cell_type": "code",
   "execution_count": null,
   "metadata": {},
   "outputs": [],
   "source": [
    "%%timeit\n",
    "filename = '../instance_files/createdb_iceagg_flat_r5_9'\n",
    "filehandler = open(filename, 'wb')\n",
    "pickle.dump(dd, filehandler)\n",
    "filehandler.close()"
   ]
  },
  {
   "cell_type": "code",
   "execution_count": null,
   "metadata": {},
   "outputs": [],
   "source": [
    "# Dump to file\n",
    "hkl.dump(dd, '../instance_files/createdb_iceagg_rand_r80_400.hkl', mode='w')\n",
    "\n",
    "# Dump data, with compression\n",
    "hkl.dump(dd, '../instance_files/createdb_iceagg_rand_r80_400_gzip.hkl', mode='w', compression='gzip')\n",
    "\n",
    "# Compare filesizes\n",
    "print('uncompressed: %i bytes' % os.path.getsize('../instance_files/createdb_iceagg_rand_r80_400.hkl'))\n",
    "print('compressed:   %i bytes' % os.path.getsize('../instance_files/createdb_iceagg_rand_r80_400_gzip.hkl'))\n"
   ]
  },
  {
   "cell_type": "code",
   "execution_count": null,
   "metadata": {},
   "outputs": [],
   "source": [
    "with open('../instance_files/instance_iceice_flat_rall', \"ab\") as f:\n",
    "    for data in agg_as, agg_bs, agg_cs, phi2Ds, cplxs, dds:\n",
    "        pickle.dump(data, f)"
   ]
  },
  {
   "cell_type": "code",
   "execution_count": null,
   "metadata": {
    "jupyter": {
     "outputs_hidden": true
    }
   },
   "outputs": [],
   "source": [
    "aggregates = db[ \"aggregates\" ]\n",
    "result=aggregates.insert_many(split)"
   ]
  },
  {
   "cell_type": "code",
   "execution_count": null,
   "metadata": {},
   "outputs": [],
   "source": [
    "%%time \n",
    "engine = create_engine('sqlite:///../db_files_round2/createdb_iceagg_rand_r1_4.sqlite')#fast_executemany=True\n",
    "df = pd.DataFrame.from_dict(dd)\n",
    "df.to_sql('aggregates', con=engine, if_exists='replace', method='multi',\\\n",
    "          dtype={\"ncrytals\": sqlalchemy.types.INTEGER(),\n",
    "                      \"points\": sqlalchemy.types.PickleType,\n",
    "                      \"a\": sqlalchemy.types.Float(precision=6, asdecimal=True),\n",
    "                      \"b\": sqlalchemy.types.Float(precision=6, asdecimal=True),\n",
    "                      \"c\": sqlalchemy.types.Float(precision=6, asdecimal=True), \n",
    "                      \"cplx\": sqlalchemy.types.Float(precision=6, asdecimal=True),\n",
    "                      \"phi2D\": sqlalchemy.types.Float(precision=6, asdecimal=True),\n",
    "                      \"mono_phi\": sqlalchemy.types.Float(precision=6, asdecimal=True),\n",
    "                      \"mono_r\": sqlalchemy.types.INTEGER()})"
   ]
  }
 ],
 "metadata": {
  "anaconda-cloud": {},
  "kernelspec": {
   "display_name": "Python 3",
   "language": "python",
   "name": "python3"
  },
  "language_info": {
   "codemirror_mode": {
    "name": "ipython",
    "version": 3
   },
   "file_extension": ".py",
   "mimetype": "text/x-python",
   "name": "python",
   "nbconvert_exporter": "python",
   "pygments_lexer": "ipython3",
   "version": "3.6.7"
  },
  "pycharm": {
   "stem_cell": {
    "cell_type": "raw",
    "metadata": {
     "collapsed": false
    },
    "source": []
   }
  }
 },
 "nbformat": 4,
 "nbformat_minor": 4
}
