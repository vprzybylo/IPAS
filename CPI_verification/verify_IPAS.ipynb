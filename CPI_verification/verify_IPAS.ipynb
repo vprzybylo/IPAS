{
 "cells": [
  {
   "cell_type": "code",
   "execution_count": null,
   "metadata": {},
   "outputs": [],
   "source": [
    "%load_ext autoreload\n",
    "%autoreload 2\n",
    "import sys\n",
    "import pickle\n",
    "import numpy as np\n",
    "import pandas as pd\n",
    "import matplotlib.pyplot as plt\n",
    "import seaborn as sns\n",
    "import dask.array as da\n",
    "from dask import dataframe as dd\n",
    "import dask\n",
    "import glob\n",
    "from scipy import stats"
   ]
  },
  {
   "cell_type": "code",
   "execution_count": null,
   "metadata": {},
   "outputs": [],
   "source": [
    "#Dont run the next cell!"
   ]
  },
  {
   "cell_type": "code",
   "execution_count": null,
   "metadata": {
    "jupyter": {
     "outputs_hidden": true
    }
   },
   "outputs": [],
   "source": [
    "files = glob.glob('../instance_files/createdb_iceagg_rand*')\n",
    "for file in files:\n",
    "    print(file)\n",
    "    df = pd.read_pickle(file)\n",
    "    df = pd.DataFrame(df)\n",
    "    df[['ncrystals', 'a', 'b', 'c', 'cplx', 'phi2D', 'mono_phi',\n",
    "       'mono_r']].to_parquet('../instance_files/parquet_files/with_points/'+file.split('/')[-1],\\\n",
    "                                                              compression='gzip')\n",
    "    print('done transfering %s to parquet' %file)"
   ]
  },
  {
   "cell_type": "code",
   "execution_count": null,
   "metadata": {},
   "outputs": [],
   "source": [
    "%%time\n",
    "ddf = dd.read_parquet(\"../instance_files/parquet_files/*rand*\", engine=\"pyarrow\").compute()"
   ]
  },
  {
   "cell_type": "code",
   "execution_count": null,
   "metadata": {},
   "outputs": [],
   "source": [
    "%%time\n",
    "ddf = dd.read_parquet(\"../instance_files/parquet_files/*flat*\", engine=\"pyarrow\").compute()"
   ]
  },
  {
   "cell_type": "code",
   "execution_count": null,
   "metadata": {},
   "outputs": [],
   "source": [
    "ddf = pd.read_hdf('df_area_ratio_no_points.h5')"
   ]
  },
  {
   "cell_type": "code",
   "execution_count": null,
   "metadata": {},
   "outputs": [],
   "source": [
    "f = open('../instance_files/instance_db_aggagg_rand', 'rb')\n",
    "results = pickle.load(f)\n",
    "agg_as_aggagg_rand, agg_bs_aggagg_rand, agg_cs_aggagg_rand, phi2Ds_aggagg_rand, cplxs_aggagg_rand, dds_aggagg_rand= \\\n",
    "                results['agg_as'], results['agg_bs'], results['agg_cs'], results['phi2Ds'], results['cplxs'], results['dds']\n",
    "\n",
    "f.close()"
   ]
  },
  {
   "cell_type": "code",
   "execution_count": null,
   "metadata": {},
   "outputs": [],
   "source": [
    "print(np.shape(cplxs_aggagg_rand))\n"
   ]
  },
  {
   "cell_type": "code",
   "execution_count": null,
   "metadata": {},
   "outputs": [],
   "source": [
    "ddf['agg_phi'] = ddf['c']/ddf['a']\n",
    "ddf['agg_r'] = np.power((np.power(ddf['a'], 2) * ddf['c']), (1./3.))\n",
    "#ddf['agg_r'] = ddf['agg_r'][ddf.agg_r < 5000]\n",
    "ddf = ddf[ddf.agg_r < 5000]\n",
    "ddf.agg_phi.describe().round(2)"
   ]
  },
  {
   "cell_type": "code",
   "execution_count": null,
   "metadata": {},
   "outputs": [],
   "source": [
    "#truncall = ddf\n",
    "# trunc20 = ddf[(ddf['ncrystals'] <= 20)]\n",
    "# trunc10 = ddf[(ddf['ncrystals'] <= 10)]\n",
    "# trunc5 = ddf[(ddf['ncrystals'] <= 5)]\n",
    "truncall = ddf[(ddf['mono_phi'] <= 50) & (ddf['mono_phi'] >= 0.6)]\n",
    "trunc20 = ddf[(ddf['mono_phi'] <= 50) & (ddf['mono_phi'] >= 0.6) & (ddf['ncrystals'] <= 20)]\n",
    "trunc10 = ddf[(ddf['mono_phi'] <= 50) & (ddf['mono_phi'] >= 0.6) & (ddf['ncrystals'] <= 10)]\n",
    "trunc5 = ddf[(ddf['mono_phi'] <= 50) & (ddf['mono_phi'] >= 0.6) & (ddf['ncrystals'] <= 5)]\n",
    "trunc2 = ddf[(ddf['mono_phi'] <= 50) & (ddf['mono_phi'] >= 0.6) & (ddf['ncrystals'] <= 2)]"
   ]
  },
  {
   "cell_type": "code",
   "execution_count": null,
   "metadata": {},
   "outputs": [],
   "source": [
    "#read in CPI data \n",
    "#all campaings in one file\n",
    "df_CPI = pd.read_csv('all_campaigns.csv')\n",
    "#only use aggregates\n",
    "df_CPI = df_CPI[(df_CPI['classification'] == 'agg')]"
   ]
  },
  {
   "cell_type": "code",
   "execution_count": null,
   "metadata": {},
   "outputs": [],
   "source": [
    "df_CPI['IPAS_ellipse'].min()"
   ]
  },
  {
   "cell_type": "code",
   "execution_count": null,
   "metadata": {},
   "outputs": [],
   "source": [
    "#gather columns that are the same as IPAS dataframe to merge\n",
    "CPI =  df_CPI[['IPAS_ellipse','filled_circular_area_ratio', 'complexity']]\n",
    "CPI.rename(columns={'IPAS_ellipse':'Aspect Ratio' ,\"filled_circular_area_ratio\": \"Area Ratio\", 'complexity':'Complexity'}, inplace=True)\n",
    "ddf.rename(columns={\"area ratio\": \"Area Ratio\", 'cplx':'Complexity', 'phi2D': 'Aspect Ratio'}, inplace=True)\n"
   ]
  },
  {
   "cell_type": "code",
   "execution_count": null,
   "metadata": {},
   "outputs": [],
   "source": [
    "#combine CPI and IPAS data to plot\n",
    "cdf = pd.concat([CPI, ddf[['Complexity', 'Aspect Ratio', 'Area Ratio']]], keys=['CPI', 'IPAS'], names=[\"Source\"]).reset_index().drop(columns='level_1')"
   ]
  },
  {
   "cell_type": "code",
   "execution_count": null,
   "metadata": {},
   "outputs": [],
   "source": [
    "#for plotting. need a source column for hue argument in seaborn\n",
    "cdf = pd.melt(cdf,id_vars=['Source'],value_vars=['Complexity', 'Aspect Ratio', 'Area Ratio'],\n",
    "             value_name='Value')"
   ]
  },
  {
   "cell_type": "code",
   "execution_count": null,
   "metadata": {},
   "outputs": [],
   "source": [
    "df_nonan = df_CPI[df_CPI['IPAS_ellipse'].notnull()]"
   ]
  },
  {
   "cell_type": "code",
   "execution_count": null,
   "metadata": {},
   "outputs": [],
   "source": [
    "#bins, edges = np.histogram(np.isfinite(truncall['phi2D']), density=True, bins = 70)\n",
    "n, bins, patchs = plt.hist(truncall['phi2D'][np.isfinite(truncall['phi2D'])], density=True, bins = 70);"
   ]
  },
  {
   "cell_type": "code",
   "execution_count": null,
   "metadata": {},
   "outputs": [],
   "source": [
    "n, bins, patchs = plt.hist(truncall['area ratio'][np.isfinite(truncall['area ratio'])], density=True, bins = 70);"
   ]
  },
  {
   "cell_type": "code",
   "execution_count": null,
   "metadata": {},
   "outputs": [],
   "source": [
    "n, bins, patchs = plt.hist(CPI['Area Ratio'], density=True, bins = 70);\n",
    "plt.axvline(x=0.44, color='magenta', label='RMSE 1')"
   ]
  },
  {
   "cell_type": "code",
   "execution_count": null,
   "metadata": {},
   "outputs": [],
   "source": [
    "len(cplxs_aggagg_rand[:,:,:].flatten())"
   ]
  },
  {
   "cell_type": "code",
   "execution_count": null,
   "metadata": {},
   "outputs": [],
   "source": [
    "xlarge=24; large = 20; med = 16; small = 14\n",
    "params = {'axes.titlesize': xlarge,\n",
    "          'legend.fontsize': small,\n",
    "          'figure.figsize': (7,7),\n",
    "          'axes.labelsize': med,\n",
    "          'xtick.labelsize': med,\n",
    "          'ytick.labelsize': med,\n",
    "          'figure.titlesize': large,\n",
    "          \"font.family\": \"serif\"}\n",
    "import matplotlib as mpl  \n",
    "mpl.rc('font',family='serif')\n",
    "plt.rcParams.update(params)"
   ]
  },
  {
   "cell_type": "code",
   "execution_count": null,
   "metadata": {},
   "outputs": [],
   "source": [
    "stats.mode(df_nonan['IPAS_ellipse'])"
   ]
  },
  {
   "cell_type": "code",
   "execution_count": null,
   "metadata": {},
   "outputs": [],
   "source": [
    "stats.mode(trunc5['cplx'])"
   ]
  },
  {
   "cell_type": "code",
   "execution_count": null,
   "metadata": {},
   "outputs": [],
   "source": []
  },
  {
   "cell_type": "code",
   "execution_count": null,
   "metadata": {},
   "outputs": [],
   "source": [
    "#fig, ax = plt.subplots()\n",
    "f, ((ax1, ax2), (ax3, ax4)) = plt.subplots(2, 2, figsize=(16,12))\n",
    "sns.set_style(\"white\")\n",
    "\n",
    "g=sns.distplot(df_nonan['IPAS_ellipse'], hist = False, kde = True, norm_hist=True,\n",
    "             kde_kws = {'linewidth': 3,'color':'#FA2400'}, label='CPI aggregates',ax=ax2)\n",
    "\n",
    "# sns.distplot(df_nonan['phi_ellipse'], hist = False, kde = True, norm_hist=True,\n",
    "#              kde_kws = {'linewidth': 3,'color':'red'}, label='CPI (opencv ellipse)')\n",
    "\n",
    "g=sns.distplot(truncall['phi2D'], hist = False, kde = True, norm_hist=True,\n",
    "             kde_kws = {'linewidth': 3,'color':'lightskyblue'}, label='IPAS $\\phi_{2D}$ $n_m$ $\\leq$ 30',ax=ax2)\n",
    "\n",
    "g=sns.distplot(trunc20['phi2D'], hist = False, kde = True, norm_hist=True,\n",
    "             kde_kws = {'linewidth': 3, 'linestyle':'--','color':'lightskyblue'}, label='IPAS $\\phi_{2D}$ $n_m$ $\\leq$ 20',ax=ax2)\n",
    "\n",
    "g=sns.distplot(trunc10['phi2D'], hist = False, kde = True, norm_hist=True,\n",
    "             kde_kws = {'linewidth': 3, 'linestyle':'-.','color':'lightskyblue'}, label='IPAS $\\phi_{2D}$ $n_m$ $\\leq$ 10',ax=ax2)\n",
    "\n",
    "#g=sns.distplot(trunc5['phi2D'], hist = False, kde = True, norm_hist=True,\n",
    "#             kde_kws = {'linewidth': 3, 'linestyle':':','color':'lightskyblue'}, label='IPAS $\\phi_{2D}$ $n_m$ < 5',ax=ax2)\n",
    "\n",
    "g=sns.distplot(truncall['agg_phi'], hist = False, kde = True, norm_hist=True,\n",
    "             kde_kws = {'linewidth': 3,'color':'#0B1CE0'}, label='IPAS $\\phi_{ca}$ $n_m$ $\\leq$ 30',ax=ax2)\n",
    "\n",
    "g=sns.distplot(trunc20['agg_phi'], hist = False, kde = True, norm_hist=True,\n",
    "             kde_kws = {'linewidth': 3, 'linestyle':'--','color':'#0B1CE0'}, label='IPAS $\\phi_{ca}$ $n_m$ $\\leq$ 20',ax=ax2)\n",
    "\n",
    "g=sns.distplot(trunc10['agg_phi'], hist = False, kde = True, norm_hist=True,\n",
    "             kde_kws = {'linewidth': 3, 'linestyle':'-.','color':'#0B1CE0'}, label='IPAS $\\phi_{ca}$ $n_m$ $\\leq$ 10',ax=ax2)\n",
    "\n",
    "#g=sns.distplot(trunc5['agg_phi'], hist = False, kde = True, norm_hist=True,\n",
    "#             kde_kws = {'linewidth': 3, 'linestyle':':','color':'#0B1CE0'}, label='IPAS $\\phi_{ca}$ $n_m$ < 5',ax=ax2)\n",
    "ax2.set_xlabel(\"Aspect Ratio\",fontsize=18)\n",
    "ax2.set_ylabel(\"Frequency\",fontsize=18)\n",
    "ax2.set_ylim(0, 5)\n",
    "ax2.set_xlim(0.0, 1.0)\n",
    "ax2.legend(loc='upper center', ncol=2)\n",
    "\n",
    "sns.distplot(df_CPI['complexity'], hist = False, kde = True, norm_hist=True,\n",
    "             kde_kws = {'linewidth': 3, 'color':'red'}, label='CPI aggregates', ax=ax1)\n",
    "sns.distplot(truncall['cplx'], hist = False, kde = True, norm_hist=True,\n",
    "             kde_kws = {'linewidth': 3, 'color':'#0B1CE0'}, label='IPAS $n_m$ $\\leq$ 30', ax=ax1)\n",
    "sns.distplot(trunc20['cplx'], hist = False, kde = True, norm_hist=True,\n",
    "             kde_kws = {'linewidth': 3, 'linestyle':'--', 'color':'#0B1CE0'}, label='IPAS $n_m$ $\\leq$ 20', ax=ax1)\n",
    "sns.distplot(trunc10['cplx'], hist = False, kde = True, norm_hist=True,\n",
    "             kde_kws = {'linewidth': 3, 'linestyle':'-.', 'color':'#0B1CE0'}, label='IPAS $n_m$ $\\leq$ 10', ax=ax1)\n",
    "# sns.distplot(cplxs_aggagg_rand[:,:,:].flatten(), hist = False, kde = True, norm_hist=True,\n",
    "#              kde_kws = {'linewidth': 3, 'linestyle':'-.','color':'#0B1CE0'}, label='IPAS agg-agg', ax=ax1)\n",
    "\n",
    "sns.distplot(trunc5['cplx'], hist = False, kde = True, norm_hist=True,\n",
    "            kde_kws = {'linewidth': 3, 'linestyle':':', 'color':'#0B1CE0'}, label='IPAS $n_m$ < 5', ax=ax1)\n",
    "\n",
    "ax1.set_xlabel(\"Complexity\",fontsize=18)\n",
    "ax1.set_ylabel(\"Frequency\",fontsize=18)\n",
    "ax1.set_xlim(0.0, 1.0)\n",
    "ax1.set_ylim(0, 5)\n",
    "ax1.legend()\n",
    "\n",
    "sns.distplot(df_CPI['filled_circular_area_ratio'], hist = False, kde = True, norm_hist=True,\n",
    "             kde_kws = {'linewidth': 3, 'color':'red'}, label='CPI aggregates', ax=ax3)\n",
    "sns.distplot(truncall['area ratio'], hist = False, kde = True, norm_hist=True,\n",
    "             kde_kws = {'linewidth': 3, 'color':'#0B1CE0'}, label='IPAS $n_m$ $\\leq$ 30', ax=ax3)\n",
    "sns.distplot(trunc20['area ratio'], hist = False, kde = True, norm_hist=True,\n",
    "             kde_kws = {'linewidth': 3, 'linestyle':'--', 'color':'#0B1CE0'}, label='IPAS $n_m$ $\\leq$ 20', ax=ax3)\n",
    "sns.distplot(trunc10['area ratio'], hist = False, kde = True, norm_hist=True,\n",
    "             kde_kws = {'linewidth': 3, 'linestyle':'-.', 'color':'#0B1CE0'}, label='IPAS $n_m$ $\\leq$ 10', ax=ax3)\n",
    "\n",
    "ax3.set_xlabel(\"Area Ratio\",fontsize=18)\n",
    "ax3.set_ylabel(\"Frequency\",fontsize=18)\n",
    "ax3.set_xlim(0.0, 1.0)\n",
    "ax3.set_ylim(0, 5)\n",
    "ax3.legend()\n",
    "\n",
    "ax4 = sns.boxplot(x=\"variable\", y=\"Value\", hue=\"Source\", data=cdf, palette={'CPI': 'red', 'IPAS':'#0B1CE0'}, showfliers=False, ax=ax4)\n",
    "\n",
    "for i in range(0,6,2):\n",
    "    cpi_color = ax4.artists[i]\n",
    "    cpi_color.set_facecolor('red')\n",
    "for i in range(1,6,2):\n",
    "    ipas_color = ax4.artists[i]\n",
    "    ipas_color.set_facecolor('#0B1CE0')\n",
    "ax4.set_xlabel(\"Bulk Statistics\",fontsize=18)\n",
    "#ax4.legend()\n",
    "\n",
    "plt.savefig('../plots/CPI_IPAS_distributions.png', dpi=300, bbox_inches='tight')"
   ]
  },
  {
   "cell_type": "code",
   "execution_count": null,
   "metadata": {},
   "outputs": [],
   "source": [
    "st.mode(truncall['area ratio']),st.mode(truncall['area ratio'])"
   ]
  },
  {
   "cell_type": "code",
   "execution_count": null,
   "metadata": {},
   "outputs": [],
   "source": [
    "bins, edges = np.histogram(trunc5['cplx'], density=True, bins=70)\n",
    "edges[np.where(bins == np.max(bins))]"
   ]
  },
  {
   "cell_type": "markdown",
   "metadata": {},
   "source": [
    "CPI aggregates a little less complex "
   ]
  },
  {
   "cell_type": "markdown",
   "metadata": {},
   "source": [
    "CPI data looks more quasi-spherical in terms of aspect ratios: add in other particle types, not just aggs"
   ]
  },
  {
   "cell_type": "markdown",
   "metadata": {},
   "source": [
    "# All CPI particle types"
   ]
  },
  {
   "cell_type": "code",
   "execution_count": null,
   "metadata": {},
   "outputs": [],
   "source": [
    "#read in CPI data \n",
    "#all campaings in one file\n",
    "df_CPI = pd.read_csv('final_databases/no_mask/all_campaigns.csv')\n",
    "df_CPI = df_CPI[df_CPI['classification'] != 'blank']"
   ]
  },
  {
   "cell_type": "code",
   "execution_count": null,
   "metadata": {},
   "outputs": [],
   "source": [
    "len(df_CPI), len(ddf), len(phi2D.flatten())"
   ]
  },
  {
   "cell_type": "code",
   "execution_count": null,
   "metadata": {},
   "outputs": [],
   "source": [
    "#phi2D and phi2Ds from 0.25-10.0, 30 monomers, r_m = 10\n",
    "#agg_phi, 3D from database from 0.25-10.0, 30 monomers, all r_m\n",
    "fig, ax = plt.subplots(figsize=(7,5))\n",
    "\n",
    "sns.distplot(phi2D[1:-1,:,:,:].flatten(), hist = False, kde = True, norm_hist=True,\n",
    "             kde_kws = {'linewidth': 3}, label='IPAS 2D')\n",
    "sns.distplot(phi2Ds[1:-1,:,:,:].flatten(), hist = False, kde = True, norm_hist=True,\n",
    "             kde_kws = {'linewidth': 3, 'linestyle': '--', 'color': 'lightblue'}, label='IPAS mean 2D')\n",
    "sns.distplot(ddf['agg_phi'][(ddf['mono_phi'] <= 10.0) & (ddf['mono_phi'] >= 0.25)], hist = False, kde = True, norm_hist=True,\n",
    "             kde_kws = {'linewidth': 3, 'color': 'orange'}, label='IPAS 3D')\n",
    "sns.distplot(df_CPI['phi_ellipse'], hist = False, kde = True, norm_hist=True,\n",
    "             kde_kws = {'linewidth': 3, 'color':'red'}, label='CPI')\n",
    "ax.set(xlabel='Aspect Ratio', ylabel='Frequency');"
   ]
  },
  {
   "cell_type": "code",
   "execution_count": null,
   "metadata": {},
   "outputs": [],
   "source": [
    "n, bins, patches = plt.hist(df_CPI['complexity'], bins = 40)\n",
    "bins[np.where(n == n.max())]  #max CPI aspect ratio from ellipse (not averaged)"
   ]
  },
  {
   "cell_type": "code",
   "execution_count": null,
   "metadata": {},
   "outputs": [],
   "source": [
    "#mode of complexity histogram only dropped by 0.035 including all particle types"
   ]
  },
  {
   "cell_type": "code",
   "execution_count": null,
   "metadata": {},
   "outputs": [],
   "source": [
    "#play around with specific particle types\n",
    "df_CPI['classification'].unique()"
   ]
  },
  {
   "cell_type": "code",
   "execution_count": null,
   "metadata": {},
   "outputs": [],
   "source": [
    "df_CPI = pd.read_csv('final_databases/no_mask/all_campaigns.csv')\n",
    "df_CPI = df_CPI[(df_CPI['classification'] == 'agg') | \\\n",
    "               (df_CPI['classification'] == 'rimed agg') | \\\n",
    "               (df_CPI['classification'] == 'bullet') | \\\n",
    "               (df_CPI['classification'] == 'compact irregular')]"
   ]
  },
  {
   "cell_type": "code",
   "execution_count": null,
   "metadata": {},
   "outputs": [],
   "source": [
    "#phi2D and phi2Ds from 0.25-10.0, 30 monomers, r_m = 10\n",
    "#agg_phi, 3D from database from 0.25-10.0, 30 monomers, all r_m\n",
    "fig, ax = plt.subplots(figsize=(7,5))\n",
    "\n",
    "sns.distplot(phi2D[:,:,:,:].flatten(), hist = False, kde = True, norm_hist=True,\n",
    "             kde_kws = {'linewidth': 3}, label='IPAS 2D')\n",
    "sns.distplot(phi2Ds[:,:,:,:].flatten(), hist = False, kde = True, norm_hist=True,\n",
    "             kde_kws = {'linewidth': 3, 'linestyle': '--', 'color': 'lightblue'}, label='IPAS mean 2D')\n",
    "sns.distplot(ddf['agg_phi'][(ddf['mono_phi'] <= 10.0) & (ddf['mono_phi'] >= 0.25)], hist = False, kde = True, norm_hist=True,\n",
    "             kde_kws = {'linewidth': 3, 'color': 'orange'}, label='IPAS 3D')\n",
    "sns.distplot(df_CPI['phi_ellipse'], hist = False, kde = True, norm_hist=True,\n",
    "             kde_kws = {'linewidth': 3, 'color':'red'}, label='CPI')\n",
    "ax.set(xlabel='Aspect Ratio', ylabel='Frequency');"
   ]
  },
  {
   "cell_type": "code",
   "execution_count": null,
   "metadata": {},
   "outputs": [],
   "source": [
    "df_CPI = pd.read_csv('final_databases/no_mask/all_campaigns.csv')"
   ]
  },
  {
   "cell_type": "code",
   "execution_count": null,
   "metadata": {},
   "outputs": [],
   "source": [
    "df_CPI_bullet = df_CPI[(df_CPI['classification'] == 'bullet')]"
   ]
  },
  {
   "cell_type": "code",
   "execution_count": null,
   "metadata": {},
   "outputs": [],
   "source": [
    "df_CPI_plate = df_CPI[(df_CPI['classification'] == 'plate')]"
   ]
  },
  {
   "cell_type": "code",
   "execution_count": null,
   "metadata": {},
   "outputs": [],
   "source": [
    "df_CPI_agg = df_CPI[(df_CPI['classification'] == 'agg')]"
   ]
  },
  {
   "cell_type": "code",
   "execution_count": null,
   "metadata": {},
   "outputs": [],
   "source": [
    "df_CPI_rimed_agg = df_CPI[(df_CPI['classification'] == 'rimed agg')]"
   ]
  },
  {
   "cell_type": "code",
   "execution_count": null,
   "metadata": {},
   "outputs": [],
   "source": [
    "df_CPI_compact = df_CPI[(df_CPI['classification'] == 'compact irregular')]"
   ]
  },
  {
   "cell_type": "code",
   "execution_count": null,
   "metadata": {},
   "outputs": [],
   "source": [
    "df_CPI_rimed_col = df_CPI[(df_CPI['classification'] == 'rimed column')]"
   ]
  },
  {
   "cell_type": "code",
   "execution_count": null,
   "metadata": {},
   "outputs": [],
   "source": [
    "df_CPI_column = df_CPI[(df_CPI['classification'] == 'column') | (df_CPI['classification'] == 'needle')]"
   ]
  },
  {
   "cell_type": "code",
   "execution_count": null,
   "metadata": {},
   "outputs": [],
   "source": [
    "#phi2D and phi2Ds from 0.25-10.0, 30 monomers, r_m = 10\n",
    "#agg_phi, 3D from database from 0.25-10.0, 30 monomers, all r_m\n",
    "fig, ax = plt.subplots(figsize=(7,5))\n",
    "\n",
    "sns.distplot(phi2D[1:-1,:,:,:].flatten(), hist = False, kde = True, norm_hist=True,\n",
    "             kde_kws = {'linewidth': 3}, label='IPAS 2D')\n",
    "sns.distplot(phi2Ds[1:-1,:,:,:].flatten(), hist = False, kde = True, norm_hist=True,\n",
    "             kde_kws = {'linewidth': 3, 'linestyle': '--', 'color': 'lightblue'}, label='IPAS mean 2D')\n",
    "sns.distplot(ddf['agg_phi'][(ddf['mono_phi'] <= 10.0) & (ddf['mono_phi'] >= 0.25)], hist = False, kde = True, norm_hist=True,\n",
    "             kde_kws = {'linewidth': 3, 'color': 'orange'}, label='IPAS 3D')\n",
    "sns.distplot(df_CPI_rimed_agg['phi_ellipse'], hist = False, kde = True, norm_hist=True,\n",
    "             kde_kws = {'linewidth': 3, 'color':'red'}, label='CPI')\n",
    "ax.set(xlabel='Aspect Ratio', ylabel='Frequency');"
   ]
  },
  {
   "cell_type": "code",
   "execution_count": null,
   "metadata": {},
   "outputs": [],
   "source": [
    "fig, ax = plt.subplots(figsize=(7,5))\n",
    "sns.distplot(trunc['cplx'], hist = False, kde = True, norm_hist=True,\n",
    "             kde_kws = {'linewidth': 3}, label='IPAS')\n",
    "sns.distplot(df_CPI_rimed_col['complexity'], hist = False, kde = True, norm_hist=True,\n",
    "             kde_kws = {'linewidth': 3, 'color':'red'}, label='CPI')\n",
    "ax.set(xlabel='Complexity', ylabel='Frequency');"
   ]
  },
  {
   "cell_type": "code",
   "execution_count": null,
   "metadata": {},
   "outputs": [],
   "source": [
    "fig, ax = plt.subplots(figsize=(7,5))\n",
    "sns.distplot(trunc['cplx'], hist = False, kde = True, norm_hist=True,\n",
    "             kde_kws = {'linewidth': 3}, label='IPAS')\n",
    "sns.distplot(df_CPI_column['complexity'], hist = False, kde = True, norm_hist=True,\n",
    "             kde_kws = {'linewidth': 3, 'color':'red'}, label='CPI')\n",
    "ax.set(xlabel='Complexity', ylabel='Frequency');"
   ]
  },
  {
   "cell_type": "code",
   "execution_count": null,
   "metadata": {},
   "outputs": [],
   "source": [
    "#truncate # of monomers\n",
    "trunc = ddf[(ddf['mono_phi'] > 0.01) & (ddf['mono_phi'] < 50) & (ddf['ncrystals'] < 20)]"
   ]
  },
  {
   "cell_type": "code",
   "execution_count": null,
   "metadata": {},
   "outputs": [],
   "source": [
    "fig, ax = plt.subplots(figsize=(10,8))\n",
    "sns.distplot(df_CPI_agg['complexity'], hist = False, kde = True, norm_hist=True,\n",
    "             kde_kws = {'linewidth': 3}, label='aggregate')\n",
    "\n",
    "sns.distplot(df_CPI_bullet['complexity'], hist = False, kde = True, norm_hist=True,\n",
    "             kde_kws = {'linewidth': 3}, label='bullet rosette')\n",
    "\n",
    "sns.distplot(df_CPI_compact['complexity'], hist = False, kde = True, norm_hist=True,\n",
    "             kde_kws = {'linewidth': 3}, label='compact irregular')\n",
    "\n",
    "sns.distplot(df_CPI_column['complexity'], hist = False, kde = True, norm_hist=True,\n",
    "             kde_kws = {'linewidth': 3}, label='column')\n",
    "\n",
    "sns.distplot(df_CPI_plate['complexity'], hist = False, kde = True, norm_hist=True,\n",
    "             kde_kws = {'linewidth': 3}, label='plate')\n",
    "\n",
    "sns.distplot(df_CPI_rimed_agg['complexity'], hist = False, kde = True, norm_hist=True,\n",
    "             kde_kws = {'linewidth': 3}, label='rimed agg')\n",
    "\n",
    "sns.distplot(df_CPI_rimed_col['complexity'], hist = False, kde = True, norm_hist=True,\n",
    "             kde_kws = {'linewidth': 3}, label='rimed column')\n",
    "\n",
    "sns.distplot(trunc['cplx'], hist = False, kde = True, norm_hist=True,\n",
    "             kde_kws = {'linewidth': 3, 'linestyle': '--'}, label='IPAS $n_m$ < 20')\n",
    "\n",
    "\n",
    "ax.set(xlabel='Complexity', ylabel='Frequency');"
   ]
  },
  {
   "cell_type": "code",
   "execution_count": null,
   "metadata": {},
   "outputs": [],
   "source": [
    "fig, ax = plt.subplots(figsize=(10,8))\n",
    "sns.distplot(df_CPI_agg['phi_ellipse'], hist = False, kde = True, norm_hist=True,\n",
    "             kde_kws = {'linewidth': 3,'color':'red'}, label='aggregate')\n",
    "\n",
    "sns.distplot(phi2Ds[1:-1,:,:20].flatten(), hist = False, kde = True, norm_hist=True,\n",
    "             kde_kws = {'linewidth': 3, 'linestyle': '--','color':'blue'}, label='IPAS avg 2D $n_m$ < 20')\n",
    "\n",
    "sns.distplot(phi2Ds[1:-1,:,:10].flatten(), hist = False, kde = True, norm_hist=True,\n",
    "             kde_kws = {'linewidth': 3,'color':'blue'}, label='IPAS avg 2D $n_m$ < 10')\n",
    "\n",
    "sns.distplot(phi2D[1:-1,:,:20].flatten(), hist = False, kde = True, norm_hist=True,\n",
    "             kde_kws = {'linewidth': 3, 'linestyle': '--','color':'lightblue'}, label='IPAS 2D $n_m$ < 20')\n",
    "\n",
    "sns.distplot(trunc['phi2D'], hist = False, kde = True, norm_hist=True,\n",
    "             kde_kws = {'linewidth': 3,'color':'lightblue'}, label='IPAS db 2D $n_m$ < 20')\n",
    "#phi_m 0.01 and 50^\n",
    "sns.distplot(trunc['agg_phi'], hist = False, kde = True, norm_hist=True,\n",
    "             kde_kws = {'linewidth': 3, 'linestyle': '--','color':'orange'}, label='IPAS db 3D $n_m$ < 20')\n",
    "#phi_m 0.01 and 50^\n",
    "sns.distplot(ddf['agg_phi'], hist = False, kde = True, norm_hist=True,\n",
    "             kde_kws = {'linewidth': 3,'color':'orange'}, label='IPAS db 3D $n_m$ < 30')\n",
    "\n",
    "\n",
    "ax.set(xlabel='Aspect Ratio', ylabel='Frequency');"
   ]
  },
  {
   "cell_type": "code",
   "execution_count": null,
   "metadata": {},
   "outputs": [],
   "source": [
    "trunc = ddf[(ddf['mono_phi'] > 0.01) & (ddf['mono_phi'] < 50) & (ddf['ncrystals'] < 10)]"
   ]
  },
  {
   "cell_type": "code",
   "execution_count": null,
   "metadata": {},
   "outputs": [],
   "source": [
    "fig, ax = plt.subplots(figsize=(10,8))\n",
    "#trunc = ddf[(ddf['mono_phi'] > 0.01) & (ddf['mono_phi'] < 50) & (ddf['ncrystals'] < 30)]\n",
    "sns.distplot(df_CPI_bullet['phi_ellipse'], hist = False, kde = True, norm_hist=True,\n",
    "             kde_kws = {'linewidth': 3}, label='bullet rosette')\n",
    "\n",
    "sns.distplot(df_CPI_compact['phi_ellipse'], hist = False, kde = True, norm_hist=True,\n",
    "             kde_kws = {'linewidth': 3}, label='compact irregular')\n",
    "\n",
    "sns.distplot(df_CPI_column['phi_ellipse'], hist = False, kde = True, norm_hist=True,\n",
    "             kde_kws = {'linewidth': 3}, label='column')\n",
    "\n",
    "sns.distplot(df_CPI_plate['phi_ellipse'], hist = False, kde = True, norm_hist=True,\n",
    "             kde_kws = {'linewidth': 3}, label='plate')\n",
    "\n",
    "sns.distplot(df_CPI_rimed_agg['phi_ellipse'], hist = False, kde = True, norm_hist=True,\n",
    "             kde_kws = {'linewidth': 3}, label='rimed aggregate')\n",
    "\n",
    "sns.distplot(df_CPI_rimed_col['phi_ellipse'], hist = False, kde = True, norm_hist=True,\n",
    "             kde_kws = {'linewidth': 3}, label='rimed column')\n",
    "\n",
    "sns.distplot(ddf['agg_phi'], hist = False, kde = True, norm_hist=True,\n",
    "             kde_kws = {'linewidth': 3, 'linestyle': '--'}, label='IPAS 3D $n_m$ < 20')\n",
    "\n",
    "sns.distplot(ddf['phi2D'], hist = False, kde = True, norm_hist=True,\n",
    "             kde_kws = {'linewidth': 3, 'linestyle': '--'}, label='IPAS 2D $n_m$ < 20')\n"
   ]
  },
  {
   "cell_type": "code",
   "execution_count": null,
   "metadata": {},
   "outputs": [],
   "source": []
  }
 ],
 "metadata": {
  "kernelspec": {
   "display_name": "IPAS",
   "language": "python",
   "name": "ipas"
  },
  "language_info": {
   "codemirror_mode": {
    "name": "ipython",
    "version": 3
   },
   "file_extension": ".py",
   "mimetype": "text/x-python",
   "name": "python",
   "nbconvert_exporter": "python",
   "pygments_lexer": "ipython3",
   "version": "3.7.9"
  }
 },
 "nbformat": 4,
 "nbformat_minor": 4
}
