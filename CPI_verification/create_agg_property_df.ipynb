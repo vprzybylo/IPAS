{
 "cells": [
  {
   "cell_type": "code",
   "execution_count": null,
   "metadata": {},
   "outputs": [],
   "source": [
    "import numpy as np\n",
    "import pandas as pd\n",
    "import glob\n",
    "import seaborn as sns\n",
    "import pickle\n",
    "import matplotlib.pyplot as plt\n",
    "import agg_properties\n",
    "%load_ext autoreload\n",
    "%autoreload 2"
   ]
  },
  {
   "cell_type": "code",
   "execution_count": null,
   "metadata": {},
   "outputs": [],
   "source": [
    "def read(file):\n",
    "    df = pd.read_pickle(file)\n",
    "    df = pd.DataFrame(df)\n",
    "    print(file, \" loaded\")\n",
    "    return df\n",
    "\n",
    "def shape(a,b,c):\n",
    "    if (b-c) <= (a-b):\n",
    "        return 'prolate'\n",
    "    else:\n",
    "        return 'oblate'"
   ]
  },
  {
   "cell_type": "code",
   "execution_count": null,
   "metadata": {},
   "outputs": [],
   "source": [
    "%%time \n",
    "#read in database of aggs (all the same monomers)\n",
    "files = [f for f in glob.glob(\"../instance_files/createdb_iceagg_rand*\")]\n",
    "dfs = []\n",
    "for file in files:\n",
    "    print(file)\n",
    "    dfs.append(pd.read_pickle(file, None))\n",
    "dfs = [pd.DataFrame(i) for i in dfs]\n",
    "df = pd.concat(dfs, axis=0, ignore_index=True)"
   ]
  },
  {
   "cell_type": "code",
   "execution_count": null,
   "metadata": {},
   "outputs": [],
   "source": [
    "df['agg_r'] = np.power((np.power(df['a'], 2) * df['c']), (1./3.))\n",
    "df = df[df.agg_r < 5000]\n",
    "#speed up shape function \n",
    "vfunc = np.vectorize(shape)\n",
    "df['shape'] = vfunc(df['a'], df['b'], df['c'])\n",
    "df['agg_phi'] = df.c/df.a"
   ]
  },
  {
   "cell_type": "code",
   "execution_count": null,
   "metadata": {},
   "outputs": [],
   "source": [
    "df['agg_r'].describe().round(2)"
   ]
  },
  {
   "cell_type": "code",
   "execution_count": null,
   "metadata": {},
   "outputs": [],
   "source": [
    "%%time \n",
    "#creates instance of Agg property class for each row in database\n",
    "out = df.apply(lambda x: agg_properties.Agg(x).get_list(), axis=1) #returns dictionary of attributes"
   ]
  },
  {
   "cell_type": "code",
   "execution_count": null,
   "metadata": {},
   "outputs": [],
   "source": [
    "out"
   ]
  },
  {
   "cell_type": "code",
   "execution_count": null,
   "metadata": {},
   "outputs": [],
   "source": [
    "out1 = out.to_list() #convert dict to list"
   ]
  },
  {
   "cell_type": "code",
   "execution_count": null,
   "metadata": {},
   "outputs": [],
   "source": [
    "#convert dict of attributes for all rows of database to DataFrame\n",
    "df_att = pd.DataFrame(out1, columns=['area_ratio', 'convex_perim', 'circularity',\\\n",
    "                           'roundness', 'perim_area_ratio','convexity', 'complexity', 'hull_area', 'solidity', 'equiv_d'])\n"
   ]
  },
  {
   "cell_type": "code",
   "execution_count": null,
   "metadata": {},
   "outputs": [],
   "source": [
    "#save df of IPAS attributes\n",
    "df_att.to_hdf('df_rand_attributes_include_monomers.h5', key='df_rand', mode='w')"
   ]
  },
  {
   "cell_type": "markdown",
   "metadata": {},
   "source": [
    "# ANALYZE DATAFRAME OF IPAS ATTRIBUTES"
   ]
  },
  {
   "cell_type": "code",
   "execution_count": null,
   "metadata": {},
   "outputs": [],
   "source": [
    "#read in IPAS attribute dataframe\n",
    "df_att = pd.read_hdf('df_rand_attributes.h5')"
   ]
  },
  {
   "cell_type": "code",
   "execution_count": null,
   "metadata": {},
   "outputs": [],
   "source": [
    "df_att.info"
   ]
  },
  {
   "cell_type": "code",
   "execution_count": null,
   "metadata": {},
   "outputs": [],
   "source": [
    "#read in CPI data \n",
    "#all campaings in one file\n",
    "df_CPI = pd.read_csv('all_campaigns.csv')\n",
    "#only use aggregates\n",
    "df_CPI = df_CPI[(df_CPI['classification'] == 'agg')]"
   ]
  },
  {
   "cell_type": "code",
   "execution_count": null,
   "metadata": {},
   "outputs": [],
   "source": [
    "df_CPI.info"
   ]
  },
  {
   "cell_type": "code",
   "execution_count": null,
   "metadata": {
    "jupyter": {
     "outputs_hidden": true
    }
   },
   "outputs": [],
   "source": [
    "#gather columns that are the same as IPAS dataframe to merge\n",
    "df_CPI =  df_CPI[['filled_circular_area_ratio', 'complexity']]\n",
    "df_CPI.rename(columns={\"filled_circular_area_ratio\": \"area ratio\"}, inplace=True)"
   ]
  },
  {
   "cell_type": "code",
   "execution_count": null,
   "metadata": {},
   "outputs": [],
   "source": [
    "df_att.rename(columns={\"filled_circ_area_ratio\": \"area ratio\"}, inplace=True)"
   ]
  },
  {
   "cell_type": "code",
   "execution_count": null,
   "metadata": {},
   "outputs": [],
   "source": [
    "#combine CPI and IPAS data to plot\n",
    "cdf = pd.concat([df_CPI, df_att], keys=['CPI', 'IPAS'], names=[\"Source\"]).reset_index().drop(columns='level_1')\n",
    "cdf"
   ]
  },
  {
   "cell_type": "code",
   "execution_count": null,
   "metadata": {},
   "outputs": [],
   "source": [
    "xlarge=24; large = 20; med = 16; small = 14\n",
    "params = {'axes.titlesize': xlarge,\n",
    "          'legend.fontsize': small,\n",
    "          'figure.figsize': (7,7),\n",
    "          'axes.labelsize': med,\n",
    "          'xtick.labelsize': med,\n",
    "          'ytick.labelsize': med,\n",
    "          'figure.titlesize': large,\n",
    "          \"font.family\": \"serif\"}\n",
    "plt.rcParams.update(params)"
   ]
  },
  {
   "cell_type": "code",
   "execution_count": null,
   "metadata": {},
   "outputs": [],
   "source": [
    "from sklearn import preprocessing\n",
    "#normalize data\n",
    "source = pd.DataFrame(cdf['Source'])\n",
    "x = cdf.drop(columns=['Source']).values #returns a numpy array\n",
    "min_max_scaler = preprocessing.MinMaxScaler()\n",
    "x_scaled = min_max_scaler.fit_transform(x)\n",
    "norm = pd.DataFrame(x_scaled, columns=['area ratio', 'complexity', 'solidity'])"
   ]
  },
  {
   "cell_type": "code",
   "execution_count": null,
   "metadata": {
    "jupyter": {
     "outputs_hidden": true
    }
   },
   "outputs": [],
   "source": [
    "#for plotting. need a source column for hue argument in seaborn\n",
    "df = pd.melt(cdf,id_vars=['Source'],value_vars=['area ratio', 'complexity'],\n",
    "             value_name='value')\n",
    "df"
   ]
  },
  {
   "cell_type": "code",
   "execution_count": null,
   "metadata": {},
   "outputs": [],
   "source": [
    "fig, ax = plt.subplots(figsize=(13,7))\n",
    "sns.boxplot(x=\"variable\", y=\"Value\", hue=\"Source\", data=df, palette=\"Set1\")\n",
    "ax.set_xticklabels(ax.get_xticklabels(),rotation=90);"
   ]
  },
  {
   "cell_type": "code",
   "execution_count": null,
   "metadata": {},
   "outputs": [],
   "source": [
    "#not normalized\n",
    "fig, ax = plt.subplots(figsize=(7,7))\n",
    "sns.boxplot(x=\"variable\", y=\"value\", hue=\"Source\", data=df, palette=\"Set1\", showfliers=False)\n",
    "ax.set_xticklabels(ax.get_xticklabels(),rotation=90);\n",
    "ax.set_ylim(0.0, 1.1)"
   ]
  },
  {
   "cell_type": "code",
   "execution_count": null,
   "metadata": {},
   "outputs": [],
   "source": []
  }
 ],
 "metadata": {
  "kernelspec": {
   "display_name": "Python 3",
   "language": "python",
   "name": "python3"
  },
  "language_info": {
   "codemirror_mode": {
    "name": "ipython",
    "version": 3
   },
   "file_extension": ".py",
   "mimetype": "text/x-python",
   "name": "python",
   "nbconvert_exporter": "python",
   "pygments_lexer": "ipython3",
   "version": "3.7.9"
  }
 },
 "nbformat": 4,
 "nbformat_minor": 4
}
