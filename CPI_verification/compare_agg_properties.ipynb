{
 "cells": [
  {
   "cell_type": "code",
   "execution_count": null,
   "metadata": {},
   "outputs": [],
   "source": [
    "import numpy as np\n",
    "import pandas as pd\n",
    "import glob\n",
    "import seaborn as sns\n",
    "import pickle\n",
    "import matplotlib.pyplot as plt\n",
    "import agg_properties\n",
    "import sys\n",
    "sys.path.append(\"../collection_from_db\")\n",
    "import ipas.cluster_calculations as cc\n",
    "from pandarallel import pandarallel\n",
    "pandarallel.initialize(progress_bar=False)\n",
    "import shapely.geometry as geom\n",
    "import shapely.ops as shops\n",
    "from shapely.geometry import Point\n",
    "from multiprocessing import Pool\n",
    "import tables\n",
    "from dask import dataframe as dd\n",
    "\n",
    "%load_ext memory_profiler\n",
    "%load_ext autoreload\n",
    "%autoreload 2"
   ]
  },
  {
   "cell_type": "code",
   "execution_count": null,
   "metadata": {},
   "outputs": [],
   "source": [
    "%%time \n",
    "#read in database of aggs (all the same monomers)\n",
    "files = [f for f in glob.glob(\"../instance_files/createdb_iceagg_rand*\")]\n",
    "dfs = []\n",
    "for file in files:\n",
    "    print(file)\n",
    "    dfs.append(pd.read_pickle(file, None))\n",
    "dfs = [pd.DataFrame(i) for i in dfs]\n",
    "df = pd.concat(dfs, axis=0, ignore_index=True)"
   ]
  },
  {
   "cell_type": "code",
   "execution_count": null,
   "metadata": {},
   "outputs": [],
   "source": [
    "def shape(a,b,c):\n",
    "    if (b-c) <= (a-b):\n",
    "        return 'prolate'\n",
    "    else:\n",
    "        return 'oblate'"
   ]
  },
  {
   "cell_type": "code",
   "execution_count": null,
   "metadata": {},
   "outputs": [],
   "source": [
    "df['agg_r'] = np.power((np.power(df['a'], 2) * df['c']), (1./3.))\n",
    "df = df[df.agg_r < 5000]\n",
    "#speed up shape function \n",
    "vfunc = np.vectorize(shape)\n",
    "df['shape'] = vfunc(df['a'], df['b'], df['c'])\n",
    "df['agg_phi'] = df.c/df.a\n",
    "\n",
    "# df['agg_r'] = np.power((np.power(df['a'], 2) * df['c']), (1./3.))\n",
    "# df['agg_r'] = df['agg_r'][df.agg_r < 5000]\n",
    "# vfunc = np.vectorize(shape)\n",
    "# df['shape'] = vfunc(df['a'], df['b'], df['c'])\n",
    "# df['agg_phi'] = df.c/df.a"
   ]
  },
  {
   "cell_type": "code",
   "execution_count": null,
   "metadata": {},
   "outputs": [],
   "source": [
    "def filled_circular_area_ratio(row,  dims=['x', 'z']):\n",
    "        '''returns the area of the largest contour divided by the area of\n",
    "        an encompassing circle\n",
    "\n",
    "        useful for spheres that have reflection spots that are not captured\n",
    "        by the largest contour and leave a horseshoe pattern'''\n",
    "        polygons = [geom.MultiPoint(row.points[n][dims]).convex_hull for n in range(row.ncrystals)]\n",
    "        agg = shops.cascaded_union(polygons)\n",
    "        area = agg.area\n",
    "        poly = shops.cascaded_union(agg).convex_hull\n",
    "        x, y = poly.exterior.xy\n",
    "        c = cc.Cluster_Calculations(row)\n",
    "        circ = c.make_circle([x[i], y[i]] for i in range(len(x)))\n",
    "        circle = Point(circ[0], circ[1]).buffer(circ[2])\n",
    "        x, y = circle.exterior.xy\n",
    "        Ac = circle.area\n",
    "        if row.mono_phi < 1.0 and row.ncrystals > 10:\n",
    "            print(area/Ac, area, Ac, row.ncrystals)\n",
    "        \n",
    "        return area/Ac"
   ]
  },
  {
   "cell_type": "code",
   "execution_count": null,
   "metadata": {},
   "outputs": [],
   "source": [
    "for pos,row in df.iterrows():\n",
    "    filled_circular_area_ratio(row)"
   ]
  },
  {
   "cell_type": "code",
   "execution_count": null,
   "metadata": {},
   "outputs": [],
   "source": [
    "%%time\n",
    "df_att = df.apply(lambda x: filled_circular_area_ratio(x), axis=1)"
   ]
  },
  {
   "cell_type": "code",
   "execution_count": null,
   "metadata": {},
   "outputs": [],
   "source": [
    "df_att = pd.read_hdf('df_rand_area_ratio.h5').reset_index(drop=True) "
   ]
  },
  {
   "cell_type": "code",
   "execution_count": null,
   "metadata": {},
   "outputs": [],
   "source": [
    "df_att = pd.DataFrame(df_att, columns=['area ratio'])\n",
    "df_att"
   ]
  },
  {
   "cell_type": "code",
   "execution_count": null,
   "metadata": {},
   "outputs": [],
   "source": [
    "ddf = dd.read_parquet(\"../instance_files/parquet_files/*rand*\", engine=\"pyarrow\").compute()\n",
    "ddf"
   ]
  },
  {
   "cell_type": "code",
   "execution_count": null,
   "metadata": {},
   "outputs": [],
   "source": [
    "ddf['agg_phi'] = ddf['c']/ddf['a']\n",
    "ddf['agg_r'] = np.power((np.power(ddf['a'], 2) * ddf['c']), (1./3.))\n",
    "#ddf['agg_r'] = ddf['agg_r'][ddf.agg_r < 5000]\n",
    "ddf = ddf[ddf.agg_r < 5000].reset_index(drop=True)"
   ]
  },
  {
   "cell_type": "code",
   "execution_count": null,
   "metadata": {},
   "outputs": [],
   "source": [
    "ddf"
   ]
  },
  {
   "cell_type": "code",
   "execution_count": null,
   "metadata": {},
   "outputs": [],
   "source": [
    "dfc = pd.concat([df_att, ddf], axis=1)\n",
    "dfc"
   ]
  },
  {
   "cell_type": "code",
   "execution_count": null,
   "metadata": {},
   "outputs": [],
   "source": [
    "#save df of IPAS attributes\n",
    "dfc.to_hdf('df_area_ratio_no_points.h5', key='df_att', mode='w')"
   ]
  },
  {
   "cell_type": "markdown",
   "metadata": {},
   "source": [
    "## read in IPAS attribute dataframe"
   ]
  },
  {
   "cell_type": "code",
   "execution_count": null,
   "metadata": {},
   "outputs": [],
   "source": [
    "df_att = pd.read_hdf('df_rand_attributes.h5')"
   ]
  },
  {
   "cell_type": "code",
   "execution_count": null,
   "metadata": {},
   "outputs": [],
   "source": [
    "df_att.columns"
   ]
  },
  {
   "cell_type": "code",
   "execution_count": null,
   "metadata": {},
   "outputs": [],
   "source": [
    "df.info"
   ]
  },
  {
   "cell_type": "code",
   "execution_count": null,
   "metadata": {},
   "outputs": [],
   "source": [
    "df.drop(columns=['points'])"
   ]
  },
  {
   "cell_type": "code",
   "execution_count": null,
   "metadata": {},
   "outputs": [],
   "source": [
    "cdf = pd.concat([df, df_att])\n",
    "cdf"
   ]
  },
  {
   "cell_type": "code",
   "execution_count": null,
   "metadata": {},
   "outputs": [],
   "source": [
    "#read in CPI data \n",
    "#all campaings in one file\n",
    "df_CPI = pd.read_csv('all_campaigns.csv')\n",
    "#only use aggregates\n",
    "df_CPI = df_CPI[(df_CPI['classification'] == 'agg')]"
   ]
  },
  {
   "cell_type": "code",
   "execution_count": null,
   "metadata": {},
   "outputs": [],
   "source": [
    "cdf = pd.concat([df_CPI, df_att], keys=['CPI', 'IPAS'], names=[\"Source\"]).reset_index().drop(columns='level_1')"
   ]
  }
 ],
 "metadata": {
  "kernelspec": {
   "display_name": "IPAS",
   "language": "python",
   "name": "ipas"
  },
  "language_info": {
   "codemirror_mode": {
    "name": "ipython",
    "version": 3
   },
   "file_extension": ".py",
   "mimetype": "text/x-python",
   "name": "python",
   "nbconvert_exporter": "python",
   "pygments_lexer": "ipython3",
   "version": "3.7.9"
  }
 },
 "nbformat": 4,
 "nbformat_minor": 4
}
