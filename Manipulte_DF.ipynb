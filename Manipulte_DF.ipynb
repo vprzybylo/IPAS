{
 "cells": [
  {
   "cell_type": "code",
   "execution_count": 30,
   "metadata": {},
   "outputs": [],
   "source": [
    "import pandas as pd\n",
    "import dask as dask\n",
    "from dask import dataframe as dd\n",
    "import numpy as np\n",
    "from dask_jobqueue import SLURMCluster\n",
    "from dask.distributed import Client\n",
    "import dask.array as da\n",
    "import functools\n",
    "import sys\n",
    "import ast\n",
    "from struct import *\n",
    "import pickle\n",
    "import glob\n",
    "import random\n",
    "import seaborn as sns\n",
    "import ipywidgets as widgets\n",
    "from clustergrammer2 import net, Network\n",
    "from clustergrammer_widget import *\n",
    "import bqplot\n",
    "from ipywidgets import Layout\n",
    "from IPython.display import display\n",
    "import bqplot.pyplot as bqplt\n",
    "import matplotlib.pyplot as plt"
   ]
  },
  {
   "cell_type": "code",
   "execution_count": 32,
   "metadata": {},
   "outputs": [
    {
     "name": "stderr",
     "output_type": "stream",
     "text": [
      "/network/rit/lab/sulialab/share/bin/miniconda3/envs/pangeo/lib/python3.6/site-packages/distributed/dashboard/core.py:72: UserWarning: \n",
      "Port 8787 is already in use. \n",
      "Perhaps you already have a cluster running?\n",
      "Hosting the diagnostics dashboard on a random port instead.\n",
      "  warnings.warn(\"\\n\" + msg)\n"
     ]
    },
    {
     "data": {
      "text/plain": [
       "<distributed.deploy.adaptive.Adaptive at 0x7fdb51c90e48>"
      ]
     },
     "execution_count": 32,
     "metadata": {},
     "output_type": "execute_result"
    }
   ],
   "source": [
    "cluster = SLURMCluster(\n",
    "    queue='kratos',\n",
    "    walltime='04-23:00:00',\n",
    "    cores=1,\n",
    "    memory='7000MiB', #1 GiB = 1,024 MiB\n",
    "    processes=1)\n",
    "\n",
    "#cluster.scale(10)\n",
    "cluster.adapt(minimum=3, maximum=20)"
   ]
  },
  {
   "cell_type": "code",
   "execution_count": 33,
   "metadata": {},
   "outputs": [],
   "source": [
    "client = Client(cluster)"
   ]
  },
  {
   "cell_type": "code",
   "execution_count": 35,
   "metadata": {},
   "outputs": [
    {
     "data": {
      "text/html": [
       "<table style=\"border: 2px solid white;\">\n",
       "<tr>\n",
       "<td style=\"vertical-align: top; border: 0px solid white\">\n",
       "<h3 style=\"text-align: left;\">Client</h3>\n",
       "<ul style=\"text-align: left; list-style: none; margin: 0; padding: 0;\">\n",
       "  <li><b>Scheduler: </b>tcp://169.226.65.46:36135</li>\n",
       "  <li><b>Dashboard: </b><a href='http://169.226.65.46:37851/status' target='_blank'>http://169.226.65.46:37851/status</a>\n",
       "</ul>\n",
       "</td>\n",
       "<td style=\"vertical-align: top; border: 0px solid white\">\n",
       "<h3 style=\"text-align: left;\">Cluster</h3>\n",
       "<ul style=\"text-align: left; list-style:none; margin: 0; padding: 0;\">\n",
       "  <li><b>Workers: </b>3</li>\n",
       "  <li><b>Cores: </b>3</li>\n",
       "  <li><b>Memory: </b>22.02 GB</li>\n",
       "</ul>\n",
       "</td>\n",
       "</tr>\n",
       "</table>"
      ],
      "text/plain": [
       "<Client: 'tcp://169.226.65.46:36135' processes=0 threads=0, memory=0 B>"
      ]
     },
     "execution_count": 35,
     "metadata": {},
     "output_type": "execute_result"
    }
   ],
   "source": [
    "client"
   ]
  },
  {
   "cell_type": "code",
   "execution_count": 36,
   "metadata": {},
   "outputs": [],
   "source": [
    "files = ['sqlite:///'+f for f in glob.glob(\"db_files/IPAS_*_flat.sqlite\")]\n",
    "tables = ['aggregates', 'crystals']\n"
   ]
  },
  {
   "cell_type": "code",
   "execution_count": 37,
   "metadata": {
    "scrolled": true
   },
   "outputs": [
    {
     "name": "stdout",
     "output_type": "stream",
     "text": [
      "done with compute\n",
      "done with gather\n",
      "done with submit\n",
      "done with compute\n",
      "done with gather\n"
     ]
    },
    {
     "ename": "CancelledError",
     "evalue": "concat-360e107ac10dbe2890dbd43b85e18c91",
     "output_type": "error",
     "traceback": [
      "\u001b[0;31m---------------------------------------------------------------------------\u001b[0m",
      "\u001b[0;31mCancelledError\u001b[0m                            Traceback (most recent call last)",
      "\u001b[0;32m<timed exec>\u001b[0m in \u001b[0;36m<module>\u001b[0;34m\u001b[0m\n",
      "\u001b[0;32m/network/rit/lab/sulialab/share/bin/miniconda3/envs/pangeo/lib/python3.6/site-packages/distributed/client.py\u001b[0m in \u001b[0;36mresult\u001b[0;34m(self, timeout)\u001b[0m\n\u001b[1;32m    224\u001b[0m             \u001b[0;32mraise\u001b[0m \u001b[0mexc\u001b[0m\u001b[0;34m.\u001b[0m\u001b[0mwith_traceback\u001b[0m\u001b[0;34m(\u001b[0m\u001b[0mtb\u001b[0m\u001b[0;34m)\u001b[0m\u001b[0;34m\u001b[0m\u001b[0;34m\u001b[0m\u001b[0m\n\u001b[1;32m    225\u001b[0m         \u001b[0;32melif\u001b[0m \u001b[0mself\u001b[0m\u001b[0;34m.\u001b[0m\u001b[0mstatus\u001b[0m \u001b[0;34m==\u001b[0m \u001b[0;34m\"cancelled\"\u001b[0m\u001b[0;34m:\u001b[0m\u001b[0;34m\u001b[0m\u001b[0;34m\u001b[0m\u001b[0m\n\u001b[0;32m--> 226\u001b[0;31m             \u001b[0;32mraise\u001b[0m \u001b[0mresult\u001b[0m\u001b[0;34m\u001b[0m\u001b[0;34m\u001b[0m\u001b[0m\n\u001b[0m\u001b[1;32m    227\u001b[0m         \u001b[0;32melse\u001b[0m\u001b[0;34m:\u001b[0m\u001b[0;34m\u001b[0m\u001b[0;34m\u001b[0m\u001b[0m\n\u001b[1;32m    228\u001b[0m             \u001b[0;32mreturn\u001b[0m \u001b[0mresult\u001b[0m\u001b[0;34m\u001b[0m\u001b[0;34m\u001b[0m\u001b[0m\n",
      "\u001b[0;31mCancelledError\u001b[0m: concat-360e107ac10dbe2890dbd43b85e18c91"
     ]
    }
   ],
   "source": [
    "%%time\n",
    "\n",
    "df=[]\n",
    "for table in tables:\n",
    "    \n",
    "    #read tables in parallel on client \n",
    "    read_files = [dask.delayed(dd.read_sql_table)(table=table, uri=file, index_col='id') for file in files]\n",
    "    \n",
    "    compute_read = client.compute(read_files)\n",
    "    print('done with compute')\n",
    "    ddfs = client.gather(compute_read)\n",
    "    print('done with gather')\n",
    "    #concatenate all sqlite files vertically (axis=0 default) (same columns)\n",
    "    gathered_reads = client.scatter(ddfs)\n",
    "    ddf = client.submit(dd.concat, gathered_reads).result()\n",
    "    print('done with submit')\n",
    "    #append combined dask df for each table\n",
    "    df.append(ddf)\n"
   ]
  },
  {
   "cell_type": "code",
   "execution_count": 27,
   "metadata": {},
   "outputs": [
    {
     "name": "stdout",
     "output_type": "stream",
     "text": [
      "2\n"
     ]
    }
   ],
   "source": [
    "print(len(df))"
   ]
  },
  {
   "cell_type": "code",
   "execution_count": 13,
   "metadata": {
    "collapsed": true,
    "jupyter": {
     "outputs_hidden": true
    }
   },
   "outputs": [
    {
     "name": "stdout",
     "output_type": "stream",
     "text": [
      "[( 22.40173739, -15.8843567 , 62.51523222)\n",
      " ( 18.37026129,  20.02084359, 91.65281075)\n",
      " ( -4.55191249,  58.16183605, 78.4515482 )\n",
      " (-23.44261017,  60.39762823, 36.11270711)\n",
      " (-19.41113407,  24.49242795,  6.97512858)\n",
      " (  3.51103971, -13.64856452, 20.17639113)\n",
      " ( 23.19051107, -15.52556816, 62.18224463)\n",
      " ( 19.15903497,  20.37963212, 91.31982316)\n",
      " ( -3.76313881,  58.52062459, 78.11856061)\n",
      " (-22.65383648,  60.75641677, 35.77971952)\n",
      " (-18.62236038,  24.85121649,  6.64214099)\n",
      " (  4.2998134 , -13.28977598, 19.84340354)]\n",
      "[(-15.0442687 ,  45.30420704, 42.0417363 )\n",
      " ( 12.81579224,  54.83246286,  6.16048722)\n",
      " ( 44.57179318,  23.83074534, -7.43674062)\n",
      " ( 48.46773319, -16.699228  , 14.84728062)\n",
      " ( 20.60767226, -26.22748382, 50.7285297 )\n",
      " (-11.14832869,   4.7742337 , 64.32575754)\n",
      " (-14.42634808,  45.68265268, 42.62201803)\n",
      " ( 13.43371286,  55.2109085 ,  6.74076894)\n",
      " ( 45.1897138 ,  24.20919099, -6.8564589 )\n",
      " ( 49.08565381, -16.32078235, 15.42756234)\n",
      " ( 21.22559288, -25.84903817, 51.30881142)\n",
      " (-10.53040807,   5.15267934, 64.90603927)]\n",
      "[( 27.03688513, 28.30258672,  68.25436138)\n",
      " ( -4.62015831, -5.28319091,  63.32873134)\n",
      " (-45.89497092, -1.51684505,  84.22464417)\n",
      " (-55.51274008, 35.83527845, 110.04618705)\n",
      " (-23.85569664, 69.42105608, 114.97181709)\n",
      " ( 17.41911597, 65.65471022,  94.07590426)\n",
      " ( 27.37683493, 27.87230585,  69.00340503)\n",
      " ( -4.28020851, -5.71347178,  64.07777499)\n",
      " (-45.55502112, -1.94712591,  84.97368782)\n",
      " (-55.17279028, 35.40499759, 110.7952307 )\n",
      " (-23.51574684, 68.99077522, 115.72086074)\n",
      " ( 17.75906577, 65.22442935,  94.82494791)]\n",
      "[( 27.53101177, -38.31622336, 105.68565916)\n",
      " ( 11.16505698, -30.07060699, 148.33070606)\n",
      " ( -7.64752865,  11.14968055, 158.4009199 )\n",
      " (-10.0941595 ,  44.12435173, 125.82608685)\n",
      " (  6.27179528,  35.87873536,  83.18103995)\n",
      " ( 25.08438091,  -5.34155218,  73.11082611)\n",
      " ( 28.36430374, -37.9990606 , 105.94412801)\n",
      " ( 11.99834896, -29.75344424, 148.58917491)\n",
      " ( -6.81423667,  11.4668433 , 158.65938876)\n",
      " ( -9.26086753,  44.44151448, 126.08455571)\n",
      " (  7.10508726,  36.19589812,  83.43950881)\n",
      " ( 25.91767289,  -5.02438942,  73.36929496)]\n",
      "[( -3.57611932,  51.04544826, 36.81497676)\n",
      " (-29.16082906,  27.99184011, 67.93391743)\n",
      " (-22.18230687, -17.40090017, 74.65954362)\n",
      " ( 10.38092507, -39.74003231, 50.26622913)\n",
      " ( 35.96563481, -16.68642415, 19.14728846)\n",
      " ( 28.98711262,  28.70631613, 12.42166227)\n",
      " ( -4.20179459,  50.85178499, 36.15710226)\n",
      " (-29.78650433,  27.79817683, 67.27604293)\n",
      " (-22.80798214, -17.59456345, 74.00166912)\n",
      " (  9.75524979, -39.93369558, 49.60835463)\n",
      " ( 35.33995954, -16.88008743, 18.48941396)\n",
      " ( 28.36143734,  28.51265285, 11.76378777)]\n",
      "[(47.66451091,  31.22104043, 107.01265803)\n",
      " (70.77508359,  -8.27646101, 114.776903  )\n",
      " (58.91304816, -46.96087709,  92.03393138)\n",
      " (23.94044006, -46.14779173,  61.52671479)\n",
      " ( 0.82986738,  -6.65029028,  53.76246982)\n",
      " (12.69190281,  32.0341258 ,  76.50544144)\n",
      " (47.06813022,  31.00535284, 107.6905834 )\n",
      " (70.1787029 ,  -8.4921486 , 115.45482837)\n",
      " (58.31666747, -47.17656468,  92.71185675)\n",
      " (23.34405936, -46.36347931,  62.20464016)\n",
      " ( 0.23348668,  -6.86597787,  54.44039518)\n",
      " (12.09552211,  31.81843821,  77.18336681)]\n",
      "[(-46.94029604, -43.59028112, 119.97636704)\n",
      " (-21.73021399, -63.49810731,  86.47166722)\n",
      " (  5.91862588, -37.54642866,  59.70439767)\n",
      " (  8.3573837 ,   8.31307617,  66.44182793)\n",
      " (-16.85269835,  28.22090236,  99.94652774)\n",
      " (-44.50153821,   2.26922372, 126.71379729)\n",
      " (-47.6380444 , -43.4651181 , 119.37698793)\n",
      " (-22.42796235, -63.37294429,  85.87228811)\n",
      " (  5.22087752, -37.42126564,  59.10501856)\n",
      " (  7.65963534,   8.43823919,  65.84244882)\n",
      " (-17.55044671,  28.34606539,  99.34714863)\n",
      " (-45.19928658,   2.39438674, 126.11441818)]\n",
      "[(-5.80005932,  36.89713338, 126.98530042)\n",
      " (-0.21492635,   8.41671063, 163.20831106)\n",
      " ( 7.32859547, -36.84246723, 156.19854732)\n",
      " ( 9.28698431, -53.62122234, 112.96577295)\n",
      " ( 3.70185134, -25.14079959,  76.74276231)\n",
      " (-3.84167048,  20.11837827,  83.75252605)\n",
      " (-6.71507747,  36.74170044, 127.00417522)\n",
      " (-1.1299445 ,   8.26127769, 163.22718586)\n",
      " ( 6.41357732, -36.99790018, 156.21742212)\n",
      " ( 8.37196616, -53.77665529, 112.98464775)\n",
      " ( 2.78683318, -25.29623254,  76.76163711)\n",
      " (-4.75668863,  19.96294533,  83.77140085)]\n",
      "[( 32.66602137, 22.66033209, 67.63101341)\n",
      " (  5.34588734, 60.07619426, 70.47675138)\n",
      " (-26.9071394 , 67.78630118, 38.00012583)\n",
      " (-31.84003212, 38.08054592,  2.67776232)\n",
      " ( -4.5198981 ,  0.66468375, -0.16797565)\n",
      " ( 27.73312865, -7.04542317, 32.3086499 )\n",
      " ( 33.28152575, 23.14745361, 67.13539172)\n",
      " (  5.96139172, 60.56331578, 69.98112968)\n",
      " (-26.29163503, 68.2734227 , 37.50450413)\n",
      " (-31.22452775, 38.56766744,  2.18214062)\n",
      " ( -3.90439372,  1.15180526, -0.66359734)\n",
      " ( 28.34863303, -6.55830165, 31.81302821)]\n",
      "[(-34.28085564,  49.79964866, 27.50754927)\n",
      " (-31.14246264,   3.49007442, 27.59981325)\n",
      " (  7.06882356, -17.14893765, 43.98161653)\n",
      " ( 42.14171675,   8.52162454, 60.27115582)\n",
      " ( 39.00332375,  54.83119878, 60.17889184)\n",
      " (  0.79203755,  75.47021084, 43.79708856)\n",
      " (-33.90434808,  49.82347462, 26.65934632)\n",
      " (-30.76595508,   3.51390038, 26.7516103 )\n",
      " (  7.44533112, -17.12511168, 43.13341357)\n",
      " ( 42.51822431,   8.5454505 , 59.42295286)\n",
      " ( 39.37983131,  54.85502474, 59.33068888)\n",
      " (  1.16854511,  75.49403681, 42.94888561)]\n",
      "[(-23.97480768,  23.38313769, 40.50191909)\n",
      " (-47.1281043 ,  46.6187375 ,  7.66190618)\n",
      " (-58.33710428,  91.17122264, 14.28527969)\n",
      " (-46.39280765, 112.48810799, 53.7486661 )\n",
      " (-23.23951104,  89.25250818, 86.58867901)\n",
      " (-12.03051105,  44.70002303, 79.9653055 )\n",
      " (-24.77933968,  23.12368935, 40.88557089)\n",
      " (-47.93263629,  46.35928916,  8.04555798)\n",
      " (-59.14163627,  90.9117743 , 14.66893149)\n",
      " (-47.19733964, 112.22865965, 54.13231791)\n",
      " (-24.04404303,  88.99305984, 86.97233081)\n",
      " (-12.83504305,  44.44057469, 80.34895731)]\n",
      "[( 23.44663278,  52.26400109,  86.57752175)\n",
      " (-12.42419491,  42.14357188,  58.91355016)\n",
      " (-38.40624261,   4.62648509,  67.38916733)\n",
      " (-28.51746264, -22.77017248, 103.52875607)\n",
      " (  7.35336505, -12.64974326, 131.19272766)\n",
      " ( 33.33541275,  24.86734352, 122.71711049)\n",
      " ( 24.0056989 ,  51.75511465,  86.03876992)\n",
      " (-11.86512879,  41.63468543,  58.37479834)\n",
      " (-37.84717649,   4.11759865,  66.8504155 )\n",
      " (-27.95839651, -23.27905892, 102.99000424)\n",
      " (  7.91243117, -13.1586297 , 130.65397583)\n",
      " ( 33.89447888,  24.35845708, 122.17835866)]\n"
     ]
    }
   ],
   "source": [
    "for item in df.points:\n",
    "    print(pickle.loads(item))"
   ]
  },
  {
   "cell_type": "code",
   "execution_count": 17,
   "metadata": {},
   "outputs": [
    {
     "ename": "NameError",
     "evalue": "name 'df_mono' is not defined",
     "output_type": "error",
     "traceback": [
      "\u001b[0;31m---------------------------------------------------------------------------\u001b[0m",
      "\u001b[0;31mNameError\u001b[0m                                 Traceback (most recent call last)",
      "\u001b[0;32m<ipython-input-17-fb821a41ec87>\u001b[0m in \u001b[0;36m<module>\u001b[0;34m\u001b[0m\n\u001b[0;32m----> 1\u001b[0;31m \u001b[0mdf_mono\u001b[0m\u001b[0;34m.\u001b[0m\u001b[0mmemory_usage\u001b[0m\u001b[0;34m(\u001b[0m\u001b[0mdeep\u001b[0m\u001b[0;34m=\u001b[0m\u001b[0;32mTrue\u001b[0m\u001b[0;34m)\u001b[0m\u001b[0;34m.\u001b[0m\u001b[0msum\u001b[0m\u001b[0;34m(\u001b[0m\u001b[0;34m)\u001b[0m\u001b[0;34m/\u001b[0m\u001b[0;36m1E9\u001b[0m\u001b[0;34m\u001b[0m\u001b[0;34m\u001b[0m\u001b[0m\n\u001b[0m\u001b[1;32m      2\u001b[0m \u001b[0;31m#in GB\u001b[0m\u001b[0;34m\u001b[0m\u001b[0;34m\u001b[0m\u001b[0;34m\u001b[0m\u001b[0m\n",
      "\u001b[0;31mNameError\u001b[0m: name 'df_mono' is not defined"
     ]
    }
   ],
   "source": [
    "df[1].memory_usage(deep=True).sum()/1E9\n",
    "#in GB"
   ]
  },
  {
   "cell_type": "code",
   "execution_count": 18,
   "metadata": {},
   "outputs": [
    {
     "data": {
      "text/plain": [
       "0.508032"
      ]
     },
     "execution_count": 18,
     "metadata": {},
     "output_type": "execute_result"
    }
   ],
   "source": [
    "df[0].memory_usage(deep=True).sum()/1E9\n",
    "#in GB"
   ]
  },
  {
   "cell_type": "code",
   "execution_count": 11,
   "metadata": {},
   "outputs": [
    {
     "name": "stdout",
     "output_type": "stream",
     "text": [
      "<class 'dask.dataframe.core.DataFrame'>\n",
      "Columns: 4 entries, phi to agg_id\n",
      "dtypes: object(1), float64(1), int64(2)\n",
      "memory usage: 314.0 MB\n"
     ]
    }
   ],
   "source": [
    "df[1].info(memory_usage='deep')"
   ]
  },
  {
   "cell_type": "code",
   "execution_count": 21,
   "metadata": {},
   "outputs": [
    {
     "name": "stdout",
     "output_type": "stream",
     "text": [
      "120\n",
      "120\n"
     ]
    }
   ],
   "source": [
    "#see partitions\n",
    "print(df[0].npartitions)\n",
    "print(df[1].npartitions)"
   ]
  },
  {
   "cell_type": "code",
   "execution_count": 41,
   "metadata": {},
   "outputs": [
    {
     "data": {
      "text/plain": [
       "(8232439, 8232439)"
      ]
     },
     "execution_count": 41,
     "metadata": {},
     "output_type": "execute_result"
    }
   ],
   "source": [
    "len(df[0]), len(df[1]) "
   ]
  },
  {
   "cell_type": "code",
   "execution_count": 49,
   "metadata": {},
   "outputs": [],
   "source": [
    "df_agg = client.persist(df[0]) "
   ]
  },
  {
   "cell_type": "code",
   "execution_count": 50,
   "metadata": {},
   "outputs": [],
   "source": [
    "df_mono = client.persist(df[1]) "
   ]
  },
  {
   "cell_type": "code",
   "execution_count": 44,
   "metadata": {},
   "outputs": [
    {
     "data": {
      "text/plain": [
       "count    8232439.00\n",
       "mean           3.98\n",
       "std            6.74\n",
       "min            0.01\n",
       "25%            0.31\n",
       "50%            2.76\n",
       "75%           30.08\n",
       "max           78.33\n",
       "dtype: float64"
      ]
     },
     "execution_count": 44,
     "metadata": {},
     "output_type": "execute_result"
    }
   ],
   "source": [
    "agg_stats = df[0]['agg_phi'].describe().round(2).compute()\n",
    "agg_stats"
   ]
  },
  {
   "cell_type": "code",
   "execution_count": 45,
   "metadata": {},
   "outputs": [
    {
     "data": {
      "text/plain": [
       "count    8232439.00\n",
       "mean        2454.65\n",
       "std         5282.27\n",
       "min            0.46\n",
       "25%          122.19\n",
       "50%         1349.11\n",
       "75%        43820.08\n",
       "max        67900.97\n",
       "dtype: float64"
      ]
     },
     "execution_count": 45,
     "metadata": {},
     "output_type": "execute_result"
    }
   ],
   "source": [
    "r_stats = df[0]['agg_r'].describe().round(2).compute()\n",
    "r_stats"
   ]
  },
  {
   "cell_type": "code",
   "execution_count": 30,
   "metadata": {},
   "outputs": [
    {
     "data": {
      "text/plain": [
       "count    7056000.00\n",
       "mean         158.12\n",
       "std          290.02\n",
       "min            1.00\n",
       "25%            8.25\n",
       "50%           72.50\n",
       "75%         1000.00\n",
       "max         1000.00\n",
       "dtype: float64"
      ]
     },
     "execution_count": 30,
     "metadata": {},
     "output_type": "execute_result"
    }
   ],
   "source": [
    "r_stats = df_crys['r'].describe().round(2).compute()\n",
    "r_stats"
   ]
  },
  {
   "cell_type": "code",
   "execution_count": 32,
   "metadata": {},
   "outputs": [
    {
     "data": {
      "text/plain": [
       "count    7056000.00\n",
       "mean          13.01\n",
       "std           25.22\n",
       "min            0.01\n",
       "25%            0.18\n",
       "50%            5.46\n",
       "75%          100.00\n",
       "max          100.00\n",
       "dtype: float64"
      ]
     },
     "execution_count": 32,
     "metadata": {},
     "output_type": "execute_result"
    }
   ],
   "source": [
    "phi_stats = df_crys['phi'].describe().round(2).compute()\n",
    "phi_stats"
   ]
  },
  {
   "cell_type": "code",
   "execution_count": 195,
   "metadata": {
    "collapsed": true,
    "jupyter": {
     "outputs_hidden": true
    }
   },
   "outputs": [
    {
     "name": "stderr",
     "output_type": "stream",
     "text": [
      "distributed.utils - ERROR - \n",
      "Traceback (most recent call last):\n",
      "  File \"/network/rit/lab/sulialab/share/bin/miniconda3/envs/pangeo/lib/python3.6/site-packages/distributed/utils.py\", line 652, in log_errors\n",
      "    yield\n",
      "  File \"/network/rit/lab/sulialab/share/bin/miniconda3/envs/pangeo/lib/python3.6/site-packages/distributed/scheduler.py\", line 3380, in retire_workers\n",
      "    lock=False,\n",
      "  File \"/network/rit/lab/sulialab/share/bin/miniconda3/envs/pangeo/lib/python3.6/site-packages/distributed/scheduler.py\", line 3134, in replicate\n",
      "    assert count > 0\n",
      "AssertionError\n",
      "distributed.core - ERROR - \n",
      "Traceback (most recent call last):\n",
      "  File \"/network/rit/lab/sulialab/share/bin/miniconda3/envs/pangeo/lib/python3.6/site-packages/distributed/core.py\", line 412, in handle_comm\n",
      "    result = await result\n",
      "  File \"/network/rit/lab/sulialab/share/bin/miniconda3/envs/pangeo/lib/python3.6/site-packages/distributed/scheduler.py\", line 3380, in retire_workers\n",
      "    lock=False,\n",
      "  File \"/network/rit/lab/sulialab/share/bin/miniconda3/envs/pangeo/lib/python3.6/site-packages/distributed/scheduler.py\", line 3134, in replicate\n",
      "    assert count > 0\n",
      "AssertionError\n",
      "distributed.utils - ERROR - \n",
      "Traceback (most recent call last):\n",
      "  File \"/network/rit/lab/sulialab/share/bin/miniconda3/envs/pangeo/lib/python3.6/site-packages/distributed/utils.py\", line 652, in log_errors\n",
      "    yield\n",
      "  File \"/network/rit/lab/sulialab/share/bin/miniconda3/envs/pangeo/lib/python3.6/site-packages/distributed/deploy/adaptive.py\", line 156, in scale_down\n",
      "    names=workers, remove=True, close_workers=True\n",
      "  File \"/network/rit/lab/sulialab/share/bin/miniconda3/envs/pangeo/lib/python3.6/site-packages/distributed/core.py\", line 686, in send_recv_from_rpc\n",
      "    result = await send_recv(comm=comm, op=key, **kwargs)\n",
      "  File \"/network/rit/lab/sulialab/share/bin/miniconda3/envs/pangeo/lib/python3.6/site-packages/distributed/core.py\", line 556, in send_recv\n",
      "    raise exc.with_traceback(tb)\n",
      "  File \"/network/rit/lab/sulialab/share/bin/miniconda3/envs/pangeo/lib/python3.6/site-packages/distributed/core.py\", line 412, in handle_comm\n",
      "    result = await result\n",
      "  File \"/network/rit/lab/sulialab/share/bin/miniconda3/envs/pangeo/lib/python3.6/site-packages/distributed/scheduler.py\", line 3380, in retire_workers\n",
      "    lock=False,\n",
      "  File \"/network/rit/lab/sulialab/share/bin/miniconda3/envs/pangeo/lib/python3.6/site-packages/distributed/scheduler.py\", line 3134, in replicate\n",
      "    assert count > 0\n",
      "AssertionError\n",
      "tornado.application - ERROR - Exception in callback functools.partial(<bound method IOLoop._discard_future_result of <zmq.eventloop.ioloop.ZMQIOLoop object at 0x7fb827d51f98>>, <Task finished coro=<AdaptiveCore.adapt() done, defined at /network/rit/lab/sulialab/share/bin/miniconda3/envs/pangeo/lib/python3.6/site-packages/distributed/deploy/adaptive_core.py:170> exception=AssertionError()>)\n",
      "Traceback (most recent call last):\n",
      "  File \"/network/rit/lab/sulialab/share/bin/miniconda3/envs/pangeo/lib/python3.6/site-packages/tornado/ioloop.py\", line 743, in _run_callback\n",
      "    ret = callback()\n",
      "  File \"/network/rit/lab/sulialab/share/bin/miniconda3/envs/pangeo/lib/python3.6/site-packages/tornado/ioloop.py\", line 767, in _discard_future_result\n",
      "    future.result()\n",
      "  File \"/network/rit/lab/sulialab/share/bin/miniconda3/envs/pangeo/lib/python3.6/site-packages/distributed/deploy/adaptive_core.py\", line 194, in adapt\n",
      "    await self.scale_down(**recommendations)\n",
      "  File \"/network/rit/lab/sulialab/share/bin/miniconda3/envs/pangeo/lib/python3.6/site-packages/distributed/deploy/adaptive.py\", line 156, in scale_down\n",
      "    names=workers, remove=True, close_workers=True\n",
      "  File \"/network/rit/lab/sulialab/share/bin/miniconda3/envs/pangeo/lib/python3.6/site-packages/distributed/core.py\", line 686, in send_recv_from_rpc\n",
      "    result = await send_recv(comm=comm, op=key, **kwargs)\n",
      "  File \"/network/rit/lab/sulialab/share/bin/miniconda3/envs/pangeo/lib/python3.6/site-packages/distributed/core.py\", line 556, in send_recv\n",
      "    raise exc.with_traceback(tb)\n",
      "  File \"/network/rit/lab/sulialab/share/bin/miniconda3/envs/pangeo/lib/python3.6/site-packages/distributed/core.py\", line 412, in handle_comm\n",
      "    result = await result\n",
      "  File \"/network/rit/lab/sulialab/share/bin/miniconda3/envs/pangeo/lib/python3.6/site-packages/distributed/scheduler.py\", line 3380, in retire_workers\n",
      "    lock=False,\n",
      "  File \"/network/rit/lab/sulialab/share/bin/miniconda3/envs/pangeo/lib/python3.6/site-packages/distributed/scheduler.py\", line 3134, in replicate\n",
      "    assert count > 0\n",
      "AssertionError\n"
     ]
    },
    {
     "ename": "KeyboardInterrupt",
     "evalue": "",
     "output_type": "error",
     "traceback": [
      "\u001b[0;31m---------------------------------------------------------------------------\u001b[0m",
      "\u001b[0;31mKeyboardInterrupt\u001b[0m                         Traceback (most recent call last)",
      "\u001b[0;32m<ipython-input-195-f5cb8c6a5c68>\u001b[0m in \u001b[0;36m<module>\u001b[0;34m\u001b[0m\n\u001b[1;32m      3\u001b[0m \u001b[0mcount\u001b[0m \u001b[0;34m=\u001b[0m \u001b[0mdf\u001b[0m\u001b[0;34m[\u001b[0m\u001b[0;36m1\u001b[0m\u001b[0;34m]\u001b[0m\u001b[0;34m.\u001b[0m\u001b[0mr\u001b[0m\u001b[0;34m.\u001b[0m\u001b[0mvalue_counts\u001b[0m\u001b[0;34m(\u001b[0m\u001b[0;34m)\u001b[0m\u001b[0;34m\u001b[0m\u001b[0;34m\u001b[0m\u001b[0m\n\u001b[1;32m      4\u001b[0m \u001b[0;31m# Multi-column frequency count\u001b[0m\u001b[0;34m\u001b[0m\u001b[0;34m\u001b[0m\u001b[0;34m\u001b[0m\u001b[0m\n\u001b[0;32m----> 5\u001b[0;31m \u001b[0mcount\u001b[0m \u001b[0;34m=\u001b[0m \u001b[0mdf_repart\u001b[0m\u001b[0;34m.\u001b[0m\u001b[0mgroupby\u001b[0m\u001b[0;34m(\u001b[0m\u001b[0;34m[\u001b[0m\u001b[0;34m'agg_phi'\u001b[0m\u001b[0;34m]\u001b[0m\u001b[0;34m)\u001b[0m\u001b[0;34m.\u001b[0m\u001b[0mcount\u001b[0m\u001b[0;34m(\u001b[0m\u001b[0;34m)\u001b[0m\u001b[0;34m.\u001b[0m\u001b[0mcompute\u001b[0m\u001b[0;34m(\u001b[0m\u001b[0;34m)\u001b[0m\u001b[0;34m\u001b[0m\u001b[0;34m\u001b[0m\u001b[0m\n\u001b[0m\u001b[1;32m      6\u001b[0m \u001b[0mprint\u001b[0m\u001b[0;34m(\u001b[0m\u001b[0mcount\u001b[0m\u001b[0;34m)\u001b[0m\u001b[0;34m\u001b[0m\u001b[0;34m\u001b[0m\u001b[0m\n",
      "\u001b[0;32m/network/rit/lab/sulialab/share/bin/miniconda3/envs/pangeo/lib/python3.6/site-packages/dask/base.py\u001b[0m in \u001b[0;36mcompute\u001b[0;34m(self, **kwargs)\u001b[0m\n\u001b[1;32m    163\u001b[0m         \u001b[0mdask\u001b[0m\u001b[0;34m.\u001b[0m\u001b[0mbase\u001b[0m\u001b[0;34m.\u001b[0m\u001b[0mcompute\u001b[0m\u001b[0;34m\u001b[0m\u001b[0;34m\u001b[0m\u001b[0m\n\u001b[1;32m    164\u001b[0m         \"\"\"\n\u001b[0;32m--> 165\u001b[0;31m         \u001b[0;34m(\u001b[0m\u001b[0mresult\u001b[0m\u001b[0;34m,\u001b[0m\u001b[0;34m)\u001b[0m \u001b[0;34m=\u001b[0m \u001b[0mcompute\u001b[0m\u001b[0;34m(\u001b[0m\u001b[0mself\u001b[0m\u001b[0;34m,\u001b[0m \u001b[0mtraverse\u001b[0m\u001b[0;34m=\u001b[0m\u001b[0;32mFalse\u001b[0m\u001b[0;34m,\u001b[0m \u001b[0;34m**\u001b[0m\u001b[0mkwargs\u001b[0m\u001b[0;34m)\u001b[0m\u001b[0;34m\u001b[0m\u001b[0;34m\u001b[0m\u001b[0m\n\u001b[0m\u001b[1;32m    166\u001b[0m         \u001b[0;32mreturn\u001b[0m \u001b[0mresult\u001b[0m\u001b[0;34m\u001b[0m\u001b[0;34m\u001b[0m\u001b[0m\n\u001b[1;32m    167\u001b[0m \u001b[0;34m\u001b[0m\u001b[0m\n",
      "\u001b[0;32m/network/rit/lab/sulialab/share/bin/miniconda3/envs/pangeo/lib/python3.6/site-packages/dask/base.py\u001b[0m in \u001b[0;36mcompute\u001b[0;34m(*args, **kwargs)\u001b[0m\n\u001b[1;32m    434\u001b[0m     \u001b[0mkeys\u001b[0m \u001b[0;34m=\u001b[0m \u001b[0;34m[\u001b[0m\u001b[0mx\u001b[0m\u001b[0;34m.\u001b[0m\u001b[0m__dask_keys__\u001b[0m\u001b[0;34m(\u001b[0m\u001b[0;34m)\u001b[0m \u001b[0;32mfor\u001b[0m \u001b[0mx\u001b[0m \u001b[0;32min\u001b[0m \u001b[0mcollections\u001b[0m\u001b[0;34m]\u001b[0m\u001b[0;34m\u001b[0m\u001b[0;34m\u001b[0m\u001b[0m\n\u001b[1;32m    435\u001b[0m     \u001b[0mpostcomputes\u001b[0m \u001b[0;34m=\u001b[0m \u001b[0;34m[\u001b[0m\u001b[0mx\u001b[0m\u001b[0;34m.\u001b[0m\u001b[0m__dask_postcompute__\u001b[0m\u001b[0;34m(\u001b[0m\u001b[0;34m)\u001b[0m \u001b[0;32mfor\u001b[0m \u001b[0mx\u001b[0m \u001b[0;32min\u001b[0m \u001b[0mcollections\u001b[0m\u001b[0;34m]\u001b[0m\u001b[0;34m\u001b[0m\u001b[0;34m\u001b[0m\u001b[0m\n\u001b[0;32m--> 436\u001b[0;31m     \u001b[0mresults\u001b[0m \u001b[0;34m=\u001b[0m \u001b[0mschedule\u001b[0m\u001b[0;34m(\u001b[0m\u001b[0mdsk\u001b[0m\u001b[0;34m,\u001b[0m \u001b[0mkeys\u001b[0m\u001b[0;34m,\u001b[0m \u001b[0;34m**\u001b[0m\u001b[0mkwargs\u001b[0m\u001b[0;34m)\u001b[0m\u001b[0;34m\u001b[0m\u001b[0;34m\u001b[0m\u001b[0m\n\u001b[0m\u001b[1;32m    437\u001b[0m     \u001b[0;32mreturn\u001b[0m \u001b[0mrepack\u001b[0m\u001b[0;34m(\u001b[0m\u001b[0;34m[\u001b[0m\u001b[0mf\u001b[0m\u001b[0;34m(\u001b[0m\u001b[0mr\u001b[0m\u001b[0;34m,\u001b[0m \u001b[0;34m*\u001b[0m\u001b[0ma\u001b[0m\u001b[0;34m)\u001b[0m \u001b[0;32mfor\u001b[0m \u001b[0mr\u001b[0m\u001b[0;34m,\u001b[0m \u001b[0;34m(\u001b[0m\u001b[0mf\u001b[0m\u001b[0;34m,\u001b[0m \u001b[0ma\u001b[0m\u001b[0;34m)\u001b[0m \u001b[0;32min\u001b[0m \u001b[0mzip\u001b[0m\u001b[0;34m(\u001b[0m\u001b[0mresults\u001b[0m\u001b[0;34m,\u001b[0m \u001b[0mpostcomputes\u001b[0m\u001b[0;34m)\u001b[0m\u001b[0;34m]\u001b[0m\u001b[0;34m)\u001b[0m\u001b[0;34m\u001b[0m\u001b[0;34m\u001b[0m\u001b[0m\n\u001b[1;32m    438\u001b[0m \u001b[0;34m\u001b[0m\u001b[0m\n",
      "\u001b[0;32m/network/rit/lab/sulialab/share/bin/miniconda3/envs/pangeo/lib/python3.6/site-packages/distributed/client.py\u001b[0m in \u001b[0;36mget\u001b[0;34m(self, dsk, keys, restrictions, loose_restrictions, resources, sync, asynchronous, direct, retries, priority, fifo_timeout, actors, **kwargs)\u001b[0m\n\u001b[1;32m   2574\u001b[0m                     \u001b[0mshould_rejoin\u001b[0m \u001b[0;34m=\u001b[0m \u001b[0;32mFalse\u001b[0m\u001b[0;34m\u001b[0m\u001b[0;34m\u001b[0m\u001b[0m\n\u001b[1;32m   2575\u001b[0m             \u001b[0;32mtry\u001b[0m\u001b[0;34m:\u001b[0m\u001b[0;34m\u001b[0m\u001b[0;34m\u001b[0m\u001b[0m\n\u001b[0;32m-> 2576\u001b[0;31m                 \u001b[0mresults\u001b[0m \u001b[0;34m=\u001b[0m \u001b[0mself\u001b[0m\u001b[0;34m.\u001b[0m\u001b[0mgather\u001b[0m\u001b[0;34m(\u001b[0m\u001b[0mpacked\u001b[0m\u001b[0;34m,\u001b[0m \u001b[0masynchronous\u001b[0m\u001b[0;34m=\u001b[0m\u001b[0masynchronous\u001b[0m\u001b[0;34m,\u001b[0m \u001b[0mdirect\u001b[0m\u001b[0;34m=\u001b[0m\u001b[0mdirect\u001b[0m\u001b[0;34m)\u001b[0m\u001b[0;34m\u001b[0m\u001b[0;34m\u001b[0m\u001b[0m\n\u001b[0m\u001b[1;32m   2577\u001b[0m             \u001b[0;32mfinally\u001b[0m\u001b[0;34m:\u001b[0m\u001b[0;34m\u001b[0m\u001b[0;34m\u001b[0m\u001b[0m\n\u001b[1;32m   2578\u001b[0m                 \u001b[0;32mfor\u001b[0m \u001b[0mf\u001b[0m \u001b[0;32min\u001b[0m \u001b[0mfutures\u001b[0m\u001b[0;34m.\u001b[0m\u001b[0mvalues\u001b[0m\u001b[0;34m(\u001b[0m\u001b[0;34m)\u001b[0m\u001b[0;34m:\u001b[0m\u001b[0;34m\u001b[0m\u001b[0;34m\u001b[0m\u001b[0m\n",
      "\u001b[0;32m/network/rit/lab/sulialab/share/bin/miniconda3/envs/pangeo/lib/python3.6/site-packages/distributed/client.py\u001b[0m in \u001b[0;36mgather\u001b[0;34m(self, futures, errors, direct, asynchronous)\u001b[0m\n\u001b[1;32m   1872\u001b[0m                 \u001b[0mdirect\u001b[0m\u001b[0;34m=\u001b[0m\u001b[0mdirect\u001b[0m\u001b[0;34m,\u001b[0m\u001b[0;34m\u001b[0m\u001b[0;34m\u001b[0m\u001b[0m\n\u001b[1;32m   1873\u001b[0m                 \u001b[0mlocal_worker\u001b[0m\u001b[0;34m=\u001b[0m\u001b[0mlocal_worker\u001b[0m\u001b[0;34m,\u001b[0m\u001b[0;34m\u001b[0m\u001b[0;34m\u001b[0m\u001b[0m\n\u001b[0;32m-> 1874\u001b[0;31m                 \u001b[0masynchronous\u001b[0m\u001b[0;34m=\u001b[0m\u001b[0masynchronous\u001b[0m\u001b[0;34m,\u001b[0m\u001b[0;34m\u001b[0m\u001b[0;34m\u001b[0m\u001b[0m\n\u001b[0m\u001b[1;32m   1875\u001b[0m             )\n\u001b[1;32m   1876\u001b[0m \u001b[0;34m\u001b[0m\u001b[0m\n",
      "\u001b[0;32m/network/rit/lab/sulialab/share/bin/miniconda3/envs/pangeo/lib/python3.6/site-packages/distributed/client.py\u001b[0m in \u001b[0;36msync\u001b[0;34m(self, func, asynchronous, callback_timeout, *args, **kwargs)\u001b[0m\n\u001b[1;32m    767\u001b[0m         \u001b[0;32melse\u001b[0m\u001b[0;34m:\u001b[0m\u001b[0;34m\u001b[0m\u001b[0;34m\u001b[0m\u001b[0m\n\u001b[1;32m    768\u001b[0m             return sync(\n\u001b[0;32m--> 769\u001b[0;31m                 \u001b[0mself\u001b[0m\u001b[0;34m.\u001b[0m\u001b[0mloop\u001b[0m\u001b[0;34m,\u001b[0m \u001b[0mfunc\u001b[0m\u001b[0;34m,\u001b[0m \u001b[0;34m*\u001b[0m\u001b[0margs\u001b[0m\u001b[0;34m,\u001b[0m \u001b[0mcallback_timeout\u001b[0m\u001b[0;34m=\u001b[0m\u001b[0mcallback_timeout\u001b[0m\u001b[0;34m,\u001b[0m \u001b[0;34m**\u001b[0m\u001b[0mkwargs\u001b[0m\u001b[0;34m\u001b[0m\u001b[0;34m\u001b[0m\u001b[0m\n\u001b[0m\u001b[1;32m    770\u001b[0m             )\n\u001b[1;32m    771\u001b[0m \u001b[0;34m\u001b[0m\u001b[0m\n",
      "\u001b[0;32m/network/rit/lab/sulialab/share/bin/miniconda3/envs/pangeo/lib/python3.6/site-packages/distributed/utils.py\u001b[0m in \u001b[0;36msync\u001b[0;34m(loop, func, callback_timeout, *args, **kwargs)\u001b[0m\n\u001b[1;32m    330\u001b[0m     \u001b[0;32melse\u001b[0m\u001b[0;34m:\u001b[0m\u001b[0;34m\u001b[0m\u001b[0;34m\u001b[0m\u001b[0m\n\u001b[1;32m    331\u001b[0m         \u001b[0;32mwhile\u001b[0m \u001b[0;32mnot\u001b[0m \u001b[0me\u001b[0m\u001b[0;34m.\u001b[0m\u001b[0mis_set\u001b[0m\u001b[0;34m(\u001b[0m\u001b[0;34m)\u001b[0m\u001b[0;34m:\u001b[0m\u001b[0;34m\u001b[0m\u001b[0;34m\u001b[0m\u001b[0m\n\u001b[0;32m--> 332\u001b[0;31m             \u001b[0me\u001b[0m\u001b[0;34m.\u001b[0m\u001b[0mwait\u001b[0m\u001b[0;34m(\u001b[0m\u001b[0;36m10\u001b[0m\u001b[0;34m)\u001b[0m\u001b[0;34m\u001b[0m\u001b[0;34m\u001b[0m\u001b[0m\n\u001b[0m\u001b[1;32m    333\u001b[0m     \u001b[0;32mif\u001b[0m \u001b[0merror\u001b[0m\u001b[0;34m[\u001b[0m\u001b[0;36m0\u001b[0m\u001b[0;34m]\u001b[0m\u001b[0;34m:\u001b[0m\u001b[0;34m\u001b[0m\u001b[0;34m\u001b[0m\u001b[0m\n\u001b[1;32m    334\u001b[0m         \u001b[0mtyp\u001b[0m\u001b[0;34m,\u001b[0m \u001b[0mexc\u001b[0m\u001b[0;34m,\u001b[0m \u001b[0mtb\u001b[0m \u001b[0;34m=\u001b[0m \u001b[0merror\u001b[0m\u001b[0;34m[\u001b[0m\u001b[0;36m0\u001b[0m\u001b[0;34m]\u001b[0m\u001b[0;34m\u001b[0m\u001b[0;34m\u001b[0m\u001b[0m\n",
      "\u001b[0;32m/network/rit/lab/sulialab/share/bin/miniconda3/envs/pangeo/lib/python3.6/threading.py\u001b[0m in \u001b[0;36mwait\u001b[0;34m(self, timeout)\u001b[0m\n\u001b[1;32m    549\u001b[0m             \u001b[0msignaled\u001b[0m \u001b[0;34m=\u001b[0m \u001b[0mself\u001b[0m\u001b[0;34m.\u001b[0m\u001b[0m_flag\u001b[0m\u001b[0;34m\u001b[0m\u001b[0;34m\u001b[0m\u001b[0m\n\u001b[1;32m    550\u001b[0m             \u001b[0;32mif\u001b[0m \u001b[0;32mnot\u001b[0m \u001b[0msignaled\u001b[0m\u001b[0;34m:\u001b[0m\u001b[0;34m\u001b[0m\u001b[0;34m\u001b[0m\u001b[0m\n\u001b[0;32m--> 551\u001b[0;31m                 \u001b[0msignaled\u001b[0m \u001b[0;34m=\u001b[0m \u001b[0mself\u001b[0m\u001b[0;34m.\u001b[0m\u001b[0m_cond\u001b[0m\u001b[0;34m.\u001b[0m\u001b[0mwait\u001b[0m\u001b[0;34m(\u001b[0m\u001b[0mtimeout\u001b[0m\u001b[0;34m)\u001b[0m\u001b[0;34m\u001b[0m\u001b[0;34m\u001b[0m\u001b[0m\n\u001b[0m\u001b[1;32m    552\u001b[0m             \u001b[0;32mreturn\u001b[0m \u001b[0msignaled\u001b[0m\u001b[0;34m\u001b[0m\u001b[0;34m\u001b[0m\u001b[0m\n\u001b[1;32m    553\u001b[0m \u001b[0;34m\u001b[0m\u001b[0m\n",
      "\u001b[0;32m/network/rit/lab/sulialab/share/bin/miniconda3/envs/pangeo/lib/python3.6/threading.py\u001b[0m in \u001b[0;36mwait\u001b[0;34m(self, timeout)\u001b[0m\n\u001b[1;32m    297\u001b[0m             \u001b[0;32melse\u001b[0m\u001b[0;34m:\u001b[0m\u001b[0;34m\u001b[0m\u001b[0;34m\u001b[0m\u001b[0m\n\u001b[1;32m    298\u001b[0m                 \u001b[0;32mif\u001b[0m \u001b[0mtimeout\u001b[0m \u001b[0;34m>\u001b[0m \u001b[0;36m0\u001b[0m\u001b[0;34m:\u001b[0m\u001b[0;34m\u001b[0m\u001b[0;34m\u001b[0m\u001b[0m\n\u001b[0;32m--> 299\u001b[0;31m                     \u001b[0mgotit\u001b[0m \u001b[0;34m=\u001b[0m \u001b[0mwaiter\u001b[0m\u001b[0;34m.\u001b[0m\u001b[0macquire\u001b[0m\u001b[0;34m(\u001b[0m\u001b[0;32mTrue\u001b[0m\u001b[0;34m,\u001b[0m \u001b[0mtimeout\u001b[0m\u001b[0;34m)\u001b[0m\u001b[0;34m\u001b[0m\u001b[0;34m\u001b[0m\u001b[0m\n\u001b[0m\u001b[1;32m    300\u001b[0m                 \u001b[0;32melse\u001b[0m\u001b[0;34m:\u001b[0m\u001b[0;34m\u001b[0m\u001b[0;34m\u001b[0m\u001b[0m\n\u001b[1;32m    301\u001b[0m                     \u001b[0mgotit\u001b[0m \u001b[0;34m=\u001b[0m \u001b[0mwaiter\u001b[0m\u001b[0;34m.\u001b[0m\u001b[0macquire\u001b[0m\u001b[0;34m(\u001b[0m\u001b[0;32mFalse\u001b[0m\u001b[0;34m)\u001b[0m\u001b[0;34m\u001b[0m\u001b[0;34m\u001b[0m\u001b[0m\n",
      "\u001b[0;31mKeyboardInterrupt\u001b[0m: "
     ]
    }
   ],
   "source": [
    "#len(df_crys[df_crys.r == 50])\n",
    "# frequency count of mono r\n",
    "count = df[1].r.value_counts() \n",
    "# Multi-column frequency count \n",
    "count = df_repart.groupby(['agg_phi']).count().compute()\n",
    "print(count)"
   ]
  },
  {
   "cell_type": "code",
   "execution_count": 8,
   "metadata": {},
   "outputs": [
    {
     "name": "stdout",
     "output_type": "stream",
     "text": [
      "CPU times: user 104 ms, sys: 5.84 ms, total: 110 ms\n",
      "Wall time: 114 ms\n"
     ]
    },
    {
     "name": "stderr",
     "output_type": "stream",
     "text": [
      "/network/rit/lab/sulialab/share/bin/miniconda3/envs/pangeo/lib/python3.6/site-packages/dask/dataframe/multi.py:1055: UserWarning: Concatenating dataframes with unknown divisions.\n",
      "We're assuming that the indexes of each dataframes are \n",
      " aligned. This assumption is not generally safe.\n",
      "  \"Concatenating dataframes with unknown divisions.\\n\"\n"
     ]
    }
   ],
   "source": [
    "%time df_concat = dd.concat([df[0], df[1]], axis=1).persist()"
   ]
  },
  {
   "cell_type": "code",
   "execution_count": 9,
   "metadata": {},
   "outputs": [
    {
     "data": {
      "text/plain": [
       "65"
      ]
     },
     "execution_count": 9,
     "metadata": {},
     "output_type": "execute_result"
    }
   ],
   "source": [
    "df_repart = df_concat.repartition(partition_size=\"100MB\").persist()\n",
    "df_repart.npartitions"
   ]
  },
  {
   "cell_type": "code",
   "execution_count": 205,
   "metadata": {},
   "outputs": [
    {
     "data": {
      "text/plain": [
       "(-67.438, 3395.489]       6648467\n",
       "(3395.489, 6790.514]       736025\n",
       "(6790.514, 10185.539]      308117\n",
       "(10185.539, 13580.564]     190945\n",
       "(13580.564, 16975.589]     115181\n",
       "(16975.589, 20370.614]      66376\n",
       "(20370.614, 23765.639]      45904\n",
       "(23765.639, 27160.665]      34515\n",
       "(27160.665, 30555.69]       26325\n",
       "(30555.69, 33950.715]       18919\n",
       "(33950.715, 37345.74]       13979\n",
       "(37345.74, 40740.765]       10206\n",
       "(40740.765, 44135.79]        6763\n",
       "(44135.79, 47530.815]        4627\n",
       "(47530.815, 50925.84]        3039\n",
       "(50925.84, 54320.865]        1882\n",
       "(54320.865, 57715.89]         726\n",
       "(57715.89, 61110.916]         343\n",
       "(61110.916, 64505.941]         62\n",
       "(64505.941, 67900.966]         38\n",
       "Name: agg_r, dtype: int64"
      ]
     },
     "execution_count": 205,
     "metadata": {},
     "output_type": "execute_result"
    }
   ],
   "source": [
    "pd.qcut(np.log(df_repart.agg_phi.compute()), bins=20)"
   ]
  },
  {
   "cell_type": "code",
   "execution_count": 16,
   "metadata": {},
   "outputs": [
    {
     "data": {
      "text/plain": [
       "(19.571, 78.331]                  411622\n",
       "(12.106, 19.571]                  411622\n",
       "(0.149, 0.195]                    411622\n",
       "(0.195, 0.233]                    411622\n",
       "(0.233, 0.262]                    411622\n",
       "(0.262, 0.287]                    411622\n",
       "(0.287, 0.31]                     411622\n",
       "(0.31, 0.334]                     411622\n",
       "(0.334, 0.362]                    411622\n",
       "(0.362, 0.405]                    411622\n",
       "(0.405, 1.051]                    411622\n",
       "(1.695, 2.058]                    411622\n",
       "(2.058, 2.586]                    411622\n",
       "(2.586, 3.344]                    411622\n",
       "(3.344, 4.379]                    411622\n",
       "(4.379, 5.928]                    411622\n",
       "(5.928, 8.168]                    411622\n",
       "(8.168, 12.106]                   411622\n",
       "(0.0057799999999999995, 0.149]    411622\n",
       "(1.051, 1.695]                    411621\n",
       "Name: agg_phi, dtype: int64"
      ]
     },
     "execution_count": 16,
     "metadata": {},
     "output_type": "execute_result"
    }
   ],
   "source": [
    "res.value_counts()"
   ]
  },
  {
   "cell_type": "code",
   "execution_count": 33,
   "metadata": {},
   "outputs": [
    {
     "name": "stdout",
     "output_type": "stream",
     "text": [
      "200\n",
      "5103.192663192749\n"
     ]
    }
   ],
   "source": [
    "#df_concat._meta.dtypes\n",
    "#df_concat.divisions\n",
    "print(df_concat.npartitions)\n",
    "print(df_concat.memory_usage(deep=True).sum().compute() / 1024**2)  #5.1 GB"
   ]
  },
  {
   "cell_type": "markdown",
   "metadata": {},
   "source": [
    "## Test agg agg queries for collection "
   ]
  },
  {
   "cell_type": "code",
   "execution_count": 149,
   "metadata": {},
   "outputs": [
    {
     "data": {
      "text/plain": [
       "(0, 1000)"
      ]
     },
     "execution_count": 149,
     "metadata": {},
     "output_type": "execute_result"
    },
    {
     "data": {
      "image/png": "[encoded data removed]",
      "text/plain": [
       "<Figure size 432x288 with 1 Axes>"
      ]
     },
     "metadata": {
      "needs_background": "light"
     },
     "output_type": "display_data"
    }
   ],
   "source": [
    "pd_df.agg_r.hist(bins=800)\n",
    "plt.xlim(0,1000)"
   ]
  },
  {
   "cell_type": "code",
   "execution_count": 193,
   "metadata": {},
   "outputs": [
    {
     "data": {
      "image/png": "[encoded data removed]",
      "text/plain": [
       "<Figure size 432x288 with 1 Axes>"
      ]
     },
     "metadata": {
      "needs_background": "light"
     },
     "output_type": "display_data"
    }
   ],
   "source": [
    "plt.hist(df_repart.agg_phi.compute(), bins =10)\n",
    "plt.show()"
   ]
  },
  {
   "cell_type": "code",
   "execution_count": 24,
   "metadata": {},
   "outputs": [],
   "source": [
    "def query_phi(df_repart, phi_lower, phi_upper):\n",
    "    df = df_repart[(df_repart.agg_phi > phi_lower) & (df_repart.agg_phi < phi_upper)]\n",
    "    return df\n",
    "\n",
    "\n",
    "def query_r(df_phi, r, factor):\n",
    "    r_lower = r-(r/factor)\n",
    "    r_upper = r+(r/factor)\n",
    "\n",
    "    #print('r bounds ', r_lower, r_upper)\n",
    "    df = df_phi[(df_phi.agg_r > r_lower) & (df_phi.agg_r < r_upper)]\n",
    "   \n",
    "\n",
    "    return df\n"
   ]
  },
  {
   "cell_type": "code",
   "execution_count": 29,
   "metadata": {},
   "outputs": [
    {
     "name": "stdout",
     "output_type": "stream",
     "text": [
      "i =  0\n",
      "(2.8400000000000003, 24.132]    20582\n",
      "(10422.476, 13430.697]          20581\n",
      "(24.132, 40.659]                20581\n",
      "(40.659, 58.937]                20581\n",
      "(58.937, 79.55]                 20581\n",
      "(79.55, 102.395]                20581\n",
      "(102.395, 128.996]              20581\n",
      "(128.996, 187.211]              20581\n",
      "(187.211, 330.809]              20581\n",
      "(330.809, 500.453]              20581\n",
      "(13430.697, 48863.974]          20581\n",
      "(692.188, 895.853]              20581\n",
      "(895.853, 1126.417]             20581\n",
      "(1126.417, 1427.076]            20581\n",
      "(1427.076, 2554.146]            20581\n",
      "(2554.146, 4149.135]            20581\n",
      "(4149.135, 5992.377]            20581\n",
      "(5992.377, 8074.975]            20581\n",
      "(8074.975, 10422.476]           20581\n",
      "(500.453, 692.188]              20581\n",
      "Name: agg_r, dtype: int64 [2.84071712e+00 2.41324284e+01 4.06593347e+01 5.89365747e+01\n",
      " 7.95499515e+01 1.02394818e+02 1.28995535e+02 1.87210968e+02\n",
      " 3.30809064e+02 5.00452807e+02 6.92187656e+02 8.95853279e+02\n",
      " 1.12641696e+03 1.42707575e+03 2.55414583e+03 4.14913485e+03\n",
      " 5.99237708e+03 8.07497455e+03 1.04224756e+04 1.34306968e+04\n",
      " 4.88639743e+04]\n",
      "ragg [2.84071712e+00 2.41324284e+01 4.06593347e+01 5.89365747e+01\n",
      " 7.95499515e+01 1.02394818e+02 1.28995535e+02 1.87210968e+02\n",
      " 3.30809064e+02 5.00452807e+02 6.92187656e+02 8.95853279e+02\n",
      " 1.12641696e+03 1.42707575e+03 2.55414583e+03 4.14913485e+03\n",
      " 5.99237708e+03 8.07497455e+03 1.04224756e+04 1.34306968e+04\n",
      " 4.88639743e+04]\n",
      "i =  1\n",
      "(13289.259, 60732.6]     20582\n",
      "(2.859, 23.251]          20582\n",
      "(7889.29, 10014.57]      20581\n",
      "(6011.729, 7889.29]      20581\n",
      "(23.251, 40.029]         20581\n",
      "(40.029, 58.372]         20581\n",
      "(58.372, 77.346]         20581\n",
      "(77.346, 98.261]         20581\n",
      "(98.261, 128.394]        20581\n",
      "(128.394, 208.775]       20581\n",
      "(208.775, 336.289]       20581\n",
      "(336.289, 498.698]       20581\n",
      "(10014.57, 13289.259]    20581\n",
      "(683.54, 881.013]        20581\n",
      "(881.013, 1127.71]       20581\n",
      "(1127.71, 1553.473]      20581\n",
      "(1553.473, 2727.042]     20581\n",
      "(2727.042, 4238.052]     20581\n",
      "(4238.052, 6011.729]     20581\n",
      "(498.698, 683.54]        20581\n",
      "Name: agg_r, dtype: int64 [2.85983603e+00 2.32511349e+01 4.00293471e+01 5.83715010e+01\n",
      " 7.73457833e+01 9.82612245e+01 1.28394423e+02 2.08775047e+02\n",
      " 3.36289266e+02 4.98698346e+02 6.83540063e+02 8.81013129e+02\n",
      " 1.12771040e+03 1.55347298e+03 2.72704200e+03 4.23805168e+03\n",
      " 6.01172924e+03 7.88929023e+03 1.00145700e+04 1.32892590e+04\n",
      " 6.07326001e+04]\n",
      "ragg [2.85983603e+00 2.32511349e+01 4.00293471e+01 5.83715010e+01\n",
      " 7.73457833e+01 9.82612245e+01 1.28394423e+02 2.08775047e+02\n",
      " 3.36289266e+02 4.98698346e+02 6.83540063e+02 8.81013129e+02\n",
      " 1.12771040e+03 1.55347298e+03 2.72704200e+03 4.23805168e+03\n",
      " 6.01172924e+03 7.88929023e+03 1.00145700e+04 1.32892590e+04\n",
      " 6.07326001e+04]\n",
      "i =  2\n",
      "(16304.382, 64823.343]    20582\n",
      "(2.484, 24.065]           20582\n",
      "(8440.081, 11112.95]      20581\n",
      "(6337.082, 8440.081]      20581\n",
      "(24.065, 41.497]          20581\n",
      "(41.497, 59.82]           20581\n",
      "(59.82, 80.568]           20581\n",
      "(80.568, 106.81]          20581\n",
      "(106.81, 146.673]         20581\n",
      "(146.673, 237.422]        20581\n",
      "(237.422, 363.648]        20581\n",
      "(363.648, 527.864]        20581\n",
      "(11112.95, 16304.382]     20581\n",
      "(718.436, 946.626]        20581\n",
      "(946.626, 1263.939]       20581\n",
      "(1263.939, 1939.424]      20581\n",
      "(1939.424, 3011.902]      20581\n",
      "(3011.902, 4511.421]      20581\n",
      "(4511.421, 6337.082]      20581\n",
      "(527.864, 718.436]        20581\n",
      "Name: agg_r, dtype: int64 [2.48489018e+00 2.40646058e+01 4.14966160e+01 5.98195512e+01\n",
      " 8.05676465e+01 1.06809872e+02 1.46673141e+02 2.37421902e+02\n",
      " 3.63648380e+02 5.27864248e+02 7.18436001e+02 9.46625588e+02\n",
      " 1.26393918e+03 1.93942361e+03 3.01190228e+03 4.51142146e+03\n",
      " 6.33708246e+03 8.44008121e+03 1.11129495e+04 1.63043820e+04\n",
      " 6.48233431e+04]\n",
      "ragg [2.48489018e+00 2.40646058e+01 4.14966160e+01 5.98195512e+01\n",
      " 8.05676465e+01 1.06809872e+02 1.46673141e+02 2.37421902e+02\n",
      " 3.63648380e+02 5.27864248e+02 7.18436001e+02 9.46625588e+02\n",
      " 1.26393918e+03 1.93942361e+03 3.01190228e+03 4.51142146e+03\n",
      " 6.33708246e+03 8.44008121e+03 1.11129495e+04 1.63043820e+04\n",
      " 6.48233431e+04]\n",
      "i =  3\n",
      "(19318.645, 67900.966]    20582\n",
      "(2.438, 25.888]           20582\n",
      "(9314.337, 12569.472]     20581\n",
      "(6851.399, 9314.337]      20581\n",
      "(25.888, 44.404]          20581\n",
      "(44.404, 64.684]          20581\n",
      "(64.684, 89.135]          20581\n",
      "(89.135, 119.095]         20581\n",
      "(119.095, 166.673]        20581\n",
      "(166.673, 255.595]        20581\n",
      "(255.595, 383.507]        20581\n",
      "(383.507, 558.528]        20581\n",
      "(12569.472, 19318.645]    20581\n",
      "(788.046, 1058.424]       20581\n",
      "(1058.424, 1436.956]      20581\n",
      "(1436.956, 2153.41]       20581\n",
      "(2153.41, 3248.851]       20581\n",
      "(3248.851, 4736.192]      20581\n",
      "(4736.192, 6851.399]      20581\n",
      "(558.528, 788.046]        20581\n",
      "Name: agg_r, dtype: int64 [2.43876618e+00 2.58881816e+01 4.44044536e+01 6.46842049e+01\n",
      " 8.91348116e+01 1.19094910e+02 1.66672777e+02 2.55595058e+02\n",
      " 3.83507022e+02 5.58528111e+02 7.88046220e+02 1.05842397e+03\n",
      " 1.43695587e+03 2.15341043e+03 3.24885058e+03 4.73619177e+03\n",
      " 6.85139871e+03 9.31433739e+03 1.25694720e+04 1.93186453e+04\n",
      " 6.79009657e+04]\n",
      "ragg [2.43876618e+00 2.58881816e+01 4.44044536e+01 6.46842049e+01\n",
      " 8.91348116e+01 1.19094910e+02 1.66672777e+02 2.55595058e+02\n",
      " 3.83507022e+02 5.58528111e+02 7.88046220e+02 1.05842397e+03\n",
      " 1.43695587e+03 2.15341043e+03 3.24885058e+03 4.73619177e+03\n",
      " 6.85139871e+03 9.31433739e+03 1.25694720e+04 1.93186453e+04\n",
      " 6.79009657e+04]\n",
      "i =  4\n",
      "(21065.001, 65689.068]    20582\n",
      "(2.478, 27.252]           20582\n",
      "(10148.38, 13776.683]     20581\n",
      "(7338.763, 10148.38]      20581\n",
      "(27.252, 46.789]          20581\n",
      "(46.789, 68.76]           20581\n",
      "(68.76, 94.94]            20581\n",
      "(94.94, 127.011]          20581\n",
      "(127.011, 176.772]        20581\n",
      "(176.772, 264.805]        20581\n",
      "(264.805, 397.144]        20581\n",
      "(397.144, 587.044]        20581\n",
      "(13776.683, 21065.001]    20581\n",
      "(836.215, 1126.412]       20581\n",
      "(1126.412, 1534.174]      20581\n",
      "(1534.174, 2294.149]      20581\n",
      "(2294.149, 3394.468]      20581\n",
      "(3394.468, 5043.96]       20581\n",
      "(5043.96, 7338.763]       20581\n",
      "(587.044, 836.215]        20581\n",
      "Name: agg_r, dtype: int64 [2.47890109e+00 2.72519537e+01 4.67891183e+01 6.87603686e+01\n",
      " 9.49400839e+01 1.27010527e+02 1.76771570e+02 2.64804653e+02\n",
      " 3.97143724e+02 5.87044313e+02 8.36215261e+02 1.12641168e+03\n",
      " 1.53417404e+03 2.29414897e+03 3.39446782e+03 5.04395985e+03\n",
      " 7.33876349e+03 1.01483804e+04 1.37766833e+04 2.10650006e+04\n",
      " 6.56890679e+04]\n",
      "ragg [2.47890109e+00 2.72519537e+01 4.67891183e+01 6.87603686e+01\n",
      " 9.49400839e+01 1.27010527e+02 1.76771570e+02 2.64804653e+02\n",
      " 3.97143724e+02 5.87044313e+02 8.36215261e+02 1.12641168e+03\n",
      " 1.53417404e+03 2.29414897e+03 3.39446782e+03 5.04395985e+03\n",
      " 7.33876349e+03 1.01483804e+04 1.37766833e+04 2.10650006e+04\n",
      " 6.56890679e+04]\n",
      "i =  5\n",
      "(21449.645, 63729.812]    20582\n",
      "(2.496, 27.911]           20582\n",
      "(10422.075, 14194.993]    20581\n",
      "(7555.436, 10422.075]     20581\n",
      "(27.911, 48.362]          20581\n",
      "(48.362, 72.445]          20581\n",
      "(72.445, 99.563]          20581\n",
      "(99.563, 133.733]         20581\n",
      "(133.733, 185.816]        20581\n",
      "(185.816, 268.926]        20581\n",
      "(268.926, 401.829]        20581\n",
      "(401.829, 608.209]        20581\n",
      "(14194.993, 21449.645]    20581\n",
      "(871.464, 1173.338]       20581\n",
      "(1173.338, 1594.396]      20581\n",
      "(1594.396, 2311.661]      20581\n",
      "(2311.661, 3400.887]      20581\n",
      "(3400.887, 5103.693]      20581\n",
      "(5103.693, 7555.436]      20581\n",
      "(608.209, 871.464]        20581\n",
      "Name: agg_r, dtype: int64 [2.49734249e+00 2.79108188e+01 4.83621671e+01 7.24451281e+01\n",
      " 9.95634155e+01 1.33733249e+02 1.85815500e+02 2.68926350e+02\n",
      " 4.01829110e+02 6.08208561e+02 8.71464154e+02 1.17333770e+03\n",
      " 1.59439646e+03 2.31166059e+03 3.40088654e+03 5.10369298e+03\n",
      " 7.55543564e+03 1.04220753e+04 1.41949928e+04 2.14496448e+04\n",
      " 6.37298118e+04]\n",
      "ragg [2.49734249e+00 2.79108188e+01 4.83621671e+01 7.24451281e+01\n",
      " 9.95634155e+01 1.33733249e+02 1.85815500e+02 2.68926350e+02\n",
      " 4.01829110e+02 6.08208561e+02 8.71464154e+02 1.17333770e+03\n",
      " 1.59439646e+03 2.31166059e+03 3.40088654e+03 5.10369298e+03\n",
      " 7.55543564e+03 1.04220753e+04 1.41949928e+04 2.14496448e+04\n",
      " 6.37298118e+04]\n",
      "i =  6\n",
      "(21626.313, 61470.139]          20582\n",
      "(2.3890000000000002, 27.194]    20582\n",
      "(10657.777, 14565.662]          20581\n",
      "(7711.776, 10657.777]           20581\n",
      "(27.194, 47.775]                20581\n",
      "(47.775, 71.652]                20581\n",
      "(71.652, 99.286]                20581\n",
      "(99.286, 133.883]               20581\n",
      "(133.883, 185.619]              20581\n",
      "(185.619, 269.833]              20581\n",
      "(269.833, 400.658]              20581\n",
      "(400.658, 617.693]              20581\n",
      "(14565.662, 21626.313]          20581\n",
      "(882.567, 1192.468]             20581\n",
      "(1192.468, 1611.137]            20581\n",
      "(1611.137, 2303.432]            20581\n",
      "(2303.432, 3414.33]             20581\n",
      "(3414.33, 5179.321]             20581\n",
      "(5179.321, 7711.776]            20581\n",
      "(617.693, 882.567]              20581\n",
      "Name: agg_r, dtype: int64 [2.38972384e+00 2.71937665e+01 4.77746566e+01 7.16522128e+01\n",
      " 9.92862837e+01 1.33882914e+02 1.85619145e+02 2.69833189e+02\n",
      " 4.00658107e+02 6.17692707e+02 8.82566543e+02 1.19246766e+03\n",
      " 1.61113724e+03 2.30343201e+03 3.41432974e+03 5.17932079e+03\n",
      " 7.71177615e+03 1.06577766e+04 1.45656618e+04 2.16263132e+04\n",
      " 6.14701393e+04]\n",
      "ragg [2.38972384e+00 2.71937665e+01 4.77746566e+01 7.16522128e+01\n",
      " 9.92862837e+01 1.33882914e+02 1.85619145e+02 2.69833189e+02\n",
      " 4.00658107e+02 6.17692707e+02 8.82566543e+02 1.19246766e+03\n",
      " 1.61113724e+03 2.30343201e+03 3.41432974e+03 5.17932079e+03\n",
      " 7.71177615e+03 1.06577766e+04 1.45656618e+04 2.16263132e+04\n",
      " 6.14701393e+04]\n",
      "i =  7\n",
      "(20826.28, 62522.055]           20582\n",
      "(2.2150000000000003, 26.541]    20582\n",
      "(10295.09, 14100.964]           20581\n",
      "(7360.469, 10295.09]            20581\n",
      "(26.541, 45.957]                20581\n",
      "(45.957, 69.681]                20581\n",
      "(69.681, 96.935]                20581\n",
      "(96.935, 130.103]               20581\n",
      "(130.103, 180.561]              20581\n",
      "(180.561, 260.104]              20581\n",
      "(260.104, 383.328]              20581\n",
      "(383.328, 588.248]              20581\n",
      "(14100.964, 20826.28]           20581\n",
      "(846.304, 1149.702]             20581\n",
      "(1149.702, 1546.299]            20581\n",
      "(1546.299, 2197.999]            20581\n",
      "(2197.999, 3255.622]            20581\n",
      "(3255.622, 4937.4]              20581\n",
      "(4937.4, 7360.469]              20581\n",
      "(588.248, 846.304]              20581\n",
      "Name: agg_r, dtype: int64 [2.21593278e+00 2.65405317e+01 4.59572799e+01 6.96808354e+01\n",
      " 9.69349048e+01 1.30103242e+02 1.80560624e+02 2.60104382e+02\n",
      " 3.83328246e+02 5.88247609e+02 8.46304412e+02 1.14970202e+03\n",
      " 1.54629928e+03 2.19799893e+03 3.25562157e+03 4.93740041e+03\n",
      " 7.36046859e+03 1.02950902e+04 1.41009635e+04 2.08262796e+04\n",
      " 6.25220554e+04]\n",
      "ragg [2.21593278e+00 2.65405317e+01 4.59572799e+01 6.96808354e+01\n",
      " 9.69349048e+01 1.30103242e+02 1.80560624e+02 2.60104382e+02\n",
      " 3.83328246e+02 5.88247609e+02 8.46304412e+02 1.14970202e+03\n",
      " 1.54629928e+03 2.19799893e+03 3.25562157e+03 4.93740041e+03\n",
      " 7.36046859e+03 1.02950902e+04 1.41009635e+04 2.08262796e+04\n",
      " 6.25220554e+04]\n",
      "i =  8\n",
      "(19784.959, 59006.424]          20582\n",
      "(2.0820000000000003, 23.666]    20582\n",
      "(9555.718, 13300.364]           20581\n",
      "(6808.013, 9555.718]            20581\n",
      "(23.666, 42.326]                20581\n",
      "(42.326, 63.812]                20581\n",
      "(63.812, 89.129]                20581\n",
      "(89.129, 120.954]               20581\n",
      "(120.954, 166.111]              20581\n",
      "(166.111, 242.673]              20581\n",
      "(242.673, 359.069]              20581\n",
      "(359.069, 552.169]              20581\n",
      "(13300.364, 19784.959]          20581\n",
      "(792.676, 1078.163]             20581\n",
      "(1078.163, 1458.202]            20581\n",
      "(1458.202, 2058.134]            20581\n",
      "(2058.134, 3017.297]            20581\n",
      "(3017.297, 4539.973]            20581\n",
      "(4539.973, 6808.013]            20581\n",
      "(552.169, 792.676]              20581\n",
      "Name: agg_r, dtype: int64 [2.08283001e+00 2.36658961e+01 4.23255370e+01 6.38120536e+01\n",
      " 8.91293700e+01 1.20953873e+02 1.66111033e+02 2.42673201e+02\n",
      " 3.59068926e+02 5.52168574e+02 7.92676016e+02 1.07816312e+03\n",
      " 1.45820213e+03 2.05813369e+03 3.01729711e+03 4.53997291e+03\n",
      " 6.80801251e+03 9.55571771e+03 1.33003644e+04 1.97849593e+04\n",
      " 5.90064240e+04]\n",
      "ragg [2.08283001e+00 2.36658961e+01 4.23255370e+01 6.38120536e+01\n",
      " 8.91293700e+01 1.20953873e+02 1.66111033e+02 2.42673201e+02\n",
      " 3.59068926e+02 5.52168574e+02 7.92676016e+02 1.07816312e+03\n",
      " 1.45820213e+03 2.05813369e+03 3.01729711e+03 4.53997291e+03\n",
      " 6.80801251e+03 9.55571771e+03 1.33003644e+04 1.97849593e+04\n",
      " 5.90064240e+04]\n",
      "i =  9\n",
      "(1.8820000000000001, 17.369]    20582\n",
      "(10834.963, 16674.25]           20581\n",
      "(17.369, 30.538]                20581\n",
      "(30.538, 47.663]                20581\n",
      "(47.663, 68.513]                20581\n",
      "(68.513, 94.756]                20581\n",
      "(94.756, 130.891]               20581\n",
      "(130.891, 184.577]              20581\n",
      "(184.577, 264.22]               20581\n",
      "(264.22, 398.179]               20581\n",
      "(16674.25, 56811.57]            20581\n",
      "(595.698, 838.57]               20581\n",
      "(838.57, 1158.848]              20581\n",
      "(1158.848, 1617.175]            20581\n",
      "(1617.175, 2311.091]            20581\n",
      "(2311.091, 3398.982]            20581\n",
      "(3398.982, 5148.435]            20581\n",
      "(5148.435, 7551.483]            20581\n",
      "(7551.483, 10834.963]           20581\n",
      "(398.179, 595.698]              20581\n",
      "Name: agg_r, dtype: int64 [1.88344982e+00 1.73687270e+01 3.05378534e+01 4.76631852e+01\n",
      " 6.85132386e+01 9.47563011e+01 1.30890966e+02 1.84576576e+02\n",
      " 2.64220478e+02 3.98178755e+02 5.95698339e+02 8.38570024e+02\n",
      " 1.15884779e+03 1.61717544e+03 2.31109074e+03 3.39898210e+03\n",
      " 5.14843451e+03 7.55148340e+03 1.08349628e+04 1.66742503e+04\n",
      " 5.68115705e+04]\n",
      "ragg [1.88344982e+00 1.73687270e+01 3.05378534e+01 4.76631852e+01\n",
      " 6.85132386e+01 9.47563011e+01 1.30890966e+02 1.84576576e+02\n",
      " 2.64220478e+02 3.98178755e+02 5.95698339e+02 8.38570024e+02\n",
      " 1.15884779e+03 1.61717544e+03 2.31109074e+03 3.39898210e+03\n",
      " 5.14843451e+03 7.55148340e+03 1.08349628e+04 1.66742503e+04\n",
      " 5.68115705e+04]\n",
      "i =  10\n",
      "(1.4920000000000002, 9.893]    20582\n",
      "(4697.549, 6006.043]           20581\n",
      "(9.893, 17.656]                20581\n",
      "(17.656, 25.859]               20581\n",
      "(25.859, 34.615]               20581\n",
      "(34.615, 44.838]               20581\n",
      "(44.838, 57.484]               20581\n",
      "(57.484, 75.901]               20581\n",
      "(75.901, 149.217]              20581\n",
      "(149.217, 226.914]             20581\n",
      "(6006.043, 10463.324]          20581\n",
      "(312.335, 408.614]             20581\n",
      "(408.614, 518.929]             20581\n",
      "(518.929, 669.49]              20581\n",
      "(669.49, 1205.607]             20581\n",
      "(1205.607, 1953.846]           20581\n",
      "(1953.846, 2778.604]           20581\n",
      "(2778.604, 3663.202]           20581\n",
      "(3663.202, 4697.549]           20581\n",
      "(226.914, 312.335]             20581\n",
      "Name: agg_r, dtype: int64 [1.49291417e+00 9.89252125e+00 1.76555009e+01 2.58588859e+01\n",
      " 3.46149281e+01 4.48379865e+01 5.74838511e+01 7.59006117e+01\n",
      " 1.49217444e+02 2.26914034e+02 3.12335424e+02 4.08614248e+02\n",
      " 5.18928854e+02 6.69489804e+02 1.20560663e+03 1.95384645e+03\n",
      " 2.77860355e+03 3.66320224e+03 4.69754940e+03 6.00604316e+03\n",
      " 1.04633243e+04]\n",
      "ragg [1.49291417e+00 9.89252125e+00 1.76555009e+01 2.58588859e+01\n",
      " 3.46149281e+01 4.48379865e+01 5.74838511e+01 7.59006117e+01\n",
      " 1.49217444e+02 2.26914034e+02 3.12335424e+02 4.08614248e+02\n",
      " 5.18928854e+02 6.69489804e+02 1.20560663e+03 1.95384645e+03\n",
      " 2.77860355e+03 3.66320224e+03 4.69754940e+03 6.00604316e+03\n",
      " 1.04633243e+04]\n",
      "i =  11\n",
      "(5629.074, 10406.338]          20582\n",
      "(1.3530000000000002, 8.711]    20582\n",
      "(3286.38, 4323.459]            20581\n",
      "(2416.151, 3286.38]            20581\n",
      "(8.711, 15.745]                20581\n",
      "(15.745, 22.999]               20581\n",
      "(22.999, 31.355]               20581\n",
      "(31.355, 41.078]               20581\n",
      "(41.078, 52.887]               20581\n",
      "(52.887, 69.643]               20581\n",
      "(69.643, 130.627]              20581\n",
      "(130.627, 200.163]             20581\n",
      "(4323.459, 5629.074]           20581\n",
      "(277.11, 369.216]              20581\n",
      "(369.216, 476.701]             20581\n",
      "(476.701, 616.363]             20581\n",
      "(616.363, 992.625]             20581\n",
      "(992.625, 1669.389]            20581\n",
      "(1669.389, 2416.151]           20581\n",
      "(200.163, 277.11]              20581\n",
      "Name: agg_r, dtype: int64 [1.35421370e+00 8.71109861e+00 1.57453993e+01 2.29987859e+01\n",
      " 3.13548115e+01 4.10778030e+01 5.28866072e+01 6.96427751e+01\n",
      " 1.30626567e+02 2.00163474e+02 2.77110109e+02 3.69216481e+02\n",
      " 4.76700916e+02 6.16363406e+02 9.92625039e+02 1.66938905e+03\n",
      " 2.41615058e+03 3.28637962e+03 4.32345883e+03 5.62907408e+03\n",
      " 1.04063383e+04]\n",
      "ragg [1.35421370e+00 8.71109861e+00 1.57453993e+01 2.29987859e+01\n",
      " 3.13548115e+01 4.10778030e+01 5.28866072e+01 6.96427751e+01\n",
      " 1.30626567e+02 2.00163474e+02 2.77110109e+02 3.69216481e+02\n",
      " 4.76700916e+02 6.16363406e+02 9.92625039e+02 1.66938905e+03\n",
      " 2.41615058e+03 3.28637962e+03 4.32345883e+03 5.62907408e+03\n",
      " 1.04063383e+04]\n",
      "i =  12\n",
      "(5350.404, 9810.946]           20582\n",
      "(1.2850000000000001, 8.383]    20582\n",
      "(3110.6, 4073.776]             20581\n",
      "(2298.282, 3110.6]             20581\n",
      "(8.383, 15.014]                20581\n",
      "(15.014, 21.837]               20581\n",
      "(21.837, 29.503]               20581\n",
      "(29.503, 38.985]               20581\n",
      "(38.985, 50.094]               20581\n",
      "(50.094, 67.035]               20581\n",
      "(67.035, 125.086]              20581\n",
      "(125.086, 190.447]             20581\n",
      "(4073.776, 5350.404]           20581\n",
      "(263.087, 346.108]             20581\n",
      "(346.108, 447.862]             20581\n",
      "(447.862, 586.607]             20581\n",
      "(586.607, 935.005]             20581\n",
      "(935.005, 1596.168]            20581\n",
      "(1596.168, 2298.282]           20581\n",
      "(190.447, 263.087]             20581\n",
      "Name: agg_r, dtype: int64 [1.28607664e+00 8.38280144e+00 1.50141736e+01 2.18365950e+01\n",
      " 2.95032072e+01 3.89848745e+01 5.00938103e+01 6.70345560e+01\n",
      " 1.25085693e+02 1.90447433e+02 2.63087303e+02 3.46107595e+02\n",
      " 4.47862098e+02 5.86606688e+02 9.35005416e+02 1.59616845e+03\n",
      " 2.29828156e+03 3.11060045e+03 4.07377569e+03 5.35040450e+03\n",
      " 9.81094550e+03]\n",
      "ragg [1.28607664e+00 8.38280144e+00 1.50141736e+01 2.18365950e+01\n",
      " 2.95032072e+01 3.89848745e+01 5.00938103e+01 6.70345560e+01\n",
      " 1.25085693e+02 1.90447433e+02 2.63087303e+02 3.46107595e+02\n",
      " 4.47862098e+02 5.86606688e+02 9.35005416e+02 1.59616845e+03\n",
      " 2.29828156e+03 3.11060045e+03 4.07377569e+03 5.35040450e+03\n",
      " 9.81094550e+03]\n",
      "i =  13\n",
      "(5120.082, 9978.935]          20582\n",
      "(1.1500000000000001, 8.39]    20582\n",
      "(2999.094, 3928.35]           20581\n",
      "(2261.419, 2999.094]          20581\n",
      "(8.39, 15.083]                20581\n",
      "(15.083, 21.84]               20581\n",
      "(21.84, 29.063]               20581\n",
      "(29.063, 37.493]              20581\n",
      "(37.493, 48.108]              20581\n",
      "(48.108, 63.908]              20581\n",
      "(63.908, 121.947]             20581\n",
      "(121.947, 186.198]            20581\n",
      "(3928.35, 5120.082]           20581\n",
      "(253.153, 330.694]            20581\n",
      "(330.694, 425.259]            20581\n",
      "(425.259, 553.15]             20581\n",
      "(553.15, 918.492]             20581\n",
      "(918.492, 1590.198]           20581\n",
      "(1590.198, 2261.419]          20581\n",
      "(186.198, 253.153]            20581\n",
      "Name: agg_r, dtype: int64 [1.15125822e+00 8.39007286e+00 1.50829428e+01 2.18395114e+01\n",
      " 2.90632125e+01 3.74933343e+01 4.81075995e+01 6.39076403e+01\n",
      " 1.21946709e+02 1.86197985e+02 2.53152783e+02 3.30693852e+02\n",
      " 4.25258768e+02 5.53149942e+02 9.18491723e+02 1.59019842e+03\n",
      " 2.26141882e+03 2.99909405e+03 3.92834963e+03 5.12008175e+03\n",
      " 9.97893452e+03]\n",
      "ragg [1.15125822e+00 8.39007286e+00 1.50829428e+01 2.18395114e+01\n",
      " 2.90632125e+01 3.74933343e+01 4.81075995e+01 6.39076403e+01\n",
      " 1.21946709e+02 1.86197985e+02 2.53152783e+02 3.30693852e+02\n",
      " 4.25258768e+02 5.53149942e+02 9.18491723e+02 1.59019842e+03\n",
      " 2.26141882e+03 2.99909405e+03 3.92834963e+03 5.12008175e+03\n",
      " 9.97893452e+03]\n",
      "i =  14\n",
      "(4884.898, 9697.261]    20582\n",
      "(1.082, 8.259]          20582\n",
      "(2941.161, 3777.389]    20581\n",
      "(2217.783, 2941.161]    20581\n",
      "(8.259, 14.878]         20581\n",
      "(14.878, 21.885]        20581\n",
      "(21.885, 28.968]        20581\n",
      "(28.968, 37.236]        20581\n",
      "(37.236, 47.851]        20581\n",
      "(47.851, 65.28]         20581\n",
      "(65.28, 122.291]        20581\n",
      "(122.291, 185.196]      20581\n",
      "(3777.389, 4884.898]    20581\n",
      "(253.005, 329.029]      20581\n",
      "(329.029, 418.796]      20581\n",
      "(418.796, 548.002]      20581\n",
      "(548.002, 916.644]      20581\n",
      "(916.644, 1558.296]     20581\n",
      "(1558.296, 2217.783]    20581\n",
      "(185.196, 253.005]      20581\n",
      "Name: agg_r, dtype: int64 [1.08339894e+00 8.25929540e+00 1.48777163e+01 2.18846945e+01\n",
      " 2.89680892e+01 3.72362579e+01 4.78514212e+01 6.52804758e+01\n",
      " 1.22291056e+02 1.85196195e+02 2.53005249e+02 3.29028687e+02\n",
      " 4.18796406e+02 5.48002202e+02 9.16644039e+02 1.55829633e+03\n",
      " 2.21778270e+03 2.94116054e+03 3.77738868e+03 4.88489832e+03\n",
      " 9.69726062e+03]\n",
      "ragg [1.08339894e+00 8.25929540e+00 1.48777163e+01 2.18846945e+01\n",
      " 2.89680892e+01 3.72362579e+01 4.78514212e+01 6.52804758e+01\n",
      " 1.22291056e+02 1.85196195e+02 2.53005249e+02 3.29028687e+02\n",
      " 4.18796406e+02 5.48002202e+02 9.16644039e+02 1.55829633e+03\n",
      " 2.21778270e+03 2.94116054e+03 3.77738868e+03 4.88489832e+03\n",
      " 9.69726062e+03]\n",
      "i =  15\n",
      "(4501.249, 9373.02]     20582\n",
      "(0.962, 7.781]          20582\n",
      "(2748.327, 3520.352]    20581\n",
      "(2088.243, 2748.327]    20581\n",
      "(7.781, 13.842]         20581\n",
      "(13.842, 19.96]         20581\n",
      "(19.96, 26.533]         20581\n",
      "(26.533, 33.88]         20581\n",
      "(33.88, 42.825]         20581\n",
      "(42.825, 58.152]        20581\n",
      "(58.152, 109.694]       20581\n",
      "(109.694, 169.931]      20581\n",
      "(3520.352, 4501.249]    20581\n",
      "(235.379, 308.736]      20581\n",
      "(308.736, 392.955]      20581\n",
      "(392.955, 506.636]      20581\n",
      "(506.636, 885.999]      20581\n",
      "(885.999, 1479.425]     20581\n",
      "(1479.425, 2088.243]    20581\n",
      "(169.931, 235.379]      20581\n",
      "Name: agg_r, dtype: int64 [9.62518906e-01 7.78135734e+00 1.38420667e+01 1.99595925e+01\n",
      " 2.65333830e+01 3.38801856e+01 4.28252588e+01 5.81524585e+01\n",
      " 1.09693866e+02 1.69931347e+02 2.35379234e+02 3.08735704e+02\n",
      " 3.92955164e+02 5.06635537e+02 8.85999154e+02 1.47942490e+03\n",
      " 2.08824319e+03 2.74832730e+03 3.52035231e+03 4.50124906e+03\n",
      " 9.37301953e+03]\n",
      "ragg [9.62518906e-01 7.78135734e+00 1.38420667e+01 1.99595925e+01\n",
      " 2.65333830e+01 3.38801856e+01 4.28252588e+01 5.81524585e+01\n",
      " 1.09693866e+02 1.69931347e+02 2.35379234e+02 3.08735704e+02\n",
      " 3.92955164e+02 5.06635537e+02 8.85999154e+02 1.47942490e+03\n",
      " 2.08824319e+03 2.74832730e+03 3.52035231e+03 4.50124906e+03\n",
      " 9.37301953e+03]\n",
      "i =  16\n",
      "(4447.384, 9131.959]    20582\n",
      "(0.9, 7.361]            20582\n",
      "(2676.409, 3443.718]    20581\n",
      "(2022.786, 2676.409]    20581\n",
      "(7.361, 13.114]         20581\n",
      "(13.114, 18.948]        20581\n",
      "(18.948, 25.345]        20581\n",
      "(25.345, 32.693]        20581\n",
      "(32.693, 41.563]        20581\n",
      "(41.563, 56.661]        20581\n",
      "(56.661, 105.275]       20581\n",
      "(105.275, 165.103]      20581\n",
      "(3443.718, 4447.384]    20581\n",
      "(227.299, 296.79]       20581\n",
      "(296.79, 378.546]       20581\n",
      "(378.546, 495.87]       20581\n",
      "(495.87, 840.478]       20581\n",
      "(840.478, 1415.74]      20581\n",
      "(1415.74, 2022.786]     20581\n",
      "(165.103, 227.299]      20581\n",
      "Name: agg_r, dtype: int64 [9.01215991e-01 7.36050119e+00 1.31137799e+01 1.89478219e+01\n",
      " 2.53450456e+01 3.26934574e+01 4.15633132e+01 5.66607886e+01\n",
      " 1.05275294e+02 1.65102781e+02 2.27299305e+02 2.96789741e+02\n",
      " 3.78546195e+02 4.95870116e+02 8.40477722e+02 1.41573965e+03\n",
      " 2.02278632e+03 2.67640941e+03 3.44371823e+03 4.44738365e+03\n",
      " 9.13195941e+03]\n",
      "ragg [9.01215991e-01 7.36050119e+00 1.31137799e+01 1.89478219e+01\n",
      " 2.53450456e+01 3.26934574e+01 4.15633132e+01 5.66607886e+01\n",
      " 1.05275294e+02 1.65102781e+02 2.27299305e+02 2.96789741e+02\n",
      " 3.78546195e+02 4.95870116e+02 8.40477722e+02 1.41573965e+03\n",
      " 2.02278632e+03 2.67640941e+03 3.44371823e+03 4.44738365e+03\n",
      " 9.13195941e+03]\n",
      "i =  17\n",
      "(3759.523, 8493.609]    20582\n",
      "(0.776, 6.311]          20582\n",
      "(2180.525, 2856.101]    20581\n",
      "(1598.979, 2180.525]    20581\n",
      "(6.311, 10.914]         20581\n",
      "(10.914, 15.661]        20581\n",
      "(15.661, 21.197]        20581\n",
      "(21.197, 27.54]         20581\n",
      "(27.54, 35.527]         20581\n",
      "(35.527, 51.536]        20581\n",
      "(51.536, 86.746]        20581\n",
      "(86.746, 135.003]       20581\n",
      "(2856.101, 3759.523]    20581\n",
      "(184.945, 241.108]      20581\n",
      "(241.108, 309.398]      20581\n",
      "(309.398, 403.198]      20581\n",
      "(403.198, 651.793]      20581\n",
      "(651.793, 1108.725]     20581\n",
      "(1108.725, 1598.979]    20581\n",
      "(135.003, 184.945]      20581\n",
      "Name: agg_r, dtype: int64 [7.77068686e-01 6.31098482e+00 1.09137352e+01 1.56612392e+01\n",
      " 2.11966835e+01 2.75403781e+01 3.55267086e+01 5.15360535e+01\n",
      " 8.67461360e+01 1.35002816e+02 1.84945101e+02 2.41108063e+02\n",
      " 3.09397759e+02 4.03197987e+02 6.51793430e+02 1.10872539e+03\n",
      " 1.59897907e+03 2.18052511e+03 2.85610087e+03 3.75952265e+03\n",
      " 8.49360906e+03]\n",
      "ragg [7.77068686e-01 6.31098482e+00 1.09137352e+01 1.56612392e+01\n",
      " 2.11966835e+01 2.75403781e+01 3.55267086e+01 5.15360535e+01\n",
      " 8.67461360e+01 1.35002816e+02 1.84945101e+02 2.41108063e+02\n",
      " 3.09397759e+02 4.03197987e+02 6.51793430e+02 1.10872539e+03\n",
      " 1.59897907e+03 2.18052511e+03 2.85610087e+03 3.75952265e+03\n",
      " 8.49360906e+03]\n",
      "i =  18\n",
      "(2820.57, 8166.691]     20582\n",
      "(0.659, 4.495]          20582\n",
      "(1704.894, 2187.805]    20581\n",
      "(1279.577, 1704.894]    20581\n",
      "(4.495, 8.206]          20581\n",
      "(8.206, 12.14]          20581\n",
      "(12.14, 16.309]         20581\n",
      "(16.309, 21.258]        20581\n",
      "(21.258, 27.023]        20581\n",
      "(27.023, 35.804]        20581\n",
      "(35.804, 69.014]        20581\n",
      "(69.014, 106.431]       20581\n",
      "(2187.805, 2820.57]     20581\n",
      "(145.842, 190.825]      20581\n",
      "(190.825, 242.643]      20581\n",
      "(242.643, 312.641]      20581\n",
      "(312.641, 542.47]       20581\n",
      "(542.47, 884.846]       20581\n",
      "(884.846, 1279.577]     20581\n",
      "(106.431, 145.842]      20581\n",
      "Name: agg_r, dtype: int64 [6.59554159e-01 4.49509488e+00 8.20600205e+00 1.21396037e+01\n",
      " 1.63093616e+01 2.12581943e+01 2.70230200e+01 3.58037938e+01\n",
      " 6.90139906e+01 1.06431215e+02 1.45841618e+02 1.90825163e+02\n",
      " 2.42643185e+02 3.12640690e+02 5.42470441e+02 8.84846026e+02\n",
      " 1.27957733e+03 1.70489403e+03 2.18780525e+03 2.82056977e+03\n",
      " 8.16669099e+03]\n",
      "ragg [6.59554159e-01 4.49509488e+00 8.20600205e+00 1.21396037e+01\n",
      " 1.63093616e+01 2.12581943e+01 2.70230200e+01 3.58037938e+01\n",
      " 6.90139906e+01 1.06431215e+02 1.45841618e+02 1.90825163e+02\n",
      " 2.42643185e+02 3.12640690e+02 5.42470441e+02 8.84846026e+02\n",
      " 1.27957733e+03 1.70489403e+03 2.18780525e+03 2.82056977e+03\n",
      " 8.16669099e+03]\n",
      "i =  19\n",
      "(0.463, 3.46]           20582\n",
      "(1806.071, 2360.07]     20581\n",
      "(3.46, 6.416]           20581\n",
      "(6.416, 9.635]          20581\n",
      "(9.635, 13.025]         20581\n",
      "(13.025, 16.945]        20581\n",
      "(16.945, 21.832]        20581\n",
      "(21.832, 29.006]        20581\n",
      "(29.006, 53.772]        20581\n",
      "(53.772, 85.09]         20581\n",
      "(2360.07, 4343.975]     20581\n",
      "(118.733, 156.948]      20581\n",
      "(156.948, 202.438]      20581\n",
      "(202.438, 262.396]      20581\n",
      "(262.396, 414.166]      20581\n",
      "(414.166, 700.397]      20581\n",
      "(700.397, 1029.788]     20581\n",
      "(1029.788, 1388.848]    20581\n",
      "(1388.848, 1806.071]    20581\n",
      "(85.09, 118.733]        20581\n",
      "Name: agg_r, dtype: int64 [4.63683258e-01 3.46021864e+00 6.41587960e+00 9.63536356e+00\n",
      " 1.30250512e+01 1.69446057e+01 2.18323757e+01 2.90060086e+01\n",
      " 5.37721451e+01 8.50896466e+01 1.18733316e+02 1.56948111e+02\n",
      " 2.02438329e+02 2.62396349e+02 4.14165772e+02 7.00396835e+02\n",
      " 1.02978824e+03 1.38884751e+03 1.80607054e+03 2.36007000e+03\n",
      " 4.34397475e+03]\n",
      "ragg [4.63683258e-01 3.46021864e+00 6.41587960e+00 9.63536356e+00\n",
      " 1.30250512e+01 1.69446057e+01 2.18323757e+01 2.90060086e+01\n",
      " 5.37721451e+01 8.50896466e+01 1.18733316e+02 1.56948111e+02\n",
      " 2.02438329e+02 2.62396349e+02 4.14165772e+02 7.00396835e+02\n",
      " 1.02978824e+03 1.38884751e+03 1.80607054e+03 2.36007000e+03\n",
      " 4.34397475e+03]\n"
     ]
    }
   ],
   "source": [
    "phioagg=np.logspace(-1, 1, num=3, dtype=None) \n",
    "factor = 10\n",
    "\n",
    "res, phi_bins = pd.qcut(df_repart.agg_phi.compute(), 20, retbins=True)\n",
    "for i in range(len(phi_bins)-1):\n",
    "    print('i = ', i)\n",
    "    df_phi = df_repart.map_partitions(query_phi, phi_bins[i], phi_bins[i+1])\n",
    "    res, r_bins = pd.qcut(df_phi.agg_r.compute(), 20, retbins=True)\n",
    "    print(res.value_counts(), r_bins)\n",
    "    #print(max_r_atphi)\n",
    "    #print(min_r_atphi)\n",
    "    #ragg=np.geomspace(min_r_atphi, max_r_atphi, num=7, dtype=None)[1:-1] #log for r also?\n",
    "    print('ragg', r_bins)\n",
    "    \n",
    "    for r in r_bins:\n",
    "        break\n",
    "        avail_data = False   \n",
    "        max_resample=0\n",
    "        factor = 10\n",
    "        while avail_data is False:\n",
    "            #print('phi, r', phi, r)\n",
    "            \n",
    "            result = df_phi.map_partitions(query_r, r, factor).compute().reset_index() \n",
    "            len_result  = len(result)\n",
    "            \n",
    "            if len_result > 20:\n",
    "                avail_data = True\n",
    "                print('len query', len_result)\n",
    "\n",
    "                #row = result.sample(300)\n",
    "                #print('result has 300')\n",
    "                #print(row)\n",
    "\n",
    "                #print('data at row', result.loc[row])\n",
    "                #mono_a = row.r/row.phi**(1./3.)\n",
    "                #mono_c = row.phi**(2./3.)*row.r\n",
    "                \n",
    "                #make_aggregate_instance()\n",
    "                #collect_clusters(cluster1, cluster2,...)\n",
    "                #when subtracting d1 from prior take mean of both aggs\n",
    "            else:\n",
    "                \n",
    "                if max_resample < 2:\n",
    "                    factor = factor/2\n",
    "                    print('changing factor to: ', factor)\n",
    "                    max_resample += 1\n",
    "                    \n",
    "                else:\n",
    "                    factor = 10\n",
    "                    avail_data = True\n",
    "                "
   ]
  },
  {
   "cell_type": "code",
   "execution_count": null,
   "metadata": {},
   "outputs": [],
   "source": [
    "# Create the pandas DataFrame \n",
    "data = [{'0':4, '1': 2, '2':3}, {'0': 10, '1': 20, '2': 30}] \n",
    "  \n",
    "# Creates padas DataFrame by passing  \n",
    "# Lists of dictionaries and row index. \n",
    "df_test = pd.DataFrame(data, index =['first', 'second']) \n",
    "net.load_df(df_test)\n",
    "net.widget()"
   ]
  },
  {
   "cell_type": "code",
   "execution_count": 66,
   "metadata": {},
   "outputs": [
    {
     "name": "stdout",
     "output_type": "stream",
     "text": [
      "<class 'pandas.core.frame.DataFrame'>\n",
      "Int64Index: 8232439 entries, 1 to 44100\n",
      "Data columns (total 3 columns):\n",
      "ncrystals    int64\n",
      "agg_phi      float64\n",
      "agg_r        float64\n",
      "dtypes: float64(2), int64(1)\n",
      "memory usage: 251.2 MB\n"
     ]
    }
   ],
   "source": [
    "pd_df = df_repart.drop(['points', 'a', 'b', 'c', 'phi2D', 'cplx', 'agg_id', 'phi', 'r'], axis=1).compute()\n",
    "pd_df.info()"
   ]
  },
  {
   "cell_type": "code",
   "execution_count": 34,
   "metadata": {},
   "outputs": [
    {
     "data": {
      "application/vnd.jupyter.widget-view+json": {
       "model_id": "74d5db5a10084c78a2a0afb741cd4d93",
       "version_major": 2,
       "version_minor": 0
      },
      "text/plain": [
       "Figure(axes=[ColorAxis(scale=ColorScale()), Axis(orientation='vertical', scale=OrdinalScale(reverse=True)), Ax…"
      ]
     },
     "metadata": {},
     "output_type": "display_data"
    }
   ],
   "source": [
    "x = pd_df.index\n",
    "y = pd_df.columns\n",
    "\n",
    "\n",
    "x_sc, y_sc, col_sc = bqplot.OrdinalScale(), bqplot.OrdinalScale(), bqplot.ColorScale(scheme='BuPu')\n",
    "ax_x = bqplot.Axis(scale=x_sc, label='Years')\n",
    "ax_y = bqplot.Axis(scale=y_sc, orientation='vertical', label='Months')\n",
    "ax_c = bqplot.ColorAxis(scale=col_sc)\n",
    "fig = plt.figure(padding_y=0.0)\n",
    "grid_map = plt.gridheatmap(pd_df)\n",
    "\n",
    "#heat = bqplot.GridHeatMap(scales={'row': x_sc, 'column': y_sc, 'color': col_sc}, stroke='white', row=y.tolist(), column=x.tolist())\n",
    "\n",
    "#fig = bqplot.Figure(marks=[heat], axes=[ax_x, ax_y, ax_c],layout=Layout(width='650px', height='650px'))\n",
    "fig"
   ]
  },
  {
   "cell_type": "code",
   "execution_count": 70,
   "metadata": {},
   "outputs": [
    {
     "ename": "KeyboardInterrupt",
     "evalue": "",
     "output_type": "error",
     "traceback": [
      "\u001b[0;31m---------------------------------------------------------------------------\u001b[0m",
      "\u001b[0;31mKeyboardInterrupt\u001b[0m                         Traceback (most recent call last)",
      "\u001b[0;32m<ipython-input-70-2fa01e4f401c>\u001b[0m in \u001b[0;36m<module>\u001b[0;34m\u001b[0m\n\u001b[1;32m      1\u001b[0m \u001b[0mplt\u001b[0m\u001b[0;34m.\u001b[0m\u001b[0mfigure\u001b[0m\u001b[0;34m(\u001b[0m\u001b[0mfigsize\u001b[0m\u001b[0;34m=\u001b[0m\u001b[0;34m(\u001b[0m\u001b[0;36m20\u001b[0m\u001b[0;34m,\u001b[0m\u001b[0;36m15\u001b[0m\u001b[0;34m)\u001b[0m\u001b[0;34m)\u001b[0m\u001b[0;34m\u001b[0m\u001b[0;34m\u001b[0m\u001b[0m\n\u001b[1;32m      2\u001b[0m \u001b[0max\u001b[0m\u001b[0;34m=\u001b[0m\u001b[0mplt\u001b[0m\u001b[0;34m.\u001b[0m\u001b[0msubplot\u001b[0m\u001b[0;34m(\u001b[0m\u001b[0;36m111\u001b[0m\u001b[0;34m)\u001b[0m\u001b[0;34m\u001b[0m\u001b[0;34m\u001b[0m\u001b[0m\n\u001b[0;32m----> 3\u001b[0;31m \u001b[0msns\u001b[0m\u001b[0;34m.\u001b[0m\u001b[0mkdeplot\u001b[0m\u001b[0;34m(\u001b[0m\u001b[0mnp\u001b[0m\u001b[0;34m.\u001b[0m\u001b[0mlog10\u001b[0m\u001b[0;34m(\u001b[0m\u001b[0mpd_df\u001b[0m\u001b[0;34m.\u001b[0m\u001b[0magg_phi\u001b[0m\u001b[0;34m)\u001b[0m\u001b[0;34m,\u001b[0m \u001b[0mpd_df\u001b[0m\u001b[0;34m.\u001b[0m\u001b[0magg_r\u001b[0m\u001b[0;34m,\u001b[0m \u001b[0mcmap\u001b[0m\u001b[0;34m=\u001b[0m\u001b[0;34m\"Blues\"\u001b[0m\u001b[0;34m,\u001b[0m \u001b[0mshade\u001b[0m\u001b[0;34m=\u001b[0m\u001b[0;32mTrue\u001b[0m\u001b[0;34m,\u001b[0m \u001b[0mshade_lowest\u001b[0m\u001b[0;34m=\u001b[0m\u001b[0;32mFalse\u001b[0m\u001b[0;34m)\u001b[0m\u001b[0;34m\u001b[0m\u001b[0;34m\u001b[0m\u001b[0m\n\u001b[0m",
      "\u001b[0;32m/network/rit/lab/sulialab/share/bin/miniconda3/envs/pangeo/lib/python3.6/site-packages/seaborn/distributions.py\u001b[0m in \u001b[0;36mkdeplot\u001b[0;34m(data, data2, shade, vertical, kernel, bw, gridsize, cut, clip, legend, cumulative, shade_lowest, cbar, cbar_ax, cbar_kws, ax, **kwargs)\u001b[0m\n\u001b[1;32m    685\u001b[0m         ax = _bivariate_kdeplot(x, y, shade, shade_lowest,\n\u001b[1;32m    686\u001b[0m                                 \u001b[0mkernel\u001b[0m\u001b[0;34m,\u001b[0m \u001b[0mbw\u001b[0m\u001b[0;34m,\u001b[0m \u001b[0mgridsize\u001b[0m\u001b[0;34m,\u001b[0m \u001b[0mcut\u001b[0m\u001b[0;34m,\u001b[0m \u001b[0mclip\u001b[0m\u001b[0;34m,\u001b[0m \u001b[0mlegend\u001b[0m\u001b[0;34m,\u001b[0m\u001b[0;34m\u001b[0m\u001b[0;34m\u001b[0m\u001b[0m\n\u001b[0;32m--> 687\u001b[0;31m                                 cbar, cbar_ax, cbar_kws, ax, **kwargs)\n\u001b[0m\u001b[1;32m    688\u001b[0m     \u001b[0;32melse\u001b[0m\u001b[0;34m:\u001b[0m\u001b[0;34m\u001b[0m\u001b[0;34m\u001b[0m\u001b[0m\n\u001b[1;32m    689\u001b[0m         ax = _univariate_kdeplot(data, shade, vertical, kernel, bw,\n",
      "\u001b[0;32m/network/rit/lab/sulialab/share/bin/miniconda3/envs/pangeo/lib/python3.6/site-packages/seaborn/distributions.py\u001b[0m in \u001b[0;36m_bivariate_kdeplot\u001b[0;34m(x, y, filled, fill_lowest, kernel, bw, gridsize, cut, clip, axlabel, cbar, cbar_ax, cbar_kws, ax, **kwargs)\u001b[0m\n\u001b[1;32m    391\u001b[0m     \u001b[0;31m# Calculate the KDE\u001b[0m\u001b[0;34m\u001b[0m\u001b[0;34m\u001b[0m\u001b[0;34m\u001b[0m\u001b[0m\n\u001b[1;32m    392\u001b[0m     \u001b[0;32mif\u001b[0m \u001b[0m_has_statsmodels\u001b[0m\u001b[0;34m:\u001b[0m\u001b[0;34m\u001b[0m\u001b[0;34m\u001b[0m\u001b[0m\n\u001b[0;32m--> 393\u001b[0;31m         \u001b[0mxx\u001b[0m\u001b[0;34m,\u001b[0m \u001b[0myy\u001b[0m\u001b[0;34m,\u001b[0m \u001b[0mz\u001b[0m \u001b[0;34m=\u001b[0m \u001b[0m_statsmodels_bivariate_kde\u001b[0m\u001b[0;34m(\u001b[0m\u001b[0mx\u001b[0m\u001b[0;34m,\u001b[0m \u001b[0my\u001b[0m\u001b[0;34m,\u001b[0m \u001b[0mbw\u001b[0m\u001b[0;34m,\u001b[0m \u001b[0mgridsize\u001b[0m\u001b[0;34m,\u001b[0m \u001b[0mcut\u001b[0m\u001b[0;34m,\u001b[0m \u001b[0mclip\u001b[0m\u001b[0;34m)\u001b[0m\u001b[0;34m\u001b[0m\u001b[0;34m\u001b[0m\u001b[0m\n\u001b[0m\u001b[1;32m    394\u001b[0m     \u001b[0;32melse\u001b[0m\u001b[0;34m:\u001b[0m\u001b[0;34m\u001b[0m\u001b[0;34m\u001b[0m\u001b[0m\n\u001b[1;32m    395\u001b[0m         \u001b[0mxx\u001b[0m\u001b[0;34m,\u001b[0m \u001b[0myy\u001b[0m\u001b[0;34m,\u001b[0m \u001b[0mz\u001b[0m \u001b[0;34m=\u001b[0m \u001b[0m_scipy_bivariate_kde\u001b[0m\u001b[0;34m(\u001b[0m\u001b[0mx\u001b[0m\u001b[0;34m,\u001b[0m \u001b[0my\u001b[0m\u001b[0;34m,\u001b[0m \u001b[0mbw\u001b[0m\u001b[0;34m,\u001b[0m \u001b[0mgridsize\u001b[0m\u001b[0;34m,\u001b[0m \u001b[0mcut\u001b[0m\u001b[0;34m,\u001b[0m \u001b[0mclip\u001b[0m\u001b[0;34m)\u001b[0m\u001b[0;34m\u001b[0m\u001b[0;34m\u001b[0m\u001b[0m\n",
      "\u001b[0;32m/network/rit/lab/sulialab/share/bin/miniconda3/envs/pangeo/lib/python3.6/site-packages/seaborn/distributions.py\u001b[0m in \u001b[0;36m_statsmodels_bivariate_kde\u001b[0;34m(x, y, bw, gridsize, cut, clip)\u001b[0m\n\u001b[1;32m    465\u001b[0m     \u001b[0my_support\u001b[0m \u001b[0;34m=\u001b[0m \u001b[0m_kde_support\u001b[0m\u001b[0;34m(\u001b[0m\u001b[0my\u001b[0m\u001b[0;34m,\u001b[0m \u001b[0mkde\u001b[0m\u001b[0;34m.\u001b[0m\u001b[0mbw\u001b[0m\u001b[0;34m[\u001b[0m\u001b[0;36m1\u001b[0m\u001b[0;34m]\u001b[0m\u001b[0;34m,\u001b[0m \u001b[0mgridsize\u001b[0m\u001b[0;34m,\u001b[0m \u001b[0mcut\u001b[0m\u001b[0;34m,\u001b[0m \u001b[0mclip\u001b[0m\u001b[0;34m[\u001b[0m\u001b[0;36m1\u001b[0m\u001b[0;34m]\u001b[0m\u001b[0;34m)\u001b[0m\u001b[0;34m\u001b[0m\u001b[0;34m\u001b[0m\u001b[0m\n\u001b[1;32m    466\u001b[0m     \u001b[0mxx\u001b[0m\u001b[0;34m,\u001b[0m \u001b[0myy\u001b[0m \u001b[0;34m=\u001b[0m \u001b[0mnp\u001b[0m\u001b[0;34m.\u001b[0m\u001b[0mmeshgrid\u001b[0m\u001b[0;34m(\u001b[0m\u001b[0mx_support\u001b[0m\u001b[0;34m,\u001b[0m \u001b[0my_support\u001b[0m\u001b[0;34m)\u001b[0m\u001b[0;34m\u001b[0m\u001b[0;34m\u001b[0m\u001b[0m\n\u001b[0;32m--> 467\u001b[0;31m     \u001b[0mz\u001b[0m \u001b[0;34m=\u001b[0m \u001b[0mkde\u001b[0m\u001b[0;34m.\u001b[0m\u001b[0mpdf\u001b[0m\u001b[0;34m(\u001b[0m\u001b[0;34m[\u001b[0m\u001b[0mxx\u001b[0m\u001b[0;34m.\u001b[0m\u001b[0mravel\u001b[0m\u001b[0;34m(\u001b[0m\u001b[0;34m)\u001b[0m\u001b[0;34m,\u001b[0m \u001b[0myy\u001b[0m\u001b[0;34m.\u001b[0m\u001b[0mravel\u001b[0m\u001b[0;34m(\u001b[0m\u001b[0;34m)\u001b[0m\u001b[0;34m]\u001b[0m\u001b[0;34m)\u001b[0m\u001b[0;34m.\u001b[0m\u001b[0mreshape\u001b[0m\u001b[0;34m(\u001b[0m\u001b[0mxx\u001b[0m\u001b[0;34m.\u001b[0m\u001b[0mshape\u001b[0m\u001b[0;34m)\u001b[0m\u001b[0;34m\u001b[0m\u001b[0;34m\u001b[0m\u001b[0m\n\u001b[0m\u001b[1;32m    468\u001b[0m     \u001b[0;32mreturn\u001b[0m \u001b[0mxx\u001b[0m\u001b[0;34m,\u001b[0m \u001b[0myy\u001b[0m\u001b[0;34m,\u001b[0m \u001b[0mz\u001b[0m\u001b[0;34m\u001b[0m\u001b[0;34m\u001b[0m\u001b[0m\n\u001b[1;32m    469\u001b[0m \u001b[0;34m\u001b[0m\u001b[0m\n",
      "\u001b[0;32m/network/rit/lab/sulialab/share/bin/miniconda3/envs/pangeo/lib/python3.6/site-packages/statsmodels/nonparametric/kernel_density.py\u001b[0m in \u001b[0;36mpdf\u001b[0;34m(self, data_predict)\u001b[0m\n\u001b[1;32m    194\u001b[0m             pdf_est.append(gpke(self.bw, data=self.data,\n\u001b[1;32m    195\u001b[0m                                 \u001b[0mdata_predict\u001b[0m\u001b[0;34m=\u001b[0m\u001b[0mdata_predict\u001b[0m\u001b[0;34m[\u001b[0m\u001b[0mi\u001b[0m\u001b[0;34m,\u001b[0m \u001b[0;34m:\u001b[0m\u001b[0;34m]\u001b[0m\u001b[0;34m,\u001b[0m\u001b[0;34m\u001b[0m\u001b[0;34m\u001b[0m\u001b[0m\n\u001b[0;32m--> 196\u001b[0;31m                                 var_type=self.var_type) / self.nobs)\n\u001b[0m\u001b[1;32m    197\u001b[0m \u001b[0;34m\u001b[0m\u001b[0m\n\u001b[1;32m    198\u001b[0m         \u001b[0mpdf_est\u001b[0m \u001b[0;34m=\u001b[0m \u001b[0mnp\u001b[0m\u001b[0;34m.\u001b[0m\u001b[0msqueeze\u001b[0m\u001b[0;34m(\u001b[0m\u001b[0mpdf_est\u001b[0m\u001b[0;34m)\u001b[0m\u001b[0;34m\u001b[0m\u001b[0;34m\u001b[0m\u001b[0m\n",
      "\u001b[0;32m/network/rit/lab/sulialab/share/bin/miniconda3/envs/pangeo/lib/python3.6/site-packages/statsmodels/nonparametric/_kernel_base.py\u001b[0m in \u001b[0;36mgpke\u001b[0;34m(bw, data, data_predict, var_type, ckertype, okertype, ukertype, tosum)\u001b[0m\n\u001b[1;32m    511\u001b[0m     \u001b[0;32mfor\u001b[0m \u001b[0mii\u001b[0m\u001b[0;34m,\u001b[0m \u001b[0mvtype\u001b[0m \u001b[0;32min\u001b[0m \u001b[0menumerate\u001b[0m\u001b[0;34m(\u001b[0m\u001b[0mvar_type\u001b[0m\u001b[0;34m)\u001b[0m\u001b[0;34m:\u001b[0m\u001b[0;34m\u001b[0m\u001b[0;34m\u001b[0m\u001b[0m\n\u001b[1;32m    512\u001b[0m         \u001b[0mfunc\u001b[0m \u001b[0;34m=\u001b[0m \u001b[0mkernel_func\u001b[0m\u001b[0;34m[\u001b[0m\u001b[0mkertypes\u001b[0m\u001b[0;34m[\u001b[0m\u001b[0mvtype\u001b[0m\u001b[0;34m]\u001b[0m\u001b[0;34m]\u001b[0m\u001b[0;34m\u001b[0m\u001b[0;34m\u001b[0m\u001b[0m\n\u001b[0;32m--> 513\u001b[0;31m         \u001b[0mKval\u001b[0m\u001b[0;34m[\u001b[0m\u001b[0;34m:\u001b[0m\u001b[0;34m,\u001b[0m \u001b[0mii\u001b[0m\u001b[0;34m]\u001b[0m \u001b[0;34m=\u001b[0m \u001b[0mfunc\u001b[0m\u001b[0;34m(\u001b[0m\u001b[0mbw\u001b[0m\u001b[0;34m[\u001b[0m\u001b[0mii\u001b[0m\u001b[0;34m]\u001b[0m\u001b[0;34m,\u001b[0m \u001b[0mdata\u001b[0m\u001b[0;34m[\u001b[0m\u001b[0;34m:\u001b[0m\u001b[0;34m,\u001b[0m \u001b[0mii\u001b[0m\u001b[0;34m]\u001b[0m\u001b[0;34m,\u001b[0m \u001b[0mdata_predict\u001b[0m\u001b[0;34m[\u001b[0m\u001b[0mii\u001b[0m\u001b[0;34m]\u001b[0m\u001b[0;34m)\u001b[0m\u001b[0;34m\u001b[0m\u001b[0;34m\u001b[0m\u001b[0m\n\u001b[0m\u001b[1;32m    514\u001b[0m \u001b[0;34m\u001b[0m\u001b[0m\n\u001b[1;32m    515\u001b[0m     \u001b[0miscontinuous\u001b[0m \u001b[0;34m=\u001b[0m \u001b[0mnp\u001b[0m\u001b[0;34m.\u001b[0m\u001b[0marray\u001b[0m\u001b[0;34m(\u001b[0m\u001b[0;34m[\u001b[0m\u001b[0mc\u001b[0m \u001b[0;34m==\u001b[0m \u001b[0;34m'c'\u001b[0m \u001b[0;32mfor\u001b[0m \u001b[0mc\u001b[0m \u001b[0;32min\u001b[0m \u001b[0mvar_type\u001b[0m\u001b[0;34m]\u001b[0m\u001b[0;34m)\u001b[0m\u001b[0;34m\u001b[0m\u001b[0;34m\u001b[0m\u001b[0m\n",
      "\u001b[0;31mKeyboardInterrupt\u001b[0m: "
     ]
    },
    {
     "data": {
      "image/png": "[encoded data removed]",
      "text/plain": [
       "<Figure size 1440x1080 with 1 Axes>"
      ]
     },
     "metadata": {
      "needs_background": "light"
     },
     "output_type": "display_data"
    }
   ],
   "source": [
    "plt.figure(figsize=(20,15))\n",
    "ax=plt.subplot(111)\n",
    "sns.kdeplot(np.log10(pd_df.agg_phi), pd_df.agg_r, cmap=\"Blues\", shade=True, shade_lowest=False)"
   ]
  }
 ],
 "metadata": {
  "kernelspec": {
   "display_name": "Python 3",
   "language": "python",
   "name": "python3"
  },
  "language_info": {
   "codemirror_mode": {
    "name": "ipython",
    "version": 3
   },
   "file_extension": ".py",
   "mimetype": "text/x-python",
   "name": "python",
   "nbconvert_exporter": "python",
   "pygments_lexer": "ipython3",
   "version": "3.6.7"
  }
 },
 "nbformat": 4,
 "nbformat_minor": 4
}
