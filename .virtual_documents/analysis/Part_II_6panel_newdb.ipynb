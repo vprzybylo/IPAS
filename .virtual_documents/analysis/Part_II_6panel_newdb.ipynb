get_ipython().run_line_magic("matplotlib", " widget")
get_ipython().run_line_magic("matplotlib", " inline")


import pandas as pd
from dask import dataframe as dd
import numpy as np

import matplotlib
import matplotlib.cm as cm
import matplotlib.pyplot as plt


get_ipython().run_cell_magic("time", "", """#READ DATABASE FOR RANDOM ORIENTATION
df_rand = dd.read_parquet("../instance_files/parquet_files/createdb_iceagg_rand*", engine="pyarrow").compute()""")


get_ipython().run_cell_magic("time", "", """#READ DATABASE FOR flat ORIENTATION
df_flat = dd.read_parquet("../instance_files/parquet_files/createdb_iceagg_flat*", engine="pyarrow").compute()""")


def shape(a,b,c):
    if (b-c) <= (a-b):
        return 'prolate'
    else:
        return 'oblate'


#speed up shape function 
vfunc = np.vectorize(shape)
df_rand['shape'] = vfunc(df_rand['a'], df_rand['b'], df_rand['c'])
df_rand['agg_phi'] = df_rand.c/df_rand.a
df_rand = df_rand.reset_index()
df_rand.loc[df_rand['shape'] == 'oblate', 'agg_r'] = np.power((np.power(df_rand['a'], 2) * df_rand['c']), (1./3.))
df_rand.loc[df_rand['shape'] == 'prolate', 'agg_r'] = np.power((np.power(df_rand['c'], 2) * df_rand['a']), (1./3.))
#df_rand = df_rand[df_rand.agg_r < 5000]



#speed up shape function 
vfunc = np.vectorize(shape)
df_flat['shape'] = vfunc(df_flat['a'], df_flat['b'], df_flat['c'])
df_flat.loc[df_flat['shape'] == 'oblate', 'agg_r'] = np.power((np.power(df_flat['a'], 2) * df_flat['c']), (1./3.))
df_flat.loc[df_flat['shape'] == 'prolate', 'agg_r'] = np.power((np.power(df_flat['c'], 2) * df_flat['a']), (1./3.))
#df_rand = df_rand[df_rand.agg_r < 5000]
df_flat['agg_phi'] = df_flat.c/df_flat.a


df_rand['agg_r'].describe().round(2)


df_rand






