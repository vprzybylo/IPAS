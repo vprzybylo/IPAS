{
 "cells": [
  {
   "cell_type": "code",
   "execution_count": null,
   "metadata": {},
   "outputs": [],
   "source": [
    "%matplotlib widget\n",
    "%matplotlib inline"
   ]
  },
  {
   "cell_type": "code",
   "execution_count": null,
   "metadata": {},
   "outputs": [],
   "source": [
    "import pandas as pd\n",
    "from dask import dataframe as dd\n",
    "import numpy as np\n",
    "\n",
    "import matplotlib\n",
    "import matplotlib.cm as cm\n",
    "import matplotlib.pyplot as plt"
   ]
  },
  {
   "cell_type": "markdown",
   "metadata": {},
   "source": [
    "#### read databases (parquet files don't include agg points)"
   ]
  },
  {
   "cell_type": "code",
   "execution_count": null,
   "metadata": {},
   "outputs": [],
   "source": [
    "%%time\n",
    "#READ DATABASE FOR RANDOM ORIENTATION\n",
    "df_rand = dd.read_parquet(\"../instance_files/parquet_files/createdb_iceagg_rand*\", engine=\"pyarrow\").compute()"
   ]
  },
  {
   "cell_type": "code",
   "execution_count": null,
   "metadata": {},
   "outputs": [],
   "source": [
    "%%time\n",
    "#READ DATABASE FOR flat ORIENTATION\n",
    "df_flat = dd.read_parquet(\"../instance_files/parquet_files/createdb_iceagg_flat*\", engine=\"pyarrow\").compute()"
   ]
  },
  {
   "cell_type": "markdown",
   "metadata": {},
   "source": [
    "#### calculate agg aspect ratio, shape, and radius"
   ]
  },
  {
   "cell_type": "code",
   "execution_count": null,
   "metadata": {},
   "outputs": [],
   "source": [
    "def shape(a,b,c):\n",
    "    if (b-c) <= (a-b):\n",
    "        return 'prolate'\n",
    "    else:\n",
    "        return 'oblate'"
   ]
  },
  {
   "cell_type": "code",
   "execution_count": null,
   "metadata": {},
   "outputs": [],
   "source": [
    "#speed up shape function \n",
    "vfunc = np.vectorize(shape)\n",
    "df_rand['shape'] = vfunc(df_rand['a'], df_rand['b'], df_rand['c'])\n",
    "df_rand = df_rand.reset_index()\n",
    "df_rand.loc[df_rand['shape'] == 'oblate', 'agg_r'] = np.power((np.power(df_rand['a'], 2) * df_rand['c']), (1./3.))\n",
    "df_rand.loc[df_rand['shape'] == 'prolate', 'agg_r'] = np.power((np.power(df_rand['c'], 2) * df_rand['a']), (1./3.))\n",
    "#df_rand = df_rand[df_rand.agg_r < 5000]\n",
    "df_rand['agg_phi'] = df_rand.c/df_rand.a\n"
   ]
  },
  {
   "cell_type": "code",
   "execution_count": null,
   "metadata": {},
   "outputs": [],
   "source": [
    "#speed up shape function \n",
    "vfunc = np.vectorize(shape)\n",
    "df_flat['shape'] = vfunc(df_flat['a'], df_flat['b'], df_flat['c'])\n",
    "df_flat = df_flat.reset_index()\n",
    "df_flat.loc[df_flat['shape'] == 'oblate', 'agg_r'] = np.power((np.power(df_flat['a'], 2) * df_flat['c']), (1./3.))\n",
    "df_flat.loc[df_flat['shape'] == 'prolate', 'agg_r'] = np.power((np.power(df_flat['c'], 2) * df_flat['a']), (1./3.))\n",
    "df_flat['agg_phi'] = df_flat.c/df_flat.a\n"
   ]
  },
  {
   "cell_type": "code",
   "execution_count": null,
   "metadata": {},
   "outputs": [],
   "source": [
    "df_flat['cplx'].describe().round(2)"
   ]
  },
  {
   "cell_type": "code",
   "execution_count": null,
   "metadata": {},
   "outputs": [],
   "source": [
    "df_rand['agg_r'].describe().round(2)"
   ]
  },
  {
   "cell_type": "code",
   "execution_count": null,
   "metadata": {},
   "outputs": [],
   "source": [
    "df_flat['agg_r'].describe().round(2)"
   ]
  },
  {
   "cell_type": "code",
   "execution_count": null,
   "metadata": {},
   "outputs": [],
   "source": [
    "#how many monomers comprise the aggs when the agg radius is > 5mm?\n",
    "#running this cell truncates the df and will lose the aggs > 5000\n",
    "df_rand = df_rand[df_rand.agg_r > 5000]\n",
    "df['ncrystals'].describe().round(2)"
   ]
  },
  {
   "cell_type": "markdown",
   "metadata": {},
   "source": [
    "## Make bin plots"
   ]
  },
  {
   "cell_type": "code",
   "execution_count": null,
   "metadata": {},
   "outputs": [],
   "source": [
    "agg_phi_bins = 20\n",
    "agg_r_bins = 20"
   ]
  },
  {
   "cell_type": "code",
   "execution_count": null,
   "metadata": {},
   "outputs": [],
   "source": [
    "def query_ncrystals(df_phi, r_bins):\n",
    "    avg_ncrystals = []\n",
    "    for r in range(len(r_bins)-1):\n",
    "        df_r = df_phi[(df_phi.agg_r > r_bins[r]) & (df_phi.agg_r < r_bins[r+1])]\n",
    "        avg_ncrystals.append(df_r.ncrystals.mean())\n",
    "    return avg_ncrystals\n"
   ]
  },
  {
   "cell_type": "code",
   "execution_count": null,
   "metadata": {},
   "outputs": [],
   "source": [
    "def avg_cplx(df_phi, r_bins):\n",
    "    avg_cplx = []\n",
    "    for r in range(len(r_bins)-1):\n",
    "        df_r = df_phi[(df_phi.agg_r > r_bins[r]) & (df_phi.agg_r < r_bins[r+1])]\n",
    "        avg_cplx.append(np.mean(df_r.cplx))\n",
    "        \n",
    "    return avg_cplx\n"
   ]
  },
  {
   "cell_type": "code",
   "execution_count": null,
   "metadata": {},
   "outputs": [],
   "source": [
    "def oblate_prolate(df_phi, r_bins):\n",
    "    oblates = []\n",
    "    prolates = []\n",
    "    for r in range(len(r_bins)-1):\n",
    "        df_r = df_phi[(df_phi.agg_r > r_bins[r]) & (df_phi.agg_r < r_bins[r+1]) & (df_phi.ncrystals > 2)]\n",
    "        oblate = df_r['shape'][df_r['shape'] == 'oblate'].count()\n",
    "        prolate = df_r['shape'][df_r['shape'] == 'prolate'].count()\n",
    "        oblates.append(oblate)\n",
    "        prolates.append(prolate)\n",
    "    return oblates, prolates"
   ]
  },
  {
   "cell_type": "code",
   "execution_count": null,
   "metadata": {},
   "outputs": [],
   "source": [
    "def plate_columns_agg(df_phi, r_bins):\n",
    "    agg_mono_phi = []\n",
    "    for r in range(len(r_bins)-1):\n",
    "        df_r = df_phi[(df_phi.agg_r > r_bins[r]) & (df_phi.agg_r < r_bins[r+1]) & (df_phi.ncrystals > 2)]\n",
    "        agg_mono_plates = df_r['mono_phi'][df_r['mono_phi'] < 1.0].count()\n",
    "        agg_mono_col = df_r['mono_phi'][df_r['mono_phi'] > 1.0].count()\n",
    "        #agg_mono_phi.append(agg_mono_plates - agg_mono_col)\n",
    "        agg_mono_phi.append(agg_mono_plates/(agg_mono_plates+agg_mono_col)*100)\n",
    "    return agg_mono_phi\n"
   ]
  },
  {
   "cell_type": "code",
   "execution_count": null,
   "metadata": {},
   "outputs": [],
   "source": [
    "def average_radius(df_phi, r_bins):\n",
    "    avg_radius = []\n",
    "    for r in range(len(r_bins)-1):\n",
    "        df_r = df_phi[(df_phi.agg_r > r_bins[r]) & (df_phi.agg_r < r_bins[r+1])]\n",
    "        avg_radius.append(np.mean(df_r.mono_r))\n",
    "    return avg_radius"
   ]
  },
  {
   "cell_type": "code",
   "execution_count": null,
   "metadata": {},
   "outputs": [],
   "source": [
    "df = df_flat\n",
    "res, phi_bins = pd.qcut(df['agg_phi'], agg_phi_bins, retbins=True)\n",
    "phi_bin_labs = []\n",
    "avg_ncrystals=np.empty((len(phi_bins)-1,len(phi_bins)-1))\n",
    "avg_cplxs=np.empty((len(phi_bins)-1,len(phi_bins)-1))\n",
    "all_r_bins= np.empty((len(phi_bins),len(phi_bins)))\n",
    "oblates= np.empty((len(phi_bins)-1,len(phi_bins)-1))\n",
    "prolates= np.empty((len(phi_bins)-1,len(phi_bins)-1))\n",
    "shape= np.empty((len(phi_bins)-1,len(phi_bins)-1))\n",
    "agg_mono_phi = np.empty((len(phi_bins)-1,len(phi_bins)-1))\n",
    "avg_radius = np.empty((len(phi_bins)-1,len(phi_bins)-1))\n",
    "\n",
    "for i in range(agg_phi_bins):\n",
    "    print('i = ', i)\n",
    "    phi_bin_labs.append('[%.3f-%.3f)' %(phi_bins[i],phi_bins[i+1]))\n",
    "    #return a df that only queries within an aspect ratio bin\n",
    "    df_phi = df[(df['agg_phi'] > phi_bins[i]) & (df['agg_phi'] < phi_bins[i+1])]\n",
    "    #now break that aspect ratio bin into 20 equal r bins\n",
    "    res, r_bins = pd.qcut(df_phi.agg_r, agg_r_bins, retbins=True)\n",
    "    all_r_bins[i,:] = r_bins\n",
    "    \n",
    "    #now use those r bins from the output of queried r and phi to find:\n",
    "    avg_ncrystals[i,:] = query_ncrystals(df_phi, r_bins)\n",
    "    avg_cplxs[i,:] = avg_cplx(df_phi, r_bins)\n",
    "    oblates[i,:], prolates[i,:] = oblate_prolate(df_phi, r_bins)\n",
    "    shape[i,:] = oblates[i,:] - prolates[i,:]\n",
    "    agg_mono_phi[i,:] = plate_columns_agg(df_phi, r_bins)\n",
    "    avg_radius[i,:] = average_radius(df_phi, r_bins)\n",
    "    "
   ]
  },
  {
   "cell_type": "code",
   "execution_count": null,
   "metadata": {},
   "outputs": [],
   "source": [
    "fig, ax = plt.subplots(figsize=(7,5))\n",
    "cmap = plt.cm.jet\n",
    "variable = avg_radius\n",
    "norm = matplotlib.colors.LogNorm(vmin=1.13, vmax=672)\n",
    "\n",
    "#norm = matplotlib.colors.Normalize(vmin=np.amin(shape), vmax=np.amax(shape))\n",
    "for i in range(agg_phi_bins): \n",
    "    for r in range(agg_r_bins):\n",
    "        #print(i,r)\n",
    "        if r != 0:\n",
    "            plt.bar([i]*20, all_r_bins[i,r+1], bottom= all_r_bins[i,r-1],  color=cmap(norm(variable[i,r])),edgecolor='k')\n",
    "        else:\n",
    "            plt.bar([i]*20, all_r_bins[i,r+1], color=cmap(norm(variable[i,r])), edgecolor='k')\n",
    "                \n",
    "plt.yscale('log')\n",
    "#plt.ylim(1.,10000)\n",
    "\n",
    "#plt.xticks([])\n",
    "plt.xticks(np.arange(len(phi_bin_labs)), phi_bin_labs, rotation=90, ha=\"center\")\n",
    "#plt.ylabel(\"Aggregate Radius Bins\")\n",
    "\n",
    "#plt.xlabel(\"Aggregate Aspect Ratio ($\\phi$) Bins\") \n",
    "cb = plt.cm.ScalarMappable(norm=norm, cmap=cmap)\n",
    "fig.colorbar(cb, orientation='vertical')\n",
    "#cbar.ax.set_ylabel('Average Monomer Radius per Bin', orientation='horizontal')\n",
    "plt.title('Quasi-Horizontal Orientation')\n",
    "#plt.title('Random Orientation')\n",
    "plt.tight_layout()\n",
    "#plt.savefig('../plots/bins_flat_meanmono_r.png', format='png', dpi=300)\n"
   ]
  },
  {
   "cell_type": "code",
   "execution_count": null,
   "metadata": {},
   "outputs": [],
   "source": [
    "fig, ax = plt.subplots(figsize=(7,5))\n",
    "cmap = plt.cm.jet\n",
    "variable = avg_cplxs\n",
    "norm = matplotlib.colors.Normalize(vmin=0.4, vmax=1.0)\n",
    "bounds = np.linspace(0.4, 1.0, 11)\n",
    "norm = matplotlib.colors.BoundaryNorm(bounds, cmap.N)\n",
    "\n",
    "for i in range(agg_phi_bins): \n",
    "    print('i= ', i)\n",
    "    for r in range(agg_r_bins):\n",
    "        if r != 0:\n",
    "            plt.bar([i]*len(r_bins), all_r_bins[i,r+1], bottom= all_r_bins[i,r-1],  color=cmap(norm(variable[i,r]), 10),edgecolor='k')\n",
    "        else:\n",
    "            plt.bar([i]*len(r_bins), all_r_bins[i,r+1], color=cmap(norm(variable[i,r]), 10), edgecolor='k')\n",
    "\n",
    "plt.yscale('log')\n",
    "#plt.ylim(1.,10000)\n",
    "plt.xticks(np.arange(len(phi_bin_labs)), phi_bin_labs, rotation=90, ha=\"center\")\n",
    "#plt.ylabel(\"Aggregate Radius Bins\")\n",
    "#plt.xlabel(\"Aggregate Aspect Ratio ($\\phi$) Bins\")  \n",
    "cb = plt.cm.ScalarMappable(norm=norm, cmap=cmap)\n",
    "fig.colorbar(cb, orientation='vertical')\n",
    "plt.title('Quasi-Horizontal Orientation')\n",
    "#plt.title('Random Orientation')\n",
    "plt.tight_layout()\n",
    "#plt.savefig('../plots/bins_flat_meancplx.png', format='png', dpi=300)\n"
   ]
  },
  {
   "cell_type": "code",
   "execution_count": null,
   "metadata": {},
   "outputs": [],
   "source": [
    "fig, ax = plt.subplots(figsize=(7,5))\n",
    "cmap = plt.cm.jet\n",
    "variable = avg_cplxs\n",
    "norm = matplotlib.colors.Normalize(vmin=0.4, vmax=1.0)\n",
    "bounds = np.linspace(0.4, 1.0, 11)\n",
    "norm = matplotlib.colors.BoundaryNorm(bounds, cmap.N)\n",
    "\n",
    "for i in range(agg_phi_bins): \n",
    "    print('i= ', i)\n",
    "    for r in range(agg_r_bins):\n",
    "        if r != 0:\n",
    "            plt.bar([i]*len(r_bins), all_r_bins[i,r+1], bottom= all_r_bins[i,r-1],  color=cmap(norm(variable[i,r]), 10),edgecolor='k')\n",
    "        else:\n",
    "            plt.bar([i]*len(r_bins), all_r_bins[i,r+1], color=cmap(norm(variable[i,r]), 10), edgecolor='k')\n",
    "\n",
    "plt.yscale('log')\n",
    "#plt.ylim(1.,10000)\n",
    "plt.xticks(np.arange(len(phi_bin_labs)), phi_bin_labs, rotation=90, ha=\"center\")\n",
    "#plt.ylabel(\"Aggregate Radius Bins\")\n",
    "#plt.xlabel(\"Aggregate Aspect Ratio ($\\phi$) Bins\")  \n",
    "cb = plt.cm.ScalarMappable(norm=norm, cmap=cmap)\n",
    "fig.colorbar(cb, orientation='vertical')\n",
    "plt.title('Quasi-Horizontal Orientation')\n",
    "#plt.title('Random Orientation')\n",
    "plt.tight_layout()\n",
    "#plt.savefig('../plots/bins_flat_meancplx.png', format='png', dpi=300)\n"
   ]
  },
  {
   "cell_type": "code",
   "execution_count": null,
   "metadata": {},
   "outputs": [],
   "source": [
    "fig, ax = plt.subplots(figsize=(10,8))\n",
    "cmap = plt.cm.jet\n",
    "variable = avg_ncrystals\n",
    "\n",
    "norm = matplotlib.colors.Normalize(vmin=2, vmax=25)\n",
    "\n",
    "for i in range(agg_phi_bins): \n",
    "    print('i= ', i)\n",
    "    for r in range(agg_r_bins):\n",
    "\n",
    "        if r != 0:\n",
    "            if shape[i,r] == 'p': \n",
    "                plt.bar([i]*len(r_bins), all_r_bins[i,r+1], bottom= all_r_bins[i,r-1],  color=cmap(norm(variable[i,r])),edgecolor='k')\n",
    "            else:\n",
    "                 plt.bar([i]*len(r_bins), all_r_bins[i,r+1], bottom= all_r_bins[i,r-1],  color=cmap(norm(variable[i,r])),edgecolor='k')\n",
    "        else:\n",
    "            if shape[i,r] == 'p':\n",
    "                plt.bar([i]*len(r_bins), all_r_bins[i,r+1], color=cmap(norm(variable[i,r])), edgecolor='k')\n",
    "            else:\n",
    "                plt.bar([i]*len(r_bins), all_r_bins[i,r+1], color=cmap(norm(variable[i,r])), edgecolor='k')\n",
    "                \n",
    "    \n",
    "plt.yscale('log')\n",
    "plt.xticks(np.arange(len(phi_bin_labs)), phi_bin_labs, rotation=90, ha=\"center\",fontsize=16,family='serif')\n",
    "plt.ylabel(\"Aggregate Radius Bins\",fontsize=16,family='serif')\n",
    "plt.xlabel(\"Aggregate Aspect Ratio ($\\phi$) Bins\",fontsize=16,family='serif')  \n",
    "cb = plt.cm.ScalarMappable(norm=norm, cmap=cmap)\n",
    "cbar = plt.colorbar(cb, format='%d')\n",
    "cbar.ax.set_ylabel('Average # of Monomers per Bin', fontsize=16, family='serif')\n",
    "plt.title('Quasi-Horizontal Orientation',fontsize=16, family='serif')\n",
    "#plt.title('Random Orientation',fontsize=16, family='serif')\n",
    "plt.tight_layout()\n"
   ]
  },
  {
   "cell_type": "code",
   "execution_count": null,
   "metadata": {},
   "outputs": [],
   "source": [
    "fig, ax = plt.subplots(figsize=(10,8))\n",
    "cmap = plt.cm.jet\n",
    "variable = avg_ncrystals\n",
    "\n",
    "norm = matplotlib.colors.Normalize(vmin=2, vmax=25)\n",
    "\n",
    "for i in range(agg_phi_bins): \n",
    "    print('i= ', i)\n",
    "    for r in range(agg_r_bins):\n",
    "\n",
    "        if r != 0:\n",
    "            if shape[i,r] == 'p': \n",
    "                plt.bar([i]*len(r_bins), all_r_bins[i,r], bottom= all_r_bins[i,r-1],  color=cmap(norm(variable[i,r])),edgecolor='k')\n",
    "            else:\n",
    "                 plt.bar([i]*len(r_bins), all_r_bins[i,r], bottom= all_r_bins[i,r-1],  color=cmap(norm(variable[i,r])),edgecolor='k')\n",
    "        else:\n",
    "            if shape[i,r] == 'p':\n",
    "                plt.bar([i]*len(r_bins), all_r_bins[i,r], color=cmap(norm(variable[i,r])), edgecolor='k')\n",
    "            else:\n",
    "                plt.bar([i]*len(r_bins), all_r_bins[i,r], color=cmap(norm(variable[i,r])), edgecolor='k')\n",
    "                \n",
    "    \n",
    "plt.yscale('log')\n",
    "plt.xticks(np.arange(len(phi_bin_labs)), phi_bin_labs, rotation=90, ha=\"center\",fontsize=16,family='serif')\n",
    "plt.ylabel(\"Aggregate Radius Bins\",fontsize=16,family='serif')\n",
    "plt.xlabel(\"Aggregate Aspect Ratio ($\\phi$) Bins\",fontsize=16,family='serif')  \n",
    "cb = plt.cm.ScalarMappable(norm=norm, cmap=cmap)\n",
    "cbar = plt.colorbar(cb, format='%d')\n",
    "cbar.ax.set_ylabel('Average # of Monomers per Bin', fontsize=16, family='serif')\n",
    "plt.title('Quasi-Horizontal Orientation',fontsize=16, family='serif')\n",
    "#plt.title('Random Orientation',fontsize=16, family='serif')\n",
    "plt.tight_layout()\n"
   ]
  },
  {
   "cell_type": "code",
   "execution_count": null,
   "metadata": {},
   "outputs": [],
   "source": [
    "fig, ax = plt.subplots(figsize=(7,5))\n",
    "#cmap = plt.cm.RdBu_r\n",
    "cmap=discrete_cmap(14,'RdBu_r')\n",
    "variable=agg_mono_phi\n",
    "# norm = matplotlib.colors.Normalize(vmin=-max(abs(np.amin(agg_mono_phi)),abs(np.amax(agg_mono_phi))), \\\n",
    "#                                    vmax=max(abs(np.amin(agg_mono_phi)),abs(np.amax(agg_mono_phi))))\n",
    "norm1 = matplotlib.colors.Normalize(vmin=0, vmax=70)\n",
    "norm = matplotlib.colors.DivergingNorm(vmin=0, vcenter=50., vmax=70)\n",
    "for i in range(agg_phi_bins): \n",
    "    print('i= ', i)\n",
    "    for r in range(agg_r_bins):  \n",
    "        if r != 0:\n",
    "            plt.bar(i, all_r_bins[i,r], bottom= all_r_bins[i,r-1], color=cmap(norm(variable[i,r])), edgecolor='k')\n",
    "        else:\n",
    "            plt.bar(i, all_r_bins[i,r], color=cmap(norm(variable[i,r])), edgecolor='k')\n",
    "\n",
    "plt.yscale('log')\n",
    "plt.ylim(1.,10000)\n",
    "plt.xticks(np.arange(len(phi_bin_labs)), phi_bin_labs, rotation=90, ha=\"center\")\n",
    "# plt.ylabel(\"Aggregate Radius Bins\")\n",
    "# plt.xlabel(\"Aggregate Aspect Ratio ($\\phi$) Bins\",)  \n",
    "\n",
    "cb = cm.ScalarMappable(cmap=cmap, norm=norm1)\n",
    "cbar = plt.colorbar(cb, format='%d')\n",
    "cbar.set_ticks(np.linspace(0,100,11))\n",
    "          \n",
    "#cbar.ax.set_ylabel('# of Oblates per Bin')\n",
    "#plt.title('Quasi-Horizontal Orientation')\n",
    "plt.title('Random Orientation');\n",
    "#plt.tight_layout()\n",
    "plt.tight_layout()\n",
    "#plt.savefig('../plots/bins_flat_monophi.png', format='png',dpi=300)"
   ]
  },
  {
   "cell_type": "code",
   "execution_count": null,
   "metadata": {},
   "outputs": [],
   "source": [
    "fig, ax = plt.subplots(figsize=(7,5))\n",
    "#cmap = plt.cm.RdBu_r\n",
    "cmap=discrete_cmap(14,'RdBu_r')\n",
    "variable=agg_mono_phi\n",
    "# norm = matplotlib.colors.Normalize(vmin=-max(abs(np.amin(agg_mono_phi)),abs(np.amax(agg_mono_phi))), \\\n",
    "#                                    vmax=max(abs(np.amin(agg_mono_phi)),abs(np.amax(agg_mono_phi))))\n",
    "norm1 = matplotlib.colors.Normalize(vmin=0, vmax=70)\n",
    "norm = matplotlib.colors.DivergingNorm(vmin=0, vcenter=50., vmax=70)\n",
    "for i in range(agg_phi_bins): \n",
    "    print('i= ', i)\n",
    "    for r in range(agg_r_bins):  \n",
    "        if r != 0:\n",
    "            plt.bar(i, all_r_bins[i,r], bottom= all_r_bins[i,r-1], color=cmap(norm(variable[i,r])), edgecolor='k')\n",
    "        else:\n",
    "            plt.bar(i, all_r_bins[i,r], color=cmap(norm(variable[i,r])), edgecolor='k')\n",
    "\n",
    "plt.yscale('log')\n",
    "plt.ylim(1.,10000)\n",
    "plt.xticks(np.arange(len(phi_bin_labs)), phi_bin_labs, rotation=90, ha=\"center\")\n",
    "# plt.ylabel(\"Aggregate Radius Bins\")\n",
    "# plt.xlabel(\"Aggregate Aspect Ratio ($\\phi$) Bins\",)  \n",
    "\n",
    "cb = cm.ScalarMappable(cmap=cmap, norm=norm1)\n",
    "cbar = plt.colorbar(cb, format='%d')\n",
    "cbar.set_ticks(np.linspace(0,100,11))\n",
    "          \n",
    "#cbar.ax.set_ylabel('# of Oblates per Bin')\n",
    "plt.title('Quasi-Horizontal Orientation')\n",
    "#plt.title('Random Orientation');\n",
    "#plt.tight_layout()\n",
    "plt.tight_layout()\n",
    "#plt.savefig('../plots/bins_flat_monophi.png', format='png',dpi=300)"
   ]
  }
 ],
 "metadata": {
  "kernelspec": {
   "display_name": "Python 3",
   "language": "python",
   "name": "python3"
  },
  "language_info": {
   "codemirror_mode": {
    "name": "ipython",
    "version": 3
   },
   "file_extension": ".py",
   "mimetype": "text/x-python",
   "name": "python",
   "nbconvert_exporter": "python",
   "pygments_lexer": "ipython3",
   "version": "3.7.9"
  }
 },
 "nbformat": 4,
 "nbformat_minor": 4
}
