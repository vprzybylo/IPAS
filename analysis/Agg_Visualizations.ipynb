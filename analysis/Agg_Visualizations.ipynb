{
 "cells": [
  {
   "cell_type": "code",
   "execution_count": 1,
   "metadata": {},
   "outputs": [],
   "source": [
    "#Reloads the modules to update any changes\n",
    "%load_ext autoreload\n",
    "%autoreload 2\n",
    "%matplotlib inline"
   ]
  },
  {
   "cell_type": "code",
   "execution_count": 2,
   "metadata": {},
   "outputs": [],
   "source": [
    "import sys\n",
    "sys.path.append(\"..\")\n",
    "import scripts.database as database\n",
    "import plotly_aggs\n",
    "\n",
    "import numpy as np\n",
    "import glob\n",
    "import scipy.optimize as opt\n",
    "import chart_studio\n",
    "import chart_studio.plotly as py\n",
    "\n",
    "# USERNAME = ''  # enter you're username\n",
    "# API_KEY = ''  # enter you're api_key\n",
    "chart_studio.tools.set_credentials_file(username=USERNAME, api_key=API_KEY)"
   ]
  },
  {
   "cell_type": "markdown",
   "metadata": {},
   "source": [
    "## Read Database"
   ]
  },
  {
   "cell_type": "code",
   "execution_count": 3,
   "metadata": {},
   "outputs": [],
   "source": [
    "orientation = 'rand'  # chose which orientation (rand or flat)\n",
    "if orientation == 'rand':\n",
    "    rand_orient = True      #randomly orient the seed crystal and new crystal: uses first random orientation\n",
    "    files = glob.glob(\"/network/rit/lab/sulialab/share/IPAS_3radii/instance_files/createdb_iceagg_rand*\")\n",
    "else:\n",
    "    rand_orient = False      #randomly orient the seed crystal and new crystal: uses first random orientation\n",
    "    files =  glob.glob(\"/network/rit/lab/sulialab/share/IPAS_3radii/instance_files/createdb_iceagg_flat*\")"
   ]
  },
  {
   "cell_type": "code",
   "execution_count": 4,
   "metadata": {},
   "outputs": [
    {
     "name": "stdout",
     "output_type": "stream",
     "text": [
      "reading:  /network/rit/lab/sulialab/share/IPAS_3radii/instance_files/createdb_iceagg_rand_r500_1000\n",
      "reading:  /network/rit/lab/sulialab/share/IPAS_3radii/instance_files/createdb_iceagg_rand_r1_5\n",
      "reading:  /network/rit/lab/sulialab/share/IPAS_3radii/instance_files/createdb_iceagg_rand_r6_10\n",
      "reading:  /network/rit/lab/sulialab/share/IPAS_3radii/instance_files/createdb_iceagg_rand_r20_70\n",
      "reading:  /network/rit/lab/sulialab/share/IPAS_3radii/instance_files/createdb_iceagg_rand_r80_400\n",
      "CPU times: user 59.4 s, sys: 14.7 s, total: 1min 14s\n",
      "Wall time: 1min 14s\n"
     ]
    }
   ],
   "source": [
    "%%time\n",
    "db = database.Database(files)\n",
    "db.read_database()\n",
    "db.append_shape()\n",
    "db.truncate_agg_r(5000)\n",
    "db.append_agg_phi()\n",
    "df = db.df  # get the dataframe (db is an instance of database.py module)"
   ]
  },
  {
   "cell_type": "markdown",
   "metadata": {},
   "source": [
    "## Generate Plot in Plotly (click on output URL)"
   ]
  },
  {
   "cell_type": "code",
   "execution_count": 89,
   "metadata": {},
   "outputs": [
    {
     "data": {
      "text/plain": [
       "'https://plotly.com/~v_przybylo/24/'"
      ]
     },
     "execution_count": 89,
     "metadata": {},
     "output_type": "execute_result"
    }
   ],
   "source": [
    "index = 10000  # which agg to plot\n",
    "agg = df.iloc[index]\n",
    "\n",
    "all_agg_data = []\n",
    "for crystal_num in range(agg.ncrystals):  # index of monomer in agg\n",
    "    agg_plt = plotly_aggs.PlotAgg(agg, crystal_num)\n",
    "    agg_plt.prism_points()\n",
    "    agg_plt.min_max_all_points()\n",
    "    agg_plt.basal_points_bottom()\n",
    "    agg_plt.basal_points_top()\n",
    "    agg_plt.get_scatter_plot_data()\n",
    "    # go.Scatter3d for each part of monomer for each monomer in agg\n",
    "    all_agg_data.extend([agg_plt.trace_prism,\n",
    "                        agg_plt.trace_basal_top,\n",
    "                        agg_plt.trace_basal_bottom])\n",
    "\n",
    "#apply to whole agg, not each individual monomer\n",
    "agg_plt.ellipsoid_points()\n",
    "agg_plt.scatter_ellipsoid()\n",
    "all_agg_data.append(agg_plt.ellipsoid)\n",
    "agg_plt.set_up_camera()\n",
    "agg_plt.set_up_layout()\n",
    "\n",
    "#all_agg_data = np.array(all_agg_data).flatten()\n",
    "py.plot(all_agg_data, filename='test',\n",
    "        auto_open=True, layout=agg_plt.layout)"
   ]
  },
  {
   "cell_type": "code",
   "execution_count": null,
   "metadata": {},
   "outputs": [],
   "source": []
  }
 ],
 "metadata": {
  "kernelspec": {
   "display_name": "Python 3",
   "language": "python",
   "name": "python3"
  },
  "language_info": {
   "codemirror_mode": {
    "name": "ipython",
    "version": 3
   },
   "file_extension": ".py",
   "mimetype": "text/x-python",
   "name": "python",
   "nbconvert_exporter": "python",
   "pygments_lexer": "ipython3",
   "version": "3.7.9"
  }
 },
 "nbformat": 4,
 "nbformat_minor": 4
}
