{
 "cells": [
  {
   "cell_type": "code",
   "execution_count": 8,
   "metadata": {},
   "outputs": [],
   "source": [
    "#Reloads the modules to update any changes\n",
    "%load_ext autoreload\n",
    "%autoreload 2\n",
    "%matplotlib inline"
   ]
  },
  {
   "cell_type": "code",
   "execution_count": 61,
   "metadata": {},
   "outputs": [],
   "source": [
    "import sys\n",
    "sys.path.append(\"..\")\n",
    "import scripts.database as database\n",
    "import plotly_aggs\n",
    "\n",
    "import numpy as np\n",
    "import glob\n",
    "import scipy.optimize as opt\n",
    "import chart_studio.plotly as py\n",
    "chart_studio.tools.set_credentials_file(username='V_przybylo', api_key='dLMeh8k4zPW1tltWDpvp')"
   ]
  },
  {
   "cell_type": "markdown",
   "metadata": {},
   "source": [
    "## Read Database"
   ]
  },
  {
   "cell_type": "code",
   "execution_count": 21,
   "metadata": {},
   "outputs": [],
   "source": [
    "orientation = 'rand'  # chose which orientation (rand or flat)\n",
    "if orientation == 'rand':\n",
    "    rand_orient = True      #randomly orient the seed crystal and new crystal: uses first random orientation\n",
    "    files = glob.glob(\"/network/rit/lab/sulialab/share/IPAS_3radii/instance_files/createdb_iceagg_rand*\")\n",
    "else:\n",
    "    rand_orient = False      #randomly orient the seed crystal and new crystal: uses first random orientation\n",
    "    files =  glob.glob(\"/network/rit/lab/sulialab/share/IPAS_3radii/instance_files/createdb_iceagg_flat*\")"
   ]
  },
  {
   "cell_type": "code",
   "execution_count": 22,
   "metadata": {},
   "outputs": [
    {
     "name": "stdout",
     "output_type": "stream",
     "text": [
      "reading:  /network/rit/lab/sulialab/share/IPAS_3radii/instance_files/createdb_iceagg_rand_r500_1000\n",
      "reading:  /network/rit/lab/sulialab/share/IPAS_3radii/instance_files/createdb_iceagg_rand_r1_5\n",
      "reading:  /network/rit/lab/sulialab/share/IPAS_3radii/instance_files/createdb_iceagg_rand_r6_10\n",
      "reading:  /network/rit/lab/sulialab/share/IPAS_3radii/instance_files/createdb_iceagg_rand_r20_70\n",
      "reading:  /network/rit/lab/sulialab/share/IPAS_3radii/instance_files/createdb_iceagg_rand_r80_400\n"
     ]
    }
   ],
   "source": [
    "db = database.Database(files)\n",
    "db.read_database()\n",
    "db.append_shape()\n",
    "db.truncate_agg_r(5000)\n",
    "db.append_agg_phi()\n",
    "df = db.df  # get the dataframe (db is an instance of database.py module)"
   ]
  },
  {
   "cell_type": "code",
   "execution_count": 92,
   "metadata": {},
   "outputs": [
    {
     "name": "stdout",
     "output_type": "stream",
     "text": [
      "0\n",
      "1\n",
      "2\n",
      "3\n"
     ]
    },
    {
     "data": {
      "text/plain": [
       "'https://plotly.com/~v_przybylo/24/'"
      ]
     },
     "execution_count": 92,
     "metadata": {},
     "output_type": "execute_result"
    }
   ],
   "source": [
    "index = 100000  # which agg to plot\n",
    "aggs = df.iloc[index]\n",
    "\n",
    "all_agg_data = []\n",
    "for crystal_num in range(aggs.ncrystals):  # index of monomer in agg\n",
    "    agg = plotly_aggs.PlotAgg(aggs.points, crystal_num)\n",
    "    agg.min_all_points()\n",
    "    agg.max_all_points()\n",
    "    agg.prism_points()\n",
    "    agg.basal_points_bottom()\n",
    "    agg.basal_points_top()\n",
    "    agg.get_xyz_for_tracing()\n",
    "    agg.scatter()\n",
    "    agg.set_up_camera()\n",
    "    agg.set_up_layout()\n",
    "    all_agg_data.append(agg.plotting_data)\n",
    "    #fig = dict(data=agg.plotting_data, layout=agg.layout)\n",
    "all_agg_data = np.array(all_agg_data).flatten()\n",
    "py.plot(list(all_agg_data), filename='test', auto_open=True, layout=agg.layout)"
   ]
  }
 ],
 "metadata": {
  "kernelspec": {
   "display_name": "Python 3",
   "language": "python",
   "name": "python3"
  },
  "language_info": {
   "codemirror_mode": {
    "name": "ipython",
    "version": 3
   },
   "file_extension": ".py",
   "mimetype": "text/x-python",
   "name": "python",
   "nbconvert_exporter": "python",
   "pygments_lexer": "ipython3",
   "version": "3.7.9"
  }
 },
 "nbformat": 4,
 "nbformat_minor": 4
}
