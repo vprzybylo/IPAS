{
 "cells": [
  {
   "cell_type": "markdown",
   "metadata": {},
   "source": [
    "# Main Aggregation Script - calls lab.py and crystals.py"
   ]
  },
  {
   "cell_type": "code",
   "execution_count": 1,
   "metadata": {},
   "outputs": [],
   "source": [
    "#Reloads the lab.py and crystals.py modules to update any changes (after saving)\n",
    "#If a new method or object is created, autoreload doesn't work and the \n",
    "#kernel needs to be closed and halted after saving and making a 'checkpoint'\n",
    "#in this notebook\n",
    "\n",
    "%load_ext autoreload\n",
    "%autoreload 2"
   ]
  },
  {
   "cell_type": "code",
   "execution_count": 4,
   "metadata": {},
   "outputs": [],
   "source": [
    "import ipas\n",
    "import progressbar as Progressbar\n",
    "import numpy as np\n",
    "from dask_jobqueue import SLURMCluster\n",
    "from dask.distributed import Client, progress\n",
    "from dask import delayed\n",
    "from dask import dataframe as dd\n",
    "import functools\n",
    "import sys\n",
    "import ast\n",
    "from struct import *\n",
    "import pickle\n",
    "import glob\n",
    "import random"
   ]
  },
  {
   "cell_type": "code",
   "execution_count": 3,
   "metadata": {},
   "outputs": [
    {
     "ename": "NameError",
     "evalue": "name 'SLURMCluster' is not defined",
     "output_type": "error",
     "traceback": [
      "\u001b[0;31m---------------------------------------------------------------------------\u001b[0m",
      "\u001b[0;31mNameError\u001b[0m                                 Traceback (most recent call last)",
      "\u001b[0;32m<ipython-input-3-7bce4764890e>\u001b[0m in \u001b[0;36m<module>\u001b[0;34m\u001b[0m\n\u001b[0;32m----> 1\u001b[0;31m cluster = SLURMCluster(\n\u001b[0m\u001b[1;32m      2\u001b[0m     \u001b[0mqueue\u001b[0m\u001b[0;34m=\u001b[0m\u001b[0;34m'kratos'\u001b[0m\u001b[0;34m,\u001b[0m\u001b[0;34m\u001b[0m\u001b[0;34m\u001b[0m\u001b[0m\n\u001b[1;32m      3\u001b[0m     \u001b[0mwalltime\u001b[0m\u001b[0;34m=\u001b[0m\u001b[0;34m'04-23:00:00'\u001b[0m\u001b[0;34m,\u001b[0m\u001b[0;34m\u001b[0m\u001b[0;34m\u001b[0m\u001b[0m\n\u001b[1;32m      4\u001b[0m     \u001b[0mcores\u001b[0m\u001b[0;34m=\u001b[0m\u001b[0;36m1\u001b[0m\u001b[0;34m,\u001b[0m\u001b[0;34m\u001b[0m\u001b[0;34m\u001b[0m\u001b[0m\n\u001b[1;32m      5\u001b[0m     \u001b[0mmemory\u001b[0m\u001b[0;34m=\u001b[0m\u001b[0;34m'7000MiB'\u001b[0m\u001b[0;34m,\u001b[0m \u001b[0;31m#1 GiB = 1,024 MiB\u001b[0m\u001b[0;34m\u001b[0m\u001b[0;34m\u001b[0m\u001b[0m\n",
      "\u001b[0;31mNameError\u001b[0m: name 'SLURMCluster' is not defined"
     ]
    }
   ],
   "source": [
    "cluster = SLURMCluster(\n",
    "    queue='kratos',\n",
    "    walltime='04-23:00:00',\n",
    "    cores=1,\n",
    "    memory='7000MiB', #1 GiB = 1,024 MiB\n",
    "    processes=1)\n",
    "\n",
    "\n",
    "#cluster.scale(28)\n",
    "cluster.scale(15)"
   ]
  },
  {
   "cell_type": "code",
   "execution_count": null,
   "metadata": {},
   "outputs": [],
   "source": [
    "client = Client(cluster)"
   ]
  },
  {
   "cell_type": "code",
   "execution_count": null,
   "metadata": {},
   "outputs": [],
   "source": [
    "client"
   ]
  },
  {
   "cell_type": "markdown",
   "metadata": {},
   "source": [
    "# Initialize databases for queries"
   ]
  },
  {
   "cell_type": "code",
   "execution_count": null,
   "metadata": {},
   "outputs": [],
   "source": [
    "files = ['sqlite:///'+f for f in glob.glob(\"IPAS_*_flat.sqlite\")]\n",
    "tables = ['aggregates', 'crystals']"
   ]
  },
  {
   "cell_type": "code",
   "execution_count": null,
   "metadata": {},
   "outputs": [],
   "source": [
    "%% time \n",
    "df=[]\n",
    "for table in tables:\n",
    "    \n",
    "    #read tables in parallel on client \n",
    "    read_files = [dask.delayed(dd.read_sql_table)(table=table, uri=file, index_col='id') for file in files]\n",
    "    compute_read = client.compute(read_files)\n",
    "    print('done with compute')\n",
    "    ddfs = client.gather(compute_read)\n",
    "    print('done with gather')\n",
    "    #concatenate all sqlite files vertically (axis=0 default) (same columns)\n",
    "    gathered_reads = client.scatter(ddfs)\n",
    "    ddf = client.submit(dd.concat, gathered_reads).result()\n",
    "    print('done with submit')\n",
    "    #append combined dask df for each table\n",
    "    df.append(ddf)"
   ]
  },
  {
   "cell_type": "code",
   "execution_count": null,
   "metadata": {},
   "outputs": [],
   "source": [
    "%time df_concat = dd.concat([df[0], df[1]], axis=1).persist()"
   ]
  },
  {
   "cell_type": "code",
   "execution_count": null,
   "metadata": {},
   "outputs": [],
   "source": [
    "def query(df_repart, phi_lower, phi_upper, r_lower, r_upper):\n",
    "    df = df_repart[(df_repart.agg_phi > phi_lower) & (df_repart.agg_phi < phi_upper) &\\\n",
    "                            (df_repart.agg_r > r_lower) & (df_repart.agg_r < r_upper)]\n",
    "    return df\n"
   ]
  },
  {
   "cell_type": "markdown",
   "metadata": {},
   "source": [
    "# MAIN"
   ]
  },
  {
   "cell_type": "code",
   "execution_count": 8,
   "metadata": {
    "scrolled": true
   },
   "outputs": [],
   "source": [
    "phioagg=np.logspace(-1, 1, num=3, dtype=None)\n",
    "print(phioagg)\n",
    "ragg=np.logspace(3, 4, num=5, dtype=None)\n",
    "print(ragg)\n",
    "\n",
    "numaspectratios=len(phioagg)\n",
    "ch_dist='gamma'         #anything other than gamma uses the characteristic from the best distribution pdf (lowest SSE)\n",
    "nclusters = 5        #changes how many aggregates per aspect ratio to consider\n",
    "rand_orient = True    #randomly orient the seed crystal and new crystal: uses first random orientation\n",
    "save_plots = False     #saves all histograms to path with # of aggs and minor/depth folder\n",
    "factor = 10            #how broad of a range on database queries for agg aspect ratio and radius\n",
    "\n",
    "#Note, there may be a shape parameter erlang distribution run time warning occasionally if warning filter\n",
    "#is turned off, disregard it\n",
    "#warnings.filterwarnings(\"ignore\")\n"
   ]
  },
  {
   "cell_type": "code",
   "execution_count": 13,
   "metadata": {},
   "outputs": [],
   "source": [
    "def main():\n",
    "\n",
    "    output = []\n",
    "    for phi in phioagg:\n",
    "        for r in ragg:\n",
    "            avail_data = False\n",
    "            max_resample = 0\n",
    "            factor = 10\n",
    "            while avail_data is False:\n",
    "                print(phi, r)\n",
    "                phi_lower = phi-(phi/factor)\n",
    "                phi_upper = phi+(phi/factor)\n",
    "                r_lower = r-(r/factor)\n",
    "                r_upper = r+(r/factor)\n",
    "\n",
    "                result = df_repart.map_partitions(query, phi_lower, phi_upper, r_lower, r_upper).compute().reset_index() \n",
    "                len_result  = len(result)\n",
    "\n",
    "                if len_result >= 300:\n",
    "                    avail_data = True\n",
    "                    print('len query', len_result, phi_lower, phi_upper, r_lower, r_upper)\n",
    "                    #list_results = result.compute()\n",
    "\n",
    "                    clusters = result.sample(300)\n",
    "\n",
    "                    #print(row)\n",
    "\n",
    "                    #print('data at row', result.loc[row])\n",
    "                    #mono_a = row.r/row.phi**(1./3.)\n",
    "                    #mono_c = row.phi**(2./3.)*row.r\n",
    "\n",
    "\n",
    "                else:\n",
    "\n",
    "                    if max_resample < 4:\n",
    "                        factor = factor*2 \n",
    "                        print('changing factor to: ', factor)\n",
    "                        max_resample += 1\n",
    "                    else:\n",
    "                        avail_data = True\n",
    "               \n",
    "   \n",
    "\n",
    "            output.append(delayed(lab.collect_clusters)(clusters, rand_orient=rand_orient)\n",
    "            \n",
    "            \n",
    "    print(output)\n",
    "    print('computing...')\n",
    "    b1 = client.compute(output, scheduler='distributed') \n",
    "\n",
    "    #print('-------------gathering-----------')\n",
    "    b1 = client.gather(b1)\n",
    "\n",
    "    return b1\n"
   ]
  },
  {
   "cell_type": "code",
   "execution_count": null,
   "metadata": {},
   "outputs": [
    {
     "name": "stdout",
     "output_type": "stream",
     "text": [
      "eq. vol rad 10 100.0\n",
      "[Delayed('collect_clusters-9b932cc8-22b1-4a83-9a51-3db04581d717')]\n",
      "computing...\n"
     ]
    }
   ],
   "source": [
    "if __name__ == '__main__':\n",
    "\n",
    "    %time b1 = main() \n",
    "\n",
    "    filename = 'instance_agg_agg_dbtest'\n",
    "    filehandler = open(filename, 'wb')\n",
    "    %time pickle.dump(b1, filehandler)\n",
    "    filehandler.close()\n",
    "    print('finished!')\n",
    "        "
   ]
  },
  {
   "cell_type": "code",
   "execution_count": 11,
   "metadata": {},
   "outputs": [
    {
     "ename": "FileNotFoundError",
     "evalue": "[Errno 2] No such file or directory: 'instance_3radii_iceagg_allrand_100xtalstot_20phi_r10_1000aggs'",
     "output_type": "error",
     "traceback": [
      "\u001b[0;31m---------------------------------------------------------------------------\u001b[0m",
      "\u001b[0;31mFileNotFoundError\u001b[0m                         Traceback (most recent call last)",
      "\u001b[0;32m<ipython-input-11-013c228cc9fa>\u001b[0m in \u001b[0;36m<module>\u001b[0;34m\u001b[0m\n\u001b[1;32m      1\u001b[0m \u001b[0;31m#sns.jointplot(x=df[\"sepal_length\"], y=df[\"sepal_width\"], kind='kde')\u001b[0m\u001b[0;34m\u001b[0m\u001b[0;34m\u001b[0m\u001b[0;34m\u001b[0m\u001b[0m\n\u001b[0;32m----> 2\u001b[0;31m \u001b[0mfile\u001b[0m \u001b[0;34m=\u001b[0m \u001b[0mopen\u001b[0m\u001b[0;34m(\u001b[0m\u001b[0;34m'instance_3radii_iceagg_allrand_100xtalstot_20phi_r10_1000aggs'\u001b[0m\u001b[0;34m,\u001b[0m \u001b[0;34m'rb'\u001b[0m\u001b[0;34m)\u001b[0m\u001b[0;34m\u001b[0m\u001b[0;34m\u001b[0m\u001b[0m\n\u001b[0m\u001b[1;32m      3\u001b[0m \u001b[0mb1\u001b[0m \u001b[0;34m=\u001b[0m \u001b[0mpickle\u001b[0m\u001b[0;34m.\u001b[0m\u001b[0mload\u001b[0m\u001b[0;34m(\u001b[0m\u001b[0mfile\u001b[0m\u001b[0;34m)\u001b[0m\u001b[0;34m\u001b[0m\u001b[0;34m\u001b[0m\u001b[0m\n",
      "\u001b[0;31mFileNotFoundError\u001b[0m: [Errno 2] No such file or directory: 'instance_3radii_iceagg_allrand_100xtalstot_20phi_r10_1000aggs'"
     ]
    }
   ],
   "source": [
    "file = open('instance_agg_agg_dbtest', 'rb')\n",
    "b1 = pickle.load(file)"
   ]
  },
  {
   "cell_type": "code",
   "execution_count": 10,
   "metadata": {},
   "outputs": [
    {
     "name": "stdout",
     "output_type": "stream",
     "text": [
      "(20, 300, 39)\n"
     ]
    },
    {
     "data": {
      "image/png": "[encoded data removed]",
      "text/plain": [
       "<Figure size 432x432 with 3 Axes>"
      ]
     },
     "metadata": {
      "needs_background": "light"
     },
     "output_type": "display_data"
    },
    {
     "data": {
      "image/png": "[encoded data removed]",
      "text/plain": [
       "<Figure size 432x432 with 3 Axes>"
      ]
     },
     "metadata": {
      "needs_background": "light"
     },
     "output_type": "display_data"
    }
   ],
   "source": [
    "phiba = b1.rxs/b1.rzs\n",
    "print(np.shape(phiba))\n",
    "phica = b1.rys/b1.rzs\n",
    "ax = sns.jointplot(x=phiba[1,:,2], y=phica[1,:,2], kind='kde')\n",
    "ax = sns.jointplot(x=phiba[19,:,2], y=phica[19,:,2], kind='kde', color='r')\n",
    "#ax.set(xlabel='$phi$_ba', ylabel='$phi$_ca')\n",
    "#ax.set_xlabel('$phi$_ba')\n",
    "#ax.set_ylabel('$phi$_ca') "
   ]
  },
  {
   "cell_type": "code",
   "execution_count": null,
   "metadata": {},
   "outputs": [],
   "source": []
  }
 ],
 "metadata": {
  "anaconda-cloud": {},
  "kernelspec": {
   "display_name": "Python 3",
   "language": "python",
   "name": "python3"
  },
  "language_info": {
   "codemirror_mode": {
    "name": "ipython",
    "version": 3
   },
   "file_extension": ".py",
   "mimetype": "text/x-python",
   "name": "python",
   "nbconvert_exporter": "python",
   "pygments_lexer": "ipython3",
   "version": "3.6.8"
  }
 },
 "nbformat": 4,
 "nbformat_minor": 4
}
