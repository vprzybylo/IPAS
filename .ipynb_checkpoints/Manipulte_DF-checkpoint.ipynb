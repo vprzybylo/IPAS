{
 "cells": [
  {
   "cell_type": "code",
   "execution_count": 18,
   "metadata": {},
   "outputs": [],
   "source": [
    "import pandas as pd\n",
    "import dask as dask\n",
    "from dask import dataframe as dd\n",
    "import numpy as np\n",
    "from dask_jobqueue import SLURMCluster\n",
    "from dask.distributed import Client\n",
    "import dask.array as da\n",
    "import functools\n",
    "import sys\n",
    "import ast\n",
    "from struct import *\n",
    "import pickle\n",
    "import glob\n",
    "import random\n",
    "import seaborn as sns\n",
    "import ipywidgets as widgets\n",
    "from clustergrammer2 import net, Network\n",
    "from clustergrammer_widget import *\n",
    "import bqplot\n",
    "from ipywidgets import Layout\n",
    "from IPython.display import display\n",
    "import bqplot.pyplot as bqplt\n",
    "import matplotlib.pyplot as plt"
   ]
  },
  {
   "cell_type": "code",
   "execution_count": 19,
   "metadata": {},
   "outputs": [
    {
     "name": "stderr",
     "output_type": "stream",
     "text": [
      "/network/rit/lab/sulialab/share/bin/miniconda3/envs/pangeo/lib/python3.6/site-packages/distributed/dashboard/core.py:72: UserWarning: \n",
      "Port 8787 is already in use. \n",
      "Perhaps you already have a cluster running?\n",
      "Hosting the diagnostics dashboard on a random port instead.\n",
      "  warnings.warn(\"\\n\" + msg)\n"
     ]
    },
    {
     "data": {
      "text/plain": [
       "<distributed.deploy.adaptive.Adaptive at 0x7fae9f8618d0>"
      ]
     },
     "execution_count": 19,
     "metadata": {},
     "output_type": "execute_result"
    }
   ],
   "source": [
    "cluster = SLURMCluster(\n",
    "    queue='kratos',\n",
    "    walltime='04-23:00:00',\n",
    "    cores=1,\n",
    "    memory='7000MiB', #1 GiB = 1,024 MiB\n",
    "    processes=1)\n",
    "\n",
    "#cluster.scale(10)\n",
    "cluster.adapt(minimum=3, maximum=20)"
   ]
  },
  {
   "cell_type": "code",
   "execution_count": 20,
   "metadata": {},
   "outputs": [],
   "source": [
    "client = Client(cluster)"
   ]
  },
  {
   "cell_type": "code",
   "execution_count": 25,
   "metadata": {},
   "outputs": [
    {
     "data": {
      "text/html": [
       "<table style=\"border: 2px solid white;\">\n",
       "<tr>\n",
       "<td style=\"vertical-align: top; border: 0px solid white\">\n",
       "<h3 style=\"text-align: left;\">Client</h3>\n",
       "<ul style=\"text-align: left; list-style: none; margin: 0; padding: 0;\">\n",
       "  <li><b>Scheduler: </b>tcp://169.226.65.46:45789</li>\n",
       "  <li><b>Dashboard: </b><a href='http://169.226.65.46:43543/status' target='_blank'>http://169.226.65.46:43543/status</a>\n",
       "</ul>\n",
       "</td>\n",
       "<td style=\"vertical-align: top; border: 0px solid white\">\n",
       "<h3 style=\"text-align: left;\">Cluster</h3>\n",
       "<ul style=\"text-align: left; list-style:none; margin: 0; padding: 0;\">\n",
       "  <li><b>Workers: </b>3</li>\n",
       "  <li><b>Cores: </b>3</li>\n",
       "  <li><b>Memory: </b>22.02 GB</li>\n",
       "</ul>\n",
       "</td>\n",
       "</tr>\n",
       "</table>"
      ],
      "text/plain": [
       "<Client: 'tcp://169.226.65.46:45789' processes=3 threads=3, memory=22.02 GB>"
      ]
     },
     "execution_count": 25,
     "metadata": {},
     "output_type": "execute_result"
    }
   ],
   "source": [
    "client"
   ]
  },
  {
   "cell_type": "code",
   "execution_count": 26,
   "metadata": {},
   "outputs": [],
   "source": [
    "files = ['sqlite:///'+f for f in glob.glob(\"db_files/IPAS_*_flat.sqlite\")]\n",
    "tables = ['aggregates', 'crystals']\n"
   ]
  },
  {
   "cell_type": "code",
   "execution_count": 27,
   "metadata": {
    "scrolled": true
   },
   "outputs": [
    {
     "name": "stdout",
     "output_type": "stream",
     "text": [
      "done with compute\n",
      "done with gather\n",
      "done with submit\n",
      "done with compute\n",
      "done with gather\n",
      "done with submit\n",
      "CPU times: user 4.79 s, sys: 2.65 s, total: 7.44 s\n",
      "Wall time: 30.7 s\n"
     ]
    }
   ],
   "source": [
    "%%time\n",
    "\n",
    "df=[]\n",
    "for table in tables:\n",
    "    \n",
    "    #read tables in parallel on client \n",
    "    read_files = [dask.delayed(dd.read_sql_table)(table=table, uri=file, index_col='id') for file in files]\n",
    "    \n",
    "    compute_read = client.compute(read_files)\n",
    "    print('done with compute')\n",
    "    ddfs = client.gather(compute_read)\n",
    "    print('done with gather')\n",
    "    #concatenate all sqlite files vertically (axis=0 default) (same columns)\n",
    "    gathered_reads = client.scatter(ddfs)\n",
    "    ddf = client.submit(dd.concat, gathered_reads).result()\n",
    "    print('done with submit')\n",
    "    #append combined dask df for each table\n",
    "    df.append(ddf)\n"
   ]
  },
  {
   "cell_type": "code",
   "execution_count": 13,
   "metadata": {
    "collapsed": true,
    "jupyter": {
     "outputs_hidden": true
    }
   },
   "outputs": [
    {
     "name": "stdout",
     "output_type": "stream",
     "text": [
      "[( 22.40173739, -15.8843567 , 62.51523222)\n",
      " ( 18.37026129,  20.02084359, 91.65281075)\n",
      " ( -4.55191249,  58.16183605, 78.4515482 )\n",
      " (-23.44261017,  60.39762823, 36.11270711)\n",
      " (-19.41113407,  24.49242795,  6.97512858)\n",
      " (  3.51103971, -13.64856452, 20.17639113)\n",
      " ( 23.19051107, -15.52556816, 62.18224463)\n",
      " ( 19.15903497,  20.37963212, 91.31982316)\n",
      " ( -3.76313881,  58.52062459, 78.11856061)\n",
      " (-22.65383648,  60.75641677, 35.77971952)\n",
      " (-18.62236038,  24.85121649,  6.64214099)\n",
      " (  4.2998134 , -13.28977598, 19.84340354)]\n",
      "[(-15.0442687 ,  45.30420704, 42.0417363 )\n",
      " ( 12.81579224,  54.83246286,  6.16048722)\n",
      " ( 44.57179318,  23.83074534, -7.43674062)\n",
      " ( 48.46773319, -16.699228  , 14.84728062)\n",
      " ( 20.60767226, -26.22748382, 50.7285297 )\n",
      " (-11.14832869,   4.7742337 , 64.32575754)\n",
      " (-14.42634808,  45.68265268, 42.62201803)\n",
      " ( 13.43371286,  55.2109085 ,  6.74076894)\n",
      " ( 45.1897138 ,  24.20919099, -6.8564589 )\n",
      " ( 49.08565381, -16.32078235, 15.42756234)\n",
      " ( 21.22559288, -25.84903817, 51.30881142)\n",
      " (-10.53040807,   5.15267934, 64.90603927)]\n",
      "[( 27.03688513, 28.30258672,  68.25436138)\n",
      " ( -4.62015831, -5.28319091,  63.32873134)\n",
      " (-45.89497092, -1.51684505,  84.22464417)\n",
      " (-55.51274008, 35.83527845, 110.04618705)\n",
      " (-23.85569664, 69.42105608, 114.97181709)\n",
      " ( 17.41911597, 65.65471022,  94.07590426)\n",
      " ( 27.37683493, 27.87230585,  69.00340503)\n",
      " ( -4.28020851, -5.71347178,  64.07777499)\n",
      " (-45.55502112, -1.94712591,  84.97368782)\n",
      " (-55.17279028, 35.40499759, 110.7952307 )\n",
      " (-23.51574684, 68.99077522, 115.72086074)\n",
      " ( 17.75906577, 65.22442935,  94.82494791)]\n",
      "[( 27.53101177, -38.31622336, 105.68565916)\n",
      " ( 11.16505698, -30.07060699, 148.33070606)\n",
      " ( -7.64752865,  11.14968055, 158.4009199 )\n",
      " (-10.0941595 ,  44.12435173, 125.82608685)\n",
      " (  6.27179528,  35.87873536,  83.18103995)\n",
      " ( 25.08438091,  -5.34155218,  73.11082611)\n",
      " ( 28.36430374, -37.9990606 , 105.94412801)\n",
      " ( 11.99834896, -29.75344424, 148.58917491)\n",
      " ( -6.81423667,  11.4668433 , 158.65938876)\n",
      " ( -9.26086753,  44.44151448, 126.08455571)\n",
      " (  7.10508726,  36.19589812,  83.43950881)\n",
      " ( 25.91767289,  -5.02438942,  73.36929496)]\n",
      "[( -3.57611932,  51.04544826, 36.81497676)\n",
      " (-29.16082906,  27.99184011, 67.93391743)\n",
      " (-22.18230687, -17.40090017, 74.65954362)\n",
      " ( 10.38092507, -39.74003231, 50.26622913)\n",
      " ( 35.96563481, -16.68642415, 19.14728846)\n",
      " ( 28.98711262,  28.70631613, 12.42166227)\n",
      " ( -4.20179459,  50.85178499, 36.15710226)\n",
      " (-29.78650433,  27.79817683, 67.27604293)\n",
      " (-22.80798214, -17.59456345, 74.00166912)\n",
      " (  9.75524979, -39.93369558, 49.60835463)\n",
      " ( 35.33995954, -16.88008743, 18.48941396)\n",
      " ( 28.36143734,  28.51265285, 11.76378777)]\n",
      "[(47.66451091,  31.22104043, 107.01265803)\n",
      " (70.77508359,  -8.27646101, 114.776903  )\n",
      " (58.91304816, -46.96087709,  92.03393138)\n",
      " (23.94044006, -46.14779173,  61.52671479)\n",
      " ( 0.82986738,  -6.65029028,  53.76246982)\n",
      " (12.69190281,  32.0341258 ,  76.50544144)\n",
      " (47.06813022,  31.00535284, 107.6905834 )\n",
      " (70.1787029 ,  -8.4921486 , 115.45482837)\n",
      " (58.31666747, -47.17656468,  92.71185675)\n",
      " (23.34405936, -46.36347931,  62.20464016)\n",
      " ( 0.23348668,  -6.86597787,  54.44039518)\n",
      " (12.09552211,  31.81843821,  77.18336681)]\n",
      "[(-46.94029604, -43.59028112, 119.97636704)\n",
      " (-21.73021399, -63.49810731,  86.47166722)\n",
      " (  5.91862588, -37.54642866,  59.70439767)\n",
      " (  8.3573837 ,   8.31307617,  66.44182793)\n",
      " (-16.85269835,  28.22090236,  99.94652774)\n",
      " (-44.50153821,   2.26922372, 126.71379729)\n",
      " (-47.6380444 , -43.4651181 , 119.37698793)\n",
      " (-22.42796235, -63.37294429,  85.87228811)\n",
      " (  5.22087752, -37.42126564,  59.10501856)\n",
      " (  7.65963534,   8.43823919,  65.84244882)\n",
      " (-17.55044671,  28.34606539,  99.34714863)\n",
      " (-45.19928658,   2.39438674, 126.11441818)]\n",
      "[(-5.80005932,  36.89713338, 126.98530042)\n",
      " (-0.21492635,   8.41671063, 163.20831106)\n",
      " ( 7.32859547, -36.84246723, 156.19854732)\n",
      " ( 9.28698431, -53.62122234, 112.96577295)\n",
      " ( 3.70185134, -25.14079959,  76.74276231)\n",
      " (-3.84167048,  20.11837827,  83.75252605)\n",
      " (-6.71507747,  36.74170044, 127.00417522)\n",
      " (-1.1299445 ,   8.26127769, 163.22718586)\n",
      " ( 6.41357732, -36.99790018, 156.21742212)\n",
      " ( 8.37196616, -53.77665529, 112.98464775)\n",
      " ( 2.78683318, -25.29623254,  76.76163711)\n",
      " (-4.75668863,  19.96294533,  83.77140085)]\n",
      "[( 32.66602137, 22.66033209, 67.63101341)\n",
      " (  5.34588734, 60.07619426, 70.47675138)\n",
      " (-26.9071394 , 67.78630118, 38.00012583)\n",
      " (-31.84003212, 38.08054592,  2.67776232)\n",
      " ( -4.5198981 ,  0.66468375, -0.16797565)\n",
      " ( 27.73312865, -7.04542317, 32.3086499 )\n",
      " ( 33.28152575, 23.14745361, 67.13539172)\n",
      " (  5.96139172, 60.56331578, 69.98112968)\n",
      " (-26.29163503, 68.2734227 , 37.50450413)\n",
      " (-31.22452775, 38.56766744,  2.18214062)\n",
      " ( -3.90439372,  1.15180526, -0.66359734)\n",
      " ( 28.34863303, -6.55830165, 31.81302821)]\n",
      "[(-34.28085564,  49.79964866, 27.50754927)\n",
      " (-31.14246264,   3.49007442, 27.59981325)\n",
      " (  7.06882356, -17.14893765, 43.98161653)\n",
      " ( 42.14171675,   8.52162454, 60.27115582)\n",
      " ( 39.00332375,  54.83119878, 60.17889184)\n",
      " (  0.79203755,  75.47021084, 43.79708856)\n",
      " (-33.90434808,  49.82347462, 26.65934632)\n",
      " (-30.76595508,   3.51390038, 26.7516103 )\n",
      " (  7.44533112, -17.12511168, 43.13341357)\n",
      " ( 42.51822431,   8.5454505 , 59.42295286)\n",
      " ( 39.37983131,  54.85502474, 59.33068888)\n",
      " (  1.16854511,  75.49403681, 42.94888561)]\n",
      "[(-23.97480768,  23.38313769, 40.50191909)\n",
      " (-47.1281043 ,  46.6187375 ,  7.66190618)\n",
      " (-58.33710428,  91.17122264, 14.28527969)\n",
      " (-46.39280765, 112.48810799, 53.7486661 )\n",
      " (-23.23951104,  89.25250818, 86.58867901)\n",
      " (-12.03051105,  44.70002303, 79.9653055 )\n",
      " (-24.77933968,  23.12368935, 40.88557089)\n",
      " (-47.93263629,  46.35928916,  8.04555798)\n",
      " (-59.14163627,  90.9117743 , 14.66893149)\n",
      " (-47.19733964, 112.22865965, 54.13231791)\n",
      " (-24.04404303,  88.99305984, 86.97233081)\n",
      " (-12.83504305,  44.44057469, 80.34895731)]\n",
      "[( 23.44663278,  52.26400109,  86.57752175)\n",
      " (-12.42419491,  42.14357188,  58.91355016)\n",
      " (-38.40624261,   4.62648509,  67.38916733)\n",
      " (-28.51746264, -22.77017248, 103.52875607)\n",
      " (  7.35336505, -12.64974326, 131.19272766)\n",
      " ( 33.33541275,  24.86734352, 122.71711049)\n",
      " ( 24.0056989 ,  51.75511465,  86.03876992)\n",
      " (-11.86512879,  41.63468543,  58.37479834)\n",
      " (-37.84717649,   4.11759865,  66.8504155 )\n",
      " (-27.95839651, -23.27905892, 102.99000424)\n",
      " (  7.91243117, -13.1586297 , 130.65397583)\n",
      " ( 33.89447888,  24.35845708, 122.17835866)]\n"
     ]
    }
   ],
   "source": [
    "for item in df.points:\n",
    "    print(pickle.loads(item))"
   ]
  },
  {
   "cell_type": "markdown",
   "metadata": {},
   "source": [
    "## Memory info and df stats"
   ]
  },
  {
   "cell_type": "code",
   "execution_count": 18,
   "metadata": {},
   "outputs": [
    {
     "data": {
      "text/plain": [
       "0.508032"
      ]
     },
     "execution_count": 18,
     "metadata": {},
     "output_type": "execute_result"
    }
   ],
   "source": [
    "df[0].memory_usage(deep=True).sum()/1E9\n",
    "#in GB"
   ]
  },
  {
   "cell_type": "code",
   "execution_count": 11,
   "metadata": {},
   "outputs": [
    {
     "name": "stdout",
     "output_type": "stream",
     "text": [
      "<class 'dask.dataframe.core.DataFrame'>\n",
      "Columns: 4 entries, phi to agg_id\n",
      "dtypes: object(1), float64(1), int64(2)\n",
      "memory usage: 314.0 MB\n"
     ]
    }
   ],
   "source": [
    "df[1].info(memory_usage='deep')"
   ]
  },
  {
   "cell_type": "code",
   "execution_count": 21,
   "metadata": {},
   "outputs": [
    {
     "name": "stdout",
     "output_type": "stream",
     "text": [
      "120\n",
      "120\n"
     ]
    }
   ],
   "source": [
    "#see partitions\n",
    "print(df[0].npartitions)\n",
    "print(df[1].npartitions)"
   ]
  },
  {
   "cell_type": "code",
   "execution_count": 41,
   "metadata": {},
   "outputs": [
    {
     "data": {
      "text/plain": [
       "(8232439, 8232439)"
      ]
     },
     "execution_count": 41,
     "metadata": {},
     "output_type": "execute_result"
    }
   ],
   "source": [
    "len(df[0]), len(df[1]) "
   ]
  },
  {
   "cell_type": "code",
   "execution_count": 49,
   "metadata": {},
   "outputs": [],
   "source": [
    "df_agg = client.persist(df[0]) "
   ]
  },
  {
   "cell_type": "code",
   "execution_count": 50,
   "metadata": {},
   "outputs": [],
   "source": [
    "df_mono = client.persist(df[1]) "
   ]
  },
  {
   "cell_type": "code",
   "execution_count": 44,
   "metadata": {},
   "outputs": [
    {
     "data": {
      "text/plain": [
       "count    8232439.00\n",
       "mean           3.98\n",
       "std            6.74\n",
       "min            0.01\n",
       "25%            0.31\n",
       "50%            2.76\n",
       "75%           30.08\n",
       "max           78.33\n",
       "dtype: float64"
      ]
     },
     "execution_count": 44,
     "metadata": {},
     "output_type": "execute_result"
    }
   ],
   "source": [
    "agg_stats = df[0]['agg_phi'].describe().round(2).compute()\n",
    "agg_stats"
   ]
  },
  {
   "cell_type": "code",
   "execution_count": 45,
   "metadata": {},
   "outputs": [
    {
     "data": {
      "text/plain": [
       "count    8232439.00\n",
       "mean        2454.65\n",
       "std         5282.27\n",
       "min            0.46\n",
       "25%          122.19\n",
       "50%         1349.11\n",
       "75%        43820.08\n",
       "max        67900.97\n",
       "dtype: float64"
      ]
     },
     "execution_count": 45,
     "metadata": {},
     "output_type": "execute_result"
    }
   ],
   "source": [
    "r_stats = df[0]['agg_r'].describe().round(2).compute()\n",
    "r_stats"
   ]
  },
  {
   "cell_type": "code",
   "execution_count": 30,
   "metadata": {},
   "outputs": [
    {
     "data": {
      "text/plain": [
       "count    7056000.00\n",
       "mean         158.12\n",
       "std          290.02\n",
       "min            1.00\n",
       "25%            8.25\n",
       "50%           72.50\n",
       "75%         1000.00\n",
       "max         1000.00\n",
       "dtype: float64"
      ]
     },
     "execution_count": 30,
     "metadata": {},
     "output_type": "execute_result"
    }
   ],
   "source": [
    "r_stats = df_crys['r'].describe().round(2).compute()\n",
    "r_stats"
   ]
  },
  {
   "cell_type": "code",
   "execution_count": 32,
   "metadata": {},
   "outputs": [
    {
     "data": {
      "text/plain": [
       "count    7056000.00\n",
       "mean          13.01\n",
       "std           25.22\n",
       "min            0.01\n",
       "25%            0.18\n",
       "50%            5.46\n",
       "75%          100.00\n",
       "max          100.00\n",
       "dtype: float64"
      ]
     },
     "execution_count": 32,
     "metadata": {},
     "output_type": "execute_result"
    }
   ],
   "source": [
    "phi_stats = df_crys['phi'].describe().round(2).compute()\n",
    "phi_stats"
   ]
  },
  {
   "cell_type": "code",
   "execution_count": 195,
   "metadata": {
    "collapsed": true,
    "jupyter": {
     "outputs_hidden": true
    }
   },
   "outputs": [
    {
     "name": "stderr",
     "output_type": "stream",
     "text": [
      "distributed.utils - ERROR - \n",
      "Traceback (most recent call last):\n",
      "  File \"/network/rit/lab/sulialab/share/bin/miniconda3/envs/pangeo/lib/python3.6/site-packages/distributed/utils.py\", line 652, in log_errors\n",
      "    yield\n",
      "  File \"/network/rit/lab/sulialab/share/bin/miniconda3/envs/pangeo/lib/python3.6/site-packages/distributed/scheduler.py\", line 3380, in retire_workers\n",
      "    lock=False,\n",
      "  File \"/network/rit/lab/sulialab/share/bin/miniconda3/envs/pangeo/lib/python3.6/site-packages/distributed/scheduler.py\", line 3134, in replicate\n",
      "    assert count > 0\n",
      "AssertionError\n",
      "distributed.core - ERROR - \n",
      "Traceback (most recent call last):\n",
      "  File \"/network/rit/lab/sulialab/share/bin/miniconda3/envs/pangeo/lib/python3.6/site-packages/distributed/core.py\", line 412, in handle_comm\n",
      "    result = await result\n",
      "  File \"/network/rit/lab/sulialab/share/bin/miniconda3/envs/pangeo/lib/python3.6/site-packages/distributed/scheduler.py\", line 3380, in retire_workers\n",
      "    lock=False,\n",
      "  File \"/network/rit/lab/sulialab/share/bin/miniconda3/envs/pangeo/lib/python3.6/site-packages/distributed/scheduler.py\", line 3134, in replicate\n",
      "    assert count > 0\n",
      "AssertionError\n",
      "distributed.utils - ERROR - \n",
      "Traceback (most recent call last):\n",
      "  File \"/network/rit/lab/sulialab/share/bin/miniconda3/envs/pangeo/lib/python3.6/site-packages/distributed/utils.py\", line 652, in log_errors\n",
      "    yield\n",
      "  File \"/network/rit/lab/sulialab/share/bin/miniconda3/envs/pangeo/lib/python3.6/site-packages/distributed/deploy/adaptive.py\", line 156, in scale_down\n",
      "    names=workers, remove=True, close_workers=True\n",
      "  File \"/network/rit/lab/sulialab/share/bin/miniconda3/envs/pangeo/lib/python3.6/site-packages/distributed/core.py\", line 686, in send_recv_from_rpc\n",
      "    result = await send_recv(comm=comm, op=key, **kwargs)\n",
      "  File \"/network/rit/lab/sulialab/share/bin/miniconda3/envs/pangeo/lib/python3.6/site-packages/distributed/core.py\", line 556, in send_recv\n",
      "    raise exc.with_traceback(tb)\n",
      "  File \"/network/rit/lab/sulialab/share/bin/miniconda3/envs/pangeo/lib/python3.6/site-packages/distributed/core.py\", line 412, in handle_comm\n",
      "    result = await result\n",
      "  File \"/network/rit/lab/sulialab/share/bin/miniconda3/envs/pangeo/lib/python3.6/site-packages/distributed/scheduler.py\", line 3380, in retire_workers\n",
      "    lock=False,\n",
      "  File \"/network/rit/lab/sulialab/share/bin/miniconda3/envs/pangeo/lib/python3.6/site-packages/distributed/scheduler.py\", line 3134, in replicate\n",
      "    assert count > 0\n",
      "AssertionError\n",
      "tornado.application - ERROR - Exception in callback functools.partial(<bound method IOLoop._discard_future_result of <zmq.eventloop.ioloop.ZMQIOLoop object at 0x7fb827d51f98>>, <Task finished coro=<AdaptiveCore.adapt() done, defined at /network/rit/lab/sulialab/share/bin/miniconda3/envs/pangeo/lib/python3.6/site-packages/distributed/deploy/adaptive_core.py:170> exception=AssertionError()>)\n",
      "Traceback (most recent call last):\n",
      "  File \"/network/rit/lab/sulialab/share/bin/miniconda3/envs/pangeo/lib/python3.6/site-packages/tornado/ioloop.py\", line 743, in _run_callback\n",
      "    ret = callback()\n",
      "  File \"/network/rit/lab/sulialab/share/bin/miniconda3/envs/pangeo/lib/python3.6/site-packages/tornado/ioloop.py\", line 767, in _discard_future_result\n",
      "    future.result()\n",
      "  File \"/network/rit/lab/sulialab/share/bin/miniconda3/envs/pangeo/lib/python3.6/site-packages/distributed/deploy/adaptive_core.py\", line 194, in adapt\n",
      "    await self.scale_down(**recommendations)\n",
      "  File \"/network/rit/lab/sulialab/share/bin/miniconda3/envs/pangeo/lib/python3.6/site-packages/distributed/deploy/adaptive.py\", line 156, in scale_down\n",
      "    names=workers, remove=True, close_workers=True\n",
      "  File \"/network/rit/lab/sulialab/share/bin/miniconda3/envs/pangeo/lib/python3.6/site-packages/distributed/core.py\", line 686, in send_recv_from_rpc\n",
      "    result = await send_recv(comm=comm, op=key, **kwargs)\n",
      "  File \"/network/rit/lab/sulialab/share/bin/miniconda3/envs/pangeo/lib/python3.6/site-packages/distributed/core.py\", line 556, in send_recv\n",
      "    raise exc.with_traceback(tb)\n",
      "  File \"/network/rit/lab/sulialab/share/bin/miniconda3/envs/pangeo/lib/python3.6/site-packages/distributed/core.py\", line 412, in handle_comm\n",
      "    result = await result\n",
      "  File \"/network/rit/lab/sulialab/share/bin/miniconda3/envs/pangeo/lib/python3.6/site-packages/distributed/scheduler.py\", line 3380, in retire_workers\n",
      "    lock=False,\n",
      "  File \"/network/rit/lab/sulialab/share/bin/miniconda3/envs/pangeo/lib/python3.6/site-packages/distributed/scheduler.py\", line 3134, in replicate\n",
      "    assert count > 0\n",
      "AssertionError\n"
     ]
    },
    {
     "ename": "KeyboardInterrupt",
     "evalue": "",
     "output_type": "error",
     "traceback": [
      "\u001b[0;31m---------------------------------------------------------------------------\u001b[0m",
      "\u001b[0;31mKeyboardInterrupt\u001b[0m                         Traceback (most recent call last)",
      "\u001b[0;32m<ipython-input-195-f5cb8c6a5c68>\u001b[0m in \u001b[0;36m<module>\u001b[0;34m\u001b[0m\n\u001b[1;32m      3\u001b[0m \u001b[0mcount\u001b[0m \u001b[0;34m=\u001b[0m \u001b[0mdf\u001b[0m\u001b[0;34m[\u001b[0m\u001b[0;36m1\u001b[0m\u001b[0;34m]\u001b[0m\u001b[0;34m.\u001b[0m\u001b[0mr\u001b[0m\u001b[0;34m.\u001b[0m\u001b[0mvalue_counts\u001b[0m\u001b[0;34m(\u001b[0m\u001b[0;34m)\u001b[0m\u001b[0;34m\u001b[0m\u001b[0;34m\u001b[0m\u001b[0m\n\u001b[1;32m      4\u001b[0m \u001b[0;31m# Multi-column frequency count\u001b[0m\u001b[0;34m\u001b[0m\u001b[0;34m\u001b[0m\u001b[0;34m\u001b[0m\u001b[0m\n\u001b[0;32m----> 5\u001b[0;31m \u001b[0mcount\u001b[0m \u001b[0;34m=\u001b[0m \u001b[0mdf_repart\u001b[0m\u001b[0;34m.\u001b[0m\u001b[0mgroupby\u001b[0m\u001b[0;34m(\u001b[0m\u001b[0;34m[\u001b[0m\u001b[0;34m'agg_phi'\u001b[0m\u001b[0;34m]\u001b[0m\u001b[0;34m)\u001b[0m\u001b[0;34m.\u001b[0m\u001b[0mcount\u001b[0m\u001b[0;34m(\u001b[0m\u001b[0;34m)\u001b[0m\u001b[0;34m.\u001b[0m\u001b[0mcompute\u001b[0m\u001b[0;34m(\u001b[0m\u001b[0;34m)\u001b[0m\u001b[0;34m\u001b[0m\u001b[0;34m\u001b[0m\u001b[0m\n\u001b[0m\u001b[1;32m      6\u001b[0m \u001b[0mprint\u001b[0m\u001b[0;34m(\u001b[0m\u001b[0mcount\u001b[0m\u001b[0;34m)\u001b[0m\u001b[0;34m\u001b[0m\u001b[0;34m\u001b[0m\u001b[0m\n",
      "\u001b[0;32m/network/rit/lab/sulialab/share/bin/miniconda3/envs/pangeo/lib/python3.6/site-packages/dask/base.py\u001b[0m in \u001b[0;36mcompute\u001b[0;34m(self, **kwargs)\u001b[0m\n\u001b[1;32m    163\u001b[0m         \u001b[0mdask\u001b[0m\u001b[0;34m.\u001b[0m\u001b[0mbase\u001b[0m\u001b[0;34m.\u001b[0m\u001b[0mcompute\u001b[0m\u001b[0;34m\u001b[0m\u001b[0;34m\u001b[0m\u001b[0m\n\u001b[1;32m    164\u001b[0m         \"\"\"\n\u001b[0;32m--> 165\u001b[0;31m         \u001b[0;34m(\u001b[0m\u001b[0mresult\u001b[0m\u001b[0;34m,\u001b[0m\u001b[0;34m)\u001b[0m \u001b[0;34m=\u001b[0m \u001b[0mcompute\u001b[0m\u001b[0;34m(\u001b[0m\u001b[0mself\u001b[0m\u001b[0;34m,\u001b[0m \u001b[0mtraverse\u001b[0m\u001b[0;34m=\u001b[0m\u001b[0;32mFalse\u001b[0m\u001b[0;34m,\u001b[0m \u001b[0;34m**\u001b[0m\u001b[0mkwargs\u001b[0m\u001b[0;34m)\u001b[0m\u001b[0;34m\u001b[0m\u001b[0;34m\u001b[0m\u001b[0m\n\u001b[0m\u001b[1;32m    166\u001b[0m         \u001b[0;32mreturn\u001b[0m \u001b[0mresult\u001b[0m\u001b[0;34m\u001b[0m\u001b[0;34m\u001b[0m\u001b[0m\n\u001b[1;32m    167\u001b[0m \u001b[0;34m\u001b[0m\u001b[0m\n",
      "\u001b[0;32m/network/rit/lab/sulialab/share/bin/miniconda3/envs/pangeo/lib/python3.6/site-packages/dask/base.py\u001b[0m in \u001b[0;36mcompute\u001b[0;34m(*args, **kwargs)\u001b[0m\n\u001b[1;32m    434\u001b[0m     \u001b[0mkeys\u001b[0m \u001b[0;34m=\u001b[0m \u001b[0;34m[\u001b[0m\u001b[0mx\u001b[0m\u001b[0;34m.\u001b[0m\u001b[0m__dask_keys__\u001b[0m\u001b[0;34m(\u001b[0m\u001b[0;34m)\u001b[0m \u001b[0;32mfor\u001b[0m \u001b[0mx\u001b[0m \u001b[0;32min\u001b[0m \u001b[0mcollections\u001b[0m\u001b[0;34m]\u001b[0m\u001b[0;34m\u001b[0m\u001b[0;34m\u001b[0m\u001b[0m\n\u001b[1;32m    435\u001b[0m     \u001b[0mpostcomputes\u001b[0m \u001b[0;34m=\u001b[0m \u001b[0;34m[\u001b[0m\u001b[0mx\u001b[0m\u001b[0;34m.\u001b[0m\u001b[0m__dask_postcompute__\u001b[0m\u001b[0;34m(\u001b[0m\u001b[0;34m)\u001b[0m \u001b[0;32mfor\u001b[0m \u001b[0mx\u001b[0m \u001b[0;32min\u001b[0m \u001b[0mcollections\u001b[0m\u001b[0;34m]\u001b[0m\u001b[0;34m\u001b[0m\u001b[0;34m\u001b[0m\u001b[0m\n\u001b[0;32m--> 436\u001b[0;31m     \u001b[0mresults\u001b[0m \u001b[0;34m=\u001b[0m \u001b[0mschedule\u001b[0m\u001b[0;34m(\u001b[0m\u001b[0mdsk\u001b[0m\u001b[0;34m,\u001b[0m \u001b[0mkeys\u001b[0m\u001b[0;34m,\u001b[0m \u001b[0;34m**\u001b[0m\u001b[0mkwargs\u001b[0m\u001b[0;34m)\u001b[0m\u001b[0;34m\u001b[0m\u001b[0;34m\u001b[0m\u001b[0m\n\u001b[0m\u001b[1;32m    437\u001b[0m     \u001b[0;32mreturn\u001b[0m \u001b[0mrepack\u001b[0m\u001b[0;34m(\u001b[0m\u001b[0;34m[\u001b[0m\u001b[0mf\u001b[0m\u001b[0;34m(\u001b[0m\u001b[0mr\u001b[0m\u001b[0;34m,\u001b[0m \u001b[0;34m*\u001b[0m\u001b[0ma\u001b[0m\u001b[0;34m)\u001b[0m \u001b[0;32mfor\u001b[0m \u001b[0mr\u001b[0m\u001b[0;34m,\u001b[0m \u001b[0;34m(\u001b[0m\u001b[0mf\u001b[0m\u001b[0;34m,\u001b[0m \u001b[0ma\u001b[0m\u001b[0;34m)\u001b[0m \u001b[0;32min\u001b[0m \u001b[0mzip\u001b[0m\u001b[0;34m(\u001b[0m\u001b[0mresults\u001b[0m\u001b[0;34m,\u001b[0m \u001b[0mpostcomputes\u001b[0m\u001b[0;34m)\u001b[0m\u001b[0;34m]\u001b[0m\u001b[0;34m)\u001b[0m\u001b[0;34m\u001b[0m\u001b[0;34m\u001b[0m\u001b[0m\n\u001b[1;32m    438\u001b[0m \u001b[0;34m\u001b[0m\u001b[0m\n",
      "\u001b[0;32m/network/rit/lab/sulialab/share/bin/miniconda3/envs/pangeo/lib/python3.6/site-packages/distributed/client.py\u001b[0m in \u001b[0;36mget\u001b[0;34m(self, dsk, keys, restrictions, loose_restrictions, resources, sync, asynchronous, direct, retries, priority, fifo_timeout, actors, **kwargs)\u001b[0m\n\u001b[1;32m   2574\u001b[0m                     \u001b[0mshould_rejoin\u001b[0m \u001b[0;34m=\u001b[0m \u001b[0;32mFalse\u001b[0m\u001b[0;34m\u001b[0m\u001b[0;34m\u001b[0m\u001b[0m\n\u001b[1;32m   2575\u001b[0m             \u001b[0;32mtry\u001b[0m\u001b[0;34m:\u001b[0m\u001b[0;34m\u001b[0m\u001b[0;34m\u001b[0m\u001b[0m\n\u001b[0;32m-> 2576\u001b[0;31m                 \u001b[0mresults\u001b[0m \u001b[0;34m=\u001b[0m \u001b[0mself\u001b[0m\u001b[0;34m.\u001b[0m\u001b[0mgather\u001b[0m\u001b[0;34m(\u001b[0m\u001b[0mpacked\u001b[0m\u001b[0;34m,\u001b[0m \u001b[0masynchronous\u001b[0m\u001b[0;34m=\u001b[0m\u001b[0masynchronous\u001b[0m\u001b[0;34m,\u001b[0m \u001b[0mdirect\u001b[0m\u001b[0;34m=\u001b[0m\u001b[0mdirect\u001b[0m\u001b[0;34m)\u001b[0m\u001b[0;34m\u001b[0m\u001b[0;34m\u001b[0m\u001b[0m\n\u001b[0m\u001b[1;32m   2577\u001b[0m             \u001b[0;32mfinally\u001b[0m\u001b[0;34m:\u001b[0m\u001b[0;34m\u001b[0m\u001b[0;34m\u001b[0m\u001b[0m\n\u001b[1;32m   2578\u001b[0m                 \u001b[0;32mfor\u001b[0m \u001b[0mf\u001b[0m \u001b[0;32min\u001b[0m \u001b[0mfutures\u001b[0m\u001b[0;34m.\u001b[0m\u001b[0mvalues\u001b[0m\u001b[0;34m(\u001b[0m\u001b[0;34m)\u001b[0m\u001b[0;34m:\u001b[0m\u001b[0;34m\u001b[0m\u001b[0;34m\u001b[0m\u001b[0m\n",
      "\u001b[0;32m/network/rit/lab/sulialab/share/bin/miniconda3/envs/pangeo/lib/python3.6/site-packages/distributed/client.py\u001b[0m in \u001b[0;36mgather\u001b[0;34m(self, futures, errors, direct, asynchronous)\u001b[0m\n\u001b[1;32m   1872\u001b[0m                 \u001b[0mdirect\u001b[0m\u001b[0;34m=\u001b[0m\u001b[0mdirect\u001b[0m\u001b[0;34m,\u001b[0m\u001b[0;34m\u001b[0m\u001b[0;34m\u001b[0m\u001b[0m\n\u001b[1;32m   1873\u001b[0m                 \u001b[0mlocal_worker\u001b[0m\u001b[0;34m=\u001b[0m\u001b[0mlocal_worker\u001b[0m\u001b[0;34m,\u001b[0m\u001b[0;34m\u001b[0m\u001b[0;34m\u001b[0m\u001b[0m\n\u001b[0;32m-> 1874\u001b[0;31m                 \u001b[0masynchronous\u001b[0m\u001b[0;34m=\u001b[0m\u001b[0masynchronous\u001b[0m\u001b[0;34m,\u001b[0m\u001b[0;34m\u001b[0m\u001b[0;34m\u001b[0m\u001b[0m\n\u001b[0m\u001b[1;32m   1875\u001b[0m             )\n\u001b[1;32m   1876\u001b[0m \u001b[0;34m\u001b[0m\u001b[0m\n",
      "\u001b[0;32m/network/rit/lab/sulialab/share/bin/miniconda3/envs/pangeo/lib/python3.6/site-packages/distributed/client.py\u001b[0m in \u001b[0;36msync\u001b[0;34m(self, func, asynchronous, callback_timeout, *args, **kwargs)\u001b[0m\n\u001b[1;32m    767\u001b[0m         \u001b[0;32melse\u001b[0m\u001b[0;34m:\u001b[0m\u001b[0;34m\u001b[0m\u001b[0;34m\u001b[0m\u001b[0m\n\u001b[1;32m    768\u001b[0m             return sync(\n\u001b[0;32m--> 769\u001b[0;31m                 \u001b[0mself\u001b[0m\u001b[0;34m.\u001b[0m\u001b[0mloop\u001b[0m\u001b[0;34m,\u001b[0m \u001b[0mfunc\u001b[0m\u001b[0;34m,\u001b[0m \u001b[0;34m*\u001b[0m\u001b[0margs\u001b[0m\u001b[0;34m,\u001b[0m \u001b[0mcallback_timeout\u001b[0m\u001b[0;34m=\u001b[0m\u001b[0mcallback_timeout\u001b[0m\u001b[0;34m,\u001b[0m \u001b[0;34m**\u001b[0m\u001b[0mkwargs\u001b[0m\u001b[0;34m\u001b[0m\u001b[0;34m\u001b[0m\u001b[0m\n\u001b[0m\u001b[1;32m    770\u001b[0m             )\n\u001b[1;32m    771\u001b[0m \u001b[0;34m\u001b[0m\u001b[0m\n",
      "\u001b[0;32m/network/rit/lab/sulialab/share/bin/miniconda3/envs/pangeo/lib/python3.6/site-packages/distributed/utils.py\u001b[0m in \u001b[0;36msync\u001b[0;34m(loop, func, callback_timeout, *args, **kwargs)\u001b[0m\n\u001b[1;32m    330\u001b[0m     \u001b[0;32melse\u001b[0m\u001b[0;34m:\u001b[0m\u001b[0;34m\u001b[0m\u001b[0;34m\u001b[0m\u001b[0m\n\u001b[1;32m    331\u001b[0m         \u001b[0;32mwhile\u001b[0m \u001b[0;32mnot\u001b[0m \u001b[0me\u001b[0m\u001b[0;34m.\u001b[0m\u001b[0mis_set\u001b[0m\u001b[0;34m(\u001b[0m\u001b[0;34m)\u001b[0m\u001b[0;34m:\u001b[0m\u001b[0;34m\u001b[0m\u001b[0;34m\u001b[0m\u001b[0m\n\u001b[0;32m--> 332\u001b[0;31m             \u001b[0me\u001b[0m\u001b[0;34m.\u001b[0m\u001b[0mwait\u001b[0m\u001b[0;34m(\u001b[0m\u001b[0;36m10\u001b[0m\u001b[0;34m)\u001b[0m\u001b[0;34m\u001b[0m\u001b[0;34m\u001b[0m\u001b[0m\n\u001b[0m\u001b[1;32m    333\u001b[0m     \u001b[0;32mif\u001b[0m \u001b[0merror\u001b[0m\u001b[0;34m[\u001b[0m\u001b[0;36m0\u001b[0m\u001b[0;34m]\u001b[0m\u001b[0;34m:\u001b[0m\u001b[0;34m\u001b[0m\u001b[0;34m\u001b[0m\u001b[0m\n\u001b[1;32m    334\u001b[0m         \u001b[0mtyp\u001b[0m\u001b[0;34m,\u001b[0m \u001b[0mexc\u001b[0m\u001b[0;34m,\u001b[0m \u001b[0mtb\u001b[0m \u001b[0;34m=\u001b[0m \u001b[0merror\u001b[0m\u001b[0;34m[\u001b[0m\u001b[0;36m0\u001b[0m\u001b[0;34m]\u001b[0m\u001b[0;34m\u001b[0m\u001b[0;34m\u001b[0m\u001b[0m\n",
      "\u001b[0;32m/network/rit/lab/sulialab/share/bin/miniconda3/envs/pangeo/lib/python3.6/threading.py\u001b[0m in \u001b[0;36mwait\u001b[0;34m(self, timeout)\u001b[0m\n\u001b[1;32m    549\u001b[0m             \u001b[0msignaled\u001b[0m \u001b[0;34m=\u001b[0m \u001b[0mself\u001b[0m\u001b[0;34m.\u001b[0m\u001b[0m_flag\u001b[0m\u001b[0;34m\u001b[0m\u001b[0;34m\u001b[0m\u001b[0m\n\u001b[1;32m    550\u001b[0m             \u001b[0;32mif\u001b[0m \u001b[0;32mnot\u001b[0m \u001b[0msignaled\u001b[0m\u001b[0;34m:\u001b[0m\u001b[0;34m\u001b[0m\u001b[0;34m\u001b[0m\u001b[0m\n\u001b[0;32m--> 551\u001b[0;31m                 \u001b[0msignaled\u001b[0m \u001b[0;34m=\u001b[0m \u001b[0mself\u001b[0m\u001b[0;34m.\u001b[0m\u001b[0m_cond\u001b[0m\u001b[0;34m.\u001b[0m\u001b[0mwait\u001b[0m\u001b[0;34m(\u001b[0m\u001b[0mtimeout\u001b[0m\u001b[0;34m)\u001b[0m\u001b[0;34m\u001b[0m\u001b[0;34m\u001b[0m\u001b[0m\n\u001b[0m\u001b[1;32m    552\u001b[0m             \u001b[0;32mreturn\u001b[0m \u001b[0msignaled\u001b[0m\u001b[0;34m\u001b[0m\u001b[0;34m\u001b[0m\u001b[0m\n\u001b[1;32m    553\u001b[0m \u001b[0;34m\u001b[0m\u001b[0m\n",
      "\u001b[0;32m/network/rit/lab/sulialab/share/bin/miniconda3/envs/pangeo/lib/python3.6/threading.py\u001b[0m in \u001b[0;36mwait\u001b[0;34m(self, timeout)\u001b[0m\n\u001b[1;32m    297\u001b[0m             \u001b[0;32melse\u001b[0m\u001b[0;34m:\u001b[0m\u001b[0;34m\u001b[0m\u001b[0;34m\u001b[0m\u001b[0m\n\u001b[1;32m    298\u001b[0m                 \u001b[0;32mif\u001b[0m \u001b[0mtimeout\u001b[0m \u001b[0;34m>\u001b[0m \u001b[0;36m0\u001b[0m\u001b[0;34m:\u001b[0m\u001b[0;34m\u001b[0m\u001b[0;34m\u001b[0m\u001b[0m\n\u001b[0;32m--> 299\u001b[0;31m                     \u001b[0mgotit\u001b[0m \u001b[0;34m=\u001b[0m \u001b[0mwaiter\u001b[0m\u001b[0;34m.\u001b[0m\u001b[0macquire\u001b[0m\u001b[0;34m(\u001b[0m\u001b[0;32mTrue\u001b[0m\u001b[0;34m,\u001b[0m \u001b[0mtimeout\u001b[0m\u001b[0;34m)\u001b[0m\u001b[0;34m\u001b[0m\u001b[0;34m\u001b[0m\u001b[0m\n\u001b[0m\u001b[1;32m    300\u001b[0m                 \u001b[0;32melse\u001b[0m\u001b[0;34m:\u001b[0m\u001b[0;34m\u001b[0m\u001b[0;34m\u001b[0m\u001b[0m\n\u001b[1;32m    301\u001b[0m                     \u001b[0mgotit\u001b[0m \u001b[0;34m=\u001b[0m \u001b[0mwaiter\u001b[0m\u001b[0;34m.\u001b[0m\u001b[0macquire\u001b[0m\u001b[0;34m(\u001b[0m\u001b[0;32mFalse\u001b[0m\u001b[0;34m)\u001b[0m\u001b[0;34m\u001b[0m\u001b[0;34m\u001b[0m\u001b[0m\n",
      "\u001b[0;31mKeyboardInterrupt\u001b[0m: "
     ]
    }
   ],
   "source": [
    "#len(df_crys[df_crys.r == 50])\n",
    "# frequency count of mono r\n",
    "count = df[1].r.value_counts() \n",
    "# Multi-column frequency count \n",
    "count = df_repart.groupby(['agg_phi']).count().compute()\n",
    "print(count)"
   ]
  },
  {
   "cell_type": "markdown",
   "metadata": {},
   "source": [
    "## Concat, Repartition, and Clean Up DFs"
   ]
  },
  {
   "cell_type": "code",
   "execution_count": 30,
   "metadata": {},
   "outputs": [
    {
     "name": "stdout",
     "output_type": "stream",
     "text": [
      "CPU times: user 2.42 ms, sys: 1.09 ms, total: 3.51 ms\n",
      "Wall time: 3.52 ms\n"
     ]
    },
    {
     "name": "stderr",
     "output_type": "stream",
     "text": [
      "/network/rit/lab/sulialab/share/bin/miniconda3/envs/pangeo/lib/python3.6/site-packages/dask/dataframe/multi.py:1055: UserWarning: Concatenating dataframes with unknown divisions.\n",
      "We're assuming that the indexes of each dataframes are \n",
      " aligned. This assumption is not generally safe.\n",
      "  \"Concatenating dataframes with unknown divisions.\\n\"\n"
     ]
    }
   ],
   "source": [
    "%time df_concat = dd.concat([df[0], df[1]], axis=1)"
   ]
  },
  {
   "cell_type": "code",
   "execution_count": 31,
   "metadata": {},
   "outputs": [
    {
     "data": {
      "text/plain": [
       "7086083"
      ]
     },
     "execution_count": 31,
     "metadata": {},
     "output_type": "execute_result"
    }
   ],
   "source": [
    "def query_r_5000(df):\n",
    "    return df[df.agg_r < 5000]\n",
    "\n",
    "df_concat = df_concat.map_partitions(query_r_5000)\n",
    "len(df_concat) #86% of dataset"
   ]
  },
  {
   "cell_type": "code",
   "execution_count": 32,
   "metadata": {},
   "outputs": [
    {
     "data": {
      "text/plain": [
       "56"
      ]
     },
     "execution_count": 32,
     "metadata": {},
     "output_type": "execute_result"
    }
   ],
   "source": [
    "df_repart = df_concat.repartition(partition_size=\"100MB\").persist()\n",
    "df_repart.npartitions"
   ]
  },
  {
   "cell_type": "code",
   "execution_count": 110,
   "metadata": {},
   "outputs": [
    {
     "data": {
      "text/plain": [
       "(id\n",
       " 1              (0.463, 9.656]\n",
       " 2              (0.463, 9.656]\n",
       " 3              (0.463, 9.656]\n",
       " 4              (0.463, 9.656]\n",
       " 5              (0.463, 9.656]\n",
       "                  ...         \n",
       " 43906      (3645.375, 5000.0]\n",
       " 43954    (2723.775, 3645.375]\n",
       " 44003      (3645.375, 5000.0]\n",
       " 44052      (3645.375, 5000.0]\n",
       " 44053      (3645.375, 5000.0]\n",
       " Name: agg_r, Length: 7086083, dtype: category\n",
       " Categories (20, interval[float64]): [(0.463, 9.656] < (9.656, 16.812] < (16.812, 25.087] < (25.087, 34.711] ... (1470.962, 2023.059] < (2023.059, 2723.775] < (2723.775, 3645.375] < (3645.375, 5000.0]],\n",
       " array([4.63683258e-01, 9.65603467e+00, 1.68119135e+01, 2.50872627e+01,\n",
       "        3.47113763e+01, 4.74448201e+01, 6.49406190e+01, 9.11773341e+01,\n",
       "        1.25523327e+02, 1.70234646e+02, 2.32667520e+02, 3.09323260e+02,\n",
       "        4.12777720e+02, 5.59133379e+02, 7.74294720e+02, 1.08609422e+03,\n",
       "        1.47096157e+03, 2.02305920e+03, 2.72377475e+03, 3.64537460e+03,\n",
       "        4.99999996e+03]))"
      ]
     },
     "execution_count": 110,
     "metadata": {},
     "output_type": "execute_result"
    }
   ],
   "source": [
    "pd.qcut(df_repart.agg_r.compute(), 20, retbins=True)"
   ]
  },
  {
   "cell_type": "code",
   "execution_count": 16,
   "metadata": {},
   "outputs": [
    {
     "data": {
      "text/plain": [
       "(19.571, 78.331]                  411622\n",
       "(12.106, 19.571]                  411622\n",
       "(0.149, 0.195]                    411622\n",
       "(0.195, 0.233]                    411622\n",
       "(0.233, 0.262]                    411622\n",
       "(0.262, 0.287]                    411622\n",
       "(0.287, 0.31]                     411622\n",
       "(0.31, 0.334]                     411622\n",
       "(0.334, 0.362]                    411622\n",
       "(0.362, 0.405]                    411622\n",
       "(0.405, 1.051]                    411622\n",
       "(1.695, 2.058]                    411622\n",
       "(2.058, 2.586]                    411622\n",
       "(2.586, 3.344]                    411622\n",
       "(3.344, 4.379]                    411622\n",
       "(4.379, 5.928]                    411622\n",
       "(5.928, 8.168]                    411622\n",
       "(8.168, 12.106]                   411622\n",
       "(0.0057799999999999995, 0.149]    411622\n",
       "(1.051, 1.695]                    411621\n",
       "Name: agg_phi, dtype: int64"
      ]
     },
     "execution_count": 16,
     "metadata": {},
     "output_type": "execute_result"
    }
   ],
   "source": [
    "res.value_counts()"
   ]
  },
  {
   "cell_type": "code",
   "execution_count": 33,
   "metadata": {},
   "outputs": [
    {
     "name": "stdout",
     "output_type": "stream",
     "text": [
      "200\n",
      "5103.192663192749\n"
     ]
    }
   ],
   "source": [
    "#df_concat._meta.dtypes\n",
    "#df_concat.divisions\n",
    "print(df_concat.npartitions)\n",
    "print(df_concat.memory_usage(deep=True).sum().compute() / 1024**2)  #5.1 GB"
   ]
  },
  {
   "cell_type": "markdown",
   "metadata": {},
   "source": [
    "## Test agg agg queries for collection "
   ]
  },
  {
   "cell_type": "code",
   "execution_count": 149,
   "metadata": {},
   "outputs": [
    {
     "data": {
      "text/plain": [
       "(0, 1000)"
      ]
     },
     "execution_count": 149,
     "metadata": {},
     "output_type": "execute_result"
    },
    {
     "data": {
      "image/png": "[encoded data removed]",
      "text/plain": [
       "<Figure size 432x288 with 1 Axes>"
      ]
     },
     "metadata": {
      "needs_background": "light"
     },
     "output_type": "display_data"
    }
   ],
   "source": [
    "pd_df.agg_r.hist(bins=800)\n",
    "plt.xlim(0,1000)"
   ]
  },
  {
   "cell_type": "code",
   "execution_count": 193,
   "metadata": {},
   "outputs": [
    {
     "data": {
      "image/png": "[encoded data removed]",
      "text/plain": [
       "<Figure size 432x288 with 1 Axes>"
      ]
     },
     "metadata": {
      "needs_background": "light"
     },
     "output_type": "display_data"
    }
   ],
   "source": [
    "plt.hist(df_repart.agg_phi.compute(), bins =10)\n",
    "plt.show()"
   ]
  },
  {
   "cell_type": "code",
   "execution_count": 33,
   "metadata": {},
   "outputs": [],
   "source": [
    "def query_phi(df_repart, phi_lower, phi_upper):\n",
    "    df = df_repart[(df_repart.agg_phi > phi_lower) & (df_repart.agg_phi < phi_upper)]\n",
    "    return df\n",
    "\n",
    "\n",
    "def query_r(df_phi, r, factor):\n",
    "    r_lower = r-(r/factor)\n",
    "    r_upper = r+(r/factor)\n",
    "\n",
    "    #print('r bounds ', r_lower, r_upper)\n",
    "    df = df_phi[(df_phi.agg_r > r_lower) & (df_phi.agg_r < r_upper)]\n",
    "\n",
    "    return df\n"
   ]
  },
  {
   "cell_type": "code",
   "execution_count": 103,
   "metadata": {},
   "outputs": [
    {
     "name": "stdout",
     "output_type": "stream",
     "text": [
      "id\n",
      "1                  NaN\n",
      "50                 NaN\n",
      "51     (2.841, 18.234]\n",
      "99                 NaN\n",
      "100    (2.841, 18.234]\n",
      "101    (2.841, 18.234]\n",
      "102    (2.841, 18.234]\n",
      "148                NaN\n",
      "149    (2.841, 18.234]\n",
      "197                NaN\n",
      "Name: ncrystals, dtype: category\n",
      "Categories (20, interval[float64]): [(2.841, 18.234] < (18.234, 32.553] < (32.553, 46.283] < (46.283, 60.989] ... (1228.199, 1505.389] < (1505.389, 2473.001] < (2473.001, 3603.069] < (3603.069, 4999.976]]\n",
      "<class 'pandas.core.frame.DataFrame'>\n",
      "Int64Index: 354304 entries, 1 to 44003\n",
      "Data columns (total 1 columns):\n",
      "ncrystals    313449 non-null category\n",
      "dtypes: category(1)\n",
      "memory usage: 3.0 MB\n",
      "None\n"
     ]
    },
    {
     "ename": "TypeError",
     "evalue": "Categorical cannot perform the operation mean",
     "output_type": "error",
     "traceback": [
      "\u001b[0;31m---------------------------------------------------------------------------\u001b[0m",
      "\u001b[0;31mTypeError\u001b[0m                                 Traceback (most recent call last)",
      "\u001b[0;32m<ipython-input-103-254917e2f2c1>\u001b[0m in \u001b[0;36m<module>\u001b[0;34m\u001b[0m\n\u001b[1;32m     12\u001b[0m     \u001b[0mprint\u001b[0m\u001b[0;34m(\u001b[0m\u001b[0mres\u001b[0m\u001b[0;34m.\u001b[0m\u001b[0mhead\u001b[0m\u001b[0;34m(\u001b[0m\u001b[0;36m10\u001b[0m\u001b[0;34m)\u001b[0m\u001b[0;34m)\u001b[0m\u001b[0;34m\u001b[0m\u001b[0;34m\u001b[0m\u001b[0m\n\u001b[1;32m     13\u001b[0m     \u001b[0mprint\u001b[0m\u001b[0;34m(\u001b[0m\u001b[0mres\u001b[0m\u001b[0;34m.\u001b[0m\u001b[0mto_frame\u001b[0m\u001b[0;34m(\u001b[0m\u001b[0;34m)\u001b[0m\u001b[0;34m.\u001b[0m\u001b[0minfo\u001b[0m\u001b[0;34m(\u001b[0m\u001b[0;34m)\u001b[0m\u001b[0;34m)\u001b[0m\u001b[0;34m\u001b[0m\u001b[0;34m\u001b[0m\u001b[0m\n\u001b[0;32m---> 14\u001b[0;31m     \u001b[0mplt\u001b[0m\u001b[0;34m.\u001b[0m\u001b[0mscatter\u001b[0m\u001b[0;34m(\u001b[0m\u001b[0;34m[\u001b[0m\u001b[0mi\u001b[0m\u001b[0;34m]\u001b[0m\u001b[0;34m*\u001b[0m\u001b[0mlen\u001b[0m\u001b[0;34m(\u001b[0m\u001b[0mr_bins\u001b[0m\u001b[0;34m)\u001b[0m\u001b[0;34m,\u001b[0m \u001b[0mr_bins\u001b[0m\u001b[0;34m,\u001b[0m \u001b[0mmarker\u001b[0m \u001b[0;34m=\u001b[0m \u001b[0;34m\"_\"\u001b[0m\u001b[0;34m,\u001b[0m \u001b[0mc\u001b[0m\u001b[0;34m=\u001b[0m\u001b[0mres\u001b[0m\u001b[0;34m.\u001b[0m\u001b[0mto_frame\u001b[0m\u001b[0;34m(\u001b[0m\u001b[0;34m)\u001b[0m\u001b[0;34m.\u001b[0m\u001b[0mncrystals\u001b[0m\u001b[0;34m.\u001b[0m\u001b[0mmean\u001b[0m\u001b[0;34m(\u001b[0m\u001b[0;34m)\u001b[0m\u001b[0;34m)\u001b[0m\u001b[0;34m\u001b[0m\u001b[0;34m\u001b[0m\u001b[0m\n\u001b[0m\u001b[1;32m     15\u001b[0m \u001b[0;34m\u001b[0m\u001b[0m\n\u001b[1;32m     16\u001b[0m \u001b[0mlocs\u001b[0m\u001b[0;34m,\u001b[0m \u001b[0mlabels\u001b[0m\u001b[0;34m=\u001b[0m\u001b[0mplt\u001b[0m\u001b[0;34m.\u001b[0m\u001b[0mxticks\u001b[0m\u001b[0;34m(\u001b[0m\u001b[0;34m)\u001b[0m\u001b[0;34m\u001b[0m\u001b[0;34m\u001b[0m\u001b[0m\n",
      "\u001b[0;32m/network/rit/lab/sulialab/share/bin/miniconda3/envs/pangeo/lib/python3.6/site-packages/pandas/core/generic.py\u001b[0m in \u001b[0;36mstat_func\u001b[0;34m(self, axis, skipna, level, numeric_only, **kwargs)\u001b[0m\n\u001b[1;32m  11616\u001b[0m             \u001b[0;32mreturn\u001b[0m \u001b[0mself\u001b[0m\u001b[0;34m.\u001b[0m\u001b[0m_agg_by_level\u001b[0m\u001b[0;34m(\u001b[0m\u001b[0mname\u001b[0m\u001b[0;34m,\u001b[0m \u001b[0maxis\u001b[0m\u001b[0;34m=\u001b[0m\u001b[0maxis\u001b[0m\u001b[0;34m,\u001b[0m \u001b[0mlevel\u001b[0m\u001b[0;34m=\u001b[0m\u001b[0mlevel\u001b[0m\u001b[0;34m,\u001b[0m \u001b[0mskipna\u001b[0m\u001b[0;34m=\u001b[0m\u001b[0mskipna\u001b[0m\u001b[0;34m)\u001b[0m\u001b[0;34m\u001b[0m\u001b[0;34m\u001b[0m\u001b[0m\n\u001b[1;32m  11617\u001b[0m         return self._reduce(\n\u001b[0;32m> 11618\u001b[0;31m             \u001b[0mf\u001b[0m\u001b[0;34m,\u001b[0m \u001b[0mname\u001b[0m\u001b[0;34m,\u001b[0m \u001b[0maxis\u001b[0m\u001b[0;34m=\u001b[0m\u001b[0maxis\u001b[0m\u001b[0;34m,\u001b[0m \u001b[0mskipna\u001b[0m\u001b[0;34m=\u001b[0m\u001b[0mskipna\u001b[0m\u001b[0;34m,\u001b[0m \u001b[0mnumeric_only\u001b[0m\u001b[0;34m=\u001b[0m\u001b[0mnumeric_only\u001b[0m\u001b[0;34m\u001b[0m\u001b[0;34m\u001b[0m\u001b[0m\n\u001b[0m\u001b[1;32m  11619\u001b[0m         )\n\u001b[1;32m  11620\u001b[0m \u001b[0;34m\u001b[0m\u001b[0m\n",
      "\u001b[0;32m/network/rit/lab/sulialab/share/bin/miniconda3/envs/pangeo/lib/python3.6/site-packages/pandas/core/series.py\u001b[0m in \u001b[0;36m_reduce\u001b[0;34m(self, op, name, axis, skipna, numeric_only, filter_type, **kwds)\u001b[0m\n\u001b[1;32m   4069\u001b[0m             \u001b[0;31m# TODO deprecate numeric_only argument for Categorical and use\u001b[0m\u001b[0;34m\u001b[0m\u001b[0;34m\u001b[0m\u001b[0;34m\u001b[0m\u001b[0m\n\u001b[1;32m   4070\u001b[0m             \u001b[0;31m# skipna as well, see GH25303\u001b[0m\u001b[0;34m\u001b[0m\u001b[0;34m\u001b[0m\u001b[0;34m\u001b[0m\u001b[0m\n\u001b[0;32m-> 4071\u001b[0;31m             \u001b[0;32mreturn\u001b[0m \u001b[0mdelegate\u001b[0m\u001b[0;34m.\u001b[0m\u001b[0m_reduce\u001b[0m\u001b[0;34m(\u001b[0m\u001b[0mname\u001b[0m\u001b[0;34m,\u001b[0m \u001b[0mnumeric_only\u001b[0m\u001b[0;34m=\u001b[0m\u001b[0mnumeric_only\u001b[0m\u001b[0;34m,\u001b[0m \u001b[0;34m**\u001b[0m\u001b[0mkwds\u001b[0m\u001b[0;34m)\u001b[0m\u001b[0;34m\u001b[0m\u001b[0;34m\u001b[0m\u001b[0m\n\u001b[0m\u001b[1;32m   4072\u001b[0m         \u001b[0;32melif\u001b[0m \u001b[0misinstance\u001b[0m\u001b[0;34m(\u001b[0m\u001b[0mdelegate\u001b[0m\u001b[0;34m,\u001b[0m \u001b[0mExtensionArray\u001b[0m\u001b[0;34m)\u001b[0m\u001b[0;34m:\u001b[0m\u001b[0;34m\u001b[0m\u001b[0;34m\u001b[0m\u001b[0m\n\u001b[1;32m   4073\u001b[0m             \u001b[0;31m# dispatch to ExtensionArray interface\u001b[0m\u001b[0;34m\u001b[0m\u001b[0;34m\u001b[0m\u001b[0;34m\u001b[0m\u001b[0m\n",
      "\u001b[0;32m/network/rit/lab/sulialab/share/bin/miniconda3/envs/pangeo/lib/python3.6/site-packages/pandas/core/arrays/categorical.py\u001b[0m in \u001b[0;36m_reduce\u001b[0;34m(self, name, axis, **kwargs)\u001b[0m\n\u001b[1;32m   2258\u001b[0m         \u001b[0;32mif\u001b[0m \u001b[0mfunc\u001b[0m \u001b[0;32mis\u001b[0m \u001b[0;32mNone\u001b[0m\u001b[0;34m:\u001b[0m\u001b[0;34m\u001b[0m\u001b[0;34m\u001b[0m\u001b[0m\n\u001b[1;32m   2259\u001b[0m             \u001b[0mmsg\u001b[0m \u001b[0;34m=\u001b[0m \u001b[0;34m\"Categorical cannot perform the operation {op}\"\u001b[0m\u001b[0;34m\u001b[0m\u001b[0;34m\u001b[0m\u001b[0m\n\u001b[0;32m-> 2260\u001b[0;31m             \u001b[0;32mraise\u001b[0m \u001b[0mTypeError\u001b[0m\u001b[0;34m(\u001b[0m\u001b[0mmsg\u001b[0m\u001b[0;34m.\u001b[0m\u001b[0mformat\u001b[0m\u001b[0;34m(\u001b[0m\u001b[0mop\u001b[0m\u001b[0;34m=\u001b[0m\u001b[0mname\u001b[0m\u001b[0;34m)\u001b[0m\u001b[0;34m)\u001b[0m\u001b[0;34m\u001b[0m\u001b[0;34m\u001b[0m\u001b[0m\n\u001b[0m\u001b[1;32m   2261\u001b[0m         \u001b[0;32mreturn\u001b[0m \u001b[0mfunc\u001b[0m\u001b[0;34m(\u001b[0m\u001b[0;34m**\u001b[0m\u001b[0mkwargs\u001b[0m\u001b[0;34m)\u001b[0m\u001b[0;34m\u001b[0m\u001b[0;34m\u001b[0m\u001b[0m\n\u001b[1;32m   2262\u001b[0m \u001b[0;34m\u001b[0m\u001b[0m\n",
      "\u001b[0;31mTypeError\u001b[0m: Categorical cannot perform the operation mean"
     ]
    },
    {
     "data": {
      "image/png": "[encoded data removed]",
      "text/plain": [
       "<Figure size 432x288 with 1 Axes>"
      ]
     },
     "metadata": {
      "needs_background": "light"
     },
     "output_type": "display_data"
    }
   ],
   "source": [
    "fig, ax = plt.subplots()\n",
    "res, phi_bins = pd.qcut(df_repart.agg_phi.compute(), 20, retbins=True)\n",
    "#print(phi_bins)\n",
    "phi_bin_labs = []\n",
    "for i in range(len(phi_bins)-1):\n",
    "    #print('i = ', i)\n",
    "    phi_bin_labs.append('[%.3f-%.3f]' %(phi_bins[i],phi_bins[i+1]))\n",
    "    df_phi = df_repart.map_partitions(query_phi, phi_bins[i], phi_bins[i+1])\n",
    "    res, r_bins = pd.qcut(df_phi.agg_r.compute(), 20, retbins=True)\n",
    "    res = pd.cut(df_phi.ncrystals.compute(), bins=r_bins)\n",
    "    #print(res.value_counts(), )\n",
    "    print(res.head(10))\n",
    "    print(res.to_frame().info())\n",
    "    plt.scatter([i]*len(r_bins), r_bins, marker = \"_\", c=res.to_frame().ncrystals.mean())\n",
    "\n",
    "locs, labels=plt.xticks()\n",
    "print(locs, len(locs))\n",
    "plt.xticks(locs, phi_bin_labs, rotation=45)\n",
    "plt.ylabel(\"Radius Bin Edges\",fontsize=16)\n",
    "plt.xlabel(\"Aspect Ratio $\\phi$\",fontsize=16)  \n",
    "#textstr = '$n$ values per $phi$ :', str(res.value_counts()[0])\n",
    "#ax.text(0.05, 0.95, textstr, transform=ax.transAxes, fontsize=14,\n",
    "#        verticalalignment='top', bbox=dict(boxstyle='round'))\n",
    "#17716 values per phi, per r"
   ]
  },
  {
   "cell_type": "code",
   "execution_count": 43,
   "metadata": {},
   "outputs": [
    {
     "data": {
      "text/plain": [
       "Text(0.5, 0, 'Aspect Ratio $\\\\phi$')"
      ]
     },
     "execution_count": 43,
     "metadata": {},
     "output_type": "execute_result"
    },
    {
     "data": {
      "image/png": "[encoded data removed]",
      "text/plain": [
       "<Figure size 432x288 with 1 Axes>"
      ]
     },
     "metadata": {
      "needs_background": "light"
     },
     "output_type": "display_data"
    }
   ],
   "source": [
    "res, phi_bins = pd.qcut(df_repart.agg_phi.compute(), 20, retbins=True)\n",
    "#print(phi_bins)\n",
    "phi_bin_labs = []\n",
    "for i in range(len(phi_bins)-1):\n",
    "    #print('i = ', i)\n",
    "    if i % 2 == 0:\n",
    "        phi_bin_labs.append('[%.3f-%.3f]' %(phi_bins[i],phi_bins[i+2]))\n",
    "    df_phi = df_repart.map_partitions(query_phi, phi_bins[i], phi_bins[i+1])\n",
    "    res, r_bins = pd.qcut(df_phi.agg_r.compute(), 20, retbins=True)\n",
    "    plt.scatter([i]*len(r_bins), r_bins, marker = \"_\")\n",
    "plt.yscale('log')\n",
    "\n",
    "plt.xticks(np.arange(0,len(phi_bin_labs*2),2), phi_bin_labs, rotation=45)\n",
    "plt.ylabel(\"Radius Bin Edges\",fontsize=16)\n",
    "plt.xlabel(\"Aspect Ratio $\\phi$\",fontsize=16)  \n",
    "#columns tend to aggregate "
   ]
  },
  {
   "cell_type": "code",
   "execution_count": 111,
   "metadata": {},
   "outputs": [
    {
     "name": "stdout",
     "output_type": "stream",
     "text": [
      "CPU times: user 1h 26min 59s, sys: 13min 50s, total: 1h 40min 49s\n",
      "Wall time: 1h 42min\n"
     ]
    },
    {
     "data": {
      "text/plain": [
       "[(0, 1000)]"
      ]
     },
     "execution_count": 111,
     "metadata": {},
     "output_type": "execute_result"
    },
    {
     "data": {
      "image/png": "[encoded data removed]",
      "text/plain": [
       "<Figure size 432x288 with 1 Axes>"
      ]
     },
     "metadata": {
      "needs_background": "light"
     },
     "output_type": "display_data"
    }
   ],
   "source": [
    "%time sns.kdeplot(np.log(df_repart.agg_phi.compute()), df_repart.agg_r.compute(),cmap=\"Blues\", shade=True, shade_lowest=False)\n",
    "sns.plt.ylim(0, 1000)"
   ]
  },
  {
   "cell_type": "code",
   "execution_count": null,
   "metadata": {},
   "outputs": [],
   "source": [
    "# Create the pandas DataFrame \n",
    "data = [{'0':4, '1': 2, '2':3}, {'0': 10, '1': 20, '2': 30}] \n",
    "  \n",
    "# Creates padas DataFrame by passing  \n",
    "# Lists of dictionaries and row index. \n",
    "df_test = pd.DataFrame(data, index =['first', 'second']) \n",
    "net.load_df(df_test)\n",
    "net.widget()"
   ]
  },
  {
   "cell_type": "code",
   "execution_count": 66,
   "metadata": {},
   "outputs": [
    {
     "name": "stdout",
     "output_type": "stream",
     "text": [
      "<class 'pandas.core.frame.DataFrame'>\n",
      "Int64Index: 8232439 entries, 1 to 44100\n",
      "Data columns (total 3 columns):\n",
      "ncrystals    int64\n",
      "agg_phi      float64\n",
      "agg_r        float64\n",
      "dtypes: float64(2), int64(1)\n",
      "memory usage: 251.2 MB\n"
     ]
    }
   ],
   "source": [
    "pd_df = df_repart.drop(['points', 'a', 'b', 'c', 'phi2D', 'cplx', 'agg_id', 'phi', 'r'], axis=1).compute()\n",
    "pd_df.info()"
   ]
  },
  {
   "cell_type": "code",
   "execution_count": 34,
   "metadata": {},
   "outputs": [
    {
     "data": {
      "application/vnd.jupyter.widget-view+json": {
       "model_id": "74d5db5a10084c78a2a0afb741cd4d93",
       "version_major": 2,
       "version_minor": 0
      },
      "text/plain": [
       "Figure(axes=[ColorAxis(scale=ColorScale()), Axis(orientation='vertical', scale=OrdinalScale(reverse=True)), Ax…"
      ]
     },
     "metadata": {},
     "output_type": "display_data"
    }
   ],
   "source": [
    "x = pd_df.index\n",
    "y = pd_df.columns\n",
    "\n",
    "\n",
    "x_sc, y_sc, col_sc = bqplot.OrdinalScale(), bqplot.OrdinalScale(), bqplot.ColorScale(scheme='BuPu')\n",
    "ax_x = bqplot.Axis(scale=x_sc, label='Years')\n",
    "ax_y = bqplot.Axis(scale=y_sc, orientation='vertical', label='Months')\n",
    "ax_c = bqplot.ColorAxis(scale=col_sc)\n",
    "fig = plt.figure(padding_y=0.0)\n",
    "grid_map = plt.gridheatmap(pd_df)\n",
    "\n",
    "#heat = bqplot.GridHeatMap(scales={'row': x_sc, 'column': y_sc, 'color': col_sc}, stroke='white', row=y.tolist(), column=x.tolist())\n",
    "\n",
    "#fig = bqplot.Figure(marks=[heat], axes=[ax_x, ax_y, ax_c],layout=Layout(width='650px', height='650px'))\n",
    "fig"
   ]
  }
 ],
 "metadata": {
  "kernelspec": {
   "display_name": "Python 3",
   "language": "python",
   "name": "python3"
  },
  "language_info": {
   "codemirror_mode": {
    "name": "ipython",
    "version": 3
   },
   "file_extension": ".py",
   "mimetype": "text/x-python",
   "name": "python",
   "nbconvert_exporter": "python",
   "pygments_lexer": "ipython3",
   "version": "3.6.7"
  }
 },
 "nbformat": 4,
 "nbformat_minor": 4
}
